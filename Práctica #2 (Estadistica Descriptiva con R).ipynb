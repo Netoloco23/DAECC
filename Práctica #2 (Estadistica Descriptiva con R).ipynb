{
 "cells": [
  {
   "cell_type": "markdown",
   "id": "bb52f968",
   "metadata": {},
   "source": [
    "# Ejercicio 1"
   ]
  },
  {
   "cell_type": "code",
   "execution_count": 4,
   "id": "8f60e869",
   "metadata": {},
   "outputs": [
    {
     "data": {
      "text/plain": [
       "\n",
       "\tPearson's Chi-squared test\n",
       "\n",
       "data:  datos\n",
       "X-squared = 51.81, df = 1, p-value = 6.115e-13\n"
      ]
     },
     "metadata": {},
     "output_type": "display_data"
    }
   ],
   "source": [
    "datos <- data.frame(\n",
    "caida = c(100, 400),\n",
    "nocaida = c(150, 200)\n",
    ")\n",
    "\n",
    "rownames(datos)<-c(\"hombres\",\"mujeres\")\n",
    "chisq.test(datos, correct=FALSE)"
   ]
  },
  {
   "cell_type": "markdown",
   "id": "4c403e25",
   "metadata": {},
   "source": [
    "# Ejercicio 2"
   ]
  },
  {
   "cell_type": "code",
   "execution_count": 8,
   "id": "c88fe907",
   "metadata": {},
   "outputs": [
    {
     "data": {
      "text/html": [
       "0.123794921316367"
      ],
      "text/latex": [
       "0.123794921316367"
      ],
      "text/markdown": [
       "0.123794921316367"
      ],
      "text/plain": [
       "[1] 0.1237949"
      ]
     },
     "metadata": {},
     "output_type": "display_data"
    },
    {
     "name": "stdout",
     "output_type": "stream",
     "text": [
      " [1]  5.0  2.5  8.0  8.0  5.0  5.0 10.0  1.0  2.5  8.0\n",
      " [1]  7.5  2.0  5.0  7.5  7.5  2.0  7.5 10.0  2.0  4.0\n"
     ]
    }
   ],
   "source": [
    "datos <- data.frame(\n",
    "horas = c(8, 7, 9, 9, 8, 8, 10, 6, 7, 9),\n",
    "calificacion = c(4, 1, 3, 4, 4, 1, 4, 5, 1, 2)\n",
    ")\n",
    "\n",
    "spearman_coeff(datos$horas, datos$calificacion)\n",
    "x<-rank(datos$horas)\n",
    "print(x)\n",
    "y<-rank(datos$calificacion)\n",
    "print(y)"
   ]
  },
  {
   "cell_type": "code",
   "execution_count": 6,
   "id": "f11b4c87",
   "metadata": {},
   "outputs": [
    {
     "data": {
      "text/html": [
       "<table>\n",
       "<thead><tr><th scope=col>x</th><th scope=col>y</th></tr></thead>\n",
       "<tbody>\n",
       "\t<tr><td> 5.0</td><td> 7.5</td></tr>\n",
       "\t<tr><td> 2.5</td><td> 2.0</td></tr>\n",
       "\t<tr><td> 8.0</td><td> 5.0</td></tr>\n",
       "\t<tr><td> 8.0</td><td> 7.5</td></tr>\n",
       "\t<tr><td> 5.0</td><td> 7.5</td></tr>\n",
       "\t<tr><td> 5.0</td><td> 2.0</td></tr>\n",
       "\t<tr><td>10.0</td><td> 7.5</td></tr>\n",
       "\t<tr><td> 1.0</td><td>10.0</td></tr>\n",
       "\t<tr><td> 2.5</td><td> 2.0</td></tr>\n",
       "\t<tr><td> 8.0</td><td> 4.0</td></tr>\n",
       "</tbody>\n",
       "</table>\n"
      ],
      "text/latex": [
       "\\begin{tabular}{r|ll}\n",
       " x & y\\\\\n",
       "\\hline\n",
       "\t  5.0 &  7.5\\\\\n",
       "\t  2.5 &  2.0\\\\\n",
       "\t  8.0 &  5.0\\\\\n",
       "\t  8.0 &  7.5\\\\\n",
       "\t  5.0 &  7.5\\\\\n",
       "\t  5.0 &  2.0\\\\\n",
       "\t 10.0 &  7.5\\\\\n",
       "\t  1.0 & 10.0\\\\\n",
       "\t  2.5 &  2.0\\\\\n",
       "\t  8.0 &  4.0\\\\\n",
       "\\end{tabular}\n"
      ],
      "text/markdown": [
       "\n",
       "| x | y |\n",
       "|---|---|\n",
       "|  5.0 |  7.5 |\n",
       "|  2.5 |  2.0 |\n",
       "|  8.0 |  5.0 |\n",
       "|  8.0 |  7.5 |\n",
       "|  5.0 |  7.5 |\n",
       "|  5.0 |  2.0 |\n",
       "| 10.0 |  7.5 |\n",
       "|  1.0 | 10.0 |\n",
       "|  2.5 |  2.0 |\n",
       "|  8.0 |  4.0 |\n",
       "\n"
      ],
      "text/plain": [
       "   x    y   \n",
       "1   5.0  7.5\n",
       "2   2.5  2.0\n",
       "3   8.0  5.0\n",
       "4   8.0  7.5\n",
       "5   5.0  7.5\n",
       "6   5.0  2.0\n",
       "7  10.0  7.5\n",
       "8   1.0 10.0\n",
       "9   2.5  2.0\n",
       "10  8.0  4.0"
      ]
     },
     "metadata": {},
     "output_type": "display_data"
    },
    {
     "data": {
      "text/html": [
       "2.94392028877595"
      ],
      "text/latex": [
       "2.94392028877595"
      ],
      "text/markdown": [
       "2.94392028877595"
      ],
      "text/plain": [
       "[1] 2.94392"
      ]
     },
     "metadata": {},
     "output_type": "display_data"
    },
    {
     "data": {
      "text/html": [
       "2.89635786616379"
      ],
      "text/latex": [
       "2.89635786616379"
      ],
      "text/markdown": [
       "2.89635786616379"
      ],
      "text/plain": [
       "[1] 2.896358"
      ]
     },
     "metadata": {},
     "output_type": "display_data"
    },
    {
     "data": {
      "text/html": [
       "1.05555555555556"
      ],
      "text/latex": [
       "1.05555555555556"
      ],
      "text/markdown": [
       "1.05555555555556"
      ],
      "text/plain": [
       "[1] 1.055556"
      ]
     },
     "metadata": {},
     "output_type": "display_data"
    }
   ],
   "source": [
    "datos <- data.frame(\n",
    "x = c(5, 2.5, 8, 8, 5, 5, 10, 1, 2.5, 8),\n",
    "y = c(7.5, 2, 5, 7.5, 7.5, 2, 7.5, 10, 2 ,4)\n",
    ")\n",
    "datos\n",
    "sd(datos$x, na.rm = FALSE)\n",
    "sd(datos$y, na.rm = FALSE)\n",
    "cov(datos$x, datos$y)"
   ]
  },
  {
   "cell_type": "markdown",
   "id": "a0a05ba0",
   "metadata": {},
   "source": [
    "# Ejercicio 3"
   ]
  },
  {
   "cell_type": "code",
   "execution_count": 13,
   "id": "037d2ea9",
   "metadata": {},
   "outputs": [
    {
     "data": {
      "text/html": [
       "<table>\n",
       "<thead><tr><th scope=col>Edad</th><th scope=col>Dinero</th></tr></thead>\n",
       "<tbody>\n",
       "\t<tr><td> 5  </td><td>   2</td></tr>\n",
       "\t<tr><td>10  </td><td>   4</td></tr>\n",
       "\t<tr><td>15  </td><td>   8</td></tr>\n",
       "\t<tr><td>20  </td><td>  32</td></tr>\n",
       "\t<tr><td>25  </td><td>  64</td></tr>\n",
       "\t<tr><td>30  </td><td> 128</td></tr>\n",
       "\t<tr><td>35  </td><td> 256</td></tr>\n",
       "\t<tr><td>40  </td><td> 512</td></tr>\n",
       "\t<tr><td>45  </td><td>1024</td></tr>\n",
       "\t<tr><td>50  </td><td>2048</td></tr>\n",
       "</tbody>\n",
       "</table>\n"
      ],
      "text/latex": [
       "\\begin{tabular}{r|ll}\n",
       " Edad & Dinero\\\\\n",
       "\\hline\n",
       "\t  5   &    2\\\\\n",
       "\t 10   &    4\\\\\n",
       "\t 15   &    8\\\\\n",
       "\t 20   &   32\\\\\n",
       "\t 25   &   64\\\\\n",
       "\t 30   &  128\\\\\n",
       "\t 35   &  256\\\\\n",
       "\t 40   &  512\\\\\n",
       "\t 45   & 1024\\\\\n",
       "\t 50   & 2048\\\\\n",
       "\\end{tabular}\n"
      ],
      "text/markdown": [
       "\n",
       "| Edad | Dinero |\n",
       "|---|---|\n",
       "|  5   |    2 |\n",
       "| 10   |    4 |\n",
       "| 15   |    8 |\n",
       "| 20   |   32 |\n",
       "| 25   |   64 |\n",
       "| 30   |  128 |\n",
       "| 35   |  256 |\n",
       "| 40   |  512 |\n",
       "| 45   | 1024 |\n",
       "| 50   | 2048 |\n",
       "\n"
      ],
      "text/plain": [
       "   Edad Dinero\n",
       "1   5      2  \n",
       "2  10      4  \n",
       "3  15      8  \n",
       "4  20     32  \n",
       "5  25     64  \n",
       "6  30    128  \n",
       "7  35    256  \n",
       "8  40    512  \n",
       "9  45   1024  \n",
       "10 50   2048  "
      ]
     },
     "metadata": {},
     "output_type": "display_data"
    },
    {
     "data": {
      "text/html": [
       "0.800087635098099"
      ],
      "text/latex": [
       "0.800087635098099"
      ],
      "text/markdown": [
       "0.800087635098099"
      ],
      "text/plain": [
       "[1] 0.8000876"
      ]
     },
     "metadata": {},
     "output_type": "display_data"
    }
   ],
   "source": [
    "df <- data.frame(\n",
    "  \"Edad\" = c(5, 10, 15, 20, 25, 30, 35, 40, 45, 50), \n",
    "  \"Dinero\" = c(2, 4, 8, 32, 64, 128, 256, 512, 1024, 2048)\n",
    ")\n",
    "df\n",
    "cor(df$Edad, df$Dinero, method=\"pearson\")"
   ]
  },
  {
   "cell_type": "code",
   "execution_count": 15,
   "id": "04603e6a",
   "metadata": {},
   "outputs": [
    {
     "data": {
      "text/html": [
       "<table>\n",
       "<thead><tr><th scope=col>Edad</th><th scope=col>Fuerza</th></tr></thead>\n",
       "<tbody>\n",
       "\t<tr><td> 5  </td><td>   2</td></tr>\n",
       "\t<tr><td>10  </td><td>   4</td></tr>\n",
       "\t<tr><td>15  </td><td>   8</td></tr>\n",
       "\t<tr><td>20  </td><td>  32</td></tr>\n",
       "\t<tr><td>25  </td><td>  64</td></tr>\n",
       "\t<tr><td>30  </td><td> 128</td></tr>\n",
       "\t<tr><td>35  </td><td> 256</td></tr>\n",
       "\t<tr><td>40  </td><td> 512</td></tr>\n",
       "\t<tr><td>45  </td><td>1024</td></tr>\n",
       "\t<tr><td>50  </td><td>2048</td></tr>\n",
       "\t<tr><td>55  </td><td>1024</td></tr>\n",
       "\t<tr><td>60  </td><td> 512</td></tr>\n",
       "\t<tr><td>65  </td><td> 256</td></tr>\n",
       "\t<tr><td>70  </td><td> 128</td></tr>\n",
       "\t<tr><td>75  </td><td>  64</td></tr>\n",
       "\t<tr><td>80  </td><td>  32</td></tr>\n",
       "\t<tr><td>85  </td><td>   8</td></tr>\n",
       "\t<tr><td>90  </td><td>   4</td></tr>\n",
       "\t<tr><td>95  </td><td>   2</td></tr>\n",
       "</tbody>\n",
       "</table>\n"
      ],
      "text/latex": [
       "\\begin{tabular}{r|ll}\n",
       " Edad & Fuerza\\\\\n",
       "\\hline\n",
       "\t  5   &    2\\\\\n",
       "\t 10   &    4\\\\\n",
       "\t 15   &    8\\\\\n",
       "\t 20   &   32\\\\\n",
       "\t 25   &   64\\\\\n",
       "\t 30   &  128\\\\\n",
       "\t 35   &  256\\\\\n",
       "\t 40   &  512\\\\\n",
       "\t 45   & 1024\\\\\n",
       "\t 50   & 2048\\\\\n",
       "\t 55   & 1024\\\\\n",
       "\t 60   &  512\\\\\n",
       "\t 65   &  256\\\\\n",
       "\t 70   &  128\\\\\n",
       "\t 75   &   64\\\\\n",
       "\t 80   &   32\\\\\n",
       "\t 85   &    8\\\\\n",
       "\t 90   &    4\\\\\n",
       "\t 95   &    2\\\\\n",
       "\\end{tabular}\n"
      ],
      "text/markdown": [
       "\n",
       "| Edad | Fuerza |\n",
       "|---|---|\n",
       "|  5   |    2 |\n",
       "| 10   |    4 |\n",
       "| 15   |    8 |\n",
       "| 20   |   32 |\n",
       "| 25   |   64 |\n",
       "| 30   |  128 |\n",
       "| 35   |  256 |\n",
       "| 40   |  512 |\n",
       "| 45   | 1024 |\n",
       "| 50   | 2048 |\n",
       "| 55   | 1024 |\n",
       "| 60   |  512 |\n",
       "| 65   |  256 |\n",
       "| 70   |  128 |\n",
       "| 75   |   64 |\n",
       "| 80   |   32 |\n",
       "| 85   |    8 |\n",
       "| 90   |    4 |\n",
       "| 95   |    2 |\n",
       "\n"
      ],
      "text/plain": [
       "   Edad Fuerza\n",
       "1   5      2  \n",
       "2  10      4  \n",
       "3  15      8  \n",
       "4  20     32  \n",
       "5  25     64  \n",
       "6  30    128  \n",
       "7  35    256  \n",
       "8  40    512  \n",
       "9  45   1024  \n",
       "10 50   2048  \n",
       "11 55   1024  \n",
       "12 60    512  \n",
       "13 65    256  \n",
       "14 70    128  \n",
       "15 75     64  \n",
       "16 80     32  \n",
       "17 85      8  \n",
       "18 90      4  \n",
       "19 95      2  "
      ]
     },
     "metadata": {},
     "output_type": "display_data"
    },
    {
     "data": {
      "text/html": [
       "0"
      ],
      "text/latex": [
       "0"
      ],
      "text/markdown": [
       "0"
      ],
      "text/plain": [
       "[1] 0"
      ]
     },
     "metadata": {},
     "output_type": "display_data"
    }
   ],
   "source": [
    "df <- data.frame(\n",
    "  \"Edad\" = c(5, 10, 15, 20, 25, 30, 35, 40, 45, 50, 55, 60, 65, 70, 75, 80, 85, 90, 95), \n",
    "  \"Fuerza\" = c(2, 4, 8, 32, 64, 128, 256, 512, 1024, 2048, 1024, 512, 256, 128, 64, 32, 8, 4, 2)\n",
    ")\n",
    "df\n",
    "cor(df$Edad, df$Fuerza, method=\"pearson\")"
   ]
  },
  {
   "cell_type": "code",
   "execution_count": 26,
   "id": "567522c9",
   "metadata": {
    "scrolled": true
   },
   "outputs": [
    {
     "data": {
      "text/html": [
       "<table>\n",
       "<thead><tr><th scope=col>Edad</th><th scope=col>Estabilidad_Emocional</th></tr></thead>\n",
       "<tbody>\n",
       "\t<tr><td> 5   </td><td>    2</td></tr>\n",
       "\t<tr><td>10   </td><td>    4</td></tr>\n",
       "\t<tr><td>15   </td><td>    8</td></tr>\n",
       "\t<tr><td>20   </td><td>   32</td></tr>\n",
       "\t<tr><td>25   </td><td>   64</td></tr>\n",
       "\t<tr><td>30   </td><td>  128</td></tr>\n",
       "\t<tr><td>35   </td><td>  256</td></tr>\n",
       "\t<tr><td>40   </td><td>  512</td></tr>\n",
       "\t<tr><td>45   </td><td> 1024</td></tr>\n",
       "\t<tr><td>50   </td><td> 2048</td></tr>\n",
       "\t<tr><td>55   </td><td> 1024</td></tr>\n",
       "\t<tr><td>60   </td><td>  512</td></tr>\n",
       "\t<tr><td>65   </td><td>  256</td></tr>\n",
       "\t<tr><td>70   </td><td>  128</td></tr>\n",
       "\t<tr><td>75   </td><td>   64</td></tr>\n",
       "\t<tr><td>80   </td><td>   32</td></tr>\n",
       "\t<tr><td>85   </td><td>    8</td></tr>\n",
       "\t<tr><td>90   </td><td>    4</td></tr>\n",
       "\t<tr><td>95   </td><td>    2</td></tr>\n",
       "\t<tr><td> 5   </td><td>   -2</td></tr>\n",
       "\t<tr><td>10   </td><td>   -4</td></tr>\n",
       "\t<tr><td>15   </td><td>   -8</td></tr>\n",
       "\t<tr><td>20   </td><td>  -32</td></tr>\n",
       "\t<tr><td>25   </td><td>  -64</td></tr>\n",
       "\t<tr><td>30   </td><td> -128</td></tr>\n",
       "\t<tr><td>35   </td><td> -256</td></tr>\n",
       "\t<tr><td>40   </td><td> -512</td></tr>\n",
       "\t<tr><td>45   </td><td>-1024</td></tr>\n",
       "\t<tr><td>50   </td><td>-2048</td></tr>\n",
       "\t<tr><td>55   </td><td>-1024</td></tr>\n",
       "\t<tr><td>60   </td><td> -512</td></tr>\n",
       "\t<tr><td>65   </td><td> -256</td></tr>\n",
       "\t<tr><td>70   </td><td> -128</td></tr>\n",
       "\t<tr><td>75   </td><td>  -64</td></tr>\n",
       "\t<tr><td>80   </td><td>  -32</td></tr>\n",
       "\t<tr><td>85   </td><td>   -8</td></tr>\n",
       "\t<tr><td>90   </td><td>   -4</td></tr>\n",
       "\t<tr><td>95   </td><td>   -2</td></tr>\n",
       "</tbody>\n",
       "</table>\n"
      ],
      "text/latex": [
       "\\begin{tabular}{r|ll}\n",
       " Edad & Estabilidad\\_Emocional\\\\\n",
       "\\hline\n",
       "\t  5    &     2\\\\\n",
       "\t 10    &     4\\\\\n",
       "\t 15    &     8\\\\\n",
       "\t 20    &    32\\\\\n",
       "\t 25    &    64\\\\\n",
       "\t 30    &   128\\\\\n",
       "\t 35    &   256\\\\\n",
       "\t 40    &   512\\\\\n",
       "\t 45    &  1024\\\\\n",
       "\t 50    &  2048\\\\\n",
       "\t 55    &  1024\\\\\n",
       "\t 60    &   512\\\\\n",
       "\t 65    &   256\\\\\n",
       "\t 70    &   128\\\\\n",
       "\t 75    &    64\\\\\n",
       "\t 80    &    32\\\\\n",
       "\t 85    &     8\\\\\n",
       "\t 90    &     4\\\\\n",
       "\t 95    &     2\\\\\n",
       "\t  5    &    -2\\\\\n",
       "\t 10    &    -4\\\\\n",
       "\t 15    &    -8\\\\\n",
       "\t 20    &   -32\\\\\n",
       "\t 25    &   -64\\\\\n",
       "\t 30    &  -128\\\\\n",
       "\t 35    &  -256\\\\\n",
       "\t 40    &  -512\\\\\n",
       "\t 45    & -1024\\\\\n",
       "\t 50    & -2048\\\\\n",
       "\t 55    & -1024\\\\\n",
       "\t 60    &  -512\\\\\n",
       "\t 65    &  -256\\\\\n",
       "\t 70    &  -128\\\\\n",
       "\t 75    &   -64\\\\\n",
       "\t 80    &   -32\\\\\n",
       "\t 85    &    -8\\\\\n",
       "\t 90    &    -4\\\\\n",
       "\t 95    &    -2\\\\\n",
       "\\end{tabular}\n"
      ],
      "text/markdown": [
       "\n",
       "| Edad | Estabilidad_Emocional |\n",
       "|---|---|\n",
       "|  5    |     2 |\n",
       "| 10    |     4 |\n",
       "| 15    |     8 |\n",
       "| 20    |    32 |\n",
       "| 25    |    64 |\n",
       "| 30    |   128 |\n",
       "| 35    |   256 |\n",
       "| 40    |   512 |\n",
       "| 45    |  1024 |\n",
       "| 50    |  2048 |\n",
       "| 55    |  1024 |\n",
       "| 60    |   512 |\n",
       "| 65    |   256 |\n",
       "| 70    |   128 |\n",
       "| 75    |    64 |\n",
       "| 80    |    32 |\n",
       "| 85    |     8 |\n",
       "| 90    |     4 |\n",
       "| 95    |     2 |\n",
       "|  5    |    -2 |\n",
       "| 10    |    -4 |\n",
       "| 15    |    -8 |\n",
       "| 20    |   -32 |\n",
       "| 25    |   -64 |\n",
       "| 30    |  -128 |\n",
       "| 35    |  -256 |\n",
       "| 40    |  -512 |\n",
       "| 45    | -1024 |\n",
       "| 50    | -2048 |\n",
       "| 55    | -1024 |\n",
       "| 60    |  -512 |\n",
       "| 65    |  -256 |\n",
       "| 70    |  -128 |\n",
       "| 75    |   -64 |\n",
       "| 80    |   -32 |\n",
       "| 85    |    -8 |\n",
       "| 90    |    -4 |\n",
       "| 95    |    -2 |\n",
       "\n"
      ],
      "text/plain": [
       "   Edad Estabilidad_Emocional\n",
       "1   5       2                \n",
       "2  10       4                \n",
       "3  15       8                \n",
       "4  20      32                \n",
       "5  25      64                \n",
       "6  30     128                \n",
       "7  35     256                \n",
       "8  40     512                \n",
       "9  45    1024                \n",
       "10 50    2048                \n",
       "11 55    1024                \n",
       "12 60     512                \n",
       "13 65     256                \n",
       "14 70     128                \n",
       "15 75      64                \n",
       "16 80      32                \n",
       "17 85       8                \n",
       "18 90       4                \n",
       "19 95       2                \n",
       "20  5      -2                \n",
       "21 10      -4                \n",
       "22 15      -8                \n",
       "23 20     -32                \n",
       "24 25     -64                \n",
       "25 30    -128                \n",
       "26 35    -256                \n",
       "27 40    -512                \n",
       "28 45   -1024                \n",
       "29 50   -2048                \n",
       "30 55   -1024                \n",
       "31 60    -512                \n",
       "32 65    -256                \n",
       "33 70    -128                \n",
       "34 75     -64                \n",
       "35 80     -32                \n",
       "36 85      -8                \n",
       "37 90      -4                \n",
       "38 95      -2                "
      ]
     },
     "metadata": {},
     "output_type": "display_data"
    },
    {
     "data": {
      "text/html": [
       "0"
      ],
      "text/latex": [
       "0"
      ],
      "text/markdown": [
       "0"
      ],
      "text/plain": [
       "[1] 0"
      ]
     },
     "metadata": {},
     "output_type": "display_data"
    }
   ],
   "source": [
    "df <- data.frame(\n",
    "  \"Edad\" = c(5, 10, 15, 20, 25, 30, 35, 40, 45, 50, 55, 60, 65, 70, 75, 80, 85, 90, 95, 5,\n",
    "10, 15, 20, 25, 30, 35, 40, 45, 50, 55, 60, 65, 70, 75, 80, 85, 90, 95), \n",
    "  \"Estabilidad_Emocional\" = c(2, 4, 8, 32, 64, 128, 256, 512, 1024, 2048, 1024, 512, 256, 128, 64,\n",
    "32, 8, 4, 2, -2, -4, -8, -32, -64, -128, -256, -512, -1024, -2048, -1024, -512, -256,\n",
    "-128, -64, -32, -8, -4, -2)\n",
    ")\n",
    "df\n",
    "cor(df$Edad, df$Estabilidad_Emocional, method=\"pearson\")"
   ]
  },
  {
   "cell_type": "markdown",
   "id": "8e83df2e",
   "metadata": {},
   "source": [
    "# Ejercicio 4"
   ]
  },
  {
   "cell_type": "code",
   "execution_count": 27,
   "id": "81f9d09e",
   "metadata": {
    "scrolled": true
   },
   "outputs": [
    {
     "data": {
      "text/plain": [
       "      lat              long           depth            mag      \n",
       " Min.   :-38.59   Min.   :165.7   Min.   : 40.0   Min.   :4.00  \n",
       " 1st Qu.:-23.47   1st Qu.:179.6   1st Qu.: 99.0   1st Qu.:4.30  \n",
       " Median :-20.30   Median :181.4   Median :247.0   Median :4.60  \n",
       " Mean   :-20.64   Mean   :179.5   Mean   :311.4   Mean   :4.62  \n",
       " 3rd Qu.:-17.64   3rd Qu.:183.2   3rd Qu.:543.0   3rd Qu.:4.90  \n",
       " Max.   :-10.72   Max.   :188.1   Max.   :680.0   Max.   :6.40  \n",
       "    stations     \n",
       " Min.   : 10.00  \n",
       " 1st Qu.: 18.00  \n",
       " Median : 27.00  \n",
       " Mean   : 33.42  \n",
       " 3rd Qu.: 42.00  \n",
       " Max.   :132.00  "
      ]
     },
     "metadata": {},
     "output_type": "display_data"
    }
   ],
   "source": [
    "summary(quakes)"
   ]
  },
  {
   "cell_type": "code",
   "execution_count": 28,
   "id": "de279643",
   "metadata": {
    "scrolled": false
   },
   "outputs": [
    {
     "data": {
      "image/png": "[encoded data removed]",
      "text/plain": [
       "plot without title"
      ]
     },
     "metadata": {},
     "output_type": "display_data"
    }
   ],
   "source": [
    "plot(quakes)"
   ]
  },
  {
   "cell_type": "code",
   "execution_count": 29,
   "id": "c4a2b3d0",
   "metadata": {
    "scrolled": true
   },
   "outputs": [
    {
     "name": "stdout",
     "output_type": "stream",
     "text": [
      "[1] \"Correlaciones de lat vs long -0.36454403688647\"\n",
      "[1] \"Correlaciones de lat vs depth 0.0310258305514833\"\n",
      "[1] \"Correlaciones de lat vs mag -0.0504616509705913\"\n",
      "[1] \"Correlaciones de lat vs stations -0.00222064469650348\"\n",
      "[1] \"Correlaciones de long vs depth 0.144443414122348\"\n",
      "[1] \"Correlaciones de long vs mag -0.173067263114553\"\n",
      "[1] \"Correlaciones de long vs stations -0.0535124601650752\"\n",
      "[1] \"Correlaciones de depth vs mag -0.230637697687657\"\n",
      "[1] \"Correlaciones de depth vs stations -0.0735150973536247\"\n",
      "[1] \"Correlaciones de mag vs stations 0.851182422372364\"\n"
     ]
    }
   ],
   "source": [
    "columns = names(quakes)\n",
    "for(i in 1:(length(columns)-1)){\n",
    "    for(j in (i+1):length(columns)){\n",
    "        coeff = cor(quakes[columns[i]], quakes[columns[j]], method=\"pearson\")\n",
    "        print(paste(\"Correlaciones de\", columns[i], \"vs\", columns[j], coeff))\n",
    "    }\n",
    "}"
   ]
  },
  {
   "cell_type": "markdown",
   "id": "43de649b",
   "metadata": {},
   "source": [
    "# Ejercicio 5"
   ]
  },
  {
   "cell_type": "code",
   "execution_count": 30,
   "id": "41f25336",
   "metadata": {
    "scrolled": true
   },
   "outputs": [
    {
     "data": {
      "image/png": "[encoded data removed]",
      "text/plain": [
       "Plot with title \"Histogram of cars$speed\""
      ]
     },
     "metadata": {},
     "output_type": "display_data"
    }
   ],
   "source": [
    "hist(cars$speed)"
   ]
  },
  {
   "cell_type": "code",
   "execution_count": 31,
   "id": "e6daa451",
   "metadata": {
    "scrolled": true
   },
   "outputs": [
    {
     "data": {
      "image/png": "[encoded data removed]",
      "text/plain": [
       "Plot with title \"Histogram of cars$dist\""
      ]
     },
     "metadata": {},
     "output_type": "display_data"
    }
   ],
   "source": [
    "hist(cars$dist)"
   ]
  },
  {
   "cell_type": "code",
   "execution_count": 32,
   "id": "f982347b",
   "metadata": {
    "scrolled": true
   },
   "outputs": [
    {
     "data": {
      "text/plain": [
       "\n",
       "\tShapiro-Wilk normality test\n",
       "\n",
       "data:  cars$speed\n",
       "W = 0.97765, p-value = 0.4576\n"
      ]
     },
     "metadata": {},
     "output_type": "display_data"
    }
   ],
   "source": [
    "shapiro.test(cars$speed)"
   ]
  },
  {
   "cell_type": "code",
   "execution_count": 33,
   "id": "123f7376",
   "metadata": {},
   "outputs": [
    {
     "data": {
      "text/plain": [
       "\n",
       "\tShapiro-Wilk normality test\n",
       "\n",
       "data:  cars$dist\n",
       "W = 0.95144, p-value = 0.0391\n"
      ]
     },
     "metadata": {},
     "output_type": "display_data"
    }
   ],
   "source": [
    "shapiro.test(cars$dist)"
   ]
  },
  {
   "cell_type": "code",
   "execution_count": 4,
   "id": "9616e820",
   "metadata": {},
   "outputs": [
    {
     "name": "stdout",
     "output_type": "stream",
     "text": [
      "package 'nortest' successfully unpacked and MD5 sums checked\n",
      "\n",
      "The downloaded binary packages are in\n",
      "\tC:\\Users\\Xneto\\AppData\\Local\\Temp\\Rtmp4SwrWs\\downloaded_packages\n"
     ]
    }
   ],
   "source": [
    "install.packages('nortest')"
   ]
  },
  {
   "cell_type": "code",
   "execution_count": null,
   "id": "52b70575",
   "metadata": {},
   "outputs": [],
   "source": [
    "library(nortest)"
   ]
  },
  {
   "cell_type": "code",
   "execution_count": 7,
   "id": "6cff3694",
   "metadata": {},
   "outputs": [
    {
     "name": "stdout",
     "output_type": "stream",
     "text": [
      "package 'dgof' successfully unpacked and MD5 sums checked\n",
      "\n",
      "The downloaded binary packages are in\n",
      "\tC:\\Users\\Xneto\\AppData\\Local\\Temp\\Rtmp4SwrWs\\downloaded_packages\n"
     ]
    }
   ],
   "source": [
    "install.packages('dgof')"
   ]
  },
  {
   "cell_type": "code",
   "execution_count": 8,
   "id": "a2d1f9be",
   "metadata": {
    "scrolled": true
   },
   "outputs": [
    {
     "name": "stderr",
     "output_type": "stream",
     "text": [
      "\n",
      "Attaching package: 'dgof'\n",
      "\n",
      "The following object is masked from 'package:nortest':\n",
      "\n",
      "    cvm.test\n",
      "\n",
      "The following object is masked from 'package:stats':\n",
      "\n",
      "    ks.test\n",
      "\n"
     ]
    }
   ],
   "source": [
    "library(dgof)"
   ]
  },
  {
   "cell_type": "code",
   "execution_count": 10,
   "id": "b828caaf",
   "metadata": {},
   "outputs": [
    {
     "data": {
      "text/plain": [
       "\n",
       "\tAnderson-Darling normality test\n",
       "\n",
       "data:  cars$dist\n",
       "A = 0.74067, p-value = 0.05021\n"
      ]
     },
     "metadata": {},
     "output_type": "display_data"
    }
   ],
   "source": [
    "ad.test(cars$dist)"
   ]
  },
  {
   "cell_type": "code",
   "execution_count": 11,
   "id": "c1f31c71",
   "metadata": {},
   "outputs": [
    {
     "data": {
      "text/plain": [
       "\n",
       "\tAnderson-Darling normality test\n",
       "\n",
       "data:  cars$speed\n",
       "A = 0.26143, p-value = 0.6927\n"
      ]
     },
     "metadata": {},
     "output_type": "display_data"
    }
   ],
   "source": [
    "ad.test(cars$speed)"
   ]
  },
  {
   "cell_type": "code",
   "execution_count": 14,
   "id": "f58a4992",
   "metadata": {},
   "outputs": [
    {
     "name": "stderr",
     "output_type": "stream",
     "text": [
      "Warning message in ks.test(cars$dist, cars$speed):\n",
      "\"cannot compute correct p-values with ties\""
     ]
    },
    {
     "data": {
      "text/plain": [
       "\n",
       "\tTwo-sample Kolmogorov-Smirnov test\n",
       "\n",
       "data:  cars$dist and cars$speed\n",
       "D = 0.76, p-value = 5.735e-13\n",
       "alternative hypothesis: two-sided\n"
      ]
     },
     "metadata": {},
     "output_type": "display_data"
    }
   ],
   "source": [
    "ks.test(cars$dist, cars$speed)"
   ]
  },
  {
   "cell_type": "code",
   "execution_count": 37,
   "id": "22a1b658",
   "metadata": {},
   "outputs": [
    {
     "data": {
      "text/plain": [
       "    pregnant         glucose         pressure         triceps     \n",
       " Min.   : 0.000   Min.   :  0.0   Min.   :  0.00   Min.   : 0.00  \n",
       " 1st Qu.: 1.000   1st Qu.: 99.0   1st Qu.: 62.00   1st Qu.: 0.00  \n",
       " Median : 3.000   Median :117.0   Median : 72.00   Median :23.00  \n",
       " Mean   : 3.845   Mean   :120.9   Mean   : 69.11   Mean   :20.54  \n",
       " 3rd Qu.: 6.000   3rd Qu.:140.2   3rd Qu.: 80.00   3rd Qu.:32.00  \n",
       " Max.   :17.000   Max.   :199.0   Max.   :122.00   Max.   :99.00  \n",
       "    insulin           mass          pedigree           age        diabetes \n",
       " Min.   :  0.0   Min.   : 0.00   Min.   :0.0780   Min.   :21.00   neg:500  \n",
       " 1st Qu.:  0.0   1st Qu.:27.30   1st Qu.:0.2437   1st Qu.:24.00   pos:268  \n",
       " Median : 30.5   Median :32.00   Median :0.3725   Median :29.00            \n",
       " Mean   : 79.8   Mean   :31.99   Mean   :0.4719   Mean   :33.24            \n",
       " 3rd Qu.:127.2   3rd Qu.:36.60   3rd Qu.:0.6262   3rd Qu.:41.00            \n",
       " Max.   :846.0   Max.   :67.10   Max.   :2.4200   Max.   :81.00            "
      ]
     },
     "metadata": {},
     "output_type": "display_data"
    }
   ],
   "source": [
    "library(mlbench)\n",
    "data(PimaIndiansDiabetes)\n",
    "df <- PimaIndiansDiabetes\n",
    "summary(df)"
   ]
  },
  {
   "cell_type": "markdown",
   "id": "e622bbf7",
   "metadata": {},
   "source": [
    "# Ejercicio 6"
   ]
  },
  {
   "cell_type": "code",
   "execution_count": 42,
   "id": "8ef8d5ac",
   "metadata": {},
   "outputs": [
    {
     "data": {
      "image/png": "[encoded data removed]",
      "text/plain": [
       "Plot with title \"diabetes\""
      ]
     },
     "metadata": {},
     "output_type": "display_data"
    }
   ],
   "source": [
    "plot(df$diabetes, main=c)"
   ]
  },
  {
   "cell_type": "code",
   "execution_count": 40,
   "id": "da8039e2",
   "metadata": {},
   "outputs": [
    {
     "name": "stdout",
     "output_type": "stream",
     "text": [
      "[1] 15 17 14 14\n"
     ]
    },
    {
     "data": {
      "image/png": "[encoded data removed]",
      "text/plain": [
       "Plot with title \"pregnant\""
      ]
     },
     "metadata": {},
     "output_type": "display_data"
    },
    {
     "name": "stdout",
     "output_type": "stream",
     "text": [
      "[1] 0 0 0 0 0\n"
     ]
    },
    {
     "data": {
      "image/png": "[encoded data removed]",
      "text/plain": [
       "Plot with title \"glucose\""
      ]
     },
     "metadata": {},
     "output_type": "display_data"
    },
    {
     "name": "stdout",
     "output_type": "stream",
     "text": [
      " [1]   0   0  30 110   0   0   0   0 108 122  30   0 110   0   0   0   0   0   0\n",
      "[20]   0   0   0   0 108   0   0   0   0   0   0   0   0   0   0 110   0  24   0\n",
      "[39]   0   0   0 114   0   0   0\n"
     ]
    },
    {
     "data": {
      "image/png": "[encoded data removed]",
      "text/plain": [
       "Plot with title \"pressure\""
      ]
     },
     "metadata": {},
     "output_type": "display_data"
    },
    {
     "name": "stdout",
     "output_type": "stream",
     "text": [
      "[1] 99\n"
     ]
    },
    {
     "data": {
      "image/png": "[encoded data removed]",
      "text/plain": [
       "Plot with title \"triceps\""
      ]
     },
     "metadata": {},
     "output_type": "display_data"
    },
    {
     "name": "stdout",
     "output_type": "stream",
     "text": [
      " [1] 543 846 342 495 325 485 495 478 744 370 680 402 375 545 360 325 465 325 415\n",
      "[20] 579 474 328 480 326 330 600 321 440 540 480 335 387 392 510\n"
     ]
    },
    {
     "data": {
      "image/png": "[encoded data removed]",
      "text/plain": [
       "Plot with title \"insulin\""
      ]
     },
     "metadata": {},
     "output_type": "display_data"
    },
    {
     "name": "stdout",
     "output_type": "stream",
     "text": [
      " [1]  0.0  0.0  0.0  0.0 53.2 55.0  0.0 67.1 52.3 52.3 52.9  0.0  0.0 59.4  0.0\n",
      "[16]  0.0 57.3  0.0  0.0\n"
     ]
    },
    {
     "data": {
      "image/png": "[encoded data removed]",
      "text/plain": [
       "Plot with title \"mass\""
      ]
     },
     "metadata": {},
     "output_type": "display_data"
    },
    {
     "name": "stdout",
     "output_type": "stream",
     "text": [
      " [1] 2.288 1.441 1.390 1.893 1.781 1.222 1.400 1.321 1.224 2.329 1.318 1.213\n",
      "[13] 1.353 1.224 1.391 1.476 2.137 1.731 1.268 1.600 2.420 1.251 1.699 1.258\n",
      "[25] 1.282 1.698 1.461 1.292 1.394\n"
     ]
    },
    {
     "data": {
      "image/png": "[encoded data removed]",
      "text/plain": [
       "Plot with title \"pedigree\""
      ]
     },
     "metadata": {},
     "output_type": "display_data"
    },
    {
     "name": "stdout",
     "output_type": "stream",
     "text": [
      "[1] 69 67 72 81 67 67 70 68 69\n"
     ]
    },
    {
     "data": {
      "image/png": "[encoded data removed]",
      "text/plain": [
       "Plot with title \"age\""
      ]
     },
     "metadata": {},
     "output_type": "display_data"
    }
   ],
   "source": [
    "for(c in names(df)){\n",
    "    if (c != \"diabetes\"){\n",
    "        bp = boxplot(df[c], main=c)\n",
    "        print(bp$out)\n",
    "    }\n",
    "}"
   ]
  },
  {
   "cell_type": "code",
   "execution_count": 41,
   "id": "86f9a2f3",
   "metadata": {},
   "outputs": [
    {
     "name": "stdout",
     "output_type": "stream",
     "text": [
      "[1] \"Outliers de pregnant : 4\"\n",
      "[1] \"Outliers de glucose : 5\"\n",
      "[1] \"Outliers de pressure : 45\"\n",
      "[1] \"Outliers de triceps : 1\"\n",
      "[1] \"Outliers de insulin : 34\"\n",
      "[1] \"Outliers de mass : 19\"\n",
      "[1] \"Outliers de pedigree : 29\"\n",
      "[1] \"Outliers de age : 9\"\n"
     ]
    },
    {
     "data": {
      "image/png": "[encoded data removed]",
      "text/plain": [
       "Plot with title \"age\""
      ]
     },
     "metadata": {},
     "output_type": "display_data"
    }
   ],
   "source": [
    "par(mfrow=c(2,4))\n",
    "for(c in names(df)){\n",
    "    if (c != \"diabetes\"){\n",
    "        bp = boxplot(df[c], main=c, outline=FALSE)\n",
    "        print(paste(\"Outliers de\", c, \":\", length(bp$out)))\n",
    "        #print(bp$out)\n",
    "    }\n",
    "}"
   ]
  }
 ],
 "metadata": {
  "kernelspec": {
   "display_name": "R",
   "language": "R",
   "name": "ir"
  },
  "language_info": {
   "codemirror_mode": "r",
   "file_extension": ".r",
   "mimetype": "text/x-r-source",
   "name": "R",
   "pygments_lexer": "r",
   "version": "3.6.1"
  }
 },
 "nbformat": 4,
 "nbformat_minor": 5
}
