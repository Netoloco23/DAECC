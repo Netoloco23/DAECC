{
 "cells": [
  {
   "cell_type": "markdown",
   "id": "2a676f13",
   "metadata": {},
   "source": [
    "# Ejercicio 1"
   ]
  },
  {
   "cell_type": "code",
   "execution_count": 1,
   "id": "fe67234d",
   "metadata": {},
   "outputs": [],
   "source": [
    "my_data <- read.table(\"poverty.txt\", header = FALSE, sep = \"\", dec = \".\", na.strings=\"*\")\n",
    "colnames(my_data) =c(\"Birth_rate\", \"Death_rate\",\"infant_death\",\"Life_expecBirth_male\",\"Life_expecBirth_female\",\"GNPpC\",\"Country_Group\",\"Country\")"
   ]
  },
  {
   "cell_type": "code",
   "execution_count": 2,
   "id": "28cb3e49",
   "metadata": {
    "scrolled": true
   },
   "outputs": [
    {
     "data": {
      "text/html": [
       "<table>\n",
       "<thead><tr><th scope=col>Birth_rate</th><th scope=col>Death_rate</th><th scope=col>infant_death</th><th scope=col>Life_expecBirth_male</th><th scope=col>Life_expecBirth_female</th><th scope=col>GNPpC</th><th scope=col>Country_Group</th><th scope=col>Country</th></tr></thead>\n",
       "<tbody>\n",
       "\t<tr><td>24.7             </td><td> 5.7             </td><td> 30.8            </td><td>69.6             </td><td>75.5             </td><td>  600            </td><td>1                </td><td>Albania          </td></tr>\n",
       "\t<tr><td>12.5             </td><td>11.9             </td><td> 14.4            </td><td>68.3             </td><td>74.7             </td><td> 2250            </td><td>1                </td><td>Bulgaria         </td></tr>\n",
       "\t<tr><td>13.4             </td><td>11.7             </td><td> 11.3            </td><td>71.8             </td><td>77.7             </td><td> 2980            </td><td>1                </td><td>Czechoslovakia   </td></tr>\n",
       "\t<tr><td>12.0             </td><td>12.4             </td><td>  7.6            </td><td>69.8             </td><td>75.9             </td><td>   NA            </td><td>1                </td><td>Former_E._Germany</td></tr>\n",
       "\t<tr><td>11.6             </td><td>13.4             </td><td> 14.8            </td><td>65.4             </td><td>73.8             </td><td> 2780            </td><td>1                </td><td>Hungary          </td></tr>\n",
       "\t<tr><td>14.3             </td><td>10.2             </td><td> 16.0            </td><td>67.2             </td><td>75.7             </td><td> 1690            </td><td>1                </td><td>Poland           </td></tr>\n",
       "\t<tr><td>13.6             </td><td>10.7             </td><td> 26.9            </td><td>66.5             </td><td>72.4             </td><td> 1640            </td><td>1                </td><td>Romania          </td></tr>\n",
       "\t<tr><td>14.0             </td><td> 9.0             </td><td> 20.2            </td><td>68.6             </td><td>74.5             </td><td>   NA            </td><td>1                </td><td>Yugoslavia       </td></tr>\n",
       "\t<tr><td>17.7             </td><td>10.0             </td><td> 23.0            </td><td>64.6             </td><td>74.0             </td><td> 2242            </td><td>1                </td><td>USSR             </td></tr>\n",
       "\t<tr><td>15.2             </td><td> 9.5             </td><td> 13.1            </td><td>66.4             </td><td>75.9             </td><td> 1880            </td><td>1                </td><td>Byelorussian_SSR </td></tr>\n",
       "\t<tr><td>13.4             </td><td>11.6             </td><td> 13.0            </td><td>66.4             </td><td>74.8             </td><td> 1320            </td><td>1                </td><td>Ukrainian_SSR    </td></tr>\n",
       "\t<tr><td>20.7             </td><td> 8.4             </td><td> 25.7            </td><td>65.5             </td><td>72.7             </td><td> 2370            </td><td>2                </td><td>Argentina        </td></tr>\n",
       "\t<tr><td>46.6             </td><td>18.0             </td><td>111.0            </td><td>51.0             </td><td>55.4             </td><td>  630            </td><td>2                </td><td>Bolivia          </td></tr>\n",
       "\t<tr><td>28.6             </td><td> 7.9             </td><td> 63.0            </td><td>62.3             </td><td>67.6             </td><td> 2680            </td><td>2                </td><td>Brazil           </td></tr>\n",
       "\t<tr><td>23.4             </td><td> 5.8             </td><td> 17.1            </td><td>68.1             </td><td>75.1             </td><td> 1940            </td><td>2                </td><td>Chile            </td></tr>\n",
       "\t<tr><td>27.4             </td><td> 6.1             </td><td> 40.0            </td><td>63.4             </td><td>69.2             </td><td> 1260            </td><td>2                </td><td>Columbia         </td></tr>\n",
       "\t<tr><td>32.9             </td><td> 7.4             </td><td> 63.0            </td><td>63.4             </td><td>67.6             </td><td>  980            </td><td>2                </td><td>Ecuador          </td></tr>\n",
       "\t<tr><td>28.3             </td><td> 7.3             </td><td> 56.0            </td><td>60.4             </td><td>66.1             </td><td>  330            </td><td>2                </td><td>Guyana           </td></tr>\n",
       "\t<tr><td>34.8             </td><td> 6.6             </td><td> 42.0            </td><td>64.4             </td><td>68.5             </td><td> 1110            </td><td>2                </td><td>Paraguay         </td></tr>\n",
       "\t<tr><td>32.9             </td><td> 8.3             </td><td>109.9            </td><td>56.8             </td><td>66.5             </td><td> 1160            </td><td>2                </td><td>Peru             </td></tr>\n",
       "\t<tr><td>18.0             </td><td> 9.6             </td><td> 21.9            </td><td>68.4             </td><td>74.9             </td><td> 2560            </td><td>2                </td><td>Uruguay          </td></tr>\n",
       "\t<tr><td>27.5             </td><td> 4.4             </td><td> 23.3            </td><td>66.7             </td><td>72.8             </td><td> 2560            </td><td>2                </td><td>Venezuela        </td></tr>\n",
       "\t<tr><td>29.0             </td><td>23.2             </td><td> 43.0            </td><td>62.1             </td><td>66.0             </td><td> 2490            </td><td>2                </td><td>Mexico           </td></tr>\n",
       "\t<tr><td>12.0             </td><td>10.6             </td><td>  7.9            </td><td>70.0             </td><td>76.8             </td><td>15540            </td><td>3                </td><td>Belgium          </td></tr>\n",
       "\t<tr><td>13.2             </td><td>10.1             </td><td>  5.8            </td><td>70.7             </td><td>78.7             </td><td>26040            </td><td>3                </td><td>Finland          </td></tr>\n",
       "\t<tr><td>12.4             </td><td>11.9             </td><td>  7.5            </td><td>71.8             </td><td>77.7             </td><td>22080            </td><td>3                </td><td>Denmark          </td></tr>\n",
       "\t<tr><td>13.6             </td><td> 9.4             </td><td>  7.4            </td><td>72.3             </td><td>80.5             </td><td>19490            </td><td>3                </td><td>France           </td></tr>\n",
       "\t<tr><td>11.4             </td><td>11.2             </td><td>  7.4            </td><td>71.8             </td><td>78.4             </td><td>22320            </td><td>3                </td><td>Germany          </td></tr>\n",
       "\t<tr><td>10.1             </td><td> 9.2             </td><td> 11.0            </td><td>65.4             </td><td>74.0             </td><td> 5990            </td><td>3                </td><td>Greece           </td></tr>\n",
       "\t<tr><td>15.1             </td><td> 9.1             </td><td>  7.5            </td><td>71.0             </td><td>76.7             </td><td> 9550            </td><td>3                </td><td>Ireland          </td></tr>\n",
       "\t<tr><td>...</td><td>...</td><td>...</td><td>...</td><td>...</td><td>...</td><td>...</td><td>...</td></tr>\n",
       "\t<tr><td>21.3        </td><td> 6.2        </td><td> 19.4       </td><td>67.8        </td><td>71.70       </td><td> 470        </td><td>5           </td><td>Sri_Lanka   </td></tr>\n",
       "\t<tr><td>22.3        </td><td> 7.7        </td><td> 28.0       </td><td>63.8        </td><td>68.90       </td><td>1420        </td><td>5           </td><td>Thailand    </td></tr>\n",
       "\t<tr><td>31.8        </td><td> 9.5        </td><td> 64.0       </td><td>63.7        </td><td>67.90       </td><td>  NA        </td><td>5           </td><td>Vietnam     </td></tr>\n",
       "\t<tr><td>35.5        </td><td> 8.3        </td><td> 74.0       </td><td>61.6        </td><td>63.30       </td><td>2060        </td><td>6           </td><td>Algeria     </td></tr>\n",
       "\t<tr><td>47.2        </td><td>20.2        </td><td>137.0       </td><td>42.9        </td><td>46.10       </td><td> 610        </td><td>6           </td><td>Angola      </td></tr>\n",
       "\t<tr><td>48.5        </td><td>11.6        </td><td> 67.0       </td><td>52.3        </td><td>59.70       </td><td>2040        </td><td>6           </td><td>Botswana    </td></tr>\n",
       "\t<tr><td>46.1        </td><td>14.6        </td><td> 73.0       </td><td>50.1        </td><td>55.30       </td><td>1010        </td><td>6           </td><td>Congo       </td></tr>\n",
       "\t<tr><td>38.8        </td><td> 9.5        </td><td> 49.4       </td><td>57.8        </td><td>60.30       </td><td> 600        </td><td>6           </td><td>Egypt       </td></tr>\n",
       "\t<tr><td>48.6        </td><td>20.7        </td><td>137.0       </td><td>42.4        </td><td>45.60       </td><td> 120        </td><td>6           </td><td>Ethiopia    </td></tr>\n",
       "\t<tr><td>39.4        </td><td>16.8        </td><td>103.0       </td><td>49.9        </td><td>53.20       </td><td> 390        </td><td>6           </td><td>Gabon       </td></tr>\n",
       "\t<tr><td>47.4        </td><td>21.4        </td><td>143.0       </td><td>41.4        </td><td>44.60       </td><td> 260        </td><td>6           </td><td>Gambia      </td></tr>\n",
       "\t<tr><td>44.4        </td><td>13.1        </td><td> 90.0       </td><td>52.2        </td><td>55.80       </td><td> 390        </td><td>6           </td><td>Ghana       </td></tr>\n",
       "\t<tr><td>47.0        </td><td>11.3        </td><td> 72.0       </td><td>56.5        </td><td>60.50       </td><td> 370        </td><td>6           </td><td>Kenya       </td></tr>\n",
       "\t<tr><td>44.0        </td><td> 9.4        </td><td> 82.0       </td><td>59.1        </td><td>62.56       </td><td>5310        </td><td>6           </td><td>Libya       </td></tr>\n",
       "\t<tr><td>48.3        </td><td>25.0        </td><td>130.0       </td><td>38.1        </td><td>41.20       </td><td> 200        </td><td>6           </td><td>Malawi      </td></tr>\n",
       "\t<tr><td>35.5        </td><td> 9.8        </td><td> 82.0       </td><td>59.1        </td><td>62.50       </td><td> 960        </td><td>6           </td><td>Morocco     </td></tr>\n",
       "\t<tr><td>45.0        </td><td>18.5        </td><td>141.0       </td><td>44.9        </td><td>48.10       </td><td>  80        </td><td>6           </td><td>Mozambique  </td></tr>\n",
       "\t<tr><td>44.0        </td><td>12.1        </td><td>135.0       </td><td>55.0        </td><td>57.50       </td><td>1030        </td><td>6           </td><td>Namibia     </td></tr>\n",
       "\t<tr><td>48.5        </td><td>15.6        </td><td>105.0       </td><td>48.8        </td><td>52.20       </td><td> 360        </td><td>6           </td><td>Nigeria     </td></tr>\n",
       "\t<tr><td>48.2        </td><td>23.4        </td><td>154.0       </td><td>39.4        </td><td>42.60       </td><td> 240        </td><td>6           </td><td>Sierra_Leone</td></tr>\n",
       "\t<tr><td>50.1        </td><td>20.2        </td><td>132.0       </td><td>43.4        </td><td>46.60       </td><td> 120        </td><td>6           </td><td>Somalia     </td></tr>\n",
       "\t<tr><td>32.1        </td><td> 9.9        </td><td> 72.0       </td><td>57.5        </td><td>63.50       </td><td>2530        </td><td>6           </td><td>South_Africa</td></tr>\n",
       "\t<tr><td>44.6        </td><td>15.8        </td><td>108.0       </td><td>48.6        </td><td>51.00       </td><td> 480        </td><td>6           </td><td>Sudan       </td></tr>\n",
       "\t<tr><td>46.8        </td><td>12.5        </td><td>118.0       </td><td>42.9        </td><td>49.50       </td><td> 810        </td><td>6           </td><td>Swaziland   </td></tr>\n",
       "\t<tr><td>31.1        </td><td> 7.3        </td><td> 52.0       </td><td>64.9        </td><td>66.40       </td><td>1440        </td><td>6           </td><td>Tunisia     </td></tr>\n",
       "\t<tr><td>52.2        </td><td>15.6        </td><td>103.0       </td><td>49.9        </td><td>52.70       </td><td> 220        </td><td>6           </td><td>Uganda      </td></tr>\n",
       "\t<tr><td>50.5        </td><td>14.0        </td><td>106.0       </td><td>51.3        </td><td>54.70       </td><td> 110        </td><td>6           </td><td>Tanzania    </td></tr>\n",
       "\t<tr><td>45.6        </td><td>14.2        </td><td> 83.0       </td><td>50.3        </td><td>53.70       </td><td> 220        </td><td>6           </td><td>Zaire       </td></tr>\n",
       "\t<tr><td>51.1        </td><td>13.7        </td><td> 80.0       </td><td>50.4        </td><td>52.50       </td><td> 420        </td><td>6           </td><td>Zambia      </td></tr>\n",
       "\t<tr><td>41.7        </td><td>10.3        </td><td> 66.0       </td><td>56.5        </td><td>60.10       </td><td> 640        </td><td>6           </td><td>Zimbabwe    </td></tr>\n",
       "</tbody>\n",
       "</table>\n"
      ],
      "text/latex": [
       "\\begin{tabular}{r|llllllll}\n",
       " Birth\\_rate & Death\\_rate & infant\\_death & Life\\_expecBirth\\_male & Life\\_expecBirth\\_female & GNPpC & Country\\_Group & Country\\\\\n",
       "\\hline\n",
       "\t 24.7              &  5.7              &  30.8             & 69.6              & 75.5              &   600             & 1                 & Albania          \\\\\n",
       "\t 12.5              & 11.9              &  14.4             & 68.3              & 74.7              &  2250             & 1                 & Bulgaria         \\\\\n",
       "\t 13.4              & 11.7              &  11.3             & 71.8              & 77.7              &  2980             & 1                 & Czechoslovakia   \\\\\n",
       "\t 12.0                  & 12.4                  &   7.6                 & 69.8                  & 75.9                  &    NA                 & 1                     & Former\\_E.\\_Germany\\\\\n",
       "\t 11.6              & 13.4              &  14.8             & 65.4              & 73.8              &  2780             & 1                 & Hungary          \\\\\n",
       "\t 14.3              & 10.2              &  16.0             & 67.2              & 75.7              &  1690             & 1                 & Poland           \\\\\n",
       "\t 13.6              & 10.7              &  26.9             & 66.5              & 72.4              &  1640             & 1                 & Romania          \\\\\n",
       "\t 14.0              &  9.0              &  20.2             & 68.6              & 74.5              &    NA             & 1                 & Yugoslavia       \\\\\n",
       "\t 17.7              & 10.0              &  23.0             & 64.6              & 74.0              &  2242             & 1                 & USSR             \\\\\n",
       "\t 15.2                &  9.5                &  13.1               & 66.4                & 75.9                &  1880               & 1                   & Byelorussian\\_SSR \\\\\n",
       "\t 13.4                & 11.6                &  13.0               & 66.4                & 74.8                &  1320               & 1                   & Ukrainian\\_SSR    \\\\\n",
       "\t 20.7              &  8.4              &  25.7             & 65.5              & 72.7              &  2370             & 2                 & Argentina        \\\\\n",
       "\t 46.6              & 18.0              & 111.0             & 51.0              & 55.4              &   630             & 2                 & Bolivia          \\\\\n",
       "\t 28.6              &  7.9              &  63.0             & 62.3              & 67.6              &  2680             & 2                 & Brazil           \\\\\n",
       "\t 23.4              &  5.8              &  17.1             & 68.1              & 75.1              &  1940             & 2                 & Chile            \\\\\n",
       "\t 27.4              &  6.1              &  40.0             & 63.4              & 69.2              &  1260             & 2                 & Columbia         \\\\\n",
       "\t 32.9              &  7.4              &  63.0             & 63.4              & 67.6              &   980             & 2                 & Ecuador          \\\\\n",
       "\t 28.3              &  7.3              &  56.0             & 60.4              & 66.1              &   330             & 2                 & Guyana           \\\\\n",
       "\t 34.8              &  6.6              &  42.0             & 64.4              & 68.5              &  1110             & 2                 & Paraguay         \\\\\n",
       "\t 32.9              &  8.3              & 109.9             & 56.8              & 66.5              &  1160             & 2                 & Peru             \\\\\n",
       "\t 18.0              &  9.6              &  21.9             & 68.4              & 74.9              &  2560             & 2                 & Uruguay          \\\\\n",
       "\t 27.5              &  4.4              &  23.3             & 66.7              & 72.8              &  2560             & 2                 & Venezuela        \\\\\n",
       "\t 29.0              & 23.2              &  43.0             & 62.1              & 66.0              &  2490             & 2                 & Mexico           \\\\\n",
       "\t 12.0              & 10.6              &   7.9             & 70.0              & 76.8              & 15540             & 3                 & Belgium          \\\\\n",
       "\t 13.2              & 10.1              &   5.8             & 70.7              & 78.7              & 26040             & 3                 & Finland          \\\\\n",
       "\t 12.4              & 11.9              &   7.5             & 71.8              & 77.7              & 22080             & 3                 & Denmark          \\\\\n",
       "\t 13.6              &  9.4              &   7.4             & 72.3              & 80.5              & 19490             & 3                 & France           \\\\\n",
       "\t 11.4              & 11.2              &   7.4             & 71.8              & 78.4              & 22320             & 3                 & Germany          \\\\\n",
       "\t 10.1              &  9.2              &  11.0             & 65.4              & 74.0              &  5990             & 3                 & Greece           \\\\\n",
       "\t 15.1              &  9.1              &   7.5             & 71.0              & 76.7              &  9550             & 3                 & Ireland          \\\\\n",
       "\t ... & ... & ... & ... & ... & ... & ... & ...\\\\\n",
       "\t 21.3           &  6.2           &  19.4          & 67.8           & 71.70          &  470           & 5              & Sri\\_Lanka   \\\\\n",
       "\t 22.3         &  7.7         &  28.0        & 63.8         & 68.90        & 1420         & 5            & Thailand    \\\\\n",
       "\t 31.8         &  9.5         &  64.0        & 63.7         & 67.90        &   NA         & 5            & Vietnam     \\\\\n",
       "\t 35.5         &  8.3         &  74.0        & 61.6         & 63.30        & 2060         & 6            & Algeria     \\\\\n",
       "\t 47.2         & 20.2         & 137.0        & 42.9         & 46.10        &  610         & 6            & Angola      \\\\\n",
       "\t 48.5         & 11.6         &  67.0        & 52.3         & 59.70        & 2040         & 6            & Botswana    \\\\\n",
       "\t 46.1         & 14.6         &  73.0        & 50.1         & 55.30        & 1010         & 6            & Congo       \\\\\n",
       "\t 38.8         &  9.5         &  49.4        & 57.8         & 60.30        &  600         & 6            & Egypt       \\\\\n",
       "\t 48.6         & 20.7         & 137.0        & 42.4         & 45.60        &  120         & 6            & Ethiopia    \\\\\n",
       "\t 39.4         & 16.8         & 103.0        & 49.9         & 53.20        &  390         & 6            & Gabon       \\\\\n",
       "\t 47.4         & 21.4         & 143.0        & 41.4         & 44.60        &  260         & 6            & Gambia      \\\\\n",
       "\t 44.4         & 13.1         &  90.0        & 52.2         & 55.80        &  390         & 6            & Ghana       \\\\\n",
       "\t 47.0         & 11.3         &  72.0        & 56.5         & 60.50        &  370         & 6            & Kenya       \\\\\n",
       "\t 44.0         &  9.4         &  82.0        & 59.1         & 62.56        & 5310         & 6            & Libya       \\\\\n",
       "\t 48.3         & 25.0         & 130.0        & 38.1         & 41.20        &  200         & 6            & Malawi      \\\\\n",
       "\t 35.5         &  9.8         &  82.0        & 59.1         & 62.50        &  960         & 6            & Morocco     \\\\\n",
       "\t 45.0         & 18.5         & 141.0        & 44.9         & 48.10        &   80         & 6            & Mozambique  \\\\\n",
       "\t 44.0         & 12.1         & 135.0        & 55.0         & 57.50        & 1030         & 6            & Namibia     \\\\\n",
       "\t 48.5         & 15.6         & 105.0        & 48.8         & 52.20        &  360         & 6            & Nigeria     \\\\\n",
       "\t 48.2           & 23.4           & 154.0          & 39.4           & 42.60          &  240           & 6              & Sierra\\_Leone\\\\\n",
       "\t 50.1         & 20.2         & 132.0        & 43.4         & 46.60        &  120         & 6            & Somalia     \\\\\n",
       "\t 32.1           &  9.9           &  72.0          & 57.5           & 63.50          & 2530           & 6              & South\\_Africa\\\\\n",
       "\t 44.6         & 15.8         & 108.0        & 48.6         & 51.00        &  480         & 6            & Sudan       \\\\\n",
       "\t 46.8         & 12.5         & 118.0        & 42.9         & 49.50        &  810         & 6            & Swaziland   \\\\\n",
       "\t 31.1         &  7.3         &  52.0        & 64.9         & 66.40        & 1440         & 6            & Tunisia     \\\\\n",
       "\t 52.2         & 15.6         & 103.0        & 49.9         & 52.70        &  220         & 6            & Uganda      \\\\\n",
       "\t 50.5         & 14.0         & 106.0        & 51.3         & 54.70        &  110         & 6            & Tanzania    \\\\\n",
       "\t 45.6         & 14.2         &  83.0        & 50.3         & 53.70        &  220         & 6            & Zaire       \\\\\n",
       "\t 51.1         & 13.7         &  80.0        & 50.4         & 52.50        &  420         & 6            & Zambia      \\\\\n",
       "\t 41.7         & 10.3         &  66.0        & 56.5         & 60.10        &  640         & 6            & Zimbabwe    \\\\\n",
       "\\end{tabular}\n"
      ],
      "text/markdown": [
       "\n",
       "| Birth_rate | Death_rate | infant_death | Life_expecBirth_male | Life_expecBirth_female | GNPpC | Country_Group | Country |\n",
       "|---|---|---|---|---|---|---|---|\n",
       "| 24.7              |  5.7              |  30.8             | 69.6              | 75.5              |   600             | 1                 | Albania           |\n",
       "| 12.5              | 11.9              |  14.4             | 68.3              | 74.7              |  2250             | 1                 | Bulgaria          |\n",
       "| 13.4              | 11.7              |  11.3             | 71.8              | 77.7              |  2980             | 1                 | Czechoslovakia    |\n",
       "| 12.0              | 12.4              |   7.6             | 69.8              | 75.9              |    NA             | 1                 | Former_E._Germany |\n",
       "| 11.6              | 13.4              |  14.8             | 65.4              | 73.8              |  2780             | 1                 | Hungary           |\n",
       "| 14.3              | 10.2              |  16.0             | 67.2              | 75.7              |  1690             | 1                 | Poland            |\n",
       "| 13.6              | 10.7              |  26.9             | 66.5              | 72.4              |  1640             | 1                 | Romania           |\n",
       "| 14.0              |  9.0              |  20.2             | 68.6              | 74.5              |    NA             | 1                 | Yugoslavia        |\n",
       "| 17.7              | 10.0              |  23.0             | 64.6              | 74.0              |  2242             | 1                 | USSR              |\n",
       "| 15.2              |  9.5              |  13.1             | 66.4              | 75.9              |  1880             | 1                 | Byelorussian_SSR  |\n",
       "| 13.4              | 11.6              |  13.0             | 66.4              | 74.8              |  1320             | 1                 | Ukrainian_SSR     |\n",
       "| 20.7              |  8.4              |  25.7             | 65.5              | 72.7              |  2370             | 2                 | Argentina         |\n",
       "| 46.6              | 18.0              | 111.0             | 51.0              | 55.4              |   630             | 2                 | Bolivia           |\n",
       "| 28.6              |  7.9              |  63.0             | 62.3              | 67.6              |  2680             | 2                 | Brazil            |\n",
       "| 23.4              |  5.8              |  17.1             | 68.1              | 75.1              |  1940             | 2                 | Chile             |\n",
       "| 27.4              |  6.1              |  40.0             | 63.4              | 69.2              |  1260             | 2                 | Columbia          |\n",
       "| 32.9              |  7.4              |  63.0             | 63.4              | 67.6              |   980             | 2                 | Ecuador           |\n",
       "| 28.3              |  7.3              |  56.0             | 60.4              | 66.1              |   330             | 2                 | Guyana            |\n",
       "| 34.8              |  6.6              |  42.0             | 64.4              | 68.5              |  1110             | 2                 | Paraguay          |\n",
       "| 32.9              |  8.3              | 109.9             | 56.8              | 66.5              |  1160             | 2                 | Peru              |\n",
       "| 18.0              |  9.6              |  21.9             | 68.4              | 74.9              |  2560             | 2                 | Uruguay           |\n",
       "| 27.5              |  4.4              |  23.3             | 66.7              | 72.8              |  2560             | 2                 | Venezuela         |\n",
       "| 29.0              | 23.2              |  43.0             | 62.1              | 66.0              |  2490             | 2                 | Mexico            |\n",
       "| 12.0              | 10.6              |   7.9             | 70.0              | 76.8              | 15540             | 3                 | Belgium           |\n",
       "| 13.2              | 10.1              |   5.8             | 70.7              | 78.7              | 26040             | 3                 | Finland           |\n",
       "| 12.4              | 11.9              |   7.5             | 71.8              | 77.7              | 22080             | 3                 | Denmark           |\n",
       "| 13.6              |  9.4              |   7.4             | 72.3              | 80.5              | 19490             | 3                 | France            |\n",
       "| 11.4              | 11.2              |   7.4             | 71.8              | 78.4              | 22320             | 3                 | Germany           |\n",
       "| 10.1              |  9.2              |  11.0             | 65.4              | 74.0              |  5990             | 3                 | Greece            |\n",
       "| 15.1              |  9.1              |   7.5             | 71.0              | 76.7              |  9550             | 3                 | Ireland           |\n",
       "| ... | ... | ... | ... | ... | ... | ... | ... |\n",
       "| 21.3         |  6.2         |  19.4        | 67.8         | 71.70        |  470         | 5            | Sri_Lanka    |\n",
       "| 22.3         |  7.7         |  28.0        | 63.8         | 68.90        | 1420         | 5            | Thailand     |\n",
       "| 31.8         |  9.5         |  64.0        | 63.7         | 67.90        |   NA         | 5            | Vietnam      |\n",
       "| 35.5         |  8.3         |  74.0        | 61.6         | 63.30        | 2060         | 6            | Algeria      |\n",
       "| 47.2         | 20.2         | 137.0        | 42.9         | 46.10        |  610         | 6            | Angola       |\n",
       "| 48.5         | 11.6         |  67.0        | 52.3         | 59.70        | 2040         | 6            | Botswana     |\n",
       "| 46.1         | 14.6         |  73.0        | 50.1         | 55.30        | 1010         | 6            | Congo        |\n",
       "| 38.8         |  9.5         |  49.4        | 57.8         | 60.30        |  600         | 6            | Egypt        |\n",
       "| 48.6         | 20.7         | 137.0        | 42.4         | 45.60        |  120         | 6            | Ethiopia     |\n",
       "| 39.4         | 16.8         | 103.0        | 49.9         | 53.20        |  390         | 6            | Gabon        |\n",
       "| 47.4         | 21.4         | 143.0        | 41.4         | 44.60        |  260         | 6            | Gambia       |\n",
       "| 44.4         | 13.1         |  90.0        | 52.2         | 55.80        |  390         | 6            | Ghana        |\n",
       "| 47.0         | 11.3         |  72.0        | 56.5         | 60.50        |  370         | 6            | Kenya        |\n",
       "| 44.0         |  9.4         |  82.0        | 59.1         | 62.56        | 5310         | 6            | Libya        |\n",
       "| 48.3         | 25.0         | 130.0        | 38.1         | 41.20        |  200         | 6            | Malawi       |\n",
       "| 35.5         |  9.8         |  82.0        | 59.1         | 62.50        |  960         | 6            | Morocco      |\n",
       "| 45.0         | 18.5         | 141.0        | 44.9         | 48.10        |   80         | 6            | Mozambique   |\n",
       "| 44.0         | 12.1         | 135.0        | 55.0         | 57.50        | 1030         | 6            | Namibia      |\n",
       "| 48.5         | 15.6         | 105.0        | 48.8         | 52.20        |  360         | 6            | Nigeria      |\n",
       "| 48.2         | 23.4         | 154.0        | 39.4         | 42.60        |  240         | 6            | Sierra_Leone |\n",
       "| 50.1         | 20.2         | 132.0        | 43.4         | 46.60        |  120         | 6            | Somalia      |\n",
       "| 32.1         |  9.9         |  72.0        | 57.5         | 63.50        | 2530         | 6            | South_Africa |\n",
       "| 44.6         | 15.8         | 108.0        | 48.6         | 51.00        |  480         | 6            | Sudan        |\n",
       "| 46.8         | 12.5         | 118.0        | 42.9         | 49.50        |  810         | 6            | Swaziland    |\n",
       "| 31.1         |  7.3         |  52.0        | 64.9         | 66.40        | 1440         | 6            | Tunisia      |\n",
       "| 52.2         | 15.6         | 103.0        | 49.9         | 52.70        |  220         | 6            | Uganda       |\n",
       "| 50.5         | 14.0         | 106.0        | 51.3         | 54.70        |  110         | 6            | Tanzania     |\n",
       "| 45.6         | 14.2         |  83.0        | 50.3         | 53.70        |  220         | 6            | Zaire        |\n",
       "| 51.1         | 13.7         |  80.0        | 50.4         | 52.50        |  420         | 6            | Zambia       |\n",
       "| 41.7         | 10.3         |  66.0        | 56.5         | 60.10        |  640         | 6            | Zimbabwe     |\n",
       "\n"
      ],
      "text/plain": [
       "    Birth_rate Death_rate infant_death Life_expecBirth_male\n",
       "1   24.7        5.7        30.8        69.6                \n",
       "2   12.5       11.9        14.4        68.3                \n",
       "3   13.4       11.7        11.3        71.8                \n",
       "4   12.0       12.4         7.6        69.8                \n",
       "5   11.6       13.4        14.8        65.4                \n",
       "6   14.3       10.2        16.0        67.2                \n",
       "7   13.6       10.7        26.9        66.5                \n",
       "8   14.0        9.0        20.2        68.6                \n",
       "9   17.7       10.0        23.0        64.6                \n",
       "10  15.2        9.5        13.1        66.4                \n",
       "11  13.4       11.6        13.0        66.4                \n",
       "12  20.7        8.4        25.7        65.5                \n",
       "13  46.6       18.0       111.0        51.0                \n",
       "14  28.6        7.9        63.0        62.3                \n",
       "15  23.4        5.8        17.1        68.1                \n",
       "16  27.4        6.1        40.0        63.4                \n",
       "17  32.9        7.4        63.0        63.4                \n",
       "18  28.3        7.3        56.0        60.4                \n",
       "19  34.8        6.6        42.0        64.4                \n",
       "20  32.9        8.3       109.9        56.8                \n",
       "21  18.0        9.6        21.9        68.4                \n",
       "22  27.5        4.4        23.3        66.7                \n",
       "23  29.0       23.2        43.0        62.1                \n",
       "24  12.0       10.6         7.9        70.0                \n",
       "25  13.2       10.1         5.8        70.7                \n",
       "26  12.4       11.9         7.5        71.8                \n",
       "27  13.6        9.4         7.4        72.3                \n",
       "28  11.4       11.2         7.4        71.8                \n",
       "29  10.1        9.2        11.0        65.4                \n",
       "30  15.1        9.1         7.5        71.0                \n",
       "... ...        ...        ...          ...                 \n",
       "68  21.3        6.2        19.4        67.8                \n",
       "69  22.3        7.7        28.0        63.8                \n",
       "70  31.8        9.5        64.0        63.7                \n",
       "71  35.5        8.3        74.0        61.6                \n",
       "72  47.2       20.2       137.0        42.9                \n",
       "73  48.5       11.6        67.0        52.3                \n",
       "74  46.1       14.6        73.0        50.1                \n",
       "75  38.8        9.5        49.4        57.8                \n",
       "76  48.6       20.7       137.0        42.4                \n",
       "77  39.4       16.8       103.0        49.9                \n",
       "78  47.4       21.4       143.0        41.4                \n",
       "79  44.4       13.1        90.0        52.2                \n",
       "80  47.0       11.3        72.0        56.5                \n",
       "81  44.0        9.4        82.0        59.1                \n",
       "82  48.3       25.0       130.0        38.1                \n",
       "83  35.5        9.8        82.0        59.1                \n",
       "84  45.0       18.5       141.0        44.9                \n",
       "85  44.0       12.1       135.0        55.0                \n",
       "86  48.5       15.6       105.0        48.8                \n",
       "87  48.2       23.4       154.0        39.4                \n",
       "88  50.1       20.2       132.0        43.4                \n",
       "89  32.1        9.9        72.0        57.5                \n",
       "90  44.6       15.8       108.0        48.6                \n",
       "91  46.8       12.5       118.0        42.9                \n",
       "92  31.1        7.3        52.0        64.9                \n",
       "93  52.2       15.6       103.0        49.9                \n",
       "94  50.5       14.0       106.0        51.3                \n",
       "95  45.6       14.2        83.0        50.3                \n",
       "96  51.1       13.7        80.0        50.4                \n",
       "97  41.7       10.3        66.0        56.5                \n",
       "    Life_expecBirth_female GNPpC Country_Group Country          \n",
       "1   75.5                     600 1             Albania          \n",
       "2   74.7                    2250 1             Bulgaria         \n",
       "3   77.7                    2980 1             Czechoslovakia   \n",
       "4   75.9                      NA 1             Former_E._Germany\n",
       "5   73.8                    2780 1             Hungary          \n",
       "6   75.7                    1690 1             Poland           \n",
       "7   72.4                    1640 1             Romania          \n",
       "8   74.5                      NA 1             Yugoslavia       \n",
       "9   74.0                    2242 1             USSR             \n",
       "10  75.9                    1880 1             Byelorussian_SSR \n",
       "11  74.8                    1320 1             Ukrainian_SSR    \n",
       "12  72.7                    2370 2             Argentina        \n",
       "13  55.4                     630 2             Bolivia          \n",
       "14  67.6                    2680 2             Brazil           \n",
       "15  75.1                    1940 2             Chile            \n",
       "16  69.2                    1260 2             Columbia         \n",
       "17  67.6                     980 2             Ecuador          \n",
       "18  66.1                     330 2             Guyana           \n",
       "19  68.5                    1110 2             Paraguay         \n",
       "20  66.5                    1160 2             Peru             \n",
       "21  74.9                    2560 2             Uruguay          \n",
       "22  72.8                    2560 2             Venezuela        \n",
       "23  66.0                    2490 2             Mexico           \n",
       "24  76.8                   15540 3             Belgium          \n",
       "25  78.7                   26040 3             Finland          \n",
       "26  77.7                   22080 3             Denmark          \n",
       "27  80.5                   19490 3             France           \n",
       "28  78.4                   22320 3             Germany          \n",
       "29  74.0                    5990 3             Greece           \n",
       "30  76.7                    9550 3             Ireland          \n",
       "... ...                    ...   ...           ...              \n",
       "68  71.70                   470  5             Sri_Lanka        \n",
       "69  68.90                  1420  5             Thailand         \n",
       "70  67.90                    NA  5             Vietnam          \n",
       "71  63.30                  2060  6             Algeria          \n",
       "72  46.10                   610  6             Angola           \n",
       "73  59.70                  2040  6             Botswana         \n",
       "74  55.30                  1010  6             Congo            \n",
       "75  60.30                   600  6             Egypt            \n",
       "76  45.60                   120  6             Ethiopia         \n",
       "77  53.20                   390  6             Gabon            \n",
       "78  44.60                   260  6             Gambia           \n",
       "79  55.80                   390  6             Ghana            \n",
       "80  60.50                   370  6             Kenya            \n",
       "81  62.56                  5310  6             Libya            \n",
       "82  41.20                   200  6             Malawi           \n",
       "83  62.50                   960  6             Morocco          \n",
       "84  48.10                    80  6             Mozambique       \n",
       "85  57.50                  1030  6             Namibia          \n",
       "86  52.20                   360  6             Nigeria          \n",
       "87  42.60                   240  6             Sierra_Leone     \n",
       "88  46.60                   120  6             Somalia          \n",
       "89  63.50                  2530  6             South_Africa     \n",
       "90  51.00                   480  6             Sudan            \n",
       "91  49.50                   810  6             Swaziland        \n",
       "92  66.40                  1440  6             Tunisia          \n",
       "93  52.70                   220  6             Uganda           \n",
       "94  54.70                   110  6             Tanzania         \n",
       "95  53.70                   220  6             Zaire            \n",
       "96  52.50                   420  6             Zambia           \n",
       "97  60.10                   640  6             Zimbabwe         "
      ]
     },
     "metadata": {},
     "output_type": "display_data"
    }
   ],
   "source": [
    "my_data"
   ]
  },
  {
   "cell_type": "code",
   "execution_count": 3,
   "id": "77e5cc57",
   "metadata": {},
   "outputs": [],
   "source": [
    "my_data$GNPpC=as.numeric(my_data$GNPpC)"
   ]
  },
  {
   "cell_type": "code",
   "execution_count": 4,
   "id": "58aca7f3",
   "metadata": {},
   "outputs": [
    {
     "data": {
      "text/html": [
       "'numeric'"
      ],
      "text/latex": [
       "'numeric'"
      ],
      "text/markdown": [
       "'numeric'"
      ],
      "text/plain": [
       "[1] \"numeric\""
      ]
     },
     "metadata": {},
     "output_type": "display_data"
    }
   ],
   "source": [
    "class(my_data$GNPpC)"
   ]
  },
  {
   "cell_type": "code",
   "execution_count": 5,
   "id": "54d6a251",
   "metadata": {},
   "outputs": [
    {
     "data": {
      "text/plain": [
       "   Birth_rate      Death_rate     infant_death   Life_expecBirth_male\n",
       " Min.   : 9.70   Min.   : 2.20   Min.   :  4.5   Min.   :38.10       \n",
       " 1st Qu.:14.50   1st Qu.: 7.80   1st Qu.: 13.1   1st Qu.:55.80       \n",
       " Median :29.00   Median : 9.50   Median : 43.0   Median :63.70       \n",
       " Mean   :29.23   Mean   :10.84   Mean   : 54.9   Mean   :61.49       \n",
       " 3rd Qu.:42.20   3rd Qu.:12.50   3rd Qu.: 83.0   3rd Qu.:68.60       \n",
       " Max.   :52.20   Max.   :25.00   Max.   :181.6   Max.   :75.90       \n",
       "                                                                     \n",
       " Life_expecBirth_female     GNPpC       Country_Group          Country  \n",
       " Min.   :41.20          Min.   :   80   Min.   :1.000   Afghanistan: 1  \n",
       " 1st Qu.:57.50          1st Qu.:  475   1st Qu.:3.000   Albania    : 1  \n",
       " Median :67.80          Median : 1690   Median :4.000   Algeria    : 1  \n",
       " Mean   :66.15          Mean   : 5741   Mean   :3.948   Angola     : 1  \n",
       " 3rd Qu.:75.40          3rd Qu.: 7325   3rd Qu.:6.000   Argentina  : 1  \n",
       " Max.   :81.80          Max.   :34064   Max.   :6.000   Austria    : 1  \n",
       "                        NA's   :6                       (Other)    :91  "
      ]
     },
     "metadata": {},
     "output_type": "display_data"
    }
   ],
   "source": [
    "summary(my_data)"
   ]
  },
  {
   "cell_type": "code",
   "execution_count": 6,
   "id": "b6af42df",
   "metadata": {
    "scrolled": true
   },
   "outputs": [
    {
     "data": {
      "image/png": "[encoded data removed]",
      "text/plain": [
       "plot without title"
      ]
     },
     "metadata": {},
     "output_type": "display_data"
    }
   ],
   "source": [
    "plot(my_data)"
   ]
  },
  {
   "cell_type": "code",
   "execution_count": 7,
   "id": "47cae6e9",
   "metadata": {
    "scrolled": true
   },
   "outputs": [
    {
     "data": {
      "image/png": "[encoded data removed]",
      "text/plain": [
       "plot without title"
      ]
     },
     "metadata": {},
     "output_type": "display_data"
    }
   ],
   "source": [
    "boxplot(GNPpC~Country_Group, data = my_data)"
   ]
  },
  {
   "cell_type": "code",
   "execution_count": 8,
   "id": "769cb453",
   "metadata": {
    "scrolled": true
   },
   "outputs": [
    {
     "name": "stdout",
     "output_type": "stream",
     "text": [
      " [1] 26040 22080 19490 22320 23120 23660 34064 25430 20470 21790 19860\n"
     ]
    },
    {
     "data": {
      "image/png": "[encoded data removed]",
      "text/plain": [
       "plot without title"
      ]
     },
     "metadata": {},
     "output_type": "display_data"
    }
   ],
   "source": [
    "bp = boxplot(my_data$GNPpC)\n",
    "print(bp$out)"
   ]
  },
  {
   "cell_type": "code",
   "execution_count": 9,
   "id": "cd0a9b2a",
   "metadata": {
    "scrolled": true
   },
   "outputs": [
    {
     "name": "stdout",
     "output_type": "stream",
     "text": [
      "numeric(0)\n"
     ]
    },
    {
     "data": {
      "image/png": "[encoded data removed]",
      "text/plain": [
       "Plot with title \"Birth_rate\""
      ]
     },
     "metadata": {},
     "output_type": "display_data"
    },
    {
     "name": "stdout",
     "output_type": "stream",
     "text": [
      "[1] 23.2 20.2 20.7 21.4 25.0 23.4 20.2\n"
     ]
    },
    {
     "data": {
      "image/png": "[encoded data removed]",
      "text/plain": [
       "Plot with title \"Death_rate\""
      ]
     },
     "metadata": {},
     "output_type": "display_data"
    },
    {
     "name": "stdout",
     "output_type": "stream",
     "text": [
      "numeric(0)\n"
     ]
    },
    {
     "data": {
      "image/png": "[encoded data removed]",
      "text/plain": [
       "Plot with title \"infant_death\""
      ]
     },
     "metadata": {},
     "output_type": "display_data"
    },
    {
     "name": "stdout",
     "output_type": "stream",
     "text": [
      "numeric(0)\n"
     ]
    },
    {
     "data": {
      "image/png": "[encoded data removed]",
      "text/plain": [
       "Plot with title \"Life_expecBirth_male\""
      ]
     },
     "metadata": {},
     "output_type": "display_data"
    },
    {
     "name": "stdout",
     "output_type": "stream",
     "text": [
      "numeric(0)\n"
     ]
    },
    {
     "data": {
      "image/png": "[encoded data removed]",
      "text/plain": [
       "Plot with title \"Life_expecBirth_female\""
      ]
     },
     "metadata": {},
     "output_type": "display_data"
    },
    {
     "name": "stdout",
     "output_type": "stream",
     "text": [
      " [1] 26040 22080 19490 22320 23120 23660 34064 25430 20470 21790 19860\n"
     ]
    },
    {
     "data": {
      "image/png": "[encoded data removed]",
      "text/plain": [
       "Plot with title \"GNPpC\""
      ]
     },
     "metadata": {},
     "output_type": "display_data"
    },
    {
     "name": "stdout",
     "output_type": "stream",
     "text": [
      "numeric(0)\n"
     ]
    },
    {
     "data": {
      "image/png": "[encoded data removed]",
      "text/plain": [
       "Plot with title \"Country_Group\""
      ]
     },
     "metadata": {},
     "output_type": "display_data"
    }
   ],
   "source": [
    "for(c in names(my_data)){\n",
    "    if (c != \"Country\"){\n",
    "        bp = boxplot(my_data[c], main=c)\n",
    "        print(bp$out)\n",
    "    }\n",
    "}"
   ]
  },
  {
   "cell_type": "code",
   "execution_count": 10,
   "id": "3f093197",
   "metadata": {
    "scrolled": false
   },
   "outputs": [
    {
     "name": "stdout",
     "output_type": "stream",
     "text": [
      "[1] \"Outliers de Birth_rate : 0\"\n",
      "[1] \"Outliers de Death_rate : 7\"\n",
      "[1] \"Outliers de infant_death : 0\"\n",
      "[1] \"Outliers de Life_expecBirth_male : 0\"\n",
      "[1] \"Outliers de Life_expecBirth_female : 0\"\n",
      "[1] \"Outliers de GNPpC : 11\"\n",
      "[1] \"Outliers de Country_Group : 0\"\n"
     ]
    },
    {
     "data": {
      "image/png": "[encoded data removed]",
      "text/plain": [
       "Plot with title \"Country_Group\""
      ]
     },
     "metadata": {},
     "output_type": "display_data"
    }
   ],
   "source": [
    "par(mfrow=c(2,4))\n",
    "for(c in names(my_data)){\n",
    "   if (c != \"Country\"){\n",
    "        bp = boxplot(my_data[c], main=c, outline=TRUE)\n",
    "        print(paste(\"Outliers de\", c, \":\", length(bp$out)))\n",
    "        #print(bp$out)\n",
    "       }\n",
    "}"
   ]
  },
  {
   "cell_type": "code",
   "execution_count": 11,
   "id": "2810834b",
   "metadata": {},
   "outputs": [
    {
     "data": {
      "text/html": [
       "<table>\n",
       "<thead><tr><th scope=col>Birth_rate</th><th scope=col>Death_rate</th><th scope=col>infant_death</th><th scope=col>Life_expecBirth_male</th><th scope=col>Life_expecBirth_female</th><th scope=col>GNPpC</th><th scope=col>Country_Group</th><th scope=col>Country</th></tr></thead>\n",
       "<tbody>\n",
       "\t<tr><td>24.7             </td><td> 5.7             </td><td>30.8             </td><td>69.6             </td><td>75.5             </td><td> 600             </td><td>1                </td><td>Albania          </td></tr>\n",
       "\t<tr><td>12.5             </td><td>11.9             </td><td>14.4             </td><td>68.3             </td><td>74.7             </td><td>2250             </td><td>1                </td><td>Bulgaria         </td></tr>\n",
       "\t<tr><td>13.4             </td><td>11.7             </td><td>11.3             </td><td>71.8             </td><td>77.7             </td><td>2980             </td><td>1                </td><td>Czechoslovakia   </td></tr>\n",
       "\t<tr><td>12.0             </td><td>12.4             </td><td> 7.6             </td><td>69.8             </td><td>75.9             </td><td>  NA             </td><td>1                </td><td>Former_E._Germany</td></tr>\n",
       "\t<tr><td>11.6             </td><td>13.4             </td><td>14.8             </td><td>65.4             </td><td>73.8             </td><td>2780             </td><td>1                </td><td>Hungary          </td></tr>\n",
       "\t<tr><td>14.3             </td><td>10.2             </td><td>16.0             </td><td>67.2             </td><td>75.7             </td><td>1690             </td><td>1                </td><td>Poland           </td></tr>\n",
       "\t<tr><td>13.6             </td><td>10.7             </td><td>26.9             </td><td>66.5             </td><td>72.4             </td><td>1640             </td><td>1                </td><td>Romania          </td></tr>\n",
       "\t<tr><td>14.0             </td><td> 9.0             </td><td>20.2             </td><td>68.6             </td><td>74.5             </td><td>  NA             </td><td>1                </td><td>Yugoslavia       </td></tr>\n",
       "\t<tr><td>17.7             </td><td>10.0             </td><td>23.0             </td><td>64.6             </td><td>74.0             </td><td>2242             </td><td>1                </td><td>USSR             </td></tr>\n",
       "\t<tr><td>15.2             </td><td> 9.5             </td><td>13.1             </td><td>66.4             </td><td>75.9             </td><td>1880             </td><td>1                </td><td>Byelorussian_SSR </td></tr>\n",
       "\t<tr><td>13.4             </td><td>11.6             </td><td>13.0             </td><td>66.4             </td><td>74.8             </td><td>1320             </td><td>1                </td><td>Ukrainian_SSR    </td></tr>\n",
       "</tbody>\n",
       "</table>\n"
      ],
      "text/latex": [
       "\\begin{tabular}{r|llllllll}\n",
       " Birth\\_rate & Death\\_rate & infant\\_death & Life\\_expecBirth\\_male & Life\\_expecBirth\\_female & GNPpC & Country\\_Group & Country\\\\\n",
       "\\hline\n",
       "\t 24.7              &  5.7              & 30.8              & 69.6              & 75.5              &  600              & 1                 & Albania          \\\\\n",
       "\t 12.5              & 11.9              & 14.4              & 68.3              & 74.7              & 2250              & 1                 & Bulgaria         \\\\\n",
       "\t 13.4              & 11.7              & 11.3              & 71.8              & 77.7              & 2980              & 1                 & Czechoslovakia   \\\\\n",
       "\t 12.0                  & 12.4                  &  7.6                  & 69.8                  & 75.9                  &   NA                  & 1                     & Former\\_E.\\_Germany\\\\\n",
       "\t 11.6              & 13.4              & 14.8              & 65.4              & 73.8              & 2780              & 1                 & Hungary          \\\\\n",
       "\t 14.3              & 10.2              & 16.0              & 67.2              & 75.7              & 1690              & 1                 & Poland           \\\\\n",
       "\t 13.6              & 10.7              & 26.9              & 66.5              & 72.4              & 1640              & 1                 & Romania          \\\\\n",
       "\t 14.0              &  9.0              & 20.2              & 68.6              & 74.5              &   NA              & 1                 & Yugoslavia       \\\\\n",
       "\t 17.7              & 10.0              & 23.0              & 64.6              & 74.0              & 2242              & 1                 & USSR             \\\\\n",
       "\t 15.2                &  9.5                & 13.1                & 66.4                & 75.9                & 1880                & 1                   & Byelorussian\\_SSR \\\\\n",
       "\t 13.4                & 11.6                & 13.0                & 66.4                & 74.8                & 1320                & 1                   & Ukrainian\\_SSR    \\\\\n",
       "\\end{tabular}\n"
      ],
      "text/markdown": [
       "\n",
       "| Birth_rate | Death_rate | infant_death | Life_expecBirth_male | Life_expecBirth_female | GNPpC | Country_Group | Country |\n",
       "|---|---|---|---|---|---|---|---|\n",
       "| 24.7              |  5.7              | 30.8              | 69.6              | 75.5              |  600              | 1                 | Albania           |\n",
       "| 12.5              | 11.9              | 14.4              | 68.3              | 74.7              | 2250              | 1                 | Bulgaria          |\n",
       "| 13.4              | 11.7              | 11.3              | 71.8              | 77.7              | 2980              | 1                 | Czechoslovakia    |\n",
       "| 12.0              | 12.4              |  7.6              | 69.8              | 75.9              |   NA              | 1                 | Former_E._Germany |\n",
       "| 11.6              | 13.4              | 14.8              | 65.4              | 73.8              | 2780              | 1                 | Hungary           |\n",
       "| 14.3              | 10.2              | 16.0              | 67.2              | 75.7              | 1690              | 1                 | Poland            |\n",
       "| 13.6              | 10.7              | 26.9              | 66.5              | 72.4              | 1640              | 1                 | Romania           |\n",
       "| 14.0              |  9.0              | 20.2              | 68.6              | 74.5              |   NA              | 1                 | Yugoslavia        |\n",
       "| 17.7              | 10.0              | 23.0              | 64.6              | 74.0              | 2242              | 1                 | USSR              |\n",
       "| 15.2              |  9.5              | 13.1              | 66.4              | 75.9              | 1880              | 1                 | Byelorussian_SSR  |\n",
       "| 13.4              | 11.6              | 13.0              | 66.4              | 74.8              | 1320              | 1                 | Ukrainian_SSR     |\n",
       "\n"
      ],
      "text/plain": [
       "   Birth_rate Death_rate infant_death Life_expecBirth_male\n",
       "1  24.7        5.7       30.8         69.6                \n",
       "2  12.5       11.9       14.4         68.3                \n",
       "3  13.4       11.7       11.3         71.8                \n",
       "4  12.0       12.4        7.6         69.8                \n",
       "5  11.6       13.4       14.8         65.4                \n",
       "6  14.3       10.2       16.0         67.2                \n",
       "7  13.6       10.7       26.9         66.5                \n",
       "8  14.0        9.0       20.2         68.6                \n",
       "9  17.7       10.0       23.0         64.6                \n",
       "10 15.2        9.5       13.1         66.4                \n",
       "11 13.4       11.6       13.0         66.4                \n",
       "   Life_expecBirth_female GNPpC Country_Group Country          \n",
       "1  75.5                    600  1             Albania          \n",
       "2  74.7                   2250  1             Bulgaria         \n",
       "3  77.7                   2980  1             Czechoslovakia   \n",
       "4  75.9                     NA  1             Former_E._Germany\n",
       "5  73.8                   2780  1             Hungary          \n",
       "6  75.7                   1690  1             Poland           \n",
       "7  72.4                   1640  1             Romania          \n",
       "8  74.5                     NA  1             Yugoslavia       \n",
       "9  74.0                   2242  1             USSR             \n",
       "10 75.9                   1880  1             Byelorussian_SSR \n",
       "11 74.8                   1320  1             Ukrainian_SSR    "
      ]
     },
     "metadata": {},
     "output_type": "display_data"
    },
    {
     "data": {
      "text/html": [
       "<table>\n",
       "<thead><tr><th></th><th scope=col>Birth_rate</th><th scope=col>Death_rate</th><th scope=col>infant_death</th><th scope=col>Life_expecBirth_male</th><th scope=col>Life_expecBirth_female</th><th scope=col>GNPpC</th><th scope=col>Country_Group</th><th scope=col>Country</th></tr></thead>\n",
       "<tbody>\n",
       "\t<tr><th scope=row>12</th><td>20.7     </td><td> 8.4     </td><td> 25.7    </td><td>65.5     </td><td>72.7     </td><td>2370     </td><td>2        </td><td>Argentina</td></tr>\n",
       "\t<tr><th scope=row>13</th><td>46.6     </td><td>18.0     </td><td>111.0    </td><td>51.0     </td><td>55.4     </td><td> 630     </td><td>2        </td><td>Bolivia  </td></tr>\n",
       "\t<tr><th scope=row>14</th><td>28.6     </td><td> 7.9     </td><td> 63.0    </td><td>62.3     </td><td>67.6     </td><td>2680     </td><td>2        </td><td>Brazil   </td></tr>\n",
       "\t<tr><th scope=row>15</th><td>23.4     </td><td> 5.8     </td><td> 17.1    </td><td>68.1     </td><td>75.1     </td><td>1940     </td><td>2        </td><td>Chile    </td></tr>\n",
       "\t<tr><th scope=row>16</th><td>27.4     </td><td> 6.1     </td><td> 40.0    </td><td>63.4     </td><td>69.2     </td><td>1260     </td><td>2        </td><td>Columbia </td></tr>\n",
       "\t<tr><th scope=row>17</th><td>32.9     </td><td> 7.4     </td><td> 63.0    </td><td>63.4     </td><td>67.6     </td><td> 980     </td><td>2        </td><td>Ecuador  </td></tr>\n",
       "\t<tr><th scope=row>18</th><td>28.3     </td><td> 7.3     </td><td> 56.0    </td><td>60.4     </td><td>66.1     </td><td> 330     </td><td>2        </td><td>Guyana   </td></tr>\n",
       "\t<tr><th scope=row>19</th><td>34.8     </td><td> 6.6     </td><td> 42.0    </td><td>64.4     </td><td>68.5     </td><td>1110     </td><td>2        </td><td>Paraguay </td></tr>\n",
       "\t<tr><th scope=row>20</th><td>32.9     </td><td> 8.3     </td><td>109.9    </td><td>56.8     </td><td>66.5     </td><td>1160     </td><td>2        </td><td>Peru     </td></tr>\n",
       "\t<tr><th scope=row>21</th><td>18.0     </td><td> 9.6     </td><td> 21.9    </td><td>68.4     </td><td>74.9     </td><td>2560     </td><td>2        </td><td>Uruguay  </td></tr>\n",
       "\t<tr><th scope=row>22</th><td>27.5     </td><td> 4.4     </td><td> 23.3    </td><td>66.7     </td><td>72.8     </td><td>2560     </td><td>2        </td><td>Venezuela</td></tr>\n",
       "\t<tr><th scope=row>23</th><td>29.0     </td><td>23.2     </td><td> 43.0    </td><td>62.1     </td><td>66.0     </td><td>2490     </td><td>2        </td><td>Mexico   </td></tr>\n",
       "</tbody>\n",
       "</table>\n"
      ],
      "text/latex": [
       "\\begin{tabular}{r|llllllll}\n",
       "  & Birth\\_rate & Death\\_rate & infant\\_death & Life\\_expecBirth\\_male & Life\\_expecBirth\\_female & GNPpC & Country\\_Group & Country\\\\\n",
       "\\hline\n",
       "\t12 & 20.7      &  8.4      &  25.7     & 65.5      & 72.7      & 2370      & 2         & Argentina\\\\\n",
       "\t13 & 46.6      & 18.0      & 111.0     & 51.0      & 55.4      &  630      & 2         & Bolivia  \\\\\n",
       "\t14 & 28.6      &  7.9      &  63.0     & 62.3      & 67.6      & 2680      & 2         & Brazil   \\\\\n",
       "\t15 & 23.4      &  5.8      &  17.1     & 68.1      & 75.1      & 1940      & 2         & Chile    \\\\\n",
       "\t16 & 27.4      &  6.1      &  40.0     & 63.4      & 69.2      & 1260      & 2         & Columbia \\\\\n",
       "\t17 & 32.9      &  7.4      &  63.0     & 63.4      & 67.6      &  980      & 2         & Ecuador  \\\\\n",
       "\t18 & 28.3      &  7.3      &  56.0     & 60.4      & 66.1      &  330      & 2         & Guyana   \\\\\n",
       "\t19 & 34.8      &  6.6      &  42.0     & 64.4      & 68.5      & 1110      & 2         & Paraguay \\\\\n",
       "\t20 & 32.9      &  8.3      & 109.9     & 56.8      & 66.5      & 1160      & 2         & Peru     \\\\\n",
       "\t21 & 18.0      &  9.6      &  21.9     & 68.4      & 74.9      & 2560      & 2         & Uruguay  \\\\\n",
       "\t22 & 27.5      &  4.4      &  23.3     & 66.7      & 72.8      & 2560      & 2         & Venezuela\\\\\n",
       "\t23 & 29.0      & 23.2      &  43.0     & 62.1      & 66.0      & 2490      & 2         & Mexico   \\\\\n",
       "\\end{tabular}\n"
      ],
      "text/markdown": [
       "\n",
       "| <!--/--> | Birth_rate | Death_rate | infant_death | Life_expecBirth_male | Life_expecBirth_female | GNPpC | Country_Group | Country |\n",
       "|---|---|---|---|---|---|---|---|---|\n",
       "| 12 | 20.7      |  8.4      |  25.7     | 65.5      | 72.7      | 2370      | 2         | Argentina |\n",
       "| 13 | 46.6      | 18.0      | 111.0     | 51.0      | 55.4      |  630      | 2         | Bolivia   |\n",
       "| 14 | 28.6      |  7.9      |  63.0     | 62.3      | 67.6      | 2680      | 2         | Brazil    |\n",
       "| 15 | 23.4      |  5.8      |  17.1     | 68.1      | 75.1      | 1940      | 2         | Chile     |\n",
       "| 16 | 27.4      |  6.1      |  40.0     | 63.4      | 69.2      | 1260      | 2         | Columbia  |\n",
       "| 17 | 32.9      |  7.4      |  63.0     | 63.4      | 67.6      |  980      | 2         | Ecuador   |\n",
       "| 18 | 28.3      |  7.3      |  56.0     | 60.4      | 66.1      |  330      | 2         | Guyana    |\n",
       "| 19 | 34.8      |  6.6      |  42.0     | 64.4      | 68.5      | 1110      | 2         | Paraguay  |\n",
       "| 20 | 32.9      |  8.3      | 109.9     | 56.8      | 66.5      | 1160      | 2         | Peru      |\n",
       "| 21 | 18.0      |  9.6      |  21.9     | 68.4      | 74.9      | 2560      | 2         | Uruguay   |\n",
       "| 22 | 27.5      |  4.4      |  23.3     | 66.7      | 72.8      | 2560      | 2         | Venezuela |\n",
       "| 23 | 29.0      | 23.2      |  43.0     | 62.1      | 66.0      | 2490      | 2         | Mexico    |\n",
       "\n"
      ],
      "text/plain": [
       "   Birth_rate Death_rate infant_death Life_expecBirth_male\n",
       "12 20.7        8.4        25.7        65.5                \n",
       "13 46.6       18.0       111.0        51.0                \n",
       "14 28.6        7.9        63.0        62.3                \n",
       "15 23.4        5.8        17.1        68.1                \n",
       "16 27.4        6.1        40.0        63.4                \n",
       "17 32.9        7.4        63.0        63.4                \n",
       "18 28.3        7.3        56.0        60.4                \n",
       "19 34.8        6.6        42.0        64.4                \n",
       "20 32.9        8.3       109.9        56.8                \n",
       "21 18.0        9.6        21.9        68.4                \n",
       "22 27.5        4.4        23.3        66.7                \n",
       "23 29.0       23.2        43.0        62.1                \n",
       "   Life_expecBirth_female GNPpC Country_Group Country  \n",
       "12 72.7                   2370  2             Argentina\n",
       "13 55.4                    630  2             Bolivia  \n",
       "14 67.6                   2680  2             Brazil   \n",
       "15 75.1                   1940  2             Chile    \n",
       "16 69.2                   1260  2             Columbia \n",
       "17 67.6                    980  2             Ecuador  \n",
       "18 66.1                    330  2             Guyana   \n",
       "19 68.5                   1110  2             Paraguay \n",
       "20 66.5                   1160  2             Peru     \n",
       "21 74.9                   2560  2             Uruguay  \n",
       "22 72.8                   2560  2             Venezuela\n",
       "23 66.0                   2490  2             Mexico   "
      ]
     },
     "metadata": {},
     "output_type": "display_data"
    },
    {
     "data": {
      "text/html": [
       "<table>\n",
       "<thead><tr><th></th><th scope=col>Birth_rate</th><th scope=col>Death_rate</th><th scope=col>infant_death</th><th scope=col>Life_expecBirth_male</th><th scope=col>Life_expecBirth_female</th><th scope=col>GNPpC</th><th scope=col>Country_Group</th><th scope=col>Country</th></tr></thead>\n",
       "<tbody>\n",
       "\t<tr><th scope=row>24</th><td>12.0       </td><td>10.6       </td><td> 7.9       </td><td>70.0       </td><td>76.8       </td><td>15540      </td><td>3          </td><td>Belgium    </td></tr>\n",
       "\t<tr><th scope=row>25</th><td>13.2       </td><td>10.1       </td><td> 5.8       </td><td>70.7       </td><td>78.7       </td><td>26040      </td><td>3          </td><td>Finland    </td></tr>\n",
       "\t<tr><th scope=row>26</th><td>12.4       </td><td>11.9       </td><td> 7.5       </td><td>71.8       </td><td>77.7       </td><td>22080      </td><td>3          </td><td>Denmark    </td></tr>\n",
       "\t<tr><th scope=row>27</th><td>13.6       </td><td> 9.4       </td><td> 7.4       </td><td>72.3       </td><td>80.5       </td><td>19490      </td><td>3          </td><td>France     </td></tr>\n",
       "\t<tr><th scope=row>28</th><td>11.4       </td><td>11.2       </td><td> 7.4       </td><td>71.8       </td><td>78.4       </td><td>22320      </td><td>3          </td><td>Germany    </td></tr>\n",
       "\t<tr><th scope=row>29</th><td>10.1       </td><td> 9.2       </td><td>11.0       </td><td>65.4       </td><td>74.0       </td><td> 5990      </td><td>3          </td><td>Greece     </td></tr>\n",
       "\t<tr><th scope=row>30</th><td>15.1       </td><td> 9.1       </td><td> 7.5       </td><td>71.0       </td><td>76.7       </td><td> 9550      </td><td>3          </td><td>Ireland    </td></tr>\n",
       "\t<tr><th scope=row>31</th><td> 9.7       </td><td> 9.1       </td><td> 8.8       </td><td>72.0       </td><td>78.6       </td><td>16830      </td><td>3          </td><td>Italy      </td></tr>\n",
       "\t<tr><th scope=row>32</th><td>13.2       </td><td> 8.6       </td><td> 7.1       </td><td>73.3       </td><td>79.9       </td><td>17320      </td><td>3          </td><td>Netherlands</td></tr>\n",
       "\t<tr><th scope=row>33</th><td>14.3       </td><td>10.7       </td><td> 7.8       </td><td>67.2       </td><td>75.7       </td><td>23120      </td><td>3          </td><td>Norway     </td></tr>\n",
       "\t<tr><th scope=row>34</th><td>11.9       </td><td> 9.5       </td><td>13.1       </td><td>66.5       </td><td>72.4       </td><td> 7600      </td><td>3          </td><td>Portugal   </td></tr>\n",
       "\t<tr><th scope=row>35</th><td>10.7       </td><td> 8.2       </td><td> 8.1       </td><td>72.5       </td><td>78.6       </td><td>11020      </td><td>3          </td><td>Spain      </td></tr>\n",
       "\t<tr><th scope=row>36</th><td>14.5       </td><td>11.1       </td><td> 5.6       </td><td>74.2       </td><td>80.0       </td><td>23660      </td><td>3          </td><td>Sweden     </td></tr>\n",
       "\t<tr><th scope=row>37</th><td>12.5       </td><td> 9.5       </td><td> 7.1       </td><td>73.9       </td><td>80.0       </td><td>34064      </td><td>3          </td><td>Switzerland</td></tr>\n",
       "\t<tr><th scope=row>38</th><td>13.6       </td><td>11.5       </td><td> 8.4       </td><td>72.2       </td><td>77.9       </td><td>16100      </td><td>3          </td><td>U.K.       </td></tr>\n",
       "\t<tr><th scope=row>39</th><td>14.9       </td><td> 7.4       </td><td> 8.0       </td><td>73.3       </td><td>79.6       </td><td>17000      </td><td>3          </td><td>Austria    </td></tr>\n",
       "\t<tr><th scope=row>40</th><td> 9.9       </td><td> 6.7       </td><td> 4.5       </td><td>75.9       </td><td>81.8       </td><td>25430      </td><td>3          </td><td>Japan      </td></tr>\n",
       "\t<tr><th scope=row>41</th><td>14.5       </td><td> 7.3       </td><td> 7.2       </td><td>73.0       </td><td>79.8       </td><td>20470      </td><td>3          </td><td>Canada     </td></tr>\n",
       "\t<tr><th scope=row>42</th><td>16.7       </td><td> 8.1       </td><td> 9.1       </td><td>71.5       </td><td>78.3       </td><td>21790      </td><td>3          </td><td>U.S.A.     </td></tr>\n",
       "</tbody>\n",
       "</table>\n"
      ],
      "text/latex": [
       "\\begin{tabular}{r|llllllll}\n",
       "  & Birth\\_rate & Death\\_rate & infant\\_death & Life\\_expecBirth\\_male & Life\\_expecBirth\\_female & GNPpC & Country\\_Group & Country\\\\\n",
       "\\hline\n",
       "\t24 & 12.0        & 10.6        &  7.9        & 70.0        & 76.8        & 15540       & 3           & Belgium    \\\\\n",
       "\t25 & 13.2        & 10.1        &  5.8        & 70.7        & 78.7        & 26040       & 3           & Finland    \\\\\n",
       "\t26 & 12.4        & 11.9        &  7.5        & 71.8        & 77.7        & 22080       & 3           & Denmark    \\\\\n",
       "\t27 & 13.6        &  9.4        &  7.4        & 72.3        & 80.5        & 19490       & 3           & France     \\\\\n",
       "\t28 & 11.4        & 11.2        &  7.4        & 71.8        & 78.4        & 22320       & 3           & Germany    \\\\\n",
       "\t29 & 10.1        &  9.2        & 11.0        & 65.4        & 74.0        &  5990       & 3           & Greece     \\\\\n",
       "\t30 & 15.1        &  9.1        &  7.5        & 71.0        & 76.7        &  9550       & 3           & Ireland    \\\\\n",
       "\t31 &  9.7        &  9.1        &  8.8        & 72.0        & 78.6        & 16830       & 3           & Italy      \\\\\n",
       "\t32 & 13.2        &  8.6        &  7.1        & 73.3        & 79.9        & 17320       & 3           & Netherlands\\\\\n",
       "\t33 & 14.3        & 10.7        &  7.8        & 67.2        & 75.7        & 23120       & 3           & Norway     \\\\\n",
       "\t34 & 11.9        &  9.5        & 13.1        & 66.5        & 72.4        &  7600       & 3           & Portugal   \\\\\n",
       "\t35 & 10.7        &  8.2        &  8.1        & 72.5        & 78.6        & 11020       & 3           & Spain      \\\\\n",
       "\t36 & 14.5        & 11.1        &  5.6        & 74.2        & 80.0        & 23660       & 3           & Sweden     \\\\\n",
       "\t37 & 12.5        &  9.5        &  7.1        & 73.9        & 80.0        & 34064       & 3           & Switzerland\\\\\n",
       "\t38 & 13.6        & 11.5        &  8.4        & 72.2        & 77.9        & 16100       & 3           & U.K.       \\\\\n",
       "\t39 & 14.9        &  7.4        &  8.0        & 73.3        & 79.6        & 17000       & 3           & Austria    \\\\\n",
       "\t40 &  9.9        &  6.7        &  4.5        & 75.9        & 81.8        & 25430       & 3           & Japan      \\\\\n",
       "\t41 & 14.5        &  7.3        &  7.2        & 73.0        & 79.8        & 20470       & 3           & Canada     \\\\\n",
       "\t42 & 16.7        &  8.1        &  9.1        & 71.5        & 78.3        & 21790       & 3           & U.S.A.     \\\\\n",
       "\\end{tabular}\n"
      ],
      "text/markdown": [
       "\n",
       "| <!--/--> | Birth_rate | Death_rate | infant_death | Life_expecBirth_male | Life_expecBirth_female | GNPpC | Country_Group | Country |\n",
       "|---|---|---|---|---|---|---|---|---|\n",
       "| 24 | 12.0        | 10.6        |  7.9        | 70.0        | 76.8        | 15540       | 3           | Belgium     |\n",
       "| 25 | 13.2        | 10.1        |  5.8        | 70.7        | 78.7        | 26040       | 3           | Finland     |\n",
       "| 26 | 12.4        | 11.9        |  7.5        | 71.8        | 77.7        | 22080       | 3           | Denmark     |\n",
       "| 27 | 13.6        |  9.4        |  7.4        | 72.3        | 80.5        | 19490       | 3           | France      |\n",
       "| 28 | 11.4        | 11.2        |  7.4        | 71.8        | 78.4        | 22320       | 3           | Germany     |\n",
       "| 29 | 10.1        |  9.2        | 11.0        | 65.4        | 74.0        |  5990       | 3           | Greece      |\n",
       "| 30 | 15.1        |  9.1        |  7.5        | 71.0        | 76.7        |  9550       | 3           | Ireland     |\n",
       "| 31 |  9.7        |  9.1        |  8.8        | 72.0        | 78.6        | 16830       | 3           | Italy       |\n",
       "| 32 | 13.2        |  8.6        |  7.1        | 73.3        | 79.9        | 17320       | 3           | Netherlands |\n",
       "| 33 | 14.3        | 10.7        |  7.8        | 67.2        | 75.7        | 23120       | 3           | Norway      |\n",
       "| 34 | 11.9        |  9.5        | 13.1        | 66.5        | 72.4        |  7600       | 3           | Portugal    |\n",
       "| 35 | 10.7        |  8.2        |  8.1        | 72.5        | 78.6        | 11020       | 3           | Spain       |\n",
       "| 36 | 14.5        | 11.1        |  5.6        | 74.2        | 80.0        | 23660       | 3           | Sweden      |\n",
       "| 37 | 12.5        |  9.5        |  7.1        | 73.9        | 80.0        | 34064       | 3           | Switzerland |\n",
       "| 38 | 13.6        | 11.5        |  8.4        | 72.2        | 77.9        | 16100       | 3           | U.K.        |\n",
       "| 39 | 14.9        |  7.4        |  8.0        | 73.3        | 79.6        | 17000       | 3           | Austria     |\n",
       "| 40 |  9.9        |  6.7        |  4.5        | 75.9        | 81.8        | 25430       | 3           | Japan       |\n",
       "| 41 | 14.5        |  7.3        |  7.2        | 73.0        | 79.8        | 20470       | 3           | Canada      |\n",
       "| 42 | 16.7        |  8.1        |  9.1        | 71.5        | 78.3        | 21790       | 3           | U.S.A.      |\n",
       "\n"
      ],
      "text/plain": [
       "   Birth_rate Death_rate infant_death Life_expecBirth_male\n",
       "24 12.0       10.6        7.9         70.0                \n",
       "25 13.2       10.1        5.8         70.7                \n",
       "26 12.4       11.9        7.5         71.8                \n",
       "27 13.6        9.4        7.4         72.3                \n",
       "28 11.4       11.2        7.4         71.8                \n",
       "29 10.1        9.2       11.0         65.4                \n",
       "30 15.1        9.1        7.5         71.0                \n",
       "31  9.7        9.1        8.8         72.0                \n",
       "32 13.2        8.6        7.1         73.3                \n",
       "33 14.3       10.7        7.8         67.2                \n",
       "34 11.9        9.5       13.1         66.5                \n",
       "35 10.7        8.2        8.1         72.5                \n",
       "36 14.5       11.1        5.6         74.2                \n",
       "37 12.5        9.5        7.1         73.9                \n",
       "38 13.6       11.5        8.4         72.2                \n",
       "39 14.9        7.4        8.0         73.3                \n",
       "40  9.9        6.7        4.5         75.9                \n",
       "41 14.5        7.3        7.2         73.0                \n",
       "42 16.7        8.1        9.1         71.5                \n",
       "   Life_expecBirth_female GNPpC Country_Group Country    \n",
       "24 76.8                   15540 3             Belgium    \n",
       "25 78.7                   26040 3             Finland    \n",
       "26 77.7                   22080 3             Denmark    \n",
       "27 80.5                   19490 3             France     \n",
       "28 78.4                   22320 3             Germany    \n",
       "29 74.0                    5990 3             Greece     \n",
       "30 76.7                    9550 3             Ireland    \n",
       "31 78.6                   16830 3             Italy      \n",
       "32 79.9                   17320 3             Netherlands\n",
       "33 75.7                   23120 3             Norway     \n",
       "34 72.4                    7600 3             Portugal   \n",
       "35 78.6                   11020 3             Spain      \n",
       "36 80.0                   23660 3             Sweden     \n",
       "37 80.0                   34064 3             Switzerland\n",
       "38 77.9                   16100 3             U.K.       \n",
       "39 79.6                   17000 3             Austria    \n",
       "40 81.8                   25430 3             Japan      \n",
       "41 79.8                   20470 3             Canada     \n",
       "42 78.3                   21790 3             U.S.A.     "
      ]
     },
     "metadata": {},
     "output_type": "display_data"
    },
    {
     "data": {
      "text/html": [
       "<table>\n",
       "<thead><tr><th></th><th scope=col>Birth_rate</th><th scope=col>Death_rate</th><th scope=col>infant_death</th><th scope=col>Life_expecBirth_male</th><th scope=col>Life_expecBirth_female</th><th scope=col>GNPpC</th><th scope=col>Country_Group</th><th scope=col>Country</th></tr></thead>\n",
       "<tbody>\n",
       "\t<tr><th scope=row>44</th><td>28.4                </td><td> 3.8                </td><td> 16.0               </td><td>66.8                </td><td>69.4                </td><td> 6340               </td><td>4                   </td><td>Bahrain             </td></tr>\n",
       "\t<tr><th scope=row>45</th><td>42.5                </td><td>11.5                </td><td>108.1               </td><td>55.8                </td><td>55.0                </td><td> 2490               </td><td>4                   </td><td>Iran                </td></tr>\n",
       "\t<tr><th scope=row>46</th><td>42.6                </td><td> 7.8                </td><td> 69.0               </td><td>63.0                </td><td>64.8                </td><td> 3020               </td><td>4                   </td><td>Iraq                </td></tr>\n",
       "\t<tr><th scope=row>47</th><td>22.3                </td><td> 6.3                </td><td>  9.7               </td><td>73.9                </td><td>77.4                </td><td>10920               </td><td>4                   </td><td>Israel              </td></tr>\n",
       "\t<tr><th scope=row>48</th><td>38.9                </td><td> 6.4                </td><td> 44.0               </td><td>64.2                </td><td>67.8                </td><td> 1240               </td><td>4                   </td><td>Jordan              </td></tr>\n",
       "\t<tr><th scope=row>49</th><td>26.8                </td><td> 2.2                </td><td> 15.6               </td><td>71.2                </td><td>75.4                </td><td>16150               </td><td>4                   </td><td>Kuwait              </td></tr>\n",
       "\t<tr><th scope=row>50</th><td>31.7                </td><td> 8.7                </td><td> 48.0               </td><td>63.1                </td><td>67.0                </td><td>   NA               </td><td>4                   </td><td>Lebanon             </td></tr>\n",
       "\t<tr><th scope=row>51</th><td>45.6                </td><td> 7.8                </td><td> 40.0               </td><td>62.2                </td><td>65.8                </td><td> 5220               </td><td>4                   </td><td>Oman                </td></tr>\n",
       "\t<tr><th scope=row>52</th><td>42.1                </td><td> 7.6                </td><td> 71.0               </td><td>61.7                </td><td>65.2                </td><td> 7050               </td><td>4                   </td><td>Saudi_Arabia        </td></tr>\n",
       "\t<tr><th scope=row>53</th><td>29.2                </td><td> 8.4                </td><td> 76.0               </td><td>62.5                </td><td>65.8                </td><td> 1630               </td><td>4                   </td><td>Turkey              </td></tr>\n",
       "\t<tr><th scope=row>54</th><td>22.8                </td><td> 3.8                </td><td> 26.0               </td><td>68.6                </td><td>72.9                </td><td>19860               </td><td>4                   </td><td>United_Arab_Emirates</td></tr>\n",
       "</tbody>\n",
       "</table>\n"
      ],
      "text/latex": [
       "\\begin{tabular}{r|llllllll}\n",
       "  & Birth\\_rate & Death\\_rate & infant\\_death & Life\\_expecBirth\\_male & Life\\_expecBirth\\_female & GNPpC & Country\\_Group & Country\\\\\n",
       "\\hline\n",
       "\t44 & 28.4                 &  3.8                 &  16.0                & 66.8                 & 69.4                 &  6340                & 4                    & Bahrain             \\\\\n",
       "\t45 & 42.5                 & 11.5                 & 108.1                & 55.8                 & 55.0                 &  2490                & 4                    & Iran                \\\\\n",
       "\t46 & 42.6                 &  7.8                 &  69.0                & 63.0                 & 64.8                 &  3020                & 4                    & Iraq                \\\\\n",
       "\t47 & 22.3                 &  6.3                 &   9.7                & 73.9                 & 77.4                 & 10920                & 4                    & Israel              \\\\\n",
       "\t48 & 38.9                 &  6.4                 &  44.0                & 64.2                 & 67.8                 &  1240                & 4                    & Jordan              \\\\\n",
       "\t49 & 26.8                 &  2.2                 &  15.6                & 71.2                 & 75.4                 & 16150                & 4                    & Kuwait              \\\\\n",
       "\t50 & 31.7                 &  8.7                 &  48.0                & 63.1                 & 67.0                 &    NA                & 4                    & Lebanon             \\\\\n",
       "\t51 & 45.6                 &  7.8                 &  40.0                & 62.2                 & 65.8                 &  5220                & 4                    & Oman                \\\\\n",
       "\t52 & 42.1                   &  7.6                   &  71.0                  & 61.7                   & 65.2                   &  7050                  & 4                      & Saudi\\_Arabia        \\\\\n",
       "\t53 & 29.2                 &  8.4                 &  76.0                & 62.5                 & 65.8                 &  1630                & 4                    & Turkey              \\\\\n",
       "\t54 & 22.8                     &  3.8                     &  26.0                    & 68.6                     & 72.9                     & 19860                    & 4                        & United\\_Arab\\_Emirates\\\\\n",
       "\\end{tabular}\n"
      ],
      "text/markdown": [
       "\n",
       "| <!--/--> | Birth_rate | Death_rate | infant_death | Life_expecBirth_male | Life_expecBirth_female | GNPpC | Country_Group | Country |\n",
       "|---|---|---|---|---|---|---|---|---|\n",
       "| 44 | 28.4                 |  3.8                 |  16.0                | 66.8                 | 69.4                 |  6340                | 4                    | Bahrain              |\n",
       "| 45 | 42.5                 | 11.5                 | 108.1                | 55.8                 | 55.0                 |  2490                | 4                    | Iran                 |\n",
       "| 46 | 42.6                 |  7.8                 |  69.0                | 63.0                 | 64.8                 |  3020                | 4                    | Iraq                 |\n",
       "| 47 | 22.3                 |  6.3                 |   9.7                | 73.9                 | 77.4                 | 10920                | 4                    | Israel               |\n",
       "| 48 | 38.9                 |  6.4                 |  44.0                | 64.2                 | 67.8                 |  1240                | 4                    | Jordan               |\n",
       "| 49 | 26.8                 |  2.2                 |  15.6                | 71.2                 | 75.4                 | 16150                | 4                    | Kuwait               |\n",
       "| 50 | 31.7                 |  8.7                 |  48.0                | 63.1                 | 67.0                 |    NA                | 4                    | Lebanon              |\n",
       "| 51 | 45.6                 |  7.8                 |  40.0                | 62.2                 | 65.8                 |  5220                | 4                    | Oman                 |\n",
       "| 52 | 42.1                 |  7.6                 |  71.0                | 61.7                 | 65.2                 |  7050                | 4                    | Saudi_Arabia         |\n",
       "| 53 | 29.2                 |  8.4                 |  76.0                | 62.5                 | 65.8                 |  1630                | 4                    | Turkey               |\n",
       "| 54 | 22.8                 |  3.8                 |  26.0                | 68.6                 | 72.9                 | 19860                | 4                    | United_Arab_Emirates |\n",
       "\n"
      ],
      "text/plain": [
       "   Birth_rate Death_rate infant_death Life_expecBirth_male\n",
       "44 28.4        3.8        16.0        66.8                \n",
       "45 42.5       11.5       108.1        55.8                \n",
       "46 42.6        7.8        69.0        63.0                \n",
       "47 22.3        6.3         9.7        73.9                \n",
       "48 38.9        6.4        44.0        64.2                \n",
       "49 26.8        2.2        15.6        71.2                \n",
       "50 31.7        8.7        48.0        63.1                \n",
       "51 45.6        7.8        40.0        62.2                \n",
       "52 42.1        7.6        71.0        61.7                \n",
       "53 29.2        8.4        76.0        62.5                \n",
       "54 22.8        3.8        26.0        68.6                \n",
       "   Life_expecBirth_female GNPpC Country_Group Country             \n",
       "44 69.4                    6340 4             Bahrain             \n",
       "45 55.0                    2490 4             Iran                \n",
       "46 64.8                    3020 4             Iraq                \n",
       "47 77.4                   10920 4             Israel              \n",
       "48 67.8                    1240 4             Jordan              \n",
       "49 75.4                   16150 4             Kuwait              \n",
       "50 67.0                      NA 4             Lebanon             \n",
       "51 65.8                    5220 4             Oman                \n",
       "52 65.2                    7050 4             Saudi_Arabia        \n",
       "53 65.8                    1630 4             Turkey              \n",
       "54 72.9                   19860 4             United_Arab_Emirates"
      ]
     },
     "metadata": {},
     "output_type": "display_data"
    },
    {
     "data": {
      "text/html": [
       "<table>\n",
       "<thead><tr><th></th><th scope=col>Birth_rate</th><th scope=col>Death_rate</th><th scope=col>infant_death</th><th scope=col>Life_expecBirth_male</th><th scope=col>Life_expecBirth_female</th><th scope=col>GNPpC</th><th scope=col>Country_Group</th><th scope=col>Country</th></tr></thead>\n",
       "<tbody>\n",
       "\t<tr><th scope=row>43</th><td>40.4       </td><td>18.7       </td><td>181.6      </td><td>41.0       </td><td>42.0       </td><td>  168      </td><td>5          </td><td>Afghanistan</td></tr>\n",
       "\t<tr><th scope=row>55</th><td>42.2       </td><td>15.5       </td><td>119.0      </td><td>56.9       </td><td>56.0       </td><td>  210      </td><td>5          </td><td>Bangladesh </td></tr>\n",
       "\t<tr><th scope=row>56</th><td>41.4       </td><td>16.6       </td><td>130.0      </td><td>47.0       </td><td>49.9       </td><td>   NA      </td><td>5          </td><td>Cambodia   </td></tr>\n",
       "\t<tr><th scope=row>57</th><td>21.2       </td><td> 6.7       </td><td> 32.0      </td><td>68.0       </td><td>70.9       </td><td>  380      </td><td>5          </td><td>China      </td></tr>\n",
       "\t<tr><th scope=row>58</th><td>11.7       </td><td> 4.9       </td><td>  6.1      </td><td>74.3       </td><td>80.1       </td><td>14210      </td><td>5          </td><td>Hong_Kong  </td></tr>\n",
       "\t<tr><th scope=row>59</th><td>30.5       </td><td>10.2       </td><td> 91.0      </td><td>52.5       </td><td>52.1       </td><td>  350      </td><td>5          </td><td>India      </td></tr>\n",
       "\t<tr><th scope=row>60</th><td>28.6       </td><td> 9.4       </td><td> 75.0      </td><td>58.5       </td><td>62.0       </td><td>  570      </td><td>5          </td><td>Indonesia  </td></tr>\n",
       "\t<tr><th scope=row>61</th><td>23.5       </td><td>18.1       </td><td> 25.0      </td><td>66.2       </td><td>72.7       </td><td>   NA      </td><td>5          </td><td>Korea      </td></tr>\n",
       "\t<tr><th scope=row>62</th><td>31.6       </td><td> 5.6       </td><td> 24.0      </td><td>67.5       </td><td>71.6       </td><td> 2320      </td><td>5          </td><td>Malaysia   </td></tr>\n",
       "\t<tr><th scope=row>63</th><td>36.1       </td><td> 8.8       </td><td> 68.0      </td><td>60.0       </td><td>62.5       </td><td>  110      </td><td>5          </td><td>Mongolia   </td></tr>\n",
       "\t<tr><th scope=row>64</th><td>39.6       </td><td>14.8       </td><td>128.0      </td><td>50.9       </td><td>48.1       </td><td>  170      </td><td>5          </td><td>Nepal      </td></tr>\n",
       "\t<tr><th scope=row>65</th><td>30.3       </td><td> 8.1       </td><td>107.7      </td><td>59.0       </td><td>59.2       </td><td>  380      </td><td>5          </td><td>Pakistan   </td></tr>\n",
       "\t<tr><th scope=row>66</th><td>33.2       </td><td> 7.7       </td><td> 45.0      </td><td>62.5       </td><td>66.1       </td><td>  730      </td><td>5          </td><td>Philippines</td></tr>\n",
       "\t<tr><th scope=row>67</th><td>17.8       </td><td> 5.2       </td><td>  7.5      </td><td>68.7       </td><td>74.0       </td><td>11160      </td><td>5          </td><td>Singapore  </td></tr>\n",
       "\t<tr><th scope=row>68</th><td>21.3       </td><td> 6.2       </td><td> 19.4      </td><td>67.8       </td><td>71.7       </td><td>  470      </td><td>5          </td><td>Sri_Lanka  </td></tr>\n",
       "\t<tr><th scope=row>69</th><td>22.3       </td><td> 7.7       </td><td> 28.0      </td><td>63.8       </td><td>68.9       </td><td> 1420      </td><td>5          </td><td>Thailand   </td></tr>\n",
       "\t<tr><th scope=row>70</th><td>31.8       </td><td> 9.5       </td><td> 64.0      </td><td>63.7       </td><td>67.9       </td><td>   NA      </td><td>5          </td><td>Vietnam    </td></tr>\n",
       "</tbody>\n",
       "</table>\n"
      ],
      "text/latex": [
       "\\begin{tabular}{r|llllllll}\n",
       "  & Birth\\_rate & Death\\_rate & infant\\_death & Life\\_expecBirth\\_male & Life\\_expecBirth\\_female & GNPpC & Country\\_Group & Country\\\\\n",
       "\\hline\n",
       "\t43 & 40.4        & 18.7        & 181.6       & 41.0        & 42.0        &   168       & 5           & Afghanistan\\\\\n",
       "\t55 & 42.2        & 15.5        & 119.0       & 56.9        & 56.0        &   210       & 5           & Bangladesh \\\\\n",
       "\t56 & 41.4        & 16.6        & 130.0       & 47.0        & 49.9        &    NA       & 5           & Cambodia   \\\\\n",
       "\t57 & 21.2        &  6.7        &  32.0       & 68.0        & 70.9        &   380       & 5           & China      \\\\\n",
       "\t58 & 11.7          &  4.9          &   6.1         & 74.3          & 80.1          & 14210         & 5             & Hong\\_Kong  \\\\\n",
       "\t59 & 30.5        & 10.2        &  91.0       & 52.5        & 52.1        &   350       & 5           & India      \\\\\n",
       "\t60 & 28.6        &  9.4        &  75.0       & 58.5        & 62.0        &   570       & 5           & Indonesia  \\\\\n",
       "\t61 & 23.5        & 18.1        &  25.0       & 66.2        & 72.7        &    NA       & 5           & Korea      \\\\\n",
       "\t62 & 31.6        &  5.6        &  24.0       & 67.5        & 71.6        &  2320       & 5           & Malaysia   \\\\\n",
       "\t63 & 36.1        &  8.8        &  68.0       & 60.0        & 62.5        &   110       & 5           & Mongolia   \\\\\n",
       "\t64 & 39.6        & 14.8        & 128.0       & 50.9        & 48.1        &   170       & 5           & Nepal      \\\\\n",
       "\t65 & 30.3        &  8.1        & 107.7       & 59.0        & 59.2        &   380       & 5           & Pakistan   \\\\\n",
       "\t66 & 33.2        &  7.7        &  45.0       & 62.5        & 66.1        &   730       & 5           & Philippines\\\\\n",
       "\t67 & 17.8        &  5.2        &   7.5       & 68.7        & 74.0        & 11160       & 5           & Singapore  \\\\\n",
       "\t68 & 21.3          &  6.2          &  19.4         & 67.8          & 71.7          &   470         & 5             & Sri\\_Lanka  \\\\\n",
       "\t69 & 22.3        &  7.7        &  28.0       & 63.8        & 68.9        &  1420       & 5           & Thailand   \\\\\n",
       "\t70 & 31.8        &  9.5        &  64.0       & 63.7        & 67.9        &    NA       & 5           & Vietnam    \\\\\n",
       "\\end{tabular}\n"
      ],
      "text/markdown": [
       "\n",
       "| <!--/--> | Birth_rate | Death_rate | infant_death | Life_expecBirth_male | Life_expecBirth_female | GNPpC | Country_Group | Country |\n",
       "|---|---|---|---|---|---|---|---|---|\n",
       "| 43 | 40.4        | 18.7        | 181.6       | 41.0        | 42.0        |   168       | 5           | Afghanistan |\n",
       "| 55 | 42.2        | 15.5        | 119.0       | 56.9        | 56.0        |   210       | 5           | Bangladesh  |\n",
       "| 56 | 41.4        | 16.6        | 130.0       | 47.0        | 49.9        |    NA       | 5           | Cambodia    |\n",
       "| 57 | 21.2        |  6.7        |  32.0       | 68.0        | 70.9        |   380       | 5           | China       |\n",
       "| 58 | 11.7        |  4.9        |   6.1       | 74.3        | 80.1        | 14210       | 5           | Hong_Kong   |\n",
       "| 59 | 30.5        | 10.2        |  91.0       | 52.5        | 52.1        |   350       | 5           | India       |\n",
       "| 60 | 28.6        |  9.4        |  75.0       | 58.5        | 62.0        |   570       | 5           | Indonesia   |\n",
       "| 61 | 23.5        | 18.1        |  25.0       | 66.2        | 72.7        |    NA       | 5           | Korea       |\n",
       "| 62 | 31.6        |  5.6        |  24.0       | 67.5        | 71.6        |  2320       | 5           | Malaysia    |\n",
       "| 63 | 36.1        |  8.8        |  68.0       | 60.0        | 62.5        |   110       | 5           | Mongolia    |\n",
       "| 64 | 39.6        | 14.8        | 128.0       | 50.9        | 48.1        |   170       | 5           | Nepal       |\n",
       "| 65 | 30.3        |  8.1        | 107.7       | 59.0        | 59.2        |   380       | 5           | Pakistan    |\n",
       "| 66 | 33.2        |  7.7        |  45.0       | 62.5        | 66.1        |   730       | 5           | Philippines |\n",
       "| 67 | 17.8        |  5.2        |   7.5       | 68.7        | 74.0        | 11160       | 5           | Singapore   |\n",
       "| 68 | 21.3        |  6.2        |  19.4       | 67.8        | 71.7        |   470       | 5           | Sri_Lanka   |\n",
       "| 69 | 22.3        |  7.7        |  28.0       | 63.8        | 68.9        |  1420       | 5           | Thailand    |\n",
       "| 70 | 31.8        |  9.5        |  64.0       | 63.7        | 67.9        |    NA       | 5           | Vietnam     |\n",
       "\n"
      ],
      "text/plain": [
       "   Birth_rate Death_rate infant_death Life_expecBirth_male\n",
       "43 40.4       18.7       181.6        41.0                \n",
       "55 42.2       15.5       119.0        56.9                \n",
       "56 41.4       16.6       130.0        47.0                \n",
       "57 21.2        6.7        32.0        68.0                \n",
       "58 11.7        4.9         6.1        74.3                \n",
       "59 30.5       10.2        91.0        52.5                \n",
       "60 28.6        9.4        75.0        58.5                \n",
       "61 23.5       18.1        25.0        66.2                \n",
       "62 31.6        5.6        24.0        67.5                \n",
       "63 36.1        8.8        68.0        60.0                \n",
       "64 39.6       14.8       128.0        50.9                \n",
       "65 30.3        8.1       107.7        59.0                \n",
       "66 33.2        7.7        45.0        62.5                \n",
       "67 17.8        5.2         7.5        68.7                \n",
       "68 21.3        6.2        19.4        67.8                \n",
       "69 22.3        7.7        28.0        63.8                \n",
       "70 31.8        9.5        64.0        63.7                \n",
       "   Life_expecBirth_female GNPpC Country_Group Country    \n",
       "43 42.0                     168 5             Afghanistan\n",
       "55 56.0                     210 5             Bangladesh \n",
       "56 49.9                      NA 5             Cambodia   \n",
       "57 70.9                     380 5             China      \n",
       "58 80.1                   14210 5             Hong_Kong  \n",
       "59 52.1                     350 5             India      \n",
       "60 62.0                     570 5             Indonesia  \n",
       "61 72.7                      NA 5             Korea      \n",
       "62 71.6                    2320 5             Malaysia   \n",
       "63 62.5                     110 5             Mongolia   \n",
       "64 48.1                     170 5             Nepal      \n",
       "65 59.2                     380 5             Pakistan   \n",
       "66 66.1                     730 5             Philippines\n",
       "67 74.0                   11160 5             Singapore  \n",
       "68 71.7                     470 5             Sri_Lanka  \n",
       "69 68.9                    1420 5             Thailand   \n",
       "70 67.9                      NA 5             Vietnam    "
      ]
     },
     "metadata": {},
     "output_type": "display_data"
    },
    {
     "data": {
      "text/html": [
       "<table>\n",
       "<thead><tr><th></th><th scope=col>Birth_rate</th><th scope=col>Death_rate</th><th scope=col>infant_death</th><th scope=col>Life_expecBirth_male</th><th scope=col>Life_expecBirth_female</th><th scope=col>GNPpC</th><th scope=col>Country_Group</th><th scope=col>Country</th></tr></thead>\n",
       "<tbody>\n",
       "\t<tr><th scope=row>71</th><td>35.5        </td><td> 8.3        </td><td> 74.0       </td><td>61.6        </td><td>63.30       </td><td>2060        </td><td>6           </td><td>Algeria     </td></tr>\n",
       "\t<tr><th scope=row>72</th><td>47.2        </td><td>20.2        </td><td>137.0       </td><td>42.9        </td><td>46.10       </td><td> 610        </td><td>6           </td><td>Angola      </td></tr>\n",
       "\t<tr><th scope=row>73</th><td>48.5        </td><td>11.6        </td><td> 67.0       </td><td>52.3        </td><td>59.70       </td><td>2040        </td><td>6           </td><td>Botswana    </td></tr>\n",
       "\t<tr><th scope=row>74</th><td>46.1        </td><td>14.6        </td><td> 73.0       </td><td>50.1        </td><td>55.30       </td><td>1010        </td><td>6           </td><td>Congo       </td></tr>\n",
       "\t<tr><th scope=row>75</th><td>38.8        </td><td> 9.5        </td><td> 49.4       </td><td>57.8        </td><td>60.30       </td><td> 600        </td><td>6           </td><td>Egypt       </td></tr>\n",
       "\t<tr><th scope=row>76</th><td>48.6        </td><td>20.7        </td><td>137.0       </td><td>42.4        </td><td>45.60       </td><td> 120        </td><td>6           </td><td>Ethiopia    </td></tr>\n",
       "\t<tr><th scope=row>77</th><td>39.4        </td><td>16.8        </td><td>103.0       </td><td>49.9        </td><td>53.20       </td><td> 390        </td><td>6           </td><td>Gabon       </td></tr>\n",
       "\t<tr><th scope=row>78</th><td>47.4        </td><td>21.4        </td><td>143.0       </td><td>41.4        </td><td>44.60       </td><td> 260        </td><td>6           </td><td>Gambia      </td></tr>\n",
       "\t<tr><th scope=row>79</th><td>44.4        </td><td>13.1        </td><td> 90.0       </td><td>52.2        </td><td>55.80       </td><td> 390        </td><td>6           </td><td>Ghana       </td></tr>\n",
       "\t<tr><th scope=row>80</th><td>47.0        </td><td>11.3        </td><td> 72.0       </td><td>56.5        </td><td>60.50       </td><td> 370        </td><td>6           </td><td>Kenya       </td></tr>\n",
       "\t<tr><th scope=row>81</th><td>44.0        </td><td> 9.4        </td><td> 82.0       </td><td>59.1        </td><td>62.56       </td><td>5310        </td><td>6           </td><td>Libya       </td></tr>\n",
       "\t<tr><th scope=row>82</th><td>48.3        </td><td>25.0        </td><td>130.0       </td><td>38.1        </td><td>41.20       </td><td> 200        </td><td>6           </td><td>Malawi      </td></tr>\n",
       "\t<tr><th scope=row>83</th><td>35.5        </td><td> 9.8        </td><td> 82.0       </td><td>59.1        </td><td>62.50       </td><td> 960        </td><td>6           </td><td>Morocco     </td></tr>\n",
       "\t<tr><th scope=row>84</th><td>45.0        </td><td>18.5        </td><td>141.0       </td><td>44.9        </td><td>48.10       </td><td>  80        </td><td>6           </td><td>Mozambique  </td></tr>\n",
       "\t<tr><th scope=row>85</th><td>44.0        </td><td>12.1        </td><td>135.0       </td><td>55.0        </td><td>57.50       </td><td>1030        </td><td>6           </td><td>Namibia     </td></tr>\n",
       "\t<tr><th scope=row>86</th><td>48.5        </td><td>15.6        </td><td>105.0       </td><td>48.8        </td><td>52.20       </td><td> 360        </td><td>6           </td><td>Nigeria     </td></tr>\n",
       "\t<tr><th scope=row>87</th><td>48.2        </td><td>23.4        </td><td>154.0       </td><td>39.4        </td><td>42.60       </td><td> 240        </td><td>6           </td><td>Sierra_Leone</td></tr>\n",
       "\t<tr><th scope=row>88</th><td>50.1        </td><td>20.2        </td><td>132.0       </td><td>43.4        </td><td>46.60       </td><td> 120        </td><td>6           </td><td>Somalia     </td></tr>\n",
       "\t<tr><th scope=row>89</th><td>32.1        </td><td> 9.9        </td><td> 72.0       </td><td>57.5        </td><td>63.50       </td><td>2530        </td><td>6           </td><td>South_Africa</td></tr>\n",
       "\t<tr><th scope=row>90</th><td>44.6        </td><td>15.8        </td><td>108.0       </td><td>48.6        </td><td>51.00       </td><td> 480        </td><td>6           </td><td>Sudan       </td></tr>\n",
       "\t<tr><th scope=row>91</th><td>46.8        </td><td>12.5        </td><td>118.0       </td><td>42.9        </td><td>49.50       </td><td> 810        </td><td>6           </td><td>Swaziland   </td></tr>\n",
       "\t<tr><th scope=row>92</th><td>31.1        </td><td> 7.3        </td><td> 52.0       </td><td>64.9        </td><td>66.40       </td><td>1440        </td><td>6           </td><td>Tunisia     </td></tr>\n",
       "\t<tr><th scope=row>93</th><td>52.2        </td><td>15.6        </td><td>103.0       </td><td>49.9        </td><td>52.70       </td><td> 220        </td><td>6           </td><td>Uganda      </td></tr>\n",
       "\t<tr><th scope=row>94</th><td>50.5        </td><td>14.0        </td><td>106.0       </td><td>51.3        </td><td>54.70       </td><td> 110        </td><td>6           </td><td>Tanzania    </td></tr>\n",
       "\t<tr><th scope=row>95</th><td>45.6        </td><td>14.2        </td><td> 83.0       </td><td>50.3        </td><td>53.70       </td><td> 220        </td><td>6           </td><td>Zaire       </td></tr>\n",
       "\t<tr><th scope=row>96</th><td>51.1        </td><td>13.7        </td><td> 80.0       </td><td>50.4        </td><td>52.50       </td><td> 420        </td><td>6           </td><td>Zambia      </td></tr>\n",
       "\t<tr><th scope=row>97</th><td>41.7        </td><td>10.3        </td><td> 66.0       </td><td>56.5        </td><td>60.10       </td><td> 640        </td><td>6           </td><td>Zimbabwe    </td></tr>\n",
       "</tbody>\n",
       "</table>\n"
      ],
      "text/latex": [
       "\\begin{tabular}{r|llllllll}\n",
       "  & Birth\\_rate & Death\\_rate & infant\\_death & Life\\_expecBirth\\_male & Life\\_expecBirth\\_female & GNPpC & Country\\_Group & Country\\\\\n",
       "\\hline\n",
       "\t71 & 35.5         &  8.3         &  74.0        & 61.6         & 63.30        & 2060         & 6            & Algeria     \\\\\n",
       "\t72 & 47.2         & 20.2         & 137.0        & 42.9         & 46.10        &  610         & 6            & Angola      \\\\\n",
       "\t73 & 48.5         & 11.6         &  67.0        & 52.3         & 59.70        & 2040         & 6            & Botswana    \\\\\n",
       "\t74 & 46.1         & 14.6         &  73.0        & 50.1         & 55.30        & 1010         & 6            & Congo       \\\\\n",
       "\t75 & 38.8         &  9.5         &  49.4        & 57.8         & 60.30        &  600         & 6            & Egypt       \\\\\n",
       "\t76 & 48.6         & 20.7         & 137.0        & 42.4         & 45.60        &  120         & 6            & Ethiopia    \\\\\n",
       "\t77 & 39.4         & 16.8         & 103.0        & 49.9         & 53.20        &  390         & 6            & Gabon       \\\\\n",
       "\t78 & 47.4         & 21.4         & 143.0        & 41.4         & 44.60        &  260         & 6            & Gambia      \\\\\n",
       "\t79 & 44.4         & 13.1         &  90.0        & 52.2         & 55.80        &  390         & 6            & Ghana       \\\\\n",
       "\t80 & 47.0         & 11.3         &  72.0        & 56.5         & 60.50        &  370         & 6            & Kenya       \\\\\n",
       "\t81 & 44.0         &  9.4         &  82.0        & 59.1         & 62.56        & 5310         & 6            & Libya       \\\\\n",
       "\t82 & 48.3         & 25.0         & 130.0        & 38.1         & 41.20        &  200         & 6            & Malawi      \\\\\n",
       "\t83 & 35.5         &  9.8         &  82.0        & 59.1         & 62.50        &  960         & 6            & Morocco     \\\\\n",
       "\t84 & 45.0         & 18.5         & 141.0        & 44.9         & 48.10        &   80         & 6            & Mozambique  \\\\\n",
       "\t85 & 44.0         & 12.1         & 135.0        & 55.0         & 57.50        & 1030         & 6            & Namibia     \\\\\n",
       "\t86 & 48.5         & 15.6         & 105.0        & 48.8         & 52.20        &  360         & 6            & Nigeria     \\\\\n",
       "\t87 & 48.2           & 23.4           & 154.0          & 39.4           & 42.60          &  240           & 6              & Sierra\\_Leone\\\\\n",
       "\t88 & 50.1         & 20.2         & 132.0        & 43.4         & 46.60        &  120         & 6            & Somalia     \\\\\n",
       "\t89 & 32.1           &  9.9           &  72.0          & 57.5           & 63.50          & 2530           & 6              & South\\_Africa\\\\\n",
       "\t90 & 44.6         & 15.8         & 108.0        & 48.6         & 51.00        &  480         & 6            & Sudan       \\\\\n",
       "\t91 & 46.8         & 12.5         & 118.0        & 42.9         & 49.50        &  810         & 6            & Swaziland   \\\\\n",
       "\t92 & 31.1         &  7.3         &  52.0        & 64.9         & 66.40        & 1440         & 6            & Tunisia     \\\\\n",
       "\t93 & 52.2         & 15.6         & 103.0        & 49.9         & 52.70        &  220         & 6            & Uganda      \\\\\n",
       "\t94 & 50.5         & 14.0         & 106.0        & 51.3         & 54.70        &  110         & 6            & Tanzania    \\\\\n",
       "\t95 & 45.6         & 14.2         &  83.0        & 50.3         & 53.70        &  220         & 6            & Zaire       \\\\\n",
       "\t96 & 51.1         & 13.7         &  80.0        & 50.4         & 52.50        &  420         & 6            & Zambia      \\\\\n",
       "\t97 & 41.7         & 10.3         &  66.0        & 56.5         & 60.10        &  640         & 6            & Zimbabwe    \\\\\n",
       "\\end{tabular}\n"
      ],
      "text/markdown": [
       "\n",
       "| <!--/--> | Birth_rate | Death_rate | infant_death | Life_expecBirth_male | Life_expecBirth_female | GNPpC | Country_Group | Country |\n",
       "|---|---|---|---|---|---|---|---|---|\n",
       "| 71 | 35.5         |  8.3         |  74.0        | 61.6         | 63.30        | 2060         | 6            | Algeria      |\n",
       "| 72 | 47.2         | 20.2         | 137.0        | 42.9         | 46.10        |  610         | 6            | Angola       |\n",
       "| 73 | 48.5         | 11.6         |  67.0        | 52.3         | 59.70        | 2040         | 6            | Botswana     |\n",
       "| 74 | 46.1         | 14.6         |  73.0        | 50.1         | 55.30        | 1010         | 6            | Congo        |\n",
       "| 75 | 38.8         |  9.5         |  49.4        | 57.8         | 60.30        |  600         | 6            | Egypt        |\n",
       "| 76 | 48.6         | 20.7         | 137.0        | 42.4         | 45.60        |  120         | 6            | Ethiopia     |\n",
       "| 77 | 39.4         | 16.8         | 103.0        | 49.9         | 53.20        |  390         | 6            | Gabon        |\n",
       "| 78 | 47.4         | 21.4         | 143.0        | 41.4         | 44.60        |  260         | 6            | Gambia       |\n",
       "| 79 | 44.4         | 13.1         |  90.0        | 52.2         | 55.80        |  390         | 6            | Ghana        |\n",
       "| 80 | 47.0         | 11.3         |  72.0        | 56.5         | 60.50        |  370         | 6            | Kenya        |\n",
       "| 81 | 44.0         |  9.4         |  82.0        | 59.1         | 62.56        | 5310         | 6            | Libya        |\n",
       "| 82 | 48.3         | 25.0         | 130.0        | 38.1         | 41.20        |  200         | 6            | Malawi       |\n",
       "| 83 | 35.5         |  9.8         |  82.0        | 59.1         | 62.50        |  960         | 6            | Morocco      |\n",
       "| 84 | 45.0         | 18.5         | 141.0        | 44.9         | 48.10        |   80         | 6            | Mozambique   |\n",
       "| 85 | 44.0         | 12.1         | 135.0        | 55.0         | 57.50        | 1030         | 6            | Namibia      |\n",
       "| 86 | 48.5         | 15.6         | 105.0        | 48.8         | 52.20        |  360         | 6            | Nigeria      |\n",
       "| 87 | 48.2         | 23.4         | 154.0        | 39.4         | 42.60        |  240         | 6            | Sierra_Leone |\n",
       "| 88 | 50.1         | 20.2         | 132.0        | 43.4         | 46.60        |  120         | 6            | Somalia      |\n",
       "| 89 | 32.1         |  9.9         |  72.0        | 57.5         | 63.50        | 2530         | 6            | South_Africa |\n",
       "| 90 | 44.6         | 15.8         | 108.0        | 48.6         | 51.00        |  480         | 6            | Sudan        |\n",
       "| 91 | 46.8         | 12.5         | 118.0        | 42.9         | 49.50        |  810         | 6            | Swaziland    |\n",
       "| 92 | 31.1         |  7.3         |  52.0        | 64.9         | 66.40        | 1440         | 6            | Tunisia      |\n",
       "| 93 | 52.2         | 15.6         | 103.0        | 49.9         | 52.70        |  220         | 6            | Uganda       |\n",
       "| 94 | 50.5         | 14.0         | 106.0        | 51.3         | 54.70        |  110         | 6            | Tanzania     |\n",
       "| 95 | 45.6         | 14.2         |  83.0        | 50.3         | 53.70        |  220         | 6            | Zaire        |\n",
       "| 96 | 51.1         | 13.7         |  80.0        | 50.4         | 52.50        |  420         | 6            | Zambia       |\n",
       "| 97 | 41.7         | 10.3         |  66.0        | 56.5         | 60.10        |  640         | 6            | Zimbabwe     |\n",
       "\n"
      ],
      "text/plain": [
       "   Birth_rate Death_rate infant_death Life_expecBirth_male\n",
       "71 35.5        8.3        74.0        61.6                \n",
       "72 47.2       20.2       137.0        42.9                \n",
       "73 48.5       11.6        67.0        52.3                \n",
       "74 46.1       14.6        73.0        50.1                \n",
       "75 38.8        9.5        49.4        57.8                \n",
       "76 48.6       20.7       137.0        42.4                \n",
       "77 39.4       16.8       103.0        49.9                \n",
       "78 47.4       21.4       143.0        41.4                \n",
       "79 44.4       13.1        90.0        52.2                \n",
       "80 47.0       11.3        72.0        56.5                \n",
       "81 44.0        9.4        82.0        59.1                \n",
       "82 48.3       25.0       130.0        38.1                \n",
       "83 35.5        9.8        82.0        59.1                \n",
       "84 45.0       18.5       141.0        44.9                \n",
       "85 44.0       12.1       135.0        55.0                \n",
       "86 48.5       15.6       105.0        48.8                \n",
       "87 48.2       23.4       154.0        39.4                \n",
       "88 50.1       20.2       132.0        43.4                \n",
       "89 32.1        9.9        72.0        57.5                \n",
       "90 44.6       15.8       108.0        48.6                \n",
       "91 46.8       12.5       118.0        42.9                \n",
       "92 31.1        7.3        52.0        64.9                \n",
       "93 52.2       15.6       103.0        49.9                \n",
       "94 50.5       14.0       106.0        51.3                \n",
       "95 45.6       14.2        83.0        50.3                \n",
       "96 51.1       13.7        80.0        50.4                \n",
       "97 41.7       10.3        66.0        56.5                \n",
       "   Life_expecBirth_female GNPpC Country_Group Country     \n",
       "71 63.30                  2060  6             Algeria     \n",
       "72 46.10                   610  6             Angola      \n",
       "73 59.70                  2040  6             Botswana    \n",
       "74 55.30                  1010  6             Congo       \n",
       "75 60.30                   600  6             Egypt       \n",
       "76 45.60                   120  6             Ethiopia    \n",
       "77 53.20                   390  6             Gabon       \n",
       "78 44.60                   260  6             Gambia      \n",
       "79 55.80                   390  6             Ghana       \n",
       "80 60.50                   370  6             Kenya       \n",
       "81 62.56                  5310  6             Libya       \n",
       "82 41.20                   200  6             Malawi      \n",
       "83 62.50                   960  6             Morocco     \n",
       "84 48.10                    80  6             Mozambique  \n",
       "85 57.50                  1030  6             Namibia     \n",
       "86 52.20                   360  6             Nigeria     \n",
       "87 42.60                   240  6             Sierra_Leone\n",
       "88 46.60                   120  6             Somalia     \n",
       "89 63.50                  2530  6             South_Africa\n",
       "90 51.00                   480  6             Sudan       \n",
       "91 49.50                   810  6             Swaziland   \n",
       "92 66.40                  1440  6             Tunisia     \n",
       "93 52.70                   220  6             Uganda      \n",
       "94 54.70                   110  6             Tanzania    \n",
       "95 53.70                   220  6             Zaire       \n",
       "96 52.50                   420  6             Zambia      \n",
       "97 60.10                   640  6             Zimbabwe    "
      ]
     },
     "metadata": {},
     "output_type": "display_data"
    }
   ],
   "source": [
    "group1 = subset(my_data, my_data$Country_Group == \"1\")\n",
    "group1\n",
    "group2 = subset(my_data, my_data$Country_Group == \"2\")\n",
    "group2\n",
    "group3 = subset(my_data, my_data$Country_Group == \"3\")\n",
    "group3\n",
    "group4 = subset(my_data, my_data$Country_Group == \"4\")\n",
    "group4\n",
    "group5 = subset(my_data, my_data$Country_Group == \"5\")\n",
    "group5\n",
    "group6 = subset(my_data, my_data$Country_Group == \"6\")\n",
    "group6"
   ]
  },
  {
   "cell_type": "code",
   "execution_count": 12,
   "id": "ed585da7",
   "metadata": {},
   "outputs": [
    {
     "data": {
      "text/html": [
       "0.486196553417511"
      ],
      "text/latex": [
       "0.486196553417511"
      ],
      "text/markdown": [
       "0.486196553417511"
      ],
      "text/plain": [
       "[1] 0.4861966"
      ]
     },
     "metadata": {},
     "output_type": "display_data"
    }
   ],
   "source": [
    "cor(my_data$Birth_rate, my_data$Death_rate, method=\"pearson\") "
   ]
  },
  {
   "cell_type": "code",
   "execution_count": 13,
   "id": "2f7131a1",
   "metadata": {
    "scrolled": true
   },
   "outputs": [
    {
     "data": {
      "text/plain": [
       "\n",
       "\tShapiro-Wilk normality test\n",
       "\n",
       "data:  my_data$Life_expecBirth_male\n",
       "W = 0.93245, p-value = 8.839e-05\n"
      ]
     },
     "metadata": {},
     "output_type": "display_data"
    }
   ],
   "source": [
    "shapiro.test(my_data$Life_expecBirth_male)"
   ]
  },
  {
   "cell_type": "code",
   "execution_count": 14,
   "id": "52e6113c",
   "metadata": {},
   "outputs": [
    {
     "data": {
      "text/plain": [
       "\n",
       "\tShapiro-Wilk normality test\n",
       "\n",
       "data:  my_data$Life_expecBirth_female\n",
       "W = 0.93048, p-value = 6.84e-05\n"
      ]
     },
     "metadata": {},
     "output_type": "display_data"
    }
   ],
   "source": [
    "shapiro.test(my_data$Life_expecBirth_female)"
   ]
  },
  {
   "cell_type": "code",
   "execution_count": 15,
   "id": "7c4de526",
   "metadata": {},
   "outputs": [
    {
     "data": {
      "text/plain": [
       "\n",
       "\tWilcoxon rank sum test with continuity correction\n",
       "\n",
       "data:  my_data$Life_expecBirth_male and my_data$Life_expecBirth_female\n",
       "W = 3359.5, p-value = 0.0005849\n",
       "alternative hypothesis: true location shift is not equal to 0\n"
      ]
     },
     "metadata": {},
     "output_type": "display_data"
    }
   ],
   "source": [
    "wilcox.test(my_data$Life_expecBirth_male, my_data$Life_expecBirth_female)"
   ]
  },
  {
   "cell_type": "code",
   "execution_count": 16,
   "id": "24f521d0",
   "metadata": {},
   "outputs": [
    {
     "data": {
      "text/plain": [
       "\n",
       "\tWilcoxon rank sum test with continuity correction\n",
       "\n",
       "data:  my_data$Life_expecBirth_male and my_data$Life_expecBirth_female\n",
       "W = 3359.5, p-value = 0.9997\n",
       "alternative hypothesis: true location shift is greater than 0\n"
      ]
     },
     "metadata": {},
     "output_type": "display_data"
    }
   ],
   "source": [
    "wilcox.test(my_data$Life_expecBirth_male, my_data$Life_expecBirth_female, alternative=\"greater\")"
   ]
  },
  {
   "cell_type": "code",
   "execution_count": 17,
   "id": "80f5a634",
   "metadata": {},
   "outputs": [
    {
     "data": {
      "text/plain": [
       "\n",
       "\tShapiro-Wilk normality test\n",
       "\n",
       "data:  group1$Birth_rate\n",
       "W = 0.73531, p-value = 0.001338\n"
      ]
     },
     "metadata": {},
     "output_type": "display_data"
    },
    {
     "data": {
      "text/plain": [
       "\n",
       "\tShapiro-Wilk normality test\n",
       "\n",
       "data:  group2$Birth_rate\n",
       "W = 0.92767, p-value = 0.356\n"
      ]
     },
     "metadata": {},
     "output_type": "display_data"
    },
    {
     "data": {
      "text/plain": [
       "\n",
       "\tShapiro-Wilk normality test\n",
       "\n",
       "data:  group3$Birth_rate\n",
       "W = 0.97024, p-value = 0.7813\n"
      ]
     },
     "metadata": {},
     "output_type": "display_data"
    },
    {
     "data": {
      "text/plain": [
       "\n",
       "\tShapiro-Wilk normality test\n",
       "\n",
       "data:  group4$Birth_rate\n",
       "W = 0.89454, p-value = 0.1584\n"
      ]
     },
     "metadata": {},
     "output_type": "display_data"
    },
    {
     "data": {
      "text/plain": [
       "\n",
       "\tShapiro-Wilk normality test\n",
       "\n",
       "data:  group5$Birth_rate\n",
       "W = 0.95569, p-value = 0.5524\n"
      ]
     },
     "metadata": {},
     "output_type": "display_data"
    },
    {
     "data": {
      "text/plain": [
       "\n",
       "\tShapiro-Wilk normality test\n",
       "\n",
       "data:  group6$Birth_rate\n",
       "W = 0.89247, p-value = 0.009034\n"
      ]
     },
     "metadata": {},
     "output_type": "display_data"
    }
   ],
   "source": [
    "shapiro.test(group1$Birth_rate)\n",
    "shapiro.test(group2$Birth_rate)\n",
    "shapiro.test(group3$Birth_rate)\n",
    "shapiro.test(group4$Birth_rate)\n",
    "shapiro.test(group5$Birth_rate)\n",
    "shapiro.test(group6$Birth_rate)"
   ]
  },
  {
   "cell_type": "code",
   "execution_count": 18,
   "id": "4f19a500",
   "metadata": {},
   "outputs": [
    {
     "name": "stderr",
     "output_type": "stream",
     "text": [
      "Warning message in wilcox.test.default(xi, xj, paired = paired, ...):\n",
      "\"cannot compute exact p-value with ties\"Warning message in wilcox.test.default(xi, xj, paired = paired, ...):\n",
      "\"cannot compute exact p-value with ties\"Warning message in wilcox.test.default(xi, xj, paired = paired, ...):\n",
      "\"cannot compute exact p-value with ties\"Warning message in wilcox.test.default(xi, xj, paired = paired, ...):\n",
      "\"cannot compute exact p-value with ties\"Warning message in wilcox.test.default(xi, xj, paired = paired, ...):\n",
      "\"cannot compute exact p-value with ties\"Warning message in wilcox.test.default(xi, xj, paired = paired, ...):\n",
      "\"cannot compute exact p-value with ties\"Warning message in wilcox.test.default(xi, xj, paired = paired, ...):\n",
      "\"cannot compute exact p-value with ties\"Warning message in wilcox.test.default(xi, xj, paired = paired, ...):\n",
      "\"cannot compute exact p-value with ties\"Warning message in wilcox.test.default(xi, xj, paired = paired, ...):\n",
      "\"cannot compute exact p-value with ties\"Warning message in wilcox.test.default(xi, xj, paired = paired, ...):\n",
      "\"cannot compute exact p-value with ties\"Warning message in wilcox.test.default(xi, xj, paired = paired, ...):\n",
      "\"cannot compute exact p-value with ties\"Warning message in wilcox.test.default(xi, xj, paired = paired, ...):\n",
      "\"cannot compute exact p-value with ties\"Warning message in wilcox.test.default(xi, xj, paired = paired, ...):\n",
      "\"cannot compute exact p-value with ties\"Warning message in wilcox.test.default(xi, xj, paired = paired, ...):\n",
      "\"cannot compute exact p-value with ties\"Warning message in wilcox.test.default(xi, xj, paired = paired, ...):\n",
      "\"cannot compute exact p-value with ties\""
     ]
    },
    {
     "data": {
      "text/plain": [
       "\n",
       "\tPairwise comparisons using Wilcoxon rank sum test \n",
       "\n",
       "data:  my_data$Birth_rate and my_data$Country_Group \n",
       "\n",
       "  1       2       3       4       5      \n",
       "2 0.00022 -       -       -       -      \n",
       "3 0.21841 1.2e-05 -       -       -      \n",
       "4 0.00023 0.30143 1.9e-05 -       -      \n",
       "5 0.00036 0.65783 1.2e-05 0.28737 -      \n",
       "6 1.2e-05 3.6e-05 1.7e-07 0.00065 1.2e-05\n",
       "\n",
       "P value adjustment method: BH "
      ]
     },
     "metadata": {},
     "output_type": "display_data"
    }
   ],
   "source": [
    "pairwise.wilcox.test(my_data$Birth_rate, my_data$Country_Group, p.adjust.method = \"BH\")"
   ]
  },
  {
   "cell_type": "code",
   "execution_count": 19,
   "id": "a74a0f7d",
   "metadata": {},
   "outputs": [
    {
     "data": {
      "text/plain": [
       "\n",
       "\tShapiro-Wilk normality test\n",
       "\n",
       "data:  group1$Death_rate\n",
       "W = 0.92403, p-value = 0.3536\n"
      ]
     },
     "metadata": {},
     "output_type": "display_data"
    },
    {
     "data": {
      "text/plain": [
       "\n",
       "\tShapiro-Wilk normality test\n",
       "\n",
       "data:  group2$Death_rate\n",
       "W = 0.72524, p-value = 0.001491\n"
      ]
     },
     "metadata": {},
     "output_type": "display_data"
    },
    {
     "data": {
      "text/plain": [
       "\n",
       "\tShapiro-Wilk normality test\n",
       "\n",
       "data:  group3$Death_rate\n",
       "W = 0.97069, p-value = 0.7902\n"
      ]
     },
     "metadata": {},
     "output_type": "display_data"
    },
    {
     "data": {
      "text/plain": [
       "\n",
       "\tShapiro-Wilk normality test\n",
       "\n",
       "data:  group4$Death_rate\n",
       "W = 0.95095, p-value = 0.6561\n"
      ]
     },
     "metadata": {},
     "output_type": "display_data"
    },
    {
     "data": {
      "text/plain": [
       "\n",
       "\tShapiro-Wilk normality test\n",
       "\n",
       "data:  group5$Death_rate\n",
       "W = 0.87235, p-value = 0.02395\n"
      ]
     },
     "metadata": {},
     "output_type": "display_data"
    },
    {
     "data": {
      "text/plain": [
       "\n",
       "\tShapiro-Wilk normality test\n",
       "\n",
       "data:  group6$Death_rate\n",
       "W = 0.95318, p-value = 0.2558\n"
      ]
     },
     "metadata": {},
     "output_type": "display_data"
    }
   ],
   "source": [
    "shapiro.test(group1$Death_rate)\n",
    "shapiro.test(group2$Death_rate)\n",
    "shapiro.test(group3$Death_rate)\n",
    "shapiro.test(group4$Death_rate)\n",
    "shapiro.test(group5$Death_rate)\n",
    "shapiro.test(group6$Death_rate)"
   ]
  },
  {
   "cell_type": "code",
   "execution_count": 20,
   "id": "18cd1ae0",
   "metadata": {
    "scrolled": false
   },
   "outputs": [
    {
     "name": "stderr",
     "output_type": "stream",
     "text": [
      "Warning message in wilcox.test.default(xi, xj, paired = paired, ...):\n",
      "\"cannot compute exact p-value with ties\"Warning message in wilcox.test.default(xi, xj, paired = paired, ...):\n",
      "\"cannot compute exact p-value with ties\"Warning message in wilcox.test.default(xi, xj, paired = paired, ...):\n",
      "\"cannot compute exact p-value with ties\"Warning message in wilcox.test.default(xi, xj, paired = paired, ...):\n",
      "\"cannot compute exact p-value with ties\"Warning message in wilcox.test.default(xi, xj, paired = paired, ...):\n",
      "\"cannot compute exact p-value with ties\"Warning message in wilcox.test.default(xi, xj, paired = paired, ...):\n",
      "\"cannot compute exact p-value with ties\"Warning message in wilcox.test.default(xi, xj, paired = paired, ...):\n",
      "\"cannot compute exact p-value with ties\"Warning message in wilcox.test.default(xi, xj, paired = paired, ...):\n",
      "\"cannot compute exact p-value with ties\"Warning message in wilcox.test.default(xi, xj, paired = paired, ...):\n",
      "\"cannot compute exact p-value with ties\"Warning message in wilcox.test.default(xi, xj, paired = paired, ...):\n",
      "\"cannot compute exact p-value with ties\"Warning message in wilcox.test.default(xi, xj, paired = paired, ...):\n",
      "\"cannot compute exact p-value with ties\"Warning message in wilcox.test.default(xi, xj, paired = paired, ...):\n",
      "\"cannot compute exact p-value with ties\"Warning message in wilcox.test.default(xi, xj, paired = paired, ...):\n",
      "\"cannot compute exact p-value with ties\"Warning message in wilcox.test.default(xi, xj, paired = paired, ...):\n",
      "\"cannot compute exact p-value with ties\""
     ]
    },
    {
     "data": {
      "text/plain": [
       "\n",
       "\tPairwise comparisons using Wilcoxon rank sum test \n",
       "\n",
       "data:  my_data$Death_rate and my_data$Country_Group \n",
       "\n",
       "  1       2       3       4       5      \n",
       "2 0.08227 -       -       -       -      \n",
       "3 0.08882 0.08882 -       -       -      \n",
       "4 0.00756 0.44831 0.01047 -       -      \n",
       "5 0.34886 0.52761 0.60087 0.10054 -      \n",
       "6 0.03376 0.00595 0.00030 0.00028 0.01047\n",
       "\n",
       "P value adjustment method: BH "
      ]
     },
     "metadata": {},
     "output_type": "display_data"
    }
   ],
   "source": [
    "pairwise.wilcox.test(my_data$Death_rate, my_data$Country_Group, p.adjust.method = \"BH\")"
   ]
  },
  {
   "cell_type": "markdown",
   "id": "3cf15837",
   "metadata": {},
   "source": [
    "# Ejercicio 2"
   ]
  },
  {
   "cell_type": "code",
   "execution_count": 21,
   "id": "ba50483b",
   "metadata": {},
   "outputs": [
    {
     "data": {
      "text/html": [
       "<table>\n",
       "<thead><tr><th scope=col>Subject.ID</th><th scope=col>MRI.ID</th><th scope=col>Group</th><th scope=col>Visit</th><th scope=col>MR.Delay</th><th scope=col>M.F</th><th scope=col>Hand</th><th scope=col>Age</th><th scope=col>EDUC</th><th scope=col>SES</th><th scope=col>MMSE</th><th scope=col>CDR</th><th scope=col>eTIV</th><th scope=col>nWBV</th><th scope=col>ASF</th></tr></thead>\n",
       "<tbody>\n",
       "\t<tr><td>OAS2_0001    </td><td>OAS2_0001_MR1</td><td>Nondemented  </td><td>1            </td><td>   0         </td><td>M            </td><td>R            </td><td>87           </td><td>14           </td><td> 2           </td><td>27           </td><td>0.0          </td><td>1987         </td><td>0.696        </td><td>0.883        </td></tr>\n",
       "\t<tr><td>OAS2_0001    </td><td>OAS2_0001_MR2</td><td>Nondemented  </td><td>2            </td><td> 457         </td><td>M            </td><td>R            </td><td>88           </td><td>14           </td><td> 2           </td><td>30           </td><td>0.0          </td><td>2004         </td><td>0.681        </td><td>0.876        </td></tr>\n",
       "\t<tr><td>OAS2_0002    </td><td>OAS2_0002_MR1</td><td>Demented     </td><td>1            </td><td>   0         </td><td>M            </td><td>R            </td><td>75           </td><td>12           </td><td>NA           </td><td>23           </td><td>0.5          </td><td>1678         </td><td>0.736        </td><td>1.046        </td></tr>\n",
       "\t<tr><td>OAS2_0002    </td><td>OAS2_0002_MR2</td><td>Demented     </td><td>2            </td><td> 560         </td><td>M            </td><td>R            </td><td>76           </td><td>12           </td><td>NA           </td><td>28           </td><td>0.5          </td><td>1738         </td><td>0.713        </td><td>1.010        </td></tr>\n",
       "\t<tr><td>OAS2_0002    </td><td>OAS2_0002_MR3</td><td>Demented     </td><td>3            </td><td>1895         </td><td>M            </td><td>R            </td><td>80           </td><td>12           </td><td>NA           </td><td>22           </td><td>0.5          </td><td>1698         </td><td>0.701        </td><td>1.034        </td></tr>\n",
       "\t<tr><td>OAS2_0004    </td><td>OAS2_0004_MR1</td><td>Nondemented  </td><td>1            </td><td>   0         </td><td>F            </td><td>R            </td><td>88           </td><td>18           </td><td> 3           </td><td>28           </td><td>0.0          </td><td>1215         </td><td>0.710        </td><td>1.444        </td></tr>\n",
       "\t<tr><td>OAS2_0004    </td><td>OAS2_0004_MR2</td><td>Nondemented  </td><td>2            </td><td> 538         </td><td>F            </td><td>R            </td><td>90           </td><td>18           </td><td> 3           </td><td>27           </td><td>0.0          </td><td>1200         </td><td>0.718        </td><td>1.462        </td></tr>\n",
       "\t<tr><td>OAS2_0005    </td><td>OAS2_0005_MR1</td><td>Nondemented  </td><td>1            </td><td>   0         </td><td>M            </td><td>R            </td><td>80           </td><td>12           </td><td> 4           </td><td>28           </td><td>0.0          </td><td>1689         </td><td>0.712        </td><td>1.039        </td></tr>\n",
       "\t<tr><td>OAS2_0005    </td><td>OAS2_0005_MR2</td><td>Nondemented  </td><td>2            </td><td>1010         </td><td>M            </td><td>R            </td><td>83           </td><td>12           </td><td> 4           </td><td>29           </td><td>0.5          </td><td>1701         </td><td>0.711        </td><td>1.032        </td></tr>\n",
       "\t<tr><td>OAS2_0005    </td><td>OAS2_0005_MR3</td><td>Nondemented  </td><td>3            </td><td>1603         </td><td>M            </td><td>R            </td><td>85           </td><td>12           </td><td> 4           </td><td>30           </td><td>0.0          </td><td>1699         </td><td>0.705        </td><td>1.033        </td></tr>\n",
       "\t<tr><td>OAS2_0007    </td><td>OAS2_0007_MR1</td><td>Demented     </td><td>1            </td><td>   0         </td><td>M            </td><td>R            </td><td>71           </td><td>16           </td><td>NA           </td><td>28           </td><td>0.5          </td><td>1357         </td><td>0.748        </td><td>1.293        </td></tr>\n",
       "\t<tr><td>OAS2_0007    </td><td>OAS2_0007_MR3</td><td>Demented     </td><td>3            </td><td> 518         </td><td>M            </td><td>R            </td><td>73           </td><td>16           </td><td>NA           </td><td>27           </td><td>1.0          </td><td>1365         </td><td>0.727        </td><td>1.286        </td></tr>\n",
       "\t<tr><td>OAS2_0007    </td><td>OAS2_0007_MR4</td><td>Demented     </td><td>4            </td><td>1281         </td><td>M            </td><td>R            </td><td>75           </td><td>16           </td><td>NA           </td><td>27           </td><td>1.0          </td><td>1372         </td><td>0.710        </td><td>1.279        </td></tr>\n",
       "\t<tr><td>OAS2_0008    </td><td>OAS2_0008_MR1</td><td>Nondemented  </td><td>1            </td><td>   0         </td><td>F            </td><td>R            </td><td>93           </td><td>14           </td><td> 2           </td><td>30           </td><td>0.0          </td><td>1272         </td><td>0.698        </td><td>1.380        </td></tr>\n",
       "\t<tr><td>OAS2_0008    </td><td>OAS2_0008_MR2</td><td>Nondemented  </td><td>2            </td><td> 742         </td><td>F            </td><td>R            </td><td>95           </td><td>14           </td><td> 2           </td><td>29           </td><td>0.0          </td><td>1257         </td><td>0.703        </td><td>1.396        </td></tr>\n",
       "\t<tr><td>OAS2_0009    </td><td>OAS2_0009_MR1</td><td>Demented     </td><td>1            </td><td>   0         </td><td>M            </td><td>R            </td><td>68           </td><td>12           </td><td> 2           </td><td>27           </td><td>0.5          </td><td>1457         </td><td>0.806        </td><td>1.205        </td></tr>\n",
       "\t<tr><td>OAS2_0009    </td><td>OAS2_0009_MR2</td><td>Demented     </td><td>2            </td><td> 576         </td><td>M            </td><td>R            </td><td>69           </td><td>12           </td><td> 2           </td><td>24           </td><td>0.5          </td><td>1480         </td><td>0.791        </td><td>1.186        </td></tr>\n",
       "\t<tr><td>OAS2_0010    </td><td>OAS2_0010_MR1</td><td>Demented     </td><td>1            </td><td>   0         </td><td>F            </td><td>R            </td><td>66           </td><td>12           </td><td> 3           </td><td>30           </td><td>0.5          </td><td>1447         </td><td>0.769        </td><td>1.213        </td></tr>\n",
       "\t<tr><td>OAS2_0010    </td><td>OAS2_0010_MR2</td><td>Demented     </td><td>2            </td><td> 854         </td><td>F            </td><td>R            </td><td>68           </td><td>12           </td><td> 3           </td><td>29           </td><td>0.5          </td><td>1482         </td><td>0.752        </td><td>1.184        </td></tr>\n",
       "\t<tr><td>OAS2_0012    </td><td>OAS2_0012_MR1</td><td>Nondemented  </td><td>1            </td><td>   0         </td><td>F            </td><td>R            </td><td>78           </td><td>16           </td><td> 2           </td><td>29           </td><td>0.0          </td><td>1333         </td><td>0.748        </td><td>1.316        </td></tr>\n",
       "\t<tr><td>OAS2_0012    </td><td>OAS2_0012_MR2</td><td>Nondemented  </td><td>2            </td><td> 730         </td><td>F            </td><td>R            </td><td>80           </td><td>16           </td><td> 2           </td><td>29           </td><td>0.0          </td><td>1323         </td><td>0.738        </td><td>1.326        </td></tr>\n",
       "\t<tr><td>OAS2_0012    </td><td>OAS2_0012_MR3</td><td>Nondemented  </td><td>3            </td><td>1598         </td><td>F            </td><td>R            </td><td>83           </td><td>16           </td><td> 2           </td><td>29           </td><td>0.0          </td><td>1323         </td><td>0.718        </td><td>1.327        </td></tr>\n",
       "\t<tr><td>OAS2_0013    </td><td>OAS2_0013_MR1</td><td>Nondemented  </td><td>1            </td><td>   0         </td><td>F            </td><td>R            </td><td>81           </td><td>12           </td><td> 4           </td><td>30           </td><td>0.0          </td><td>1230         </td><td>0.715        </td><td>1.427        </td></tr>\n",
       "\t<tr><td>OAS2_0013    </td><td>OAS2_0013_MR2</td><td>Nondemented  </td><td>2            </td><td> 643         </td><td>F            </td><td>R            </td><td>82           </td><td>12           </td><td> 4           </td><td>30           </td><td>0.0          </td><td>1212         </td><td>0.720        </td><td>1.448        </td></tr>\n",
       "\t<tr><td>OAS2_0013    </td><td>OAS2_0013_MR3</td><td>Nondemented  </td><td>3            </td><td>1456         </td><td>F            </td><td>R            </td><td>85           </td><td>12           </td><td> 4           </td><td>29           </td><td>0.0          </td><td>1225         </td><td>0.710        </td><td>1.433        </td></tr>\n",
       "\t<tr><td>OAS2_0014    </td><td>OAS2_0014_MR1</td><td>Demented     </td><td>1            </td><td>   0         </td><td>M            </td><td>R            </td><td>76           </td><td>16           </td><td> 3           </td><td>21           </td><td>0.5          </td><td>1602         </td><td>0.697        </td><td>1.096        </td></tr>\n",
       "\t<tr><td>OAS2_0014    </td><td>OAS2_0014_MR2</td><td>Demented     </td><td>2            </td><td> 504         </td><td>M            </td><td>R            </td><td>77           </td><td>16           </td><td> 3           </td><td>16           </td><td>1.0          </td><td>1590         </td><td>0.696        </td><td>1.104        </td></tr>\n",
       "\t<tr><td>OAS2_0016    </td><td>OAS2_0016_MR1</td><td>Demented     </td><td>1            </td><td>   0         </td><td>M            </td><td>R            </td><td>88           </td><td> 8           </td><td> 4           </td><td>25           </td><td>0.5          </td><td>1651         </td><td>0.660        </td><td>1.063        </td></tr>\n",
       "\t<tr><td>OAS2_0016    </td><td>OAS2_0016_MR2</td><td>Demented     </td><td>2            </td><td> 707         </td><td>M            </td><td>R            </td><td>90           </td><td> 8           </td><td> 4           </td><td>23           </td><td>0.5          </td><td>1668         </td><td>0.646        </td><td>1.052        </td></tr>\n",
       "\t<tr><td>OAS2_0017    </td><td>OAS2_0017_MR1</td><td>Nondemented  </td><td>1            </td><td>   0         </td><td>M            </td><td>R            </td><td>80           </td><td>12           </td><td> 3           </td><td>29           </td><td>0.0          </td><td>1783         </td><td>0.752        </td><td>0.985        </td></tr>\n",
       "\t<tr><td>...</td><td>...</td><td>...</td><td>...</td><td>...</td><td>...</td><td>...</td><td>...</td><td>...</td><td>...</td><td>...</td><td>...</td><td>...</td><td>...</td><td>...</td></tr>\n",
       "\t<tr><td>OAS2_0175    </td><td>OAS2_0175_MR1</td><td>Demented     </td><td>1            </td><td>   0         </td><td>M            </td><td>R            </td><td>70           </td><td>16           </td><td> 4           </td><td>26           </td><td>0.5          </td><td>1796         </td><td>0.742        </td><td>0.977        </td></tr>\n",
       "\t<tr><td>OAS2_0175    </td><td>OAS2_0175_MR2</td><td>Demented     </td><td>2            </td><td> 700         </td><td>M            </td><td>R            </td><td>72           </td><td>16           </td><td> 4           </td><td>28           </td><td>0.5          </td><td>1796         </td><td>0.732        </td><td>0.977        </td></tr>\n",
       "\t<tr><td>OAS2_0175    </td><td>OAS2_0175_MR3</td><td>Demented     </td><td>3            </td><td>1343         </td><td>M            </td><td>R            </td><td>73           </td><td>16           </td><td> 4           </td><td>28           </td><td>0.5          </td><td>1803         </td><td>0.731        </td><td>0.973        </td></tr>\n",
       "\t<tr><td>OAS2_0176    </td><td>OAS2_0176_MR1</td><td>Converted    </td><td>1            </td><td>   0         </td><td>M            </td><td>R            </td><td>84           </td><td>16           </td><td> 2           </td><td>30           </td><td>0.0          </td><td>1404         </td><td>0.710        </td><td>1.250        </td></tr>\n",
       "\t<tr><td>OAS2_0176    </td><td>OAS2_0176_MR2</td><td>Converted    </td><td>2            </td><td> 774         </td><td>M            </td><td>R            </td><td>87           </td><td>16           </td><td> 2           </td><td>30           </td><td>0.0          </td><td>1398         </td><td>0.696        </td><td>1.255        </td></tr>\n",
       "\t<tr><td>OAS2_0176    </td><td>OAS2_0176_MR3</td><td>Converted    </td><td>3            </td><td>1631         </td><td>M            </td><td>R            </td><td>89           </td><td>16           </td><td> 2           </td><td>30           </td><td>0.5          </td><td>1408         </td><td>0.679        </td><td>1.246        </td></tr>\n",
       "\t<tr><td>OAS2_0177    </td><td>OAS2_0177_MR1</td><td>Nondemented  </td><td>1            </td><td>   0         </td><td>M            </td><td>R            </td><td>68           </td><td>14           </td><td> 3           </td><td>26           </td><td>0.0          </td><td>1444         </td><td>0.778        </td><td>1.216        </td></tr>\n",
       "\t<tr><td>OAS2_0177    </td><td>OAS2_0177_MR2</td><td>Nondemented  </td><td>2            </td><td> 665         </td><td>M            </td><td>R            </td><td>70           </td><td>14           </td><td> 3           </td><td>28           </td><td>0.0          </td><td>1510         </td><td>0.770        </td><td>1.162        </td></tr>\n",
       "\t<tr><td>OAS2_0178    </td><td>OAS2_0178_MR1</td><td>Nondemented  </td><td>1            </td><td>   0         </td><td>F            </td><td>R            </td><td>89           </td><td>14           </td><td> 2           </td><td>29           </td><td>0.0          </td><td>1509         </td><td>0.756        </td><td>1.163        </td></tr>\n",
       "\t<tr><td>OAS2_0178    </td><td>OAS2_0178_MR2</td><td>Nondemented  </td><td>2            </td><td> 600         </td><td>F            </td><td>R            </td><td>90           </td><td>14           </td><td> 2           </td><td>28           </td><td>0.0          </td><td>1495         </td><td>0.746        </td><td>1.174        </td></tr>\n",
       "\t<tr><td>OAS2_0178    </td><td>OAS2_0178_MR3</td><td>Nondemented  </td><td>3            </td><td>1447         </td><td>F            </td><td>R            </td><td>93           </td><td>14           </td><td> 2           </td><td>30           </td><td>0.0          </td><td>1488         </td><td>0.735        </td><td>1.179        </td></tr>\n",
       "\t<tr><td>OAS2_0179    </td><td>OAS2_0179_MR1</td><td>Demented     </td><td>1            </td><td>   0         </td><td>M            </td><td>R            </td><td>79           </td><td>20           </td><td> 1           </td><td>26           </td><td>0.5          </td><td>1548         </td><td>0.711        </td><td>1.134        </td></tr>\n",
       "\t<tr><td>OAS2_0179    </td><td>OAS2_0179_MR2</td><td>Demented     </td><td>2            </td><td> 652         </td><td>M            </td><td>R            </td><td>81           </td><td>20           </td><td> 1           </td><td>26           </td><td>0.5          </td><td>1556         </td><td>0.691        </td><td>1.128        </td></tr>\n",
       "\t<tr><td>OAS2_0181    </td><td>OAS2_0181_MR1</td><td>Demented     </td><td>1            </td><td>   0         </td><td>F            </td><td>R            </td><td>74           </td><td>12           </td><td>NA           </td><td>26           </td><td>0.5          </td><td>1171         </td><td>0.733        </td><td>1.499        </td></tr>\n",
       "\t<tr><td>OAS2_0181    </td><td>OAS2_0181_MR2</td><td>Demented     </td><td>2            </td><td> 539         </td><td>F            </td><td>R            </td><td>75           </td><td>12           </td><td>NA           </td><td>NA           </td><td>1.0          </td><td>1169         </td><td>0.742        </td><td>1.501        </td></tr>\n",
       "\t<tr><td>OAS2_0181    </td><td>OAS2_0181_MR3</td><td>Demented     </td><td>3            </td><td>1107         </td><td>F            </td><td>R            </td><td>77           </td><td>12           </td><td>NA           </td><td>NA           </td><td>1.0          </td><td>1159         </td><td>0.733        </td><td>1.515        </td></tr>\n",
       "\t<tr><td>OAS2_0182    </td><td>OAS2_0182_MR1</td><td>Demented     </td><td>1            </td><td>   0         </td><td>M            </td><td>R            </td><td>73           </td><td>12           </td><td>NA           </td><td>23           </td><td>0.5          </td><td>1661         </td><td>0.698        </td><td>1.056        </td></tr>\n",
       "\t<tr><td>OAS2_0182    </td><td>OAS2_0182_MR2</td><td>Demented     </td><td>2            </td><td> 776         </td><td>M            </td><td>R            </td><td>75           </td><td>12           </td><td>NA           </td><td>20           </td><td>0.5          </td><td>1654         </td><td>0.696        </td><td>1.061        </td></tr>\n",
       "\t<tr><td>OAS2_0183    </td><td>OAS2_0183_MR1</td><td>Nondemented  </td><td>1            </td><td>   0         </td><td>F            </td><td>R            </td><td>66           </td><td>13           </td><td> 2           </td><td>30           </td><td>0.0          </td><td>1495         </td><td>0.746        </td><td>1.174        </td></tr>\n",
       "\t<tr><td>OAS2_0183    </td><td>OAS2_0183_MR2</td><td>Nondemented  </td><td>2            </td><td> 182         </td><td>F            </td><td>R            </td><td>66           </td><td>13           </td><td> 2           </td><td>30           </td><td>0.0          </td><td>1506         </td><td>0.740        </td><td>1.165        </td></tr>\n",
       "\t<tr><td>OAS2_0183    </td><td>OAS2_0183_MR3</td><td>Nondemented  </td><td>3            </td><td> 732         </td><td>F            </td><td>R            </td><td>68           </td><td>13           </td><td> 2           </td><td>30           </td><td>0.0          </td><td>1506         </td><td>0.740        </td><td>1.165        </td></tr>\n",
       "\t<tr><td>OAS2_0183    </td><td>OAS2_0183_MR4</td><td>Nondemented  </td><td>4            </td><td>2107         </td><td>F            </td><td>R            </td><td>72           </td><td>13           </td><td> 2           </td><td>30           </td><td>0.0          </td><td>1510         </td><td>0.723        </td><td>1.162        </td></tr>\n",
       "\t<tr><td>OAS2_0184    </td><td>OAS2_0184_MR1</td><td>Demented     </td><td>1            </td><td>   0         </td><td>F            </td><td>R            </td><td>72           </td><td>16           </td><td> 3           </td><td>24           </td><td>0.5          </td><td>1354         </td><td>0.733        </td><td>1.296        </td></tr>\n",
       "\t<tr><td>OAS2_0184    </td><td>OAS2_0184_MR2</td><td>Demented     </td><td>2            </td><td> 553         </td><td>F            </td><td>R            </td><td>73           </td><td>16           </td><td> 3           </td><td>21           </td><td>1.0          </td><td>1351         </td><td>0.708        </td><td>1.299        </td></tr>\n",
       "\t<tr><td>OAS2_0185    </td><td>OAS2_0185_MR1</td><td>Demented     </td><td>1            </td><td>   0         </td><td>M            </td><td>R            </td><td>80           </td><td>16           </td><td> 1           </td><td>28           </td><td>0.5          </td><td>1704         </td><td>0.711        </td><td>1.030        </td></tr>\n",
       "\t<tr><td>OAS2_0185    </td><td>OAS2_0185_MR2</td><td>Demented     </td><td>2            </td><td> 842         </td><td>M            </td><td>R            </td><td>82           </td><td>16           </td><td> 1           </td><td>28           </td><td>0.5          </td><td>1693         </td><td>0.694        </td><td>1.037        </td></tr>\n",
       "\t<tr><td>OAS2_0185    </td><td>OAS2_0185_MR3</td><td>Demented     </td><td>3            </td><td>2297         </td><td>M            </td><td>R            </td><td>86           </td><td>16           </td><td> 1           </td><td>26           </td><td>0.5          </td><td>1688         </td><td>0.675        </td><td>1.040        </td></tr>\n",
       "\t<tr><td>OAS2_0186    </td><td>OAS2_0186_MR1</td><td>Nondemented  </td><td>1            </td><td>   0         </td><td>F            </td><td>R            </td><td>61           </td><td>13           </td><td> 2           </td><td>30           </td><td>0.0          </td><td>1319         </td><td>0.801        </td><td>1.331        </td></tr>\n",
       "\t<tr><td>OAS2_0186    </td><td>OAS2_0186_MR2</td><td>Nondemented  </td><td>2            </td><td> 763         </td><td>F            </td><td>R            </td><td>63           </td><td>13           </td><td> 2           </td><td>30           </td><td>0.0          </td><td>1327         </td><td>0.796        </td><td>1.323        </td></tr>\n",
       "\t<tr><td>OAS2_0186    </td><td>OAS2_0186_MR3</td><td>Nondemented  </td><td>3            </td><td>1608         </td><td>F            </td><td>R            </td><td>65           </td><td>13           </td><td> 2           </td><td>30           </td><td>0.0          </td><td>1333         </td><td>0.801        </td><td>1.317        </td></tr>\n",
       "</tbody>\n",
       "</table>\n"
      ],
      "text/latex": [
       "\\begin{tabular}{r|lllllllllllllll}\n",
       " Subject.ID & MRI.ID & Group & Visit & MR.Delay & M.F & Hand & Age & EDUC & SES & MMSE & CDR & eTIV & nWBV & ASF\\\\\n",
       "\\hline\n",
       "\t OAS2\\_0001       & OAS2\\_0001\\_MR1 & Nondemented       & 1                 &    0              & M                 & R                 & 87                & 14                &  2                & 27                & 0.0               & 1987              & 0.696             & 0.883            \\\\\n",
       "\t OAS2\\_0001       & OAS2\\_0001\\_MR2 & Nondemented       & 2                 &  457              & M                 & R                 & 88                & 14                &  2                & 30                & 0.0               & 2004              & 0.681             & 0.876            \\\\\n",
       "\t OAS2\\_0002       & OAS2\\_0002\\_MR1 & Demented          & 1                 &    0              & M                 & R                 & 75                & 12                & NA                & 23                & 0.5               & 1678              & 0.736             & 1.046            \\\\\n",
       "\t OAS2\\_0002       & OAS2\\_0002\\_MR2 & Demented          & 2                 &  560              & M                 & R                 & 76                & 12                & NA                & 28                & 0.5               & 1738              & 0.713             & 1.010            \\\\\n",
       "\t OAS2\\_0002       & OAS2\\_0002\\_MR3 & Demented          & 3                 & 1895              & M                 & R                 & 80                & 12                & NA                & 22                & 0.5               & 1698              & 0.701             & 1.034            \\\\\n",
       "\t OAS2\\_0004       & OAS2\\_0004\\_MR1 & Nondemented       & 1                 &    0              & F                 & R                 & 88                & 18                &  3                & 28                & 0.0               & 1215              & 0.710             & 1.444            \\\\\n",
       "\t OAS2\\_0004       & OAS2\\_0004\\_MR2 & Nondemented       & 2                 &  538              & F                 & R                 & 90                & 18                &  3                & 27                & 0.0               & 1200              & 0.718             & 1.462            \\\\\n",
       "\t OAS2\\_0005       & OAS2\\_0005\\_MR1 & Nondemented       & 1                 &    0              & M                 & R                 & 80                & 12                &  4                & 28                & 0.0               & 1689              & 0.712             & 1.039            \\\\\n",
       "\t OAS2\\_0005       & OAS2\\_0005\\_MR2 & Nondemented       & 2                 & 1010              & M                 & R                 & 83                & 12                &  4                & 29                & 0.5               & 1701              & 0.711             & 1.032            \\\\\n",
       "\t OAS2\\_0005       & OAS2\\_0005\\_MR3 & Nondemented       & 3                 & 1603              & M                 & R                 & 85                & 12                &  4                & 30                & 0.0               & 1699              & 0.705             & 1.033            \\\\\n",
       "\t OAS2\\_0007       & OAS2\\_0007\\_MR1 & Demented          & 1                 &    0              & M                 & R                 & 71                & 16                & NA                & 28                & 0.5               & 1357              & 0.748             & 1.293            \\\\\n",
       "\t OAS2\\_0007       & OAS2\\_0007\\_MR3 & Demented          & 3                 &  518              & M                 & R                 & 73                & 16                & NA                & 27                & 1.0               & 1365              & 0.727             & 1.286            \\\\\n",
       "\t OAS2\\_0007       & OAS2\\_0007\\_MR4 & Demented          & 4                 & 1281              & M                 & R                 & 75                & 16                & NA                & 27                & 1.0               & 1372              & 0.710             & 1.279            \\\\\n",
       "\t OAS2\\_0008       & OAS2\\_0008\\_MR1 & Nondemented       & 1                 &    0              & F                 & R                 & 93                & 14                &  2                & 30                & 0.0               & 1272              & 0.698             & 1.380            \\\\\n",
       "\t OAS2\\_0008       & OAS2\\_0008\\_MR2 & Nondemented       & 2                 &  742              & F                 & R                 & 95                & 14                &  2                & 29                & 0.0               & 1257              & 0.703             & 1.396            \\\\\n",
       "\t OAS2\\_0009       & OAS2\\_0009\\_MR1 & Demented          & 1                 &    0              & M                 & R                 & 68                & 12                &  2                & 27                & 0.5               & 1457              & 0.806             & 1.205            \\\\\n",
       "\t OAS2\\_0009       & OAS2\\_0009\\_MR2 & Demented          & 2                 &  576              & M                 & R                 & 69                & 12                &  2                & 24                & 0.5               & 1480              & 0.791             & 1.186            \\\\\n",
       "\t OAS2\\_0010       & OAS2\\_0010\\_MR1 & Demented          & 1                 &    0              & F                 & R                 & 66                & 12                &  3                & 30                & 0.5               & 1447              & 0.769             & 1.213            \\\\\n",
       "\t OAS2\\_0010       & OAS2\\_0010\\_MR2 & Demented          & 2                 &  854              & F                 & R                 & 68                & 12                &  3                & 29                & 0.5               & 1482              & 0.752             & 1.184            \\\\\n",
       "\t OAS2\\_0012       & OAS2\\_0012\\_MR1 & Nondemented       & 1                 &    0              & F                 & R                 & 78                & 16                &  2                & 29                & 0.0               & 1333              & 0.748             & 1.316            \\\\\n",
       "\t OAS2\\_0012       & OAS2\\_0012\\_MR2 & Nondemented       & 2                 &  730              & F                 & R                 & 80                & 16                &  2                & 29                & 0.0               & 1323              & 0.738             & 1.326            \\\\\n",
       "\t OAS2\\_0012       & OAS2\\_0012\\_MR3 & Nondemented       & 3                 & 1598              & F                 & R                 & 83                & 16                &  2                & 29                & 0.0               & 1323              & 0.718             & 1.327            \\\\\n",
       "\t OAS2\\_0013       & OAS2\\_0013\\_MR1 & Nondemented       & 1                 &    0              & F                 & R                 & 81                & 12                &  4                & 30                & 0.0               & 1230              & 0.715             & 1.427            \\\\\n",
       "\t OAS2\\_0013       & OAS2\\_0013\\_MR2 & Nondemented       & 2                 &  643              & F                 & R                 & 82                & 12                &  4                & 30                & 0.0               & 1212              & 0.720             & 1.448            \\\\\n",
       "\t OAS2\\_0013       & OAS2\\_0013\\_MR3 & Nondemented       & 3                 & 1456              & F                 & R                 & 85                & 12                &  4                & 29                & 0.0               & 1225              & 0.710             & 1.433            \\\\\n",
       "\t OAS2\\_0014       & OAS2\\_0014\\_MR1 & Demented          & 1                 &    0              & M                 & R                 & 76                & 16                &  3                & 21                & 0.5               & 1602              & 0.697             & 1.096            \\\\\n",
       "\t OAS2\\_0014       & OAS2\\_0014\\_MR2 & Demented          & 2                 &  504              & M                 & R                 & 77                & 16                &  3                & 16                & 1.0               & 1590              & 0.696             & 1.104            \\\\\n",
       "\t OAS2\\_0016       & OAS2\\_0016\\_MR1 & Demented          & 1                 &    0              & M                 & R                 & 88                &  8                &  4                & 25                & 0.5               & 1651              & 0.660             & 1.063            \\\\\n",
       "\t OAS2\\_0016       & OAS2\\_0016\\_MR2 & Demented          & 2                 &  707              & M                 & R                 & 90                &  8                &  4                & 23                & 0.5               & 1668              & 0.646             & 1.052            \\\\\n",
       "\t OAS2\\_0017       & OAS2\\_0017\\_MR1 & Nondemented       & 1                 &    0              & M                 & R                 & 80                & 12                &  3                & 29                & 0.0               & 1783              & 0.752             & 0.985            \\\\\n",
       "\t ... & ... & ... & ... & ... & ... & ... & ... & ... & ... & ... & ... & ... & ... & ...\\\\\n",
       "\t OAS2\\_0175       & OAS2\\_0175\\_MR1 & Demented          & 1                 &    0              & M                 & R                 & 70                & 16                &  4                & 26                & 0.5               & 1796              & 0.742             & 0.977            \\\\\n",
       "\t OAS2\\_0175       & OAS2\\_0175\\_MR2 & Demented          & 2                 &  700              & M                 & R                 & 72                & 16                &  4                & 28                & 0.5               & 1796              & 0.732             & 0.977            \\\\\n",
       "\t OAS2\\_0175       & OAS2\\_0175\\_MR3 & Demented          & 3                 & 1343              & M                 & R                 & 73                & 16                &  4                & 28                & 0.5               & 1803              & 0.731             & 0.973            \\\\\n",
       "\t OAS2\\_0176       & OAS2\\_0176\\_MR1 & Converted         & 1                 &    0              & M                 & R                 & 84                & 16                &  2                & 30                & 0.0               & 1404              & 0.710             & 1.250            \\\\\n",
       "\t OAS2\\_0176       & OAS2\\_0176\\_MR2 & Converted         & 2                 &  774              & M                 & R                 & 87                & 16                &  2                & 30                & 0.0               & 1398              & 0.696             & 1.255            \\\\\n",
       "\t OAS2\\_0176       & OAS2\\_0176\\_MR3 & Converted         & 3                 & 1631              & M                 & R                 & 89                & 16                &  2                & 30                & 0.5               & 1408              & 0.679             & 1.246            \\\\\n",
       "\t OAS2\\_0177       & OAS2\\_0177\\_MR1 & Nondemented       & 1                 &    0              & M                 & R                 & 68                & 14                &  3                & 26                & 0.0               & 1444              & 0.778             & 1.216            \\\\\n",
       "\t OAS2\\_0177       & OAS2\\_0177\\_MR2 & Nondemented       & 2                 &  665              & M                 & R                 & 70                & 14                &  3                & 28                & 0.0               & 1510              & 0.770             & 1.162            \\\\\n",
       "\t OAS2\\_0178       & OAS2\\_0178\\_MR1 & Nondemented       & 1                 &    0              & F                 & R                 & 89                & 14                &  2                & 29                & 0.0               & 1509              & 0.756             & 1.163            \\\\\n",
       "\t OAS2\\_0178       & OAS2\\_0178\\_MR2 & Nondemented       & 2                 &  600              & F                 & R                 & 90                & 14                &  2                & 28                & 0.0               & 1495              & 0.746             & 1.174            \\\\\n",
       "\t OAS2\\_0178       & OAS2\\_0178\\_MR3 & Nondemented       & 3                 & 1447              & F                 & R                 & 93                & 14                &  2                & 30                & 0.0               & 1488              & 0.735             & 1.179            \\\\\n",
       "\t OAS2\\_0179       & OAS2\\_0179\\_MR1 & Demented          & 1                 &    0              & M                 & R                 & 79                & 20                &  1                & 26                & 0.5               & 1548              & 0.711             & 1.134            \\\\\n",
       "\t OAS2\\_0179       & OAS2\\_0179\\_MR2 & Demented          & 2                 &  652              & M                 & R                 & 81                & 20                &  1                & 26                & 0.5               & 1556              & 0.691             & 1.128            \\\\\n",
       "\t OAS2\\_0181       & OAS2\\_0181\\_MR1 & Demented          & 1                 &    0              & F                 & R                 & 74                & 12                & NA                & 26                & 0.5               & 1171              & 0.733             & 1.499            \\\\\n",
       "\t OAS2\\_0181       & OAS2\\_0181\\_MR2 & Demented          & 2                 &  539              & F                 & R                 & 75                & 12                & NA                & NA                & 1.0               & 1169              & 0.742             & 1.501            \\\\\n",
       "\t OAS2\\_0181       & OAS2\\_0181\\_MR3 & Demented          & 3                 & 1107              & F                 & R                 & 77                & 12                & NA                & NA                & 1.0               & 1159              & 0.733             & 1.515            \\\\\n",
       "\t OAS2\\_0182       & OAS2\\_0182\\_MR1 & Demented          & 1                 &    0              & M                 & R                 & 73                & 12                & NA                & 23                & 0.5               & 1661              & 0.698             & 1.056            \\\\\n",
       "\t OAS2\\_0182       & OAS2\\_0182\\_MR2 & Demented          & 2                 &  776              & M                 & R                 & 75                & 12                & NA                & 20                & 0.5               & 1654              & 0.696             & 1.061            \\\\\n",
       "\t OAS2\\_0183       & OAS2\\_0183\\_MR1 & Nondemented       & 1                 &    0              & F                 & R                 & 66                & 13                &  2                & 30                & 0.0               & 1495              & 0.746             & 1.174            \\\\\n",
       "\t OAS2\\_0183       & OAS2\\_0183\\_MR2 & Nondemented       & 2                 &  182              & F                 & R                 & 66                & 13                &  2                & 30                & 0.0               & 1506              & 0.740             & 1.165            \\\\\n",
       "\t OAS2\\_0183       & OAS2\\_0183\\_MR3 & Nondemented       & 3                 &  732              & F                 & R                 & 68                & 13                &  2                & 30                & 0.0               & 1506              & 0.740             & 1.165            \\\\\n",
       "\t OAS2\\_0183       & OAS2\\_0183\\_MR4 & Nondemented       & 4                 & 2107              & F                 & R                 & 72                & 13                &  2                & 30                & 0.0               & 1510              & 0.723             & 1.162            \\\\\n",
       "\t OAS2\\_0184       & OAS2\\_0184\\_MR1 & Demented          & 1                 &    0              & F                 & R                 & 72                & 16                &  3                & 24                & 0.5               & 1354              & 0.733             & 1.296            \\\\\n",
       "\t OAS2\\_0184       & OAS2\\_0184\\_MR2 & Demented          & 2                 &  553              & F                 & R                 & 73                & 16                &  3                & 21                & 1.0               & 1351              & 0.708             & 1.299            \\\\\n",
       "\t OAS2\\_0185       & OAS2\\_0185\\_MR1 & Demented          & 1                 &    0              & M                 & R                 & 80                & 16                &  1                & 28                & 0.5               & 1704              & 0.711             & 1.030            \\\\\n",
       "\t OAS2\\_0185       & OAS2\\_0185\\_MR2 & Demented          & 2                 &  842              & M                 & R                 & 82                & 16                &  1                & 28                & 0.5               & 1693              & 0.694             & 1.037            \\\\\n",
       "\t OAS2\\_0185       & OAS2\\_0185\\_MR3 & Demented          & 3                 & 2297              & M                 & R                 & 86                & 16                &  1                & 26                & 0.5               & 1688              & 0.675             & 1.040            \\\\\n",
       "\t OAS2\\_0186       & OAS2\\_0186\\_MR1 & Nondemented       & 1                 &    0              & F                 & R                 & 61                & 13                &  2                & 30                & 0.0               & 1319              & 0.801             & 1.331            \\\\\n",
       "\t OAS2\\_0186       & OAS2\\_0186\\_MR2 & Nondemented       & 2                 &  763              & F                 & R                 & 63                & 13                &  2                & 30                & 0.0               & 1327              & 0.796             & 1.323            \\\\\n",
       "\t OAS2\\_0186       & OAS2\\_0186\\_MR3 & Nondemented       & 3                 & 1608              & F                 & R                 & 65                & 13                &  2                & 30                & 0.0               & 1333              & 0.801             & 1.317            \\\\\n",
       "\\end{tabular}\n"
      ],
      "text/markdown": [
       "\n",
       "| Subject.ID | MRI.ID | Group | Visit | MR.Delay | M.F | Hand | Age | EDUC | SES | MMSE | CDR | eTIV | nWBV | ASF |\n",
       "|---|---|---|---|---|---|---|---|---|---|---|---|---|---|---|\n",
       "| OAS2_0001     | OAS2_0001_MR1 | Nondemented   | 1             |    0          | M             | R             | 87            | 14            |  2            | 27            | 0.0           | 1987          | 0.696         | 0.883         |\n",
       "| OAS2_0001     | OAS2_0001_MR2 | Nondemented   | 2             |  457          | M             | R             | 88            | 14            |  2            | 30            | 0.0           | 2004          | 0.681         | 0.876         |\n",
       "| OAS2_0002     | OAS2_0002_MR1 | Demented      | 1             |    0          | M             | R             | 75            | 12            | NA            | 23            | 0.5           | 1678          | 0.736         | 1.046         |\n",
       "| OAS2_0002     | OAS2_0002_MR2 | Demented      | 2             |  560          | M             | R             | 76            | 12            | NA            | 28            | 0.5           | 1738          | 0.713         | 1.010         |\n",
       "| OAS2_0002     | OAS2_0002_MR3 | Demented      | 3             | 1895          | M             | R             | 80            | 12            | NA            | 22            | 0.5           | 1698          | 0.701         | 1.034         |\n",
       "| OAS2_0004     | OAS2_0004_MR1 | Nondemented   | 1             |    0          | F             | R             | 88            | 18            |  3            | 28            | 0.0           | 1215          | 0.710         | 1.444         |\n",
       "| OAS2_0004     | OAS2_0004_MR2 | Nondemented   | 2             |  538          | F             | R             | 90            | 18            |  3            | 27            | 0.0           | 1200          | 0.718         | 1.462         |\n",
       "| OAS2_0005     | OAS2_0005_MR1 | Nondemented   | 1             |    0          | M             | R             | 80            | 12            |  4            | 28            | 0.0           | 1689          | 0.712         | 1.039         |\n",
       "| OAS2_0005     | OAS2_0005_MR2 | Nondemented   | 2             | 1010          | M             | R             | 83            | 12            |  4            | 29            | 0.5           | 1701          | 0.711         | 1.032         |\n",
       "| OAS2_0005     | OAS2_0005_MR3 | Nondemented   | 3             | 1603          | M             | R             | 85            | 12            |  4            | 30            | 0.0           | 1699          | 0.705         | 1.033         |\n",
       "| OAS2_0007     | OAS2_0007_MR1 | Demented      | 1             |    0          | M             | R             | 71            | 16            | NA            | 28            | 0.5           | 1357          | 0.748         | 1.293         |\n",
       "| OAS2_0007     | OAS2_0007_MR3 | Demented      | 3             |  518          | M             | R             | 73            | 16            | NA            | 27            | 1.0           | 1365          | 0.727         | 1.286         |\n",
       "| OAS2_0007     | OAS2_0007_MR4 | Demented      | 4             | 1281          | M             | R             | 75            | 16            | NA            | 27            | 1.0           | 1372          | 0.710         | 1.279         |\n",
       "| OAS2_0008     | OAS2_0008_MR1 | Nondemented   | 1             |    0          | F             | R             | 93            | 14            |  2            | 30            | 0.0           | 1272          | 0.698         | 1.380         |\n",
       "| OAS2_0008     | OAS2_0008_MR2 | Nondemented   | 2             |  742          | F             | R             | 95            | 14            |  2            | 29            | 0.0           | 1257          | 0.703         | 1.396         |\n",
       "| OAS2_0009     | OAS2_0009_MR1 | Demented      | 1             |    0          | M             | R             | 68            | 12            |  2            | 27            | 0.5           | 1457          | 0.806         | 1.205         |\n",
       "| OAS2_0009     | OAS2_0009_MR2 | Demented      | 2             |  576          | M             | R             | 69            | 12            |  2            | 24            | 0.5           | 1480          | 0.791         | 1.186         |\n",
       "| OAS2_0010     | OAS2_0010_MR1 | Demented      | 1             |    0          | F             | R             | 66            | 12            |  3            | 30            | 0.5           | 1447          | 0.769         | 1.213         |\n",
       "| OAS2_0010     | OAS2_0010_MR2 | Demented      | 2             |  854          | F             | R             | 68            | 12            |  3            | 29            | 0.5           | 1482          | 0.752         | 1.184         |\n",
       "| OAS2_0012     | OAS2_0012_MR1 | Nondemented   | 1             |    0          | F             | R             | 78            | 16            |  2            | 29            | 0.0           | 1333          | 0.748         | 1.316         |\n",
       "| OAS2_0012     | OAS2_0012_MR2 | Nondemented   | 2             |  730          | F             | R             | 80            | 16            |  2            | 29            | 0.0           | 1323          | 0.738         | 1.326         |\n",
       "| OAS2_0012     | OAS2_0012_MR3 | Nondemented   | 3             | 1598          | F             | R             | 83            | 16            |  2            | 29            | 0.0           | 1323          | 0.718         | 1.327         |\n",
       "| OAS2_0013     | OAS2_0013_MR1 | Nondemented   | 1             |    0          | F             | R             | 81            | 12            |  4            | 30            | 0.0           | 1230          | 0.715         | 1.427         |\n",
       "| OAS2_0013     | OAS2_0013_MR2 | Nondemented   | 2             |  643          | F             | R             | 82            | 12            |  4            | 30            | 0.0           | 1212          | 0.720         | 1.448         |\n",
       "| OAS2_0013     | OAS2_0013_MR3 | Nondemented   | 3             | 1456          | F             | R             | 85            | 12            |  4            | 29            | 0.0           | 1225          | 0.710         | 1.433         |\n",
       "| OAS2_0014     | OAS2_0014_MR1 | Demented      | 1             |    0          | M             | R             | 76            | 16            |  3            | 21            | 0.5           | 1602          | 0.697         | 1.096         |\n",
       "| OAS2_0014     | OAS2_0014_MR2 | Demented      | 2             |  504          | M             | R             | 77            | 16            |  3            | 16            | 1.0           | 1590          | 0.696         | 1.104         |\n",
       "| OAS2_0016     | OAS2_0016_MR1 | Demented      | 1             |    0          | M             | R             | 88            |  8            |  4            | 25            | 0.5           | 1651          | 0.660         | 1.063         |\n",
       "| OAS2_0016     | OAS2_0016_MR2 | Demented      | 2             |  707          | M             | R             | 90            |  8            |  4            | 23            | 0.5           | 1668          | 0.646         | 1.052         |\n",
       "| OAS2_0017     | OAS2_0017_MR1 | Nondemented   | 1             |    0          | M             | R             | 80            | 12            |  3            | 29            | 0.0           | 1783          | 0.752         | 0.985         |\n",
       "| ... | ... | ... | ... | ... | ... | ... | ... | ... | ... | ... | ... | ... | ... | ... |\n",
       "| OAS2_0175     | OAS2_0175_MR1 | Demented      | 1             |    0          | M             | R             | 70            | 16            |  4            | 26            | 0.5           | 1796          | 0.742         | 0.977         |\n",
       "| OAS2_0175     | OAS2_0175_MR2 | Demented      | 2             |  700          | M             | R             | 72            | 16            |  4            | 28            | 0.5           | 1796          | 0.732         | 0.977         |\n",
       "| OAS2_0175     | OAS2_0175_MR3 | Demented      | 3             | 1343          | M             | R             | 73            | 16            |  4            | 28            | 0.5           | 1803          | 0.731         | 0.973         |\n",
       "| OAS2_0176     | OAS2_0176_MR1 | Converted     | 1             |    0          | M             | R             | 84            | 16            |  2            | 30            | 0.0           | 1404          | 0.710         | 1.250         |\n",
       "| OAS2_0176     | OAS2_0176_MR2 | Converted     | 2             |  774          | M             | R             | 87            | 16            |  2            | 30            | 0.0           | 1398          | 0.696         | 1.255         |\n",
       "| OAS2_0176     | OAS2_0176_MR3 | Converted     | 3             | 1631          | M             | R             | 89            | 16            |  2            | 30            | 0.5           | 1408          | 0.679         | 1.246         |\n",
       "| OAS2_0177     | OAS2_0177_MR1 | Nondemented   | 1             |    0          | M             | R             | 68            | 14            |  3            | 26            | 0.0           | 1444          | 0.778         | 1.216         |\n",
       "| OAS2_0177     | OAS2_0177_MR2 | Nondemented   | 2             |  665          | M             | R             | 70            | 14            |  3            | 28            | 0.0           | 1510          | 0.770         | 1.162         |\n",
       "| OAS2_0178     | OAS2_0178_MR1 | Nondemented   | 1             |    0          | F             | R             | 89            | 14            |  2            | 29            | 0.0           | 1509          | 0.756         | 1.163         |\n",
       "| OAS2_0178     | OAS2_0178_MR2 | Nondemented   | 2             |  600          | F             | R             | 90            | 14            |  2            | 28            | 0.0           | 1495          | 0.746         | 1.174         |\n",
       "| OAS2_0178     | OAS2_0178_MR3 | Nondemented   | 3             | 1447          | F             | R             | 93            | 14            |  2            | 30            | 0.0           | 1488          | 0.735         | 1.179         |\n",
       "| OAS2_0179     | OAS2_0179_MR1 | Demented      | 1             |    0          | M             | R             | 79            | 20            |  1            | 26            | 0.5           | 1548          | 0.711         | 1.134         |\n",
       "| OAS2_0179     | OAS2_0179_MR2 | Demented      | 2             |  652          | M             | R             | 81            | 20            |  1            | 26            | 0.5           | 1556          | 0.691         | 1.128         |\n",
       "| OAS2_0181     | OAS2_0181_MR1 | Demented      | 1             |    0          | F             | R             | 74            | 12            | NA            | 26            | 0.5           | 1171          | 0.733         | 1.499         |\n",
       "| OAS2_0181     | OAS2_0181_MR2 | Demented      | 2             |  539          | F             | R             | 75            | 12            | NA            | NA            | 1.0           | 1169          | 0.742         | 1.501         |\n",
       "| OAS2_0181     | OAS2_0181_MR3 | Demented      | 3             | 1107          | F             | R             | 77            | 12            | NA            | NA            | 1.0           | 1159          | 0.733         | 1.515         |\n",
       "| OAS2_0182     | OAS2_0182_MR1 | Demented      | 1             |    0          | M             | R             | 73            | 12            | NA            | 23            | 0.5           | 1661          | 0.698         | 1.056         |\n",
       "| OAS2_0182     | OAS2_0182_MR2 | Demented      | 2             |  776          | M             | R             | 75            | 12            | NA            | 20            | 0.5           | 1654          | 0.696         | 1.061         |\n",
       "| OAS2_0183     | OAS2_0183_MR1 | Nondemented   | 1             |    0          | F             | R             | 66            | 13            |  2            | 30            | 0.0           | 1495          | 0.746         | 1.174         |\n",
       "| OAS2_0183     | OAS2_0183_MR2 | Nondemented   | 2             |  182          | F             | R             | 66            | 13            |  2            | 30            | 0.0           | 1506          | 0.740         | 1.165         |\n",
       "| OAS2_0183     | OAS2_0183_MR3 | Nondemented   | 3             |  732          | F             | R             | 68            | 13            |  2            | 30            | 0.0           | 1506          | 0.740         | 1.165         |\n",
       "| OAS2_0183     | OAS2_0183_MR4 | Nondemented   | 4             | 2107          | F             | R             | 72            | 13            |  2            | 30            | 0.0           | 1510          | 0.723         | 1.162         |\n",
       "| OAS2_0184     | OAS2_0184_MR1 | Demented      | 1             |    0          | F             | R             | 72            | 16            |  3            | 24            | 0.5           | 1354          | 0.733         | 1.296         |\n",
       "| OAS2_0184     | OAS2_0184_MR2 | Demented      | 2             |  553          | F             | R             | 73            | 16            |  3            | 21            | 1.0           | 1351          | 0.708         | 1.299         |\n",
       "| OAS2_0185     | OAS2_0185_MR1 | Demented      | 1             |    0          | M             | R             | 80            | 16            |  1            | 28            | 0.5           | 1704          | 0.711         | 1.030         |\n",
       "| OAS2_0185     | OAS2_0185_MR2 | Demented      | 2             |  842          | M             | R             | 82            | 16            |  1            | 28            | 0.5           | 1693          | 0.694         | 1.037         |\n",
       "| OAS2_0185     | OAS2_0185_MR3 | Demented      | 3             | 2297          | M             | R             | 86            | 16            |  1            | 26            | 0.5           | 1688          | 0.675         | 1.040         |\n",
       "| OAS2_0186     | OAS2_0186_MR1 | Nondemented   | 1             |    0          | F             | R             | 61            | 13            |  2            | 30            | 0.0           | 1319          | 0.801         | 1.331         |\n",
       "| OAS2_0186     | OAS2_0186_MR2 | Nondemented   | 2             |  763          | F             | R             | 63            | 13            |  2            | 30            | 0.0           | 1327          | 0.796         | 1.323         |\n",
       "| OAS2_0186     | OAS2_0186_MR3 | Nondemented   | 3             | 1608          | F             | R             | 65            | 13            |  2            | 30            | 0.0           | 1333          | 0.801         | 1.317         |\n",
       "\n"
      ],
      "text/plain": [
       "    Subject.ID MRI.ID        Group       Visit MR.Delay M.F Hand Age EDUC SES\n",
       "1   OAS2_0001  OAS2_0001_MR1 Nondemented 1        0     M   R    87  14    2 \n",
       "2   OAS2_0001  OAS2_0001_MR2 Nondemented 2      457     M   R    88  14    2 \n",
       "3   OAS2_0002  OAS2_0002_MR1 Demented    1        0     M   R    75  12   NA \n",
       "4   OAS2_0002  OAS2_0002_MR2 Demented    2      560     M   R    76  12   NA \n",
       "5   OAS2_0002  OAS2_0002_MR3 Demented    3     1895     M   R    80  12   NA \n",
       "6   OAS2_0004  OAS2_0004_MR1 Nondemented 1        0     F   R    88  18    3 \n",
       "7   OAS2_0004  OAS2_0004_MR2 Nondemented 2      538     F   R    90  18    3 \n",
       "8   OAS2_0005  OAS2_0005_MR1 Nondemented 1        0     M   R    80  12    4 \n",
       "9   OAS2_0005  OAS2_0005_MR2 Nondemented 2     1010     M   R    83  12    4 \n",
       "10  OAS2_0005  OAS2_0005_MR3 Nondemented 3     1603     M   R    85  12    4 \n",
       "11  OAS2_0007  OAS2_0007_MR1 Demented    1        0     M   R    71  16   NA \n",
       "12  OAS2_0007  OAS2_0007_MR3 Demented    3      518     M   R    73  16   NA \n",
       "13  OAS2_0007  OAS2_0007_MR4 Demented    4     1281     M   R    75  16   NA \n",
       "14  OAS2_0008  OAS2_0008_MR1 Nondemented 1        0     F   R    93  14    2 \n",
       "15  OAS2_0008  OAS2_0008_MR2 Nondemented 2      742     F   R    95  14    2 \n",
       "16  OAS2_0009  OAS2_0009_MR1 Demented    1        0     M   R    68  12    2 \n",
       "17  OAS2_0009  OAS2_0009_MR2 Demented    2      576     M   R    69  12    2 \n",
       "18  OAS2_0010  OAS2_0010_MR1 Demented    1        0     F   R    66  12    3 \n",
       "19  OAS2_0010  OAS2_0010_MR2 Demented    2      854     F   R    68  12    3 \n",
       "20  OAS2_0012  OAS2_0012_MR1 Nondemented 1        0     F   R    78  16    2 \n",
       "21  OAS2_0012  OAS2_0012_MR2 Nondemented 2      730     F   R    80  16    2 \n",
       "22  OAS2_0012  OAS2_0012_MR3 Nondemented 3     1598     F   R    83  16    2 \n",
       "23  OAS2_0013  OAS2_0013_MR1 Nondemented 1        0     F   R    81  12    4 \n",
       "24  OAS2_0013  OAS2_0013_MR2 Nondemented 2      643     F   R    82  12    4 \n",
       "25  OAS2_0013  OAS2_0013_MR3 Nondemented 3     1456     F   R    85  12    4 \n",
       "26  OAS2_0014  OAS2_0014_MR1 Demented    1        0     M   R    76  16    3 \n",
       "27  OAS2_0014  OAS2_0014_MR2 Demented    2      504     M   R    77  16    3 \n",
       "28  OAS2_0016  OAS2_0016_MR1 Demented    1        0     M   R    88   8    4 \n",
       "29  OAS2_0016  OAS2_0016_MR2 Demented    2      707     M   R    90   8    4 \n",
       "30  OAS2_0017  OAS2_0017_MR1 Nondemented 1        0     M   R    80  12    3 \n",
       "... ...        ...           ...         ...   ...      ... ...  ... ...  ...\n",
       "344 OAS2_0175  OAS2_0175_MR1 Demented    1        0     M   R    70  16    4 \n",
       "345 OAS2_0175  OAS2_0175_MR2 Demented    2      700     M   R    72  16    4 \n",
       "346 OAS2_0175  OAS2_0175_MR3 Demented    3     1343     M   R    73  16    4 \n",
       "347 OAS2_0176  OAS2_0176_MR1 Converted   1        0     M   R    84  16    2 \n",
       "348 OAS2_0176  OAS2_0176_MR2 Converted   2      774     M   R    87  16    2 \n",
       "349 OAS2_0176  OAS2_0176_MR3 Converted   3     1631     M   R    89  16    2 \n",
       "350 OAS2_0177  OAS2_0177_MR1 Nondemented 1        0     M   R    68  14    3 \n",
       "351 OAS2_0177  OAS2_0177_MR2 Nondemented 2      665     M   R    70  14    3 \n",
       "352 OAS2_0178  OAS2_0178_MR1 Nondemented 1        0     F   R    89  14    2 \n",
       "353 OAS2_0178  OAS2_0178_MR2 Nondemented 2      600     F   R    90  14    2 \n",
       "354 OAS2_0178  OAS2_0178_MR3 Nondemented 3     1447     F   R    93  14    2 \n",
       "355 OAS2_0179  OAS2_0179_MR1 Demented    1        0     M   R    79  20    1 \n",
       "356 OAS2_0179  OAS2_0179_MR2 Demented    2      652     M   R    81  20    1 \n",
       "357 OAS2_0181  OAS2_0181_MR1 Demented    1        0     F   R    74  12   NA \n",
       "358 OAS2_0181  OAS2_0181_MR2 Demented    2      539     F   R    75  12   NA \n",
       "359 OAS2_0181  OAS2_0181_MR3 Demented    3     1107     F   R    77  12   NA \n",
       "360 OAS2_0182  OAS2_0182_MR1 Demented    1        0     M   R    73  12   NA \n",
       "361 OAS2_0182  OAS2_0182_MR2 Demented    2      776     M   R    75  12   NA \n",
       "362 OAS2_0183  OAS2_0183_MR1 Nondemented 1        0     F   R    66  13    2 \n",
       "363 OAS2_0183  OAS2_0183_MR2 Nondemented 2      182     F   R    66  13    2 \n",
       "364 OAS2_0183  OAS2_0183_MR3 Nondemented 3      732     F   R    68  13    2 \n",
       "365 OAS2_0183  OAS2_0183_MR4 Nondemented 4     2107     F   R    72  13    2 \n",
       "366 OAS2_0184  OAS2_0184_MR1 Demented    1        0     F   R    72  16    3 \n",
       "367 OAS2_0184  OAS2_0184_MR2 Demented    2      553     F   R    73  16    3 \n",
       "368 OAS2_0185  OAS2_0185_MR1 Demented    1        0     M   R    80  16    1 \n",
       "369 OAS2_0185  OAS2_0185_MR2 Demented    2      842     M   R    82  16    1 \n",
       "370 OAS2_0185  OAS2_0185_MR3 Demented    3     2297     M   R    86  16    1 \n",
       "371 OAS2_0186  OAS2_0186_MR1 Nondemented 1        0     F   R    61  13    2 \n",
       "372 OAS2_0186  OAS2_0186_MR2 Nondemented 2      763     F   R    63  13    2 \n",
       "373 OAS2_0186  OAS2_0186_MR3 Nondemented 3     1608     F   R    65  13    2 \n",
       "    MMSE CDR eTIV nWBV  ASF  \n",
       "1   27   0.0 1987 0.696 0.883\n",
       "2   30   0.0 2004 0.681 0.876\n",
       "3   23   0.5 1678 0.736 1.046\n",
       "4   28   0.5 1738 0.713 1.010\n",
       "5   22   0.5 1698 0.701 1.034\n",
       "6   28   0.0 1215 0.710 1.444\n",
       "7   27   0.0 1200 0.718 1.462\n",
       "8   28   0.0 1689 0.712 1.039\n",
       "9   29   0.5 1701 0.711 1.032\n",
       "10  30   0.0 1699 0.705 1.033\n",
       "11  28   0.5 1357 0.748 1.293\n",
       "12  27   1.0 1365 0.727 1.286\n",
       "13  27   1.0 1372 0.710 1.279\n",
       "14  30   0.0 1272 0.698 1.380\n",
       "15  29   0.0 1257 0.703 1.396\n",
       "16  27   0.5 1457 0.806 1.205\n",
       "17  24   0.5 1480 0.791 1.186\n",
       "18  30   0.5 1447 0.769 1.213\n",
       "19  29   0.5 1482 0.752 1.184\n",
       "20  29   0.0 1333 0.748 1.316\n",
       "21  29   0.0 1323 0.738 1.326\n",
       "22  29   0.0 1323 0.718 1.327\n",
       "23  30   0.0 1230 0.715 1.427\n",
       "24  30   0.0 1212 0.720 1.448\n",
       "25  29   0.0 1225 0.710 1.433\n",
       "26  21   0.5 1602 0.697 1.096\n",
       "27  16   1.0 1590 0.696 1.104\n",
       "28  25   0.5 1651 0.660 1.063\n",
       "29  23   0.5 1668 0.646 1.052\n",
       "30  29   0.0 1783 0.752 0.985\n",
       "... ...  ... ...  ...   ...  \n",
       "344 26   0.5 1796 0.742 0.977\n",
       "345 28   0.5 1796 0.732 0.977\n",
       "346 28   0.5 1803 0.731 0.973\n",
       "347 30   0.0 1404 0.710 1.250\n",
       "348 30   0.0 1398 0.696 1.255\n",
       "349 30   0.5 1408 0.679 1.246\n",
       "350 26   0.0 1444 0.778 1.216\n",
       "351 28   0.0 1510 0.770 1.162\n",
       "352 29   0.0 1509 0.756 1.163\n",
       "353 28   0.0 1495 0.746 1.174\n",
       "354 30   0.0 1488 0.735 1.179\n",
       "355 26   0.5 1548 0.711 1.134\n",
       "356 26   0.5 1556 0.691 1.128\n",
       "357 26   0.5 1171 0.733 1.499\n",
       "358 NA   1.0 1169 0.742 1.501\n",
       "359 NA   1.0 1159 0.733 1.515\n",
       "360 23   0.5 1661 0.698 1.056\n",
       "361 20   0.5 1654 0.696 1.061\n",
       "362 30   0.0 1495 0.746 1.174\n",
       "363 30   0.0 1506 0.740 1.165\n",
       "364 30   0.0 1506 0.740 1.165\n",
       "365 30   0.0 1510 0.723 1.162\n",
       "366 24   0.5 1354 0.733 1.296\n",
       "367 21   1.0 1351 0.708 1.299\n",
       "368 28   0.5 1704 0.711 1.030\n",
       "369 28   0.5 1693 0.694 1.037\n",
       "370 26   0.5 1688 0.675 1.040\n",
       "371 30   0.0 1319 0.801 1.331\n",
       "372 30   0.0 1327 0.796 1.323\n",
       "373 30   0.0 1333 0.801 1.317"
      ]
     },
     "metadata": {},
     "output_type": "display_data"
    }
   ],
   "source": [
    "my_data <- read.csv(\"oasis_longitudinal.csv\")\n",
    "my_data"
   ]
  },
  {
   "cell_type": "code",
   "execution_count": 22,
   "id": "5cb758e5",
   "metadata": {},
   "outputs": [
    {
     "data": {
      "text/html": [
       "<table>\n",
       "<thead><tr><th></th><th scope=col>Subject.ID</th><th scope=col>MRI.ID</th><th scope=col>Group</th><th scope=col>Visit</th><th scope=col>MR.Delay</th><th scope=col>M.F</th><th scope=col>Hand</th><th scope=col>Age</th><th scope=col>EDUC</th><th scope=col>SES</th><th scope=col>MMSE</th><th scope=col>CDR</th><th scope=col>eTIV</th><th scope=col>nWBV</th><th scope=col>ASF</th></tr></thead>\n",
       "<tbody>\n",
       "\t<tr><th scope=row>1</th><td>OAS2_0001    </td><td>OAS2_0001_MR1</td><td>Nondemented  </td><td>1            </td><td>0            </td><td>M            </td><td>R            </td><td>87           </td><td>14           </td><td> 2           </td><td>27           </td><td>0.0          </td><td>1987         </td><td>0.696        </td><td>0.883        </td></tr>\n",
       "\t<tr><th scope=row>3</th><td>OAS2_0002    </td><td>OAS2_0002_MR1</td><td>Demented     </td><td>1            </td><td>0            </td><td>M            </td><td>R            </td><td>75           </td><td>12           </td><td>NA           </td><td>23           </td><td>0.5          </td><td>1678         </td><td>0.736        </td><td>1.046        </td></tr>\n",
       "\t<tr><th scope=row>6</th><td>OAS2_0004    </td><td>OAS2_0004_MR1</td><td>Nondemented  </td><td>1            </td><td>0            </td><td>F            </td><td>R            </td><td>88           </td><td>18           </td><td> 3           </td><td>28           </td><td>0.0          </td><td>1215         </td><td>0.710        </td><td>1.444        </td></tr>\n",
       "\t<tr><th scope=row>8</th><td>OAS2_0005    </td><td>OAS2_0005_MR1</td><td>Nondemented  </td><td>1            </td><td>0            </td><td>M            </td><td>R            </td><td>80           </td><td>12           </td><td> 4           </td><td>28           </td><td>0.0          </td><td>1689         </td><td>0.712        </td><td>1.039        </td></tr>\n",
       "\t<tr><th scope=row>11</th><td>OAS2_0007    </td><td>OAS2_0007_MR1</td><td>Demented     </td><td>1            </td><td>0            </td><td>M            </td><td>R            </td><td>71           </td><td>16           </td><td>NA           </td><td>28           </td><td>0.5          </td><td>1357         </td><td>0.748        </td><td>1.293        </td></tr>\n",
       "\t<tr><th scope=row>14</th><td>OAS2_0008    </td><td>OAS2_0008_MR1</td><td>Nondemented  </td><td>1            </td><td>0            </td><td>F            </td><td>R            </td><td>93           </td><td>14           </td><td> 2           </td><td>30           </td><td>0.0          </td><td>1272         </td><td>0.698        </td><td>1.380        </td></tr>\n",
       "\t<tr><th scope=row>16</th><td>OAS2_0009    </td><td>OAS2_0009_MR1</td><td>Demented     </td><td>1            </td><td>0            </td><td>M            </td><td>R            </td><td>68           </td><td>12           </td><td> 2           </td><td>27           </td><td>0.5          </td><td>1457         </td><td>0.806        </td><td>1.205        </td></tr>\n",
       "\t<tr><th scope=row>18</th><td>OAS2_0010    </td><td>OAS2_0010_MR1</td><td>Demented     </td><td>1            </td><td>0            </td><td>F            </td><td>R            </td><td>66           </td><td>12           </td><td> 3           </td><td>30           </td><td>0.5          </td><td>1447         </td><td>0.769        </td><td>1.213        </td></tr>\n",
       "\t<tr><th scope=row>20</th><td>OAS2_0012    </td><td>OAS2_0012_MR1</td><td>Nondemented  </td><td>1            </td><td>0            </td><td>F            </td><td>R            </td><td>78           </td><td>16           </td><td> 2           </td><td>29           </td><td>0.0          </td><td>1333         </td><td>0.748        </td><td>1.316        </td></tr>\n",
       "\t<tr><th scope=row>23</th><td>OAS2_0013    </td><td>OAS2_0013_MR1</td><td>Nondemented  </td><td>1            </td><td>0            </td><td>F            </td><td>R            </td><td>81           </td><td>12           </td><td> 4           </td><td>30           </td><td>0.0          </td><td>1230         </td><td>0.715        </td><td>1.427        </td></tr>\n",
       "\t<tr><th scope=row>26</th><td>OAS2_0014    </td><td>OAS2_0014_MR1</td><td>Demented     </td><td>1            </td><td>0            </td><td>M            </td><td>R            </td><td>76           </td><td>16           </td><td> 3           </td><td>21           </td><td>0.5          </td><td>1602         </td><td>0.697        </td><td>1.096        </td></tr>\n",
       "\t<tr><th scope=row>28</th><td>OAS2_0016    </td><td>OAS2_0016_MR1</td><td>Demented     </td><td>1            </td><td>0            </td><td>M            </td><td>R            </td><td>88           </td><td> 8           </td><td> 4           </td><td>25           </td><td>0.5          </td><td>1651         </td><td>0.660        </td><td>1.063        </td></tr>\n",
       "\t<tr><th scope=row>30</th><td>OAS2_0017    </td><td>OAS2_0017_MR1</td><td>Nondemented  </td><td>1            </td><td>0            </td><td>M            </td><td>R            </td><td>80           </td><td>12           </td><td> 3           </td><td>29           </td><td>0.0          </td><td>1783         </td><td>0.752        </td><td>0.985        </td></tr>\n",
       "\t<tr><th scope=row>34</th><td>OAS2_0018    </td><td>OAS2_0018_MR1</td><td>Converted    </td><td>1            </td><td>0            </td><td>F            </td><td>R            </td><td>87           </td><td>14           </td><td> 1           </td><td>30           </td><td>0.0          </td><td>1406         </td><td>0.715        </td><td>1.248        </td></tr>\n",
       "\t<tr><th scope=row>37</th><td>OAS2_0020    </td><td>OAS2_0020_MR1</td><td>Converted    </td><td>1            </td><td>0            </td><td>M            </td><td>R            </td><td>80           </td><td>20           </td><td> 1           </td><td>29           </td><td>0.0          </td><td>1587         </td><td>0.693        </td><td>1.106        </td></tr>\n",
       "\t<tr><th scope=row>40</th><td>OAS2_0021    </td><td>OAS2_0021_MR1</td><td>Demented     </td><td>1            </td><td>0            </td><td>M            </td><td>R            </td><td>72           </td><td>20           </td><td> 1           </td><td>26           </td><td>0.5          </td><td>1911         </td><td>0.719        </td><td>0.919        </td></tr>\n",
       "\t<tr><th scope=row>42</th><td>OAS2_0022    </td><td>OAS2_0022_MR1</td><td>Nondemented  </td><td>1            </td><td>0            </td><td>F            </td><td>R            </td><td>61           </td><td>16           </td><td> 3           </td><td>30           </td><td>0.0          </td><td>1313         </td><td>0.805        </td><td>1.337        </td></tr>\n",
       "\t<tr><th scope=row>44</th><td>OAS2_0023    </td><td>OAS2_0023_MR1</td><td>Demented     </td><td>1            </td><td>0            </td><td>F            </td><td>R            </td><td>86           </td><td>12           </td><td> 4           </td><td>21           </td><td>0.5          </td><td>1247         </td><td>0.662        </td><td>1.407        </td></tr>\n",
       "\t<tr><th scope=row>46</th><td>OAS2_0026    </td><td>OAS2_0026_MR1</td><td>Demented     </td><td>1            </td><td>0            </td><td>M            </td><td>R            </td><td>82           </td><td>12           </td><td> 3           </td><td>27           </td><td>0.5          </td><td>1420         </td><td>0.713        </td><td>1.236        </td></tr>\n",
       "\t<tr><th scope=row>48</th><td>OAS2_0027    </td><td>OAS2_0027_MR1</td><td>Nondemented  </td><td>1            </td><td>0            </td><td>F            </td><td>R            </td><td>69           </td><td>12           </td><td> 3           </td><td>29           </td><td>0.0          </td><td>1365         </td><td>0.783        </td><td>1.286        </td></tr>\n",
       "\t<tr><th scope=row>52</th><td>OAS2_0028    </td><td>OAS2_0028_MR1</td><td>Demented     </td><td>1            </td><td>0            </td><td>M            </td><td>R            </td><td>64           </td><td>18           </td><td> 2           </td><td>22           </td><td>0.5          </td><td>1547         </td><td>0.737        </td><td>1.134        </td></tr>\n",
       "\t<tr><th scope=row>54</th><td>OAS2_0029    </td><td>OAS2_0029_MR1</td><td>Nondemented  </td><td>1            </td><td>0            </td><td>F            </td><td>R            </td><td>77           </td><td>12           </td><td> 4           </td><td>29           </td><td>0.0          </td><td>1377         </td><td>0.734        </td><td>1.275        </td></tr>\n",
       "\t<tr><th scope=row>56</th><td>OAS2_0030    </td><td>OAS2_0030_MR1</td><td>Nondemented  </td><td>1            </td><td>0            </td><td>F            </td><td>R            </td><td>60           </td><td>18           </td><td> 1           </td><td>30           </td><td>0.0          </td><td>1402         </td><td>0.822        </td><td>1.252        </td></tr>\n",
       "\t<tr><th scope=row>58</th><td>OAS2_0031    </td><td>OAS2_0031_MR1</td><td>Converted    </td><td>1            </td><td>0            </td><td>F            </td><td>R            </td><td>86           </td><td>12           </td><td> 3           </td><td>30           </td><td>0.0          </td><td>1430         </td><td>0.718        </td><td>1.227        </td></tr>\n",
       "\t<tr><th scope=row>61</th><td>OAS2_0032    </td><td>OAS2_0032_MR1</td><td>Demented     </td><td>1            </td><td>0            </td><td>M            </td><td>R            </td><td>90           </td><td>12           </td><td> 3           </td><td>21           </td><td>0.5          </td><td>1307         </td><td>0.679        </td><td>1.342        </td></tr>\n",
       "\t<tr><th scope=row>63</th><td>OAS2_0034    </td><td>OAS2_0034_MR1</td><td>Nondemented  </td><td>1            </td><td>0            </td><td>F            </td><td>R            </td><td>79           </td><td>16           </td><td> 1           </td><td>29           </td><td>0.0          </td><td>1466         </td><td>0.703        </td><td>1.197        </td></tr>\n",
       "\t<tr><th scope=row>67</th><td>OAS2_0035    </td><td>OAS2_0035_MR1</td><td>Nondemented  </td><td>1            </td><td>0            </td><td>F            </td><td>R            </td><td>88           </td><td>12           </td><td> 4           </td><td>30           </td><td>0.0          </td><td>1336         </td><td>0.738        </td><td>1.313        </td></tr>\n",
       "\t<tr><th scope=row>69</th><td>OAS2_0036    </td><td>OAS2_0036_MR1</td><td>Nondemented  </td><td>1            </td><td>0            </td><td>F            </td><td>R            </td><td>69           </td><td>13           </td><td> 4           </td><td>30           </td><td>0.0          </td><td>1359         </td><td>0.789        </td><td>1.291        </td></tr>\n",
       "\t<tr><th scope=row>73</th><td>OAS2_0037    </td><td>OAS2_0037_MR1</td><td>Demented     </td><td>1            </td><td>0            </td><td>M            </td><td>R            </td><td>82           </td><td>12           </td><td> 4           </td><td>27           </td><td>0.5          </td><td>1477         </td><td>0.729        </td><td>1.188        </td></tr>\n",
       "\t<tr><th scope=row>77</th><td>OAS2_0039    </td><td>OAS2_0039_MR1</td><td>Demented     </td><td>1            </td><td>0            </td><td>F            </td><td>R            </td><td>81           </td><td>18           </td><td> 2           </td><td>26           </td><td>0.5          </td><td>1174         </td><td>0.742        </td><td>1.495        </td></tr>\n",
       "\t<tr><th scope=row>...</th><td>...</td><td>...</td><td>...</td><td>...</td><td>...</td><td>...</td><td>...</td><td>...</td><td>...</td><td>...</td><td>...</td><td>...</td><td>...</td><td>...</td><td>...</td></tr>\n",
       "\t<tr><th scope=row>300</th><td>OAS2_0146    </td><td>OAS2_0146_MR1</td><td>Demented     </td><td>1            </td><td>0            </td><td>F            </td><td>R            </td><td>80           </td><td>15           </td><td> 2           </td><td>20           </td><td>1.0          </td><td>1732         </td><td>0.685        </td><td>1.013        </td></tr>\n",
       "\t<tr><th scope=row>302</th><td>OAS2_0147    </td><td>OAS2_0147_MR1</td><td>Nondemented  </td><td>1            </td><td>0            </td><td>F            </td><td>R            </td><td>77           </td><td>13           </td><td> 2           </td><td>29           </td><td>0.0          </td><td>1351         </td><td>0.769        </td><td>1.299        </td></tr>\n",
       "\t<tr><th scope=row>306</th><td>OAS2_0149    </td><td>OAS2_0149_MR1</td><td>Nondemented  </td><td>1            </td><td>0            </td><td>F            </td><td>R            </td><td>81           </td><td>13           </td><td> 2           </td><td>29           </td><td>0.0          </td><td>1345         </td><td>0.737        </td><td>1.305        </td></tr>\n",
       "\t<tr><th scope=row>308</th><td>OAS2_0150    </td><td>OAS2_0150_MR1</td><td>Demented     </td><td>1            </td><td>0            </td><td>F            </td><td>R            </td><td>73           </td><td>12           </td><td> 3           </td><td>30           </td><td>0.5          </td><td>1343         </td><td>0.720        </td><td>1.306        </td></tr>\n",
       "\t<tr><th scope=row>310</th><td>OAS2_0152    </td><td>OAS2_0152_MR1</td><td>Nondemented  </td><td>1            </td><td>0            </td><td>F            </td><td>R            </td><td>66           </td><td>18           </td><td> 2           </td><td>29           </td><td>0.0          </td><td>1191         </td><td>0.785        </td><td>1.474        </td></tr>\n",
       "\t<tr><th scope=row>313</th><td>OAS2_0154    </td><td>OAS2_0154_MR1</td><td>Nondemented  </td><td>1            </td><td>0            </td><td>F            </td><td>R            </td><td>75           </td><td>18           </td><td> 1           </td><td>29           </td><td>0.0          </td><td>1436         </td><td>0.750        </td><td>1.222        </td></tr>\n",
       "\t<tr><th scope=row>315</th><td>OAS2_0156    </td><td>OAS2_0156_MR1</td><td>Nondemented  </td><td>1            </td><td>0            </td><td>F            </td><td>R            </td><td>78           </td><td>18           </td><td> 1           </td><td>30           </td><td>0.0          </td><td>1243         </td><td>0.748        </td><td>1.412        </td></tr>\n",
       "\t<tr><th scope=row>317</th><td>OAS2_0157    </td><td>OAS2_0157_MR1</td><td>Demented     </td><td>1            </td><td>0            </td><td>F            </td><td>R            </td><td>73           </td><td>12           </td><td> 2           </td><td>19           </td><td>1.0          </td><td>1274         </td><td>0.728        </td><td>1.377        </td></tr>\n",
       "\t<tr><th scope=row>319</th><td>OAS2_0158    </td><td>OAS2_0158_MR1</td><td>Nondemented  </td><td>1            </td><td>0            </td><td>F            </td><td>R            </td><td>73           </td><td>15           </td><td> 4           </td><td>29           </td><td>0.0          </td><td>1272         </td><td>0.697        </td><td>1.380        </td></tr>\n",
       "\t<tr><th scope=row>321</th><td>OAS2_0159    </td><td>OAS2_0159_MR1</td><td>Demented     </td><td>1            </td><td>0            </td><td>F            </td><td>R            </td><td>73           </td><td>14           </td><td> 3           </td><td>29           </td><td>0.5          </td><td>1238         </td><td>0.757        </td><td>1.418        </td></tr>\n",
       "\t<tr><th scope=row>323</th><td>OAS2_0160    </td><td>OAS2_0160_MR1</td><td>Demented     </td><td>1            </td><td>0            </td><td>M            </td><td>R            </td><td>76           </td><td>12           </td><td>NA           </td><td>27           </td><td>0.5          </td><td>1557         </td><td>0.705        </td><td>1.127        </td></tr>\n",
       "\t<tr><th scope=row>325</th><td>OAS2_0161    </td><td>OAS2_0161_MR1</td><td>Nondemented  </td><td>1            </td><td>0            </td><td>M            </td><td>R            </td><td>77           </td><td>16           </td><td> 1           </td><td>29           </td><td>0.0          </td><td>1818         </td><td>0.734        </td><td>0.965        </td></tr>\n",
       "\t<tr><th scope=row>328</th><td>OAS2_0162    </td><td>OAS2_0162_MR1</td><td>Demented     </td><td>1            </td><td>0            </td><td>M            </td><td>R            </td><td>82           </td><td>14           </td><td> 2           </td><td>23           </td><td>0.5          </td><td>1514         </td><td>0.678        </td><td>1.159        </td></tr>\n",
       "\t<tr><th scope=row>330</th><td>OAS2_0164    </td><td>OAS2_0164_MR1</td><td>Demented     </td><td>1            </td><td>0            </td><td>M            </td><td>R            </td><td>77           </td><td>20           </td><td> 1           </td><td>23           </td><td>1.0          </td><td>1713         </td><td>0.756        </td><td>1.024        </td></tr>\n",
       "\t<tr><th scope=row>332</th><td>OAS2_0165    </td><td>OAS2_0165_MR1</td><td>Demented     </td><td>1            </td><td>0            </td><td>M            </td><td>R            </td><td>78           </td><td>12           </td><td> 3           </td><td>23           </td><td>1.0          </td><td>1491         </td><td>0.710        </td><td>1.177        </td></tr>\n",
       "\t<tr><th scope=row>334</th><td>OAS2_0169    </td><td>OAS2_0169_MR1</td><td>Nondemented  </td><td>1            </td><td>0            </td><td>F            </td><td>R            </td><td>71           </td><td>18           </td><td> 1           </td><td>30           </td><td>0.0          </td><td>1426         </td><td>0.731        </td><td>1.231        </td></tr>\n",
       "\t<tr><th scope=row>336</th><td>OAS2_0171    </td><td>OAS2_0171_MR1</td><td>Nondemented  </td><td>1            </td><td>0            </td><td>M            </td><td>R            </td><td>76           </td><td>16           </td><td> 3           </td><td>30           </td><td>0.0          </td><td>1832         </td><td>0.769        </td><td>0.958        </td></tr>\n",
       "\t<tr><th scope=row>339</th><td>OAS2_0172    </td><td>OAS2_0172_MR1</td><td>Demented     </td><td>1            </td><td>0            </td><td>M            </td><td>R            </td><td>75           </td><td>16           </td><td> 1           </td><td>30           </td><td>0.5          </td><td>1891         </td><td>0.709        </td><td>0.928        </td></tr>\n",
       "\t<tr><th scope=row>341</th><td>OAS2_0174    </td><td>OAS2_0174_MR1</td><td>Nondemented  </td><td>1            </td><td>0            </td><td>M            </td><td>R            </td><td>60           </td><td>12           </td><td> 4           </td><td>30           </td><td>0.0          </td><td>1379         </td><td>0.806        </td><td>1.273        </td></tr>\n",
       "\t<tr><th scope=row>344</th><td>OAS2_0175    </td><td>OAS2_0175_MR1</td><td>Demented     </td><td>1            </td><td>0            </td><td>M            </td><td>R            </td><td>70           </td><td>16           </td><td> 4           </td><td>26           </td><td>0.5          </td><td>1796         </td><td>0.742        </td><td>0.977        </td></tr>\n",
       "\t<tr><th scope=row>347</th><td>OAS2_0176    </td><td>OAS2_0176_MR1</td><td>Converted    </td><td>1            </td><td>0            </td><td>M            </td><td>R            </td><td>84           </td><td>16           </td><td> 2           </td><td>30           </td><td>0.0          </td><td>1404         </td><td>0.710        </td><td>1.250        </td></tr>\n",
       "\t<tr><th scope=row>350</th><td>OAS2_0177    </td><td>OAS2_0177_MR1</td><td>Nondemented  </td><td>1            </td><td>0            </td><td>M            </td><td>R            </td><td>68           </td><td>14           </td><td> 3           </td><td>26           </td><td>0.0          </td><td>1444         </td><td>0.778        </td><td>1.216        </td></tr>\n",
       "\t<tr><th scope=row>352</th><td>OAS2_0178    </td><td>OAS2_0178_MR1</td><td>Nondemented  </td><td>1            </td><td>0            </td><td>F            </td><td>R            </td><td>89           </td><td>14           </td><td> 2           </td><td>29           </td><td>0.0          </td><td>1509         </td><td>0.756        </td><td>1.163        </td></tr>\n",
       "\t<tr><th scope=row>355</th><td>OAS2_0179    </td><td>OAS2_0179_MR1</td><td>Demented     </td><td>1            </td><td>0            </td><td>M            </td><td>R            </td><td>79           </td><td>20           </td><td> 1           </td><td>26           </td><td>0.5          </td><td>1548         </td><td>0.711        </td><td>1.134        </td></tr>\n",
       "\t<tr><th scope=row>357</th><td>OAS2_0181    </td><td>OAS2_0181_MR1</td><td>Demented     </td><td>1            </td><td>0            </td><td>F            </td><td>R            </td><td>74           </td><td>12           </td><td>NA           </td><td>26           </td><td>0.5          </td><td>1171         </td><td>0.733        </td><td>1.499        </td></tr>\n",
       "\t<tr><th scope=row>360</th><td>OAS2_0182    </td><td>OAS2_0182_MR1</td><td>Demented     </td><td>1            </td><td>0            </td><td>M            </td><td>R            </td><td>73           </td><td>12           </td><td>NA           </td><td>23           </td><td>0.5          </td><td>1661         </td><td>0.698        </td><td>1.056        </td></tr>\n",
       "\t<tr><th scope=row>362</th><td>OAS2_0183    </td><td>OAS2_0183_MR1</td><td>Nondemented  </td><td>1            </td><td>0            </td><td>F            </td><td>R            </td><td>66           </td><td>13           </td><td> 2           </td><td>30           </td><td>0.0          </td><td>1495         </td><td>0.746        </td><td>1.174        </td></tr>\n",
       "\t<tr><th scope=row>366</th><td>OAS2_0184    </td><td>OAS2_0184_MR1</td><td>Demented     </td><td>1            </td><td>0            </td><td>F            </td><td>R            </td><td>72           </td><td>16           </td><td> 3           </td><td>24           </td><td>0.5          </td><td>1354         </td><td>0.733        </td><td>1.296        </td></tr>\n",
       "\t<tr><th scope=row>368</th><td>OAS2_0185    </td><td>OAS2_0185_MR1</td><td>Demented     </td><td>1            </td><td>0            </td><td>M            </td><td>R            </td><td>80           </td><td>16           </td><td> 1           </td><td>28           </td><td>0.5          </td><td>1704         </td><td>0.711        </td><td>1.030        </td></tr>\n",
       "\t<tr><th scope=row>371</th><td>OAS2_0186    </td><td>OAS2_0186_MR1</td><td>Nondemented  </td><td>1            </td><td>0            </td><td>F            </td><td>R            </td><td>61           </td><td>13           </td><td> 2           </td><td>30           </td><td>0.0          </td><td>1319         </td><td>0.801        </td><td>1.331        </td></tr>\n",
       "</tbody>\n",
       "</table>\n"
      ],
      "text/latex": [
       "\\begin{tabular}{r|lllllllllllllll}\n",
       "  & Subject.ID & MRI.ID & Group & Visit & MR.Delay & M.F & Hand & Age & EDUC & SES & MMSE & CDR & eTIV & nWBV & ASF\\\\\n",
       "\\hline\n",
       "\t1 & OAS2\\_0001       & OAS2\\_0001\\_MR1 & Nondemented       & 1                 & 0                 & M                 & R                 & 87                & 14                &  2                & 27                & 0.0               & 1987              & 0.696             & 0.883            \\\\\n",
       "\t3 & OAS2\\_0002       & OAS2\\_0002\\_MR1 & Demented          & 1                 & 0                 & M                 & R                 & 75                & 12                & NA                & 23                & 0.5               & 1678              & 0.736             & 1.046            \\\\\n",
       "\t6 & OAS2\\_0004       & OAS2\\_0004\\_MR1 & Nondemented       & 1                 & 0                 & F                 & R                 & 88                & 18                &  3                & 28                & 0.0               & 1215              & 0.710             & 1.444            \\\\\n",
       "\t8 & OAS2\\_0005       & OAS2\\_0005\\_MR1 & Nondemented       & 1                 & 0                 & M                 & R                 & 80                & 12                &  4                & 28                & 0.0               & 1689              & 0.712             & 1.039            \\\\\n",
       "\t11 & OAS2\\_0007       & OAS2\\_0007\\_MR1 & Demented          & 1                 & 0                 & M                 & R                 & 71                & 16                & NA                & 28                & 0.5               & 1357              & 0.748             & 1.293            \\\\\n",
       "\t14 & OAS2\\_0008       & OAS2\\_0008\\_MR1 & Nondemented       & 1                 & 0                 & F                 & R                 & 93                & 14                &  2                & 30                & 0.0               & 1272              & 0.698             & 1.380            \\\\\n",
       "\t16 & OAS2\\_0009       & OAS2\\_0009\\_MR1 & Demented          & 1                 & 0                 & M                 & R                 & 68                & 12                &  2                & 27                & 0.5               & 1457              & 0.806             & 1.205            \\\\\n",
       "\t18 & OAS2\\_0010       & OAS2\\_0010\\_MR1 & Demented          & 1                 & 0                 & F                 & R                 & 66                & 12                &  3                & 30                & 0.5               & 1447              & 0.769             & 1.213            \\\\\n",
       "\t20 & OAS2\\_0012       & OAS2\\_0012\\_MR1 & Nondemented       & 1                 & 0                 & F                 & R                 & 78                & 16                &  2                & 29                & 0.0               & 1333              & 0.748             & 1.316            \\\\\n",
       "\t23 & OAS2\\_0013       & OAS2\\_0013\\_MR1 & Nondemented       & 1                 & 0                 & F                 & R                 & 81                & 12                &  4                & 30                & 0.0               & 1230              & 0.715             & 1.427            \\\\\n",
       "\t26 & OAS2\\_0014       & OAS2\\_0014\\_MR1 & Demented          & 1                 & 0                 & M                 & R                 & 76                & 16                &  3                & 21                & 0.5               & 1602              & 0.697             & 1.096            \\\\\n",
       "\t28 & OAS2\\_0016       & OAS2\\_0016\\_MR1 & Demented          & 1                 & 0                 & M                 & R                 & 88                &  8                &  4                & 25                & 0.5               & 1651              & 0.660             & 1.063            \\\\\n",
       "\t30 & OAS2\\_0017       & OAS2\\_0017\\_MR1 & Nondemented       & 1                 & 0                 & M                 & R                 & 80                & 12                &  3                & 29                & 0.0               & 1783              & 0.752             & 0.985            \\\\\n",
       "\t34 & OAS2\\_0018       & OAS2\\_0018\\_MR1 & Converted         & 1                 & 0                 & F                 & R                 & 87                & 14                &  1                & 30                & 0.0               & 1406              & 0.715             & 1.248            \\\\\n",
       "\t37 & OAS2\\_0020       & OAS2\\_0020\\_MR1 & Converted         & 1                 & 0                 & M                 & R                 & 80                & 20                &  1                & 29                & 0.0               & 1587              & 0.693             & 1.106            \\\\\n",
       "\t40 & OAS2\\_0021       & OAS2\\_0021\\_MR1 & Demented          & 1                 & 0                 & M                 & R                 & 72                & 20                &  1                & 26                & 0.5               & 1911              & 0.719             & 0.919            \\\\\n",
       "\t42 & OAS2\\_0022       & OAS2\\_0022\\_MR1 & Nondemented       & 1                 & 0                 & F                 & R                 & 61                & 16                &  3                & 30                & 0.0               & 1313              & 0.805             & 1.337            \\\\\n",
       "\t44 & OAS2\\_0023       & OAS2\\_0023\\_MR1 & Demented          & 1                 & 0                 & F                 & R                 & 86                & 12                &  4                & 21                & 0.5               & 1247              & 0.662             & 1.407            \\\\\n",
       "\t46 & OAS2\\_0026       & OAS2\\_0026\\_MR1 & Demented          & 1                 & 0                 & M                 & R                 & 82                & 12                &  3                & 27                & 0.5               & 1420              & 0.713             & 1.236            \\\\\n",
       "\t48 & OAS2\\_0027       & OAS2\\_0027\\_MR1 & Nondemented       & 1                 & 0                 & F                 & R                 & 69                & 12                &  3                & 29                & 0.0               & 1365              & 0.783             & 1.286            \\\\\n",
       "\t52 & OAS2\\_0028       & OAS2\\_0028\\_MR1 & Demented          & 1                 & 0                 & M                 & R                 & 64                & 18                &  2                & 22                & 0.5               & 1547              & 0.737             & 1.134            \\\\\n",
       "\t54 & OAS2\\_0029       & OAS2\\_0029\\_MR1 & Nondemented       & 1                 & 0                 & F                 & R                 & 77                & 12                &  4                & 29                & 0.0               & 1377              & 0.734             & 1.275            \\\\\n",
       "\t56 & OAS2\\_0030       & OAS2\\_0030\\_MR1 & Nondemented       & 1                 & 0                 & F                 & R                 & 60                & 18                &  1                & 30                & 0.0               & 1402              & 0.822             & 1.252            \\\\\n",
       "\t58 & OAS2\\_0031       & OAS2\\_0031\\_MR1 & Converted         & 1                 & 0                 & F                 & R                 & 86                & 12                &  3                & 30                & 0.0               & 1430              & 0.718             & 1.227            \\\\\n",
       "\t61 & OAS2\\_0032       & OAS2\\_0032\\_MR1 & Demented          & 1                 & 0                 & M                 & R                 & 90                & 12                &  3                & 21                & 0.5               & 1307              & 0.679             & 1.342            \\\\\n",
       "\t63 & OAS2\\_0034       & OAS2\\_0034\\_MR1 & Nondemented       & 1                 & 0                 & F                 & R                 & 79                & 16                &  1                & 29                & 0.0               & 1466              & 0.703             & 1.197            \\\\\n",
       "\t67 & OAS2\\_0035       & OAS2\\_0035\\_MR1 & Nondemented       & 1                 & 0                 & F                 & R                 & 88                & 12                &  4                & 30                & 0.0               & 1336              & 0.738             & 1.313            \\\\\n",
       "\t69 & OAS2\\_0036       & OAS2\\_0036\\_MR1 & Nondemented       & 1                 & 0                 & F                 & R                 & 69                & 13                &  4                & 30                & 0.0               & 1359              & 0.789             & 1.291            \\\\\n",
       "\t73 & OAS2\\_0037       & OAS2\\_0037\\_MR1 & Demented          & 1                 & 0                 & M                 & R                 & 82                & 12                &  4                & 27                & 0.5               & 1477              & 0.729             & 1.188            \\\\\n",
       "\t77 & OAS2\\_0039       & OAS2\\_0039\\_MR1 & Demented          & 1                 & 0                 & F                 & R                 & 81                & 18                &  2                & 26                & 0.5               & 1174              & 0.742             & 1.495            \\\\\n",
       "\t... & ... & ... & ... & ... & ... & ... & ... & ... & ... & ... & ... & ... & ... & ... & ...\\\\\n",
       "\t300 & OAS2\\_0146       & OAS2\\_0146\\_MR1 & Demented          & 1                 & 0                 & F                 & R                 & 80                & 15                &  2                & 20                & 1.0               & 1732              & 0.685             & 1.013            \\\\\n",
       "\t302 & OAS2\\_0147       & OAS2\\_0147\\_MR1 & Nondemented       & 1                 & 0                 & F                 & R                 & 77                & 13                &  2                & 29                & 0.0               & 1351              & 0.769             & 1.299            \\\\\n",
       "\t306 & OAS2\\_0149       & OAS2\\_0149\\_MR1 & Nondemented       & 1                 & 0                 & F                 & R                 & 81                & 13                &  2                & 29                & 0.0               & 1345              & 0.737             & 1.305            \\\\\n",
       "\t308 & OAS2\\_0150       & OAS2\\_0150\\_MR1 & Demented          & 1                 & 0                 & F                 & R                 & 73                & 12                &  3                & 30                & 0.5               & 1343              & 0.720             & 1.306            \\\\\n",
       "\t310 & OAS2\\_0152       & OAS2\\_0152\\_MR1 & Nondemented       & 1                 & 0                 & F                 & R                 & 66                & 18                &  2                & 29                & 0.0               & 1191              & 0.785             & 1.474            \\\\\n",
       "\t313 & OAS2\\_0154       & OAS2\\_0154\\_MR1 & Nondemented       & 1                 & 0                 & F                 & R                 & 75                & 18                &  1                & 29                & 0.0               & 1436              & 0.750             & 1.222            \\\\\n",
       "\t315 & OAS2\\_0156       & OAS2\\_0156\\_MR1 & Nondemented       & 1                 & 0                 & F                 & R                 & 78                & 18                &  1                & 30                & 0.0               & 1243              & 0.748             & 1.412            \\\\\n",
       "\t317 & OAS2\\_0157       & OAS2\\_0157\\_MR1 & Demented          & 1                 & 0                 & F                 & R                 & 73                & 12                &  2                & 19                & 1.0               & 1274              & 0.728             & 1.377            \\\\\n",
       "\t319 & OAS2\\_0158       & OAS2\\_0158\\_MR1 & Nondemented       & 1                 & 0                 & F                 & R                 & 73                & 15                &  4                & 29                & 0.0               & 1272              & 0.697             & 1.380            \\\\\n",
       "\t321 & OAS2\\_0159       & OAS2\\_0159\\_MR1 & Demented          & 1                 & 0                 & F                 & R                 & 73                & 14                &  3                & 29                & 0.5               & 1238              & 0.757             & 1.418            \\\\\n",
       "\t323 & OAS2\\_0160       & OAS2\\_0160\\_MR1 & Demented          & 1                 & 0                 & M                 & R                 & 76                & 12                & NA                & 27                & 0.5               & 1557              & 0.705             & 1.127            \\\\\n",
       "\t325 & OAS2\\_0161       & OAS2\\_0161\\_MR1 & Nondemented       & 1                 & 0                 & M                 & R                 & 77                & 16                &  1                & 29                & 0.0               & 1818              & 0.734             & 0.965            \\\\\n",
       "\t328 & OAS2\\_0162       & OAS2\\_0162\\_MR1 & Demented          & 1                 & 0                 & M                 & R                 & 82                & 14                &  2                & 23                & 0.5               & 1514              & 0.678             & 1.159            \\\\\n",
       "\t330 & OAS2\\_0164       & OAS2\\_0164\\_MR1 & Demented          & 1                 & 0                 & M                 & R                 & 77                & 20                &  1                & 23                & 1.0               & 1713              & 0.756             & 1.024            \\\\\n",
       "\t332 & OAS2\\_0165       & OAS2\\_0165\\_MR1 & Demented          & 1                 & 0                 & M                 & R                 & 78                & 12                &  3                & 23                & 1.0               & 1491              & 0.710             & 1.177            \\\\\n",
       "\t334 & OAS2\\_0169       & OAS2\\_0169\\_MR1 & Nondemented       & 1                 & 0                 & F                 & R                 & 71                & 18                &  1                & 30                & 0.0               & 1426              & 0.731             & 1.231            \\\\\n",
       "\t336 & OAS2\\_0171       & OAS2\\_0171\\_MR1 & Nondemented       & 1                 & 0                 & M                 & R                 & 76                & 16                &  3                & 30                & 0.0               & 1832              & 0.769             & 0.958            \\\\\n",
       "\t339 & OAS2\\_0172       & OAS2\\_0172\\_MR1 & Demented          & 1                 & 0                 & M                 & R                 & 75                & 16                &  1                & 30                & 0.5               & 1891              & 0.709             & 0.928            \\\\\n",
       "\t341 & OAS2\\_0174       & OAS2\\_0174\\_MR1 & Nondemented       & 1                 & 0                 & M                 & R                 & 60                & 12                &  4                & 30                & 0.0               & 1379              & 0.806             & 1.273            \\\\\n",
       "\t344 & OAS2\\_0175       & OAS2\\_0175\\_MR1 & Demented          & 1                 & 0                 & M                 & R                 & 70                & 16                &  4                & 26                & 0.5               & 1796              & 0.742             & 0.977            \\\\\n",
       "\t347 & OAS2\\_0176       & OAS2\\_0176\\_MR1 & Converted         & 1                 & 0                 & M                 & R                 & 84                & 16                &  2                & 30                & 0.0               & 1404              & 0.710             & 1.250            \\\\\n",
       "\t350 & OAS2\\_0177       & OAS2\\_0177\\_MR1 & Nondemented       & 1                 & 0                 & M                 & R                 & 68                & 14                &  3                & 26                & 0.0               & 1444              & 0.778             & 1.216            \\\\\n",
       "\t352 & OAS2\\_0178       & OAS2\\_0178\\_MR1 & Nondemented       & 1                 & 0                 & F                 & R                 & 89                & 14                &  2                & 29                & 0.0               & 1509              & 0.756             & 1.163            \\\\\n",
       "\t355 & OAS2\\_0179       & OAS2\\_0179\\_MR1 & Demented          & 1                 & 0                 & M                 & R                 & 79                & 20                &  1                & 26                & 0.5               & 1548              & 0.711             & 1.134            \\\\\n",
       "\t357 & OAS2\\_0181       & OAS2\\_0181\\_MR1 & Demented          & 1                 & 0                 & F                 & R                 & 74                & 12                & NA                & 26                & 0.5               & 1171              & 0.733             & 1.499            \\\\\n",
       "\t360 & OAS2\\_0182       & OAS2\\_0182\\_MR1 & Demented          & 1                 & 0                 & M                 & R                 & 73                & 12                & NA                & 23                & 0.5               & 1661              & 0.698             & 1.056            \\\\\n",
       "\t362 & OAS2\\_0183       & OAS2\\_0183\\_MR1 & Nondemented       & 1                 & 0                 & F                 & R                 & 66                & 13                &  2                & 30                & 0.0               & 1495              & 0.746             & 1.174            \\\\\n",
       "\t366 & OAS2\\_0184       & OAS2\\_0184\\_MR1 & Demented          & 1                 & 0                 & F                 & R                 & 72                & 16                &  3                & 24                & 0.5               & 1354              & 0.733             & 1.296            \\\\\n",
       "\t368 & OAS2\\_0185       & OAS2\\_0185\\_MR1 & Demented          & 1                 & 0                 & M                 & R                 & 80                & 16                &  1                & 28                & 0.5               & 1704              & 0.711             & 1.030            \\\\\n",
       "\t371 & OAS2\\_0186       & OAS2\\_0186\\_MR1 & Nondemented       & 1                 & 0                 & F                 & R                 & 61                & 13                &  2                & 30                & 0.0               & 1319              & 0.801             & 1.331            \\\\\n",
       "\\end{tabular}\n"
      ],
      "text/markdown": [
       "\n",
       "| <!--/--> | Subject.ID | MRI.ID | Group | Visit | MR.Delay | M.F | Hand | Age | EDUC | SES | MMSE | CDR | eTIV | nWBV | ASF |\n",
       "|---|---|---|---|---|---|---|---|---|---|---|---|---|---|---|---|\n",
       "| 1 | OAS2_0001     | OAS2_0001_MR1 | Nondemented   | 1             | 0             | M             | R             | 87            | 14            |  2            | 27            | 0.0           | 1987          | 0.696         | 0.883         |\n",
       "| 3 | OAS2_0002     | OAS2_0002_MR1 | Demented      | 1             | 0             | M             | R             | 75            | 12            | NA            | 23            | 0.5           | 1678          | 0.736         | 1.046         |\n",
       "| 6 | OAS2_0004     | OAS2_0004_MR1 | Nondemented   | 1             | 0             | F             | R             | 88            | 18            |  3            | 28            | 0.0           | 1215          | 0.710         | 1.444         |\n",
       "| 8 | OAS2_0005     | OAS2_0005_MR1 | Nondemented   | 1             | 0             | M             | R             | 80            | 12            |  4            | 28            | 0.0           | 1689          | 0.712         | 1.039         |\n",
       "| 11 | OAS2_0007     | OAS2_0007_MR1 | Demented      | 1             | 0             | M             | R             | 71            | 16            | NA            | 28            | 0.5           | 1357          | 0.748         | 1.293         |\n",
       "| 14 | OAS2_0008     | OAS2_0008_MR1 | Nondemented   | 1             | 0             | F             | R             | 93            | 14            |  2            | 30            | 0.0           | 1272          | 0.698         | 1.380         |\n",
       "| 16 | OAS2_0009     | OAS2_0009_MR1 | Demented      | 1             | 0             | M             | R             | 68            | 12            |  2            | 27            | 0.5           | 1457          | 0.806         | 1.205         |\n",
       "| 18 | OAS2_0010     | OAS2_0010_MR1 | Demented      | 1             | 0             | F             | R             | 66            | 12            |  3            | 30            | 0.5           | 1447          | 0.769         | 1.213         |\n",
       "| 20 | OAS2_0012     | OAS2_0012_MR1 | Nondemented   | 1             | 0             | F             | R             | 78            | 16            |  2            | 29            | 0.0           | 1333          | 0.748         | 1.316         |\n",
       "| 23 | OAS2_0013     | OAS2_0013_MR1 | Nondemented   | 1             | 0             | F             | R             | 81            | 12            |  4            | 30            | 0.0           | 1230          | 0.715         | 1.427         |\n",
       "| 26 | OAS2_0014     | OAS2_0014_MR1 | Demented      | 1             | 0             | M             | R             | 76            | 16            |  3            | 21            | 0.5           | 1602          | 0.697         | 1.096         |\n",
       "| 28 | OAS2_0016     | OAS2_0016_MR1 | Demented      | 1             | 0             | M             | R             | 88            |  8            |  4            | 25            | 0.5           | 1651          | 0.660         | 1.063         |\n",
       "| 30 | OAS2_0017     | OAS2_0017_MR1 | Nondemented   | 1             | 0             | M             | R             | 80            | 12            |  3            | 29            | 0.0           | 1783          | 0.752         | 0.985         |\n",
       "| 34 | OAS2_0018     | OAS2_0018_MR1 | Converted     | 1             | 0             | F             | R             | 87            | 14            |  1            | 30            | 0.0           | 1406          | 0.715         | 1.248         |\n",
       "| 37 | OAS2_0020     | OAS2_0020_MR1 | Converted     | 1             | 0             | M             | R             | 80            | 20            |  1            | 29            | 0.0           | 1587          | 0.693         | 1.106         |\n",
       "| 40 | OAS2_0021     | OAS2_0021_MR1 | Demented      | 1             | 0             | M             | R             | 72            | 20            |  1            | 26            | 0.5           | 1911          | 0.719         | 0.919         |\n",
       "| 42 | OAS2_0022     | OAS2_0022_MR1 | Nondemented   | 1             | 0             | F             | R             | 61            | 16            |  3            | 30            | 0.0           | 1313          | 0.805         | 1.337         |\n",
       "| 44 | OAS2_0023     | OAS2_0023_MR1 | Demented      | 1             | 0             | F             | R             | 86            | 12            |  4            | 21            | 0.5           | 1247          | 0.662         | 1.407         |\n",
       "| 46 | OAS2_0026     | OAS2_0026_MR1 | Demented      | 1             | 0             | M             | R             | 82            | 12            |  3            | 27            | 0.5           | 1420          | 0.713         | 1.236         |\n",
       "| 48 | OAS2_0027     | OAS2_0027_MR1 | Nondemented   | 1             | 0             | F             | R             | 69            | 12            |  3            | 29            | 0.0           | 1365          | 0.783         | 1.286         |\n",
       "| 52 | OAS2_0028     | OAS2_0028_MR1 | Demented      | 1             | 0             | M             | R             | 64            | 18            |  2            | 22            | 0.5           | 1547          | 0.737         | 1.134         |\n",
       "| 54 | OAS2_0029     | OAS2_0029_MR1 | Nondemented   | 1             | 0             | F             | R             | 77            | 12            |  4            | 29            | 0.0           | 1377          | 0.734         | 1.275         |\n",
       "| 56 | OAS2_0030     | OAS2_0030_MR1 | Nondemented   | 1             | 0             | F             | R             | 60            | 18            |  1            | 30            | 0.0           | 1402          | 0.822         | 1.252         |\n",
       "| 58 | OAS2_0031     | OAS2_0031_MR1 | Converted     | 1             | 0             | F             | R             | 86            | 12            |  3            | 30            | 0.0           | 1430          | 0.718         | 1.227         |\n",
       "| 61 | OAS2_0032     | OAS2_0032_MR1 | Demented      | 1             | 0             | M             | R             | 90            | 12            |  3            | 21            | 0.5           | 1307          | 0.679         | 1.342         |\n",
       "| 63 | OAS2_0034     | OAS2_0034_MR1 | Nondemented   | 1             | 0             | F             | R             | 79            | 16            |  1            | 29            | 0.0           | 1466          | 0.703         | 1.197         |\n",
       "| 67 | OAS2_0035     | OAS2_0035_MR1 | Nondemented   | 1             | 0             | F             | R             | 88            | 12            |  4            | 30            | 0.0           | 1336          | 0.738         | 1.313         |\n",
       "| 69 | OAS2_0036     | OAS2_0036_MR1 | Nondemented   | 1             | 0             | F             | R             | 69            | 13            |  4            | 30            | 0.0           | 1359          | 0.789         | 1.291         |\n",
       "| 73 | OAS2_0037     | OAS2_0037_MR1 | Demented      | 1             | 0             | M             | R             | 82            | 12            |  4            | 27            | 0.5           | 1477          | 0.729         | 1.188         |\n",
       "| 77 | OAS2_0039     | OAS2_0039_MR1 | Demented      | 1             | 0             | F             | R             | 81            | 18            |  2            | 26            | 0.5           | 1174          | 0.742         | 1.495         |\n",
       "| ... | ... | ... | ... | ... | ... | ... | ... | ... | ... | ... | ... | ... | ... | ... | ... |\n",
       "| 300 | OAS2_0146     | OAS2_0146_MR1 | Demented      | 1             | 0             | F             | R             | 80            | 15            |  2            | 20            | 1.0           | 1732          | 0.685         | 1.013         |\n",
       "| 302 | OAS2_0147     | OAS2_0147_MR1 | Nondemented   | 1             | 0             | F             | R             | 77            | 13            |  2            | 29            | 0.0           | 1351          | 0.769         | 1.299         |\n",
       "| 306 | OAS2_0149     | OAS2_0149_MR1 | Nondemented   | 1             | 0             | F             | R             | 81            | 13            |  2            | 29            | 0.0           | 1345          | 0.737         | 1.305         |\n",
       "| 308 | OAS2_0150     | OAS2_0150_MR1 | Demented      | 1             | 0             | F             | R             | 73            | 12            |  3            | 30            | 0.5           | 1343          | 0.720         | 1.306         |\n",
       "| 310 | OAS2_0152     | OAS2_0152_MR1 | Nondemented   | 1             | 0             | F             | R             | 66            | 18            |  2            | 29            | 0.0           | 1191          | 0.785         | 1.474         |\n",
       "| 313 | OAS2_0154     | OAS2_0154_MR1 | Nondemented   | 1             | 0             | F             | R             | 75            | 18            |  1            | 29            | 0.0           | 1436          | 0.750         | 1.222         |\n",
       "| 315 | OAS2_0156     | OAS2_0156_MR1 | Nondemented   | 1             | 0             | F             | R             | 78            | 18            |  1            | 30            | 0.0           | 1243          | 0.748         | 1.412         |\n",
       "| 317 | OAS2_0157     | OAS2_0157_MR1 | Demented      | 1             | 0             | F             | R             | 73            | 12            |  2            | 19            | 1.0           | 1274          | 0.728         | 1.377         |\n",
       "| 319 | OAS2_0158     | OAS2_0158_MR1 | Nondemented   | 1             | 0             | F             | R             | 73            | 15            |  4            | 29            | 0.0           | 1272          | 0.697         | 1.380         |\n",
       "| 321 | OAS2_0159     | OAS2_0159_MR1 | Demented      | 1             | 0             | F             | R             | 73            | 14            |  3            | 29            | 0.5           | 1238          | 0.757         | 1.418         |\n",
       "| 323 | OAS2_0160     | OAS2_0160_MR1 | Demented      | 1             | 0             | M             | R             | 76            | 12            | NA            | 27            | 0.5           | 1557          | 0.705         | 1.127         |\n",
       "| 325 | OAS2_0161     | OAS2_0161_MR1 | Nondemented   | 1             | 0             | M             | R             | 77            | 16            |  1            | 29            | 0.0           | 1818          | 0.734         | 0.965         |\n",
       "| 328 | OAS2_0162     | OAS2_0162_MR1 | Demented      | 1             | 0             | M             | R             | 82            | 14            |  2            | 23            | 0.5           | 1514          | 0.678         | 1.159         |\n",
       "| 330 | OAS2_0164     | OAS2_0164_MR1 | Demented      | 1             | 0             | M             | R             | 77            | 20            |  1            | 23            | 1.0           | 1713          | 0.756         | 1.024         |\n",
       "| 332 | OAS2_0165     | OAS2_0165_MR1 | Demented      | 1             | 0             | M             | R             | 78            | 12            |  3            | 23            | 1.0           | 1491          | 0.710         | 1.177         |\n",
       "| 334 | OAS2_0169     | OAS2_0169_MR1 | Nondemented   | 1             | 0             | F             | R             | 71            | 18            |  1            | 30            | 0.0           | 1426          | 0.731         | 1.231         |\n",
       "| 336 | OAS2_0171     | OAS2_0171_MR1 | Nondemented   | 1             | 0             | M             | R             | 76            | 16            |  3            | 30            | 0.0           | 1832          | 0.769         | 0.958         |\n",
       "| 339 | OAS2_0172     | OAS2_0172_MR1 | Demented      | 1             | 0             | M             | R             | 75            | 16            |  1            | 30            | 0.5           | 1891          | 0.709         | 0.928         |\n",
       "| 341 | OAS2_0174     | OAS2_0174_MR1 | Nondemented   | 1             | 0             | M             | R             | 60            | 12            |  4            | 30            | 0.0           | 1379          | 0.806         | 1.273         |\n",
       "| 344 | OAS2_0175     | OAS2_0175_MR1 | Demented      | 1             | 0             | M             | R             | 70            | 16            |  4            | 26            | 0.5           | 1796          | 0.742         | 0.977         |\n",
       "| 347 | OAS2_0176     | OAS2_0176_MR1 | Converted     | 1             | 0             | M             | R             | 84            | 16            |  2            | 30            | 0.0           | 1404          | 0.710         | 1.250         |\n",
       "| 350 | OAS2_0177     | OAS2_0177_MR1 | Nondemented   | 1             | 0             | M             | R             | 68            | 14            |  3            | 26            | 0.0           | 1444          | 0.778         | 1.216         |\n",
       "| 352 | OAS2_0178     | OAS2_0178_MR1 | Nondemented   | 1             | 0             | F             | R             | 89            | 14            |  2            | 29            | 0.0           | 1509          | 0.756         | 1.163         |\n",
       "| 355 | OAS2_0179     | OAS2_0179_MR1 | Demented      | 1             | 0             | M             | R             | 79            | 20            |  1            | 26            | 0.5           | 1548          | 0.711         | 1.134         |\n",
       "| 357 | OAS2_0181     | OAS2_0181_MR1 | Demented      | 1             | 0             | F             | R             | 74            | 12            | NA            | 26            | 0.5           | 1171          | 0.733         | 1.499         |\n",
       "| 360 | OAS2_0182     | OAS2_0182_MR1 | Demented      | 1             | 0             | M             | R             | 73            | 12            | NA            | 23            | 0.5           | 1661          | 0.698         | 1.056         |\n",
       "| 362 | OAS2_0183     | OAS2_0183_MR1 | Nondemented   | 1             | 0             | F             | R             | 66            | 13            |  2            | 30            | 0.0           | 1495          | 0.746         | 1.174         |\n",
       "| 366 | OAS2_0184     | OAS2_0184_MR1 | Demented      | 1             | 0             | F             | R             | 72            | 16            |  3            | 24            | 0.5           | 1354          | 0.733         | 1.296         |\n",
       "| 368 | OAS2_0185     | OAS2_0185_MR1 | Demented      | 1             | 0             | M             | R             | 80            | 16            |  1            | 28            | 0.5           | 1704          | 0.711         | 1.030         |\n",
       "| 371 | OAS2_0186     | OAS2_0186_MR1 | Nondemented   | 1             | 0             | F             | R             | 61            | 13            |  2            | 30            | 0.0           | 1319          | 0.801         | 1.331         |\n",
       "\n"
      ],
      "text/plain": [
       "    Subject.ID MRI.ID        Group       Visit MR.Delay M.F Hand Age EDUC SES\n",
       "1   OAS2_0001  OAS2_0001_MR1 Nondemented 1     0        M   R    87  14    2 \n",
       "3   OAS2_0002  OAS2_0002_MR1 Demented    1     0        M   R    75  12   NA \n",
       "6   OAS2_0004  OAS2_0004_MR1 Nondemented 1     0        F   R    88  18    3 \n",
       "8   OAS2_0005  OAS2_0005_MR1 Nondemented 1     0        M   R    80  12    4 \n",
       "11  OAS2_0007  OAS2_0007_MR1 Demented    1     0        M   R    71  16   NA \n",
       "14  OAS2_0008  OAS2_0008_MR1 Nondemented 1     0        F   R    93  14    2 \n",
       "16  OAS2_0009  OAS2_0009_MR1 Demented    1     0        M   R    68  12    2 \n",
       "18  OAS2_0010  OAS2_0010_MR1 Demented    1     0        F   R    66  12    3 \n",
       "20  OAS2_0012  OAS2_0012_MR1 Nondemented 1     0        F   R    78  16    2 \n",
       "23  OAS2_0013  OAS2_0013_MR1 Nondemented 1     0        F   R    81  12    4 \n",
       "26  OAS2_0014  OAS2_0014_MR1 Demented    1     0        M   R    76  16    3 \n",
       "28  OAS2_0016  OAS2_0016_MR1 Demented    1     0        M   R    88   8    4 \n",
       "30  OAS2_0017  OAS2_0017_MR1 Nondemented 1     0        M   R    80  12    3 \n",
       "34  OAS2_0018  OAS2_0018_MR1 Converted   1     0        F   R    87  14    1 \n",
       "37  OAS2_0020  OAS2_0020_MR1 Converted   1     0        M   R    80  20    1 \n",
       "40  OAS2_0021  OAS2_0021_MR1 Demented    1     0        M   R    72  20    1 \n",
       "42  OAS2_0022  OAS2_0022_MR1 Nondemented 1     0        F   R    61  16    3 \n",
       "44  OAS2_0023  OAS2_0023_MR1 Demented    1     0        F   R    86  12    4 \n",
       "46  OAS2_0026  OAS2_0026_MR1 Demented    1     0        M   R    82  12    3 \n",
       "48  OAS2_0027  OAS2_0027_MR1 Nondemented 1     0        F   R    69  12    3 \n",
       "52  OAS2_0028  OAS2_0028_MR1 Demented    1     0        M   R    64  18    2 \n",
       "54  OAS2_0029  OAS2_0029_MR1 Nondemented 1     0        F   R    77  12    4 \n",
       "56  OAS2_0030  OAS2_0030_MR1 Nondemented 1     0        F   R    60  18    1 \n",
       "58  OAS2_0031  OAS2_0031_MR1 Converted   1     0        F   R    86  12    3 \n",
       "61  OAS2_0032  OAS2_0032_MR1 Demented    1     0        M   R    90  12    3 \n",
       "63  OAS2_0034  OAS2_0034_MR1 Nondemented 1     0        F   R    79  16    1 \n",
       "67  OAS2_0035  OAS2_0035_MR1 Nondemented 1     0        F   R    88  12    4 \n",
       "69  OAS2_0036  OAS2_0036_MR1 Nondemented 1     0        F   R    69  13    4 \n",
       "73  OAS2_0037  OAS2_0037_MR1 Demented    1     0        M   R    82  12    4 \n",
       "77  OAS2_0039  OAS2_0039_MR1 Demented    1     0        F   R    81  18    2 \n",
       "... ...        ...           ...         ...   ...      ... ...  ... ...  ...\n",
       "300 OAS2_0146  OAS2_0146_MR1 Demented    1     0        F   R    80  15    2 \n",
       "302 OAS2_0147  OAS2_0147_MR1 Nondemented 1     0        F   R    77  13    2 \n",
       "306 OAS2_0149  OAS2_0149_MR1 Nondemented 1     0        F   R    81  13    2 \n",
       "308 OAS2_0150  OAS2_0150_MR1 Demented    1     0        F   R    73  12    3 \n",
       "310 OAS2_0152  OAS2_0152_MR1 Nondemented 1     0        F   R    66  18    2 \n",
       "313 OAS2_0154  OAS2_0154_MR1 Nondemented 1     0        F   R    75  18    1 \n",
       "315 OAS2_0156  OAS2_0156_MR1 Nondemented 1     0        F   R    78  18    1 \n",
       "317 OAS2_0157  OAS2_0157_MR1 Demented    1     0        F   R    73  12    2 \n",
       "319 OAS2_0158  OAS2_0158_MR1 Nondemented 1     0        F   R    73  15    4 \n",
       "321 OAS2_0159  OAS2_0159_MR1 Demented    1     0        F   R    73  14    3 \n",
       "323 OAS2_0160  OAS2_0160_MR1 Demented    1     0        M   R    76  12   NA \n",
       "325 OAS2_0161  OAS2_0161_MR1 Nondemented 1     0        M   R    77  16    1 \n",
       "328 OAS2_0162  OAS2_0162_MR1 Demented    1     0        M   R    82  14    2 \n",
       "330 OAS2_0164  OAS2_0164_MR1 Demented    1     0        M   R    77  20    1 \n",
       "332 OAS2_0165  OAS2_0165_MR1 Demented    1     0        M   R    78  12    3 \n",
       "334 OAS2_0169  OAS2_0169_MR1 Nondemented 1     0        F   R    71  18    1 \n",
       "336 OAS2_0171  OAS2_0171_MR1 Nondemented 1     0        M   R    76  16    3 \n",
       "339 OAS2_0172  OAS2_0172_MR1 Demented    1     0        M   R    75  16    1 \n",
       "341 OAS2_0174  OAS2_0174_MR1 Nondemented 1     0        M   R    60  12    4 \n",
       "344 OAS2_0175  OAS2_0175_MR1 Demented    1     0        M   R    70  16    4 \n",
       "347 OAS2_0176  OAS2_0176_MR1 Converted   1     0        M   R    84  16    2 \n",
       "350 OAS2_0177  OAS2_0177_MR1 Nondemented 1     0        M   R    68  14    3 \n",
       "352 OAS2_0178  OAS2_0178_MR1 Nondemented 1     0        F   R    89  14    2 \n",
       "355 OAS2_0179  OAS2_0179_MR1 Demented    1     0        M   R    79  20    1 \n",
       "357 OAS2_0181  OAS2_0181_MR1 Demented    1     0        F   R    74  12   NA \n",
       "360 OAS2_0182  OAS2_0182_MR1 Demented    1     0        M   R    73  12   NA \n",
       "362 OAS2_0183  OAS2_0183_MR1 Nondemented 1     0        F   R    66  13    2 \n",
       "366 OAS2_0184  OAS2_0184_MR1 Demented    1     0        F   R    72  16    3 \n",
       "368 OAS2_0185  OAS2_0185_MR1 Demented    1     0        M   R    80  16    1 \n",
       "371 OAS2_0186  OAS2_0186_MR1 Nondemented 1     0        F   R    61  13    2 \n",
       "    MMSE CDR eTIV nWBV  ASF  \n",
       "1   27   0.0 1987 0.696 0.883\n",
       "3   23   0.5 1678 0.736 1.046\n",
       "6   28   0.0 1215 0.710 1.444\n",
       "8   28   0.0 1689 0.712 1.039\n",
       "11  28   0.5 1357 0.748 1.293\n",
       "14  30   0.0 1272 0.698 1.380\n",
       "16  27   0.5 1457 0.806 1.205\n",
       "18  30   0.5 1447 0.769 1.213\n",
       "20  29   0.0 1333 0.748 1.316\n",
       "23  30   0.0 1230 0.715 1.427\n",
       "26  21   0.5 1602 0.697 1.096\n",
       "28  25   0.5 1651 0.660 1.063\n",
       "30  29   0.0 1783 0.752 0.985\n",
       "34  30   0.0 1406 0.715 1.248\n",
       "37  29   0.0 1587 0.693 1.106\n",
       "40  26   0.5 1911 0.719 0.919\n",
       "42  30   0.0 1313 0.805 1.337\n",
       "44  21   0.5 1247 0.662 1.407\n",
       "46  27   0.5 1420 0.713 1.236\n",
       "48  29   0.0 1365 0.783 1.286\n",
       "52  22   0.5 1547 0.737 1.134\n",
       "54  29   0.0 1377 0.734 1.275\n",
       "56  30   0.0 1402 0.822 1.252\n",
       "58  30   0.0 1430 0.718 1.227\n",
       "61  21   0.5 1307 0.679 1.342\n",
       "63  29   0.0 1466 0.703 1.197\n",
       "67  30   0.0 1336 0.738 1.313\n",
       "69  30   0.0 1359 0.789 1.291\n",
       "73  27   0.5 1477 0.729 1.188\n",
       "77  26   0.5 1174 0.742 1.495\n",
       "... ...  ... ...  ...   ...  \n",
       "300 20   1.0 1732 0.685 1.013\n",
       "302 29   0.0 1351 0.769 1.299\n",
       "306 29   0.0 1345 0.737 1.305\n",
       "308 30   0.5 1343 0.720 1.306\n",
       "310 29   0.0 1191 0.785 1.474\n",
       "313 29   0.0 1436 0.750 1.222\n",
       "315 30   0.0 1243 0.748 1.412\n",
       "317 19   1.0 1274 0.728 1.377\n",
       "319 29   0.0 1272 0.697 1.380\n",
       "321 29   0.5 1238 0.757 1.418\n",
       "323 27   0.5 1557 0.705 1.127\n",
       "325 29   0.0 1818 0.734 0.965\n",
       "328 23   0.5 1514 0.678 1.159\n",
       "330 23   1.0 1713 0.756 1.024\n",
       "332 23   1.0 1491 0.710 1.177\n",
       "334 30   0.0 1426 0.731 1.231\n",
       "336 30   0.0 1832 0.769 0.958\n",
       "339 30   0.5 1891 0.709 0.928\n",
       "341 30   0.0 1379 0.806 1.273\n",
       "344 26   0.5 1796 0.742 0.977\n",
       "347 30   0.0 1404 0.710 1.250\n",
       "350 26   0.0 1444 0.778 1.216\n",
       "352 29   0.0 1509 0.756 1.163\n",
       "355 26   0.5 1548 0.711 1.134\n",
       "357 26   0.5 1171 0.733 1.499\n",
       "360 23   0.5 1661 0.698 1.056\n",
       "362 30   0.0 1495 0.746 1.174\n",
       "366 24   0.5 1354 0.733 1.296\n",
       "368 28   0.5 1704 0.711 1.030\n",
       "371 30   0.0 1319 0.801 1.331"
      ]
     },
     "metadata": {},
     "output_type": "display_data"
    },
    {
     "data": {
      "text/html": [
       "<table>\n",
       "<thead><tr><th></th><th scope=col>Subject.ID</th><th scope=col>MRI.ID</th><th scope=col>Group</th><th scope=col>Visit</th><th scope=col>MR.Delay</th><th scope=col>M.F</th><th scope=col>Hand</th><th scope=col>Age</th><th scope=col>EDUC</th><th scope=col>SES</th><th scope=col>MMSE</th><th scope=col>CDR</th><th scope=col>eTIV</th><th scope=col>nWBV</th><th scope=col>ASF</th></tr></thead>\n",
       "<tbody>\n",
       "\t<tr><th scope=row>2</th><td>OAS2_0001    </td><td>OAS2_0001_MR2</td><td>Nondemented  </td><td>2            </td><td> 457         </td><td>M            </td><td>R            </td><td>88           </td><td>14           </td><td> 2           </td><td>30           </td><td>0.0          </td><td>2004         </td><td>0.681        </td><td>0.876        </td></tr>\n",
       "\t<tr><th scope=row>4</th><td>OAS2_0002    </td><td>OAS2_0002_MR2</td><td>Demented     </td><td>2            </td><td> 560         </td><td>M            </td><td>R            </td><td>76           </td><td>12           </td><td>NA           </td><td>28           </td><td>0.5          </td><td>1738         </td><td>0.713        </td><td>1.010        </td></tr>\n",
       "\t<tr><th scope=row>7</th><td>OAS2_0004    </td><td>OAS2_0004_MR2</td><td>Nondemented  </td><td>2            </td><td> 538         </td><td>F            </td><td>R            </td><td>90           </td><td>18           </td><td> 3           </td><td>27           </td><td>0.0          </td><td>1200         </td><td>0.718        </td><td>1.462        </td></tr>\n",
       "\t<tr><th scope=row>9</th><td>OAS2_0005    </td><td>OAS2_0005_MR2</td><td>Nondemented  </td><td>2            </td><td>1010         </td><td>M            </td><td>R            </td><td>83           </td><td>12           </td><td> 4           </td><td>29           </td><td>0.5          </td><td>1701         </td><td>0.711        </td><td>1.032        </td></tr>\n",
       "\t<tr><th scope=row>15</th><td>OAS2_0008    </td><td>OAS2_0008_MR2</td><td>Nondemented  </td><td>2            </td><td> 742         </td><td>F            </td><td>R            </td><td>95           </td><td>14           </td><td> 2           </td><td>29           </td><td>0.0          </td><td>1257         </td><td>0.703        </td><td>1.396        </td></tr>\n",
       "\t<tr><th scope=row>17</th><td>OAS2_0009    </td><td>OAS2_0009_MR2</td><td>Demented     </td><td>2            </td><td> 576         </td><td>M            </td><td>R            </td><td>69           </td><td>12           </td><td> 2           </td><td>24           </td><td>0.5          </td><td>1480         </td><td>0.791        </td><td>1.186        </td></tr>\n",
       "\t<tr><th scope=row>19</th><td>OAS2_0010    </td><td>OAS2_0010_MR2</td><td>Demented     </td><td>2            </td><td> 854         </td><td>F            </td><td>R            </td><td>68           </td><td>12           </td><td> 3           </td><td>29           </td><td>0.5          </td><td>1482         </td><td>0.752        </td><td>1.184        </td></tr>\n",
       "\t<tr><th scope=row>21</th><td>OAS2_0012    </td><td>OAS2_0012_MR2</td><td>Nondemented  </td><td>2            </td><td> 730         </td><td>F            </td><td>R            </td><td>80           </td><td>16           </td><td> 2           </td><td>29           </td><td>0.0          </td><td>1323         </td><td>0.738        </td><td>1.326        </td></tr>\n",
       "\t<tr><th scope=row>24</th><td>OAS2_0013    </td><td>OAS2_0013_MR2</td><td>Nondemented  </td><td>2            </td><td> 643         </td><td>F            </td><td>R            </td><td>82           </td><td>12           </td><td> 4           </td><td>30           </td><td>0.0          </td><td>1212         </td><td>0.720        </td><td>1.448        </td></tr>\n",
       "\t<tr><th scope=row>27</th><td>OAS2_0014    </td><td>OAS2_0014_MR2</td><td>Demented     </td><td>2            </td><td> 504         </td><td>M            </td><td>R            </td><td>77           </td><td>16           </td><td> 3           </td><td>16           </td><td>1.0          </td><td>1590         </td><td>0.696        </td><td>1.104        </td></tr>\n",
       "\t<tr><th scope=row>29</th><td>OAS2_0016    </td><td>OAS2_0016_MR2</td><td>Demented     </td><td>2            </td><td> 707         </td><td>M            </td><td>R            </td><td>90           </td><td> 8           </td><td> 4           </td><td>23           </td><td>0.5          </td><td>1668         </td><td>0.646        </td><td>1.052        </td></tr>\n",
       "\t<tr><th scope=row>38</th><td>OAS2_0020    </td><td>OAS2_0020_MR2</td><td>Converted    </td><td>2            </td><td> 756         </td><td>M            </td><td>R            </td><td>82           </td><td>20           </td><td> 1           </td><td>28           </td><td>0.5          </td><td>1606         </td><td>0.677        </td><td>1.093        </td></tr>\n",
       "\t<tr><th scope=row>41</th><td>OAS2_0021    </td><td>OAS2_0021_MR2</td><td>Demented     </td><td>2            </td><td>1164         </td><td>M            </td><td>R            </td><td>76           </td><td>20           </td><td> 1           </td><td>25           </td><td>0.5          </td><td>1926         </td><td>0.736        </td><td>0.911        </td></tr>\n",
       "\t<tr><th scope=row>43</th><td>OAS2_0022    </td><td>OAS2_0022_MR2</td><td>Nondemented  </td><td>2            </td><td> 828         </td><td>F            </td><td>R            </td><td>64           </td><td>16           </td><td> 3           </td><td>29           </td><td>0.0          </td><td>1316         </td><td>0.796        </td><td>1.333        </td></tr>\n",
       "\t<tr><th scope=row>45</th><td>OAS2_0023    </td><td>OAS2_0023_MR2</td><td>Demented     </td><td>2            </td><td> 578         </td><td>F            </td><td>R            </td><td>87           </td><td>12           </td><td> 4           </td><td>21           </td><td>0.5          </td><td>1250         </td><td>0.652        </td><td>1.405        </td></tr>\n",
       "\t<tr><th scope=row>47</th><td>OAS2_0026    </td><td>OAS2_0026_MR2</td><td>Demented     </td><td>2            </td><td> 673         </td><td>M            </td><td>R            </td><td>84           </td><td>12           </td><td> 3           </td><td>27           </td><td>0.5          </td><td>1445         </td><td>0.695        </td><td>1.214        </td></tr>\n",
       "\t<tr><th scope=row>49</th><td>OAS2_0027    </td><td>OAS2_0027_MR2</td><td>Nondemented  </td><td>2            </td><td> 609         </td><td>F            </td><td>R            </td><td>71           </td><td>12           </td><td> 3           </td><td>30           </td><td>0.0          </td><td>1360         </td><td>0.782        </td><td>1.291        </td></tr>\n",
       "\t<tr><th scope=row>53</th><td>OAS2_0028    </td><td>OAS2_0028_MR2</td><td>Demented     </td><td>2            </td><td> 610         </td><td>M            </td><td>R            </td><td>66           </td><td>18           </td><td> 2           </td><td>21           </td><td>1.0          </td><td>1562         </td><td>0.717        </td><td>1.124        </td></tr>\n",
       "\t<tr><th scope=row>55</th><td>OAS2_0029    </td><td>OAS2_0029_MR2</td><td>Nondemented  </td><td>2            </td><td>1099         </td><td>F            </td><td>R            </td><td>80           </td><td>12           </td><td> 4           </td><td>30           </td><td>0.0          </td><td>1390         </td><td>0.735        </td><td>1.263        </td></tr>\n",
       "\t<tr><th scope=row>57</th><td>OAS2_0030    </td><td>OAS2_0030_MR2</td><td>Nondemented  </td><td>2            </td><td> 932         </td><td>F            </td><td>R            </td><td>62           </td><td>18           </td><td> 1           </td><td>30           </td><td>0.0          </td><td>1392         </td><td>0.817        </td><td>1.261        </td></tr>\n",
       "\t<tr><th scope=row>59</th><td>OAS2_0031    </td><td>OAS2_0031_MR2</td><td>Converted    </td><td>2            </td><td> 446         </td><td>F            </td><td>R            </td><td>88           </td><td>12           </td><td> 3           </td><td>30           </td><td>0.0          </td><td>1445         </td><td>0.719        </td><td>1.215        </td></tr>\n",
       "\t<tr><th scope=row>62</th><td>OAS2_0032    </td><td>OAS2_0032_MR2</td><td>Demented     </td><td>2            </td><td> 642         </td><td>M            </td><td>R            </td><td>92           </td><td>12           </td><td> 3           </td><td>24           </td><td>0.5          </td><td>1311         </td><td>0.676        </td><td>1.339        </td></tr>\n",
       "\t<tr><th scope=row>64</th><td>OAS2_0034    </td><td>OAS2_0034_MR2</td><td>Nondemented  </td><td>2            </td><td> 489         </td><td>F            </td><td>R            </td><td>80           </td><td>16           </td><td> 1           </td><td>30           </td><td>0.0          </td><td>1450         </td><td>0.698        </td><td>1.210        </td></tr>\n",
       "\t<tr><th scope=row>68</th><td>OAS2_0035    </td><td>OAS2_0035_MR2</td><td>Nondemented  </td><td>2            </td><td> 405         </td><td>F            </td><td>R            </td><td>89           </td><td>12           </td><td> 4           </td><td>27           </td><td>0.0          </td><td>1329         </td><td>0.733        </td><td>1.320        </td></tr>\n",
       "\t<tr><th scope=row>74</th><td>OAS2_0037    </td><td>OAS2_0037_MR2</td><td>Demented     </td><td>2            </td><td>1123         </td><td>M            </td><td>R            </td><td>85           </td><td>12           </td><td> 4           </td><td>29           </td><td>0.5          </td><td>1487         </td><td>0.717        </td><td>1.180        </td></tr>\n",
       "\t<tr><th scope=row>78</th><td>OAS2_0039    </td><td>OAS2_0039_MR2</td><td>Demented     </td><td>2            </td><td> 486         </td><td>F            </td><td>R            </td><td>83           </td><td>18           </td><td> 2           </td><td>25           </td><td>0.5          </td><td>1179         </td><td>0.733        </td><td>1.488        </td></tr>\n",
       "\t<tr><th scope=row>80</th><td>OAS2_0040    </td><td>OAS2_0040_MR2</td><td>Demented     </td><td>2            </td><td> 567         </td><td>M            </td><td>R            </td><td>86           </td><td> 6           </td><td> 4           </td><td>27           </td><td>0.5          </td><td>1320         </td><td>0.724        </td><td>1.329        </td></tr>\n",
       "\t<tr><th scope=row>83</th><td>OAS2_0041    </td><td>OAS2_0041_MR2</td><td>Converted    </td><td>2            </td><td> 756         </td><td>F            </td><td>R            </td><td>73           </td><td>16           </td><td> 1           </td><td>28           </td><td>0.0          </td><td>1295         </td><td>0.768        </td><td>1.356        </td></tr>\n",
       "\t<tr><th scope=row>86</th><td>OAS2_0042    </td><td>OAS2_0042_MR2</td><td>Nondemented  </td><td>2            </td><td>1008         </td><td>F            </td><td>R            </td><td>73           </td><td>17           </td><td> 3           </td><td>29           </td><td>0.0          </td><td>1665         </td><td>0.748        </td><td>1.054        </td></tr>\n",
       "\t<tr><th scope=row>88</th><td>OAS2_0043    </td><td>OAS2_0043_MR2</td><td>Demented     </td><td>2            </td><td> 491         </td><td>F            </td><td>R            </td><td>73           </td><td>12           </td><td> 4           </td><td>26           </td><td>0.5          </td><td>1451         </td><td>0.757        </td><td>1.210        </td></tr>\n",
       "\t<tr><th scope=row>...</th><td>...</td><td>...</td><td>...</td><td>...</td><td>...</td><td>...</td><td>...</td><td>...</td><td>...</td><td>...</td><td>...</td><td>...</td><td>...</td><td>...</td><td>...</td></tr>\n",
       "\t<tr><th scope=row>301</th><td>OAS2_0146    </td><td>OAS2_0146_MR2</td><td>Demented     </td><td>2            </td><td> 525         </td><td>F            </td><td>R            </td><td>82           </td><td>15           </td><td> 2           </td><td>20           </td><td>1.0          </td><td>1729         </td><td>0.698        </td><td>1.015        </td></tr>\n",
       "\t<tr><th scope=row>303</th><td>OAS2_0147    </td><td>OAS2_0147_MR2</td><td>Nondemented  </td><td>2            </td><td> 440         </td><td>F            </td><td>R            </td><td>78           </td><td>13           </td><td> 2           </td><td>29           </td><td>0.0          </td><td>1334         </td><td>0.769        </td><td>1.316        </td></tr>\n",
       "\t<tr><th scope=row>307</th><td>OAS2_0149    </td><td>OAS2_0149_MR2</td><td>Nondemented  </td><td>2            </td><td> 674         </td><td>F            </td><td>R            </td><td>83           </td><td>13           </td><td> 2           </td><td>30           </td><td>0.0          </td><td>1335         </td><td>0.732        </td><td>1.314        </td></tr>\n",
       "\t<tr><th scope=row>309</th><td>OAS2_0150    </td><td>OAS2_0150_MR2</td><td>Demented     </td><td>2            </td><td> 518         </td><td>F            </td><td>R            </td><td>75           </td><td>12           </td><td> 3           </td><td>27           </td><td>1.0          </td><td>1357         </td><td>0.714        </td><td>1.293        </td></tr>\n",
       "\t<tr><th scope=row>311</th><td>OAS2_0152    </td><td>OAS2_0152_MR2</td><td>Nondemented  </td><td>2            </td><td> 790         </td><td>F            </td><td>R            </td><td>68           </td><td>18           </td><td> 2           </td><td>29           </td><td>0.0          </td><td>1194         </td><td>0.772        </td><td>1.469        </td></tr>\n",
       "\t<tr><th scope=row>314</th><td>OAS2_0154    </td><td>OAS2_0154_MR2</td><td>Nondemented  </td><td>2            </td><td> 791         </td><td>F            </td><td>R            </td><td>77           </td><td>18           </td><td> 1           </td><td>28           </td><td>0.0          </td><td>1559         </td><td>0.713        </td><td>1.125        </td></tr>\n",
       "\t<tr><th scope=row>316</th><td>OAS2_0156    </td><td>OAS2_0156_MR2</td><td>Nondemented  </td><td>2            </td><td> 777         </td><td>F            </td><td>R            </td><td>81           </td><td>18           </td><td> 1           </td><td>30           </td><td>0.0          </td><td>1256         </td><td>0.739        </td><td>1.398        </td></tr>\n",
       "\t<tr><th scope=row>318</th><td>OAS2_0157    </td><td>OAS2_0157_MR2</td><td>Demented     </td><td>2            </td><td> 764         </td><td>F            </td><td>R            </td><td>75           </td><td>12           </td><td> 2           </td><td>18           </td><td>1.0          </td><td>1479         </td><td>0.657        </td><td>1.187        </td></tr>\n",
       "\t<tr><th scope=row>320</th><td>OAS2_0158    </td><td>OAS2_0158_MR2</td><td>Nondemented  </td><td>2            </td><td>1399         </td><td>F            </td><td>R            </td><td>76           </td><td>15           </td><td> 4           </td><td>29           </td><td>0.0          </td><td>1281         </td><td>0.680        </td><td>1.370        </td></tr>\n",
       "\t<tr><th scope=row>322</th><td>OAS2_0159    </td><td>OAS2_0159_MR2</td><td>Demented     </td><td>2            </td><td> 759         </td><td>F            </td><td>R            </td><td>76           </td><td>14           </td><td> 3           </td><td>28           </td><td>0.5          </td><td>1236         </td><td>0.764        </td><td>1.419        </td></tr>\n",
       "\t<tr><th scope=row>324</th><td>OAS2_0160    </td><td>OAS2_0160_MR2</td><td>Demented     </td><td>2            </td><td> 552         </td><td>M            </td><td>R            </td><td>78           </td><td>12           </td><td>NA           </td><td>29           </td><td>1.0          </td><td>1569         </td><td>0.704        </td><td>1.119        </td></tr>\n",
       "\t<tr><th scope=row>326</th><td>OAS2_0161    </td><td>OAS2_0161_MR2</td><td>Nondemented  </td><td>2            </td><td> 454         </td><td>M            </td><td>R            </td><td>79           </td><td>16           </td><td> 1           </td><td>30           </td><td>0.0          </td><td>1817         </td><td>0.736        </td><td>0.966        </td></tr>\n",
       "\t<tr><th scope=row>329</th><td>OAS2_0162    </td><td>OAS2_0162_MR2</td><td>Demented     </td><td>2            </td><td> 621         </td><td>M            </td><td>R            </td><td>84           </td><td>14           </td><td> 2           </td><td>22           </td><td>0.5          </td><td>1550         </td><td>0.665        </td><td>1.132        </td></tr>\n",
       "\t<tr><th scope=row>331</th><td>OAS2_0164    </td><td>OAS2_0164_MR2</td><td>Demented     </td><td>2            </td><td> 580         </td><td>M            </td><td>R            </td><td>79           </td><td>20           </td><td> 1           </td><td>25           </td><td>2.0          </td><td>1710         </td><td>0.760        </td><td>1.026        </td></tr>\n",
       "\t<tr><th scope=row>333</th><td>OAS2_0165    </td><td>OAS2_0165_MR2</td><td>Demented     </td><td>2            </td><td> 736         </td><td>M            </td><td>R            </td><td>80           </td><td>12           </td><td> 3           </td><td>17           </td><td>1.0          </td><td>1755         </td><td>0.696        </td><td>1.000        </td></tr>\n",
       "\t<tr><th scope=row>335</th><td>OAS2_0169    </td><td>OAS2_0169_MR2</td><td>Nondemented  </td><td>2            </td><td> 691         </td><td>F            </td><td>R            </td><td>73           </td><td>18           </td><td> 1           </td><td>30           </td><td>0.0          </td><td>1414         </td><td>0.739        </td><td>1.241        </td></tr>\n",
       "\t<tr><th scope=row>337</th><td>OAS2_0171    </td><td>OAS2_0171_MR2</td><td>Nondemented  </td><td>2            </td><td> 493         </td><td>M            </td><td>R            </td><td>77           </td><td>16           </td><td> 3           </td><td>30           </td><td>0.0          </td><td>1820         </td><td>0.768        </td><td>0.964        </td></tr>\n",
       "\t<tr><th scope=row>340</th><td>OAS2_0172    </td><td>OAS2_0172_MR2</td><td>Demented     </td><td>2            </td><td>1212         </td><td>M            </td><td>R            </td><td>79           </td><td>16           </td><td> 1           </td><td>29           </td><td>0.5          </td><td>1899         </td><td>0.700        </td><td>0.924        </td></tr>\n",
       "\t<tr><th scope=row>342</th><td>OAS2_0174    </td><td>OAS2_0174_MR2</td><td>Nondemented  </td><td>2            </td><td> 695         </td><td>M            </td><td>R            </td><td>62           </td><td>12           </td><td> 4           </td><td>30           </td><td>0.0          </td><td>1378         </td><td>0.795        </td><td>1.274        </td></tr>\n",
       "\t<tr><th scope=row>345</th><td>OAS2_0175    </td><td>OAS2_0175_MR2</td><td>Demented     </td><td>2            </td><td> 700         </td><td>M            </td><td>R            </td><td>72           </td><td>16           </td><td> 4           </td><td>28           </td><td>0.5          </td><td>1796         </td><td>0.732        </td><td>0.977        </td></tr>\n",
       "\t<tr><th scope=row>348</th><td>OAS2_0176    </td><td>OAS2_0176_MR2</td><td>Converted    </td><td>2            </td><td> 774         </td><td>M            </td><td>R            </td><td>87           </td><td>16           </td><td> 2           </td><td>30           </td><td>0.0          </td><td>1398         </td><td>0.696        </td><td>1.255        </td></tr>\n",
       "\t<tr><th scope=row>351</th><td>OAS2_0177    </td><td>OAS2_0177_MR2</td><td>Nondemented  </td><td>2            </td><td> 665         </td><td>M            </td><td>R            </td><td>70           </td><td>14           </td><td> 3           </td><td>28           </td><td>0.0          </td><td>1510         </td><td>0.770        </td><td>1.162        </td></tr>\n",
       "\t<tr><th scope=row>353</th><td>OAS2_0178    </td><td>OAS2_0178_MR2</td><td>Nondemented  </td><td>2            </td><td> 600         </td><td>F            </td><td>R            </td><td>90           </td><td>14           </td><td> 2           </td><td>28           </td><td>0.0          </td><td>1495         </td><td>0.746        </td><td>1.174        </td></tr>\n",
       "\t<tr><th scope=row>356</th><td>OAS2_0179    </td><td>OAS2_0179_MR2</td><td>Demented     </td><td>2            </td><td> 652         </td><td>M            </td><td>R            </td><td>81           </td><td>20           </td><td> 1           </td><td>26           </td><td>0.5          </td><td>1556         </td><td>0.691        </td><td>1.128        </td></tr>\n",
       "\t<tr><th scope=row>358</th><td>OAS2_0181    </td><td>OAS2_0181_MR2</td><td>Demented     </td><td>2            </td><td> 539         </td><td>F            </td><td>R            </td><td>75           </td><td>12           </td><td>NA           </td><td>NA           </td><td>1.0          </td><td>1169         </td><td>0.742        </td><td>1.501        </td></tr>\n",
       "\t<tr><th scope=row>361</th><td>OAS2_0182    </td><td>OAS2_0182_MR2</td><td>Demented     </td><td>2            </td><td> 776         </td><td>M            </td><td>R            </td><td>75           </td><td>12           </td><td>NA           </td><td>20           </td><td>0.5          </td><td>1654         </td><td>0.696        </td><td>1.061        </td></tr>\n",
       "\t<tr><th scope=row>363</th><td>OAS2_0183    </td><td>OAS2_0183_MR2</td><td>Nondemented  </td><td>2            </td><td> 182         </td><td>F            </td><td>R            </td><td>66           </td><td>13           </td><td> 2           </td><td>30           </td><td>0.0          </td><td>1506         </td><td>0.740        </td><td>1.165        </td></tr>\n",
       "\t<tr><th scope=row>367</th><td>OAS2_0184    </td><td>OAS2_0184_MR2</td><td>Demented     </td><td>2            </td><td> 553         </td><td>F            </td><td>R            </td><td>73           </td><td>16           </td><td> 3           </td><td>21           </td><td>1.0          </td><td>1351         </td><td>0.708        </td><td>1.299        </td></tr>\n",
       "\t<tr><th scope=row>369</th><td>OAS2_0185    </td><td>OAS2_0185_MR2</td><td>Demented     </td><td>2            </td><td> 842         </td><td>M            </td><td>R            </td><td>82           </td><td>16           </td><td> 1           </td><td>28           </td><td>0.5          </td><td>1693         </td><td>0.694        </td><td>1.037        </td></tr>\n",
       "\t<tr><th scope=row>372</th><td>OAS2_0186    </td><td>OAS2_0186_MR2</td><td>Nondemented  </td><td>2            </td><td> 763         </td><td>F            </td><td>R            </td><td>63           </td><td>13           </td><td> 2           </td><td>30           </td><td>0.0          </td><td>1327         </td><td>0.796        </td><td>1.323        </td></tr>\n",
       "</tbody>\n",
       "</table>\n"
      ],
      "text/latex": [
       "\\begin{tabular}{r|lllllllllllllll}\n",
       "  & Subject.ID & MRI.ID & Group & Visit & MR.Delay & M.F & Hand & Age & EDUC & SES & MMSE & CDR & eTIV & nWBV & ASF\\\\\n",
       "\\hline\n",
       "\t2 & OAS2\\_0001       & OAS2\\_0001\\_MR2 & Nondemented       & 2                 &  457              & M                 & R                 & 88                & 14                &  2                & 30                & 0.0               & 2004              & 0.681             & 0.876            \\\\\n",
       "\t4 & OAS2\\_0002       & OAS2\\_0002\\_MR2 & Demented          & 2                 &  560              & M                 & R                 & 76                & 12                & NA                & 28                & 0.5               & 1738              & 0.713             & 1.010            \\\\\n",
       "\t7 & OAS2\\_0004       & OAS2\\_0004\\_MR2 & Nondemented       & 2                 &  538              & F                 & R                 & 90                & 18                &  3                & 27                & 0.0               & 1200              & 0.718             & 1.462            \\\\\n",
       "\t9 & OAS2\\_0005       & OAS2\\_0005\\_MR2 & Nondemented       & 2                 & 1010              & M                 & R                 & 83                & 12                &  4                & 29                & 0.5               & 1701              & 0.711             & 1.032            \\\\\n",
       "\t15 & OAS2\\_0008       & OAS2\\_0008\\_MR2 & Nondemented       & 2                 &  742              & F                 & R                 & 95                & 14                &  2                & 29                & 0.0               & 1257              & 0.703             & 1.396            \\\\\n",
       "\t17 & OAS2\\_0009       & OAS2\\_0009\\_MR2 & Demented          & 2                 &  576              & M                 & R                 & 69                & 12                &  2                & 24                & 0.5               & 1480              & 0.791             & 1.186            \\\\\n",
       "\t19 & OAS2\\_0010       & OAS2\\_0010\\_MR2 & Demented          & 2                 &  854              & F                 & R                 & 68                & 12                &  3                & 29                & 0.5               & 1482              & 0.752             & 1.184            \\\\\n",
       "\t21 & OAS2\\_0012       & OAS2\\_0012\\_MR2 & Nondemented       & 2                 &  730              & F                 & R                 & 80                & 16                &  2                & 29                & 0.0               & 1323              & 0.738             & 1.326            \\\\\n",
       "\t24 & OAS2\\_0013       & OAS2\\_0013\\_MR2 & Nondemented       & 2                 &  643              & F                 & R                 & 82                & 12                &  4                & 30                & 0.0               & 1212              & 0.720             & 1.448            \\\\\n",
       "\t27 & OAS2\\_0014       & OAS2\\_0014\\_MR2 & Demented          & 2                 &  504              & M                 & R                 & 77                & 16                &  3                & 16                & 1.0               & 1590              & 0.696             & 1.104            \\\\\n",
       "\t29 & OAS2\\_0016       & OAS2\\_0016\\_MR2 & Demented          & 2                 &  707              & M                 & R                 & 90                &  8                &  4                & 23                & 0.5               & 1668              & 0.646             & 1.052            \\\\\n",
       "\t38 & OAS2\\_0020       & OAS2\\_0020\\_MR2 & Converted         & 2                 &  756              & M                 & R                 & 82                & 20                &  1                & 28                & 0.5               & 1606              & 0.677             & 1.093            \\\\\n",
       "\t41 & OAS2\\_0021       & OAS2\\_0021\\_MR2 & Demented          & 2                 & 1164              & M                 & R                 & 76                & 20                &  1                & 25                & 0.5               & 1926              & 0.736             & 0.911            \\\\\n",
       "\t43 & OAS2\\_0022       & OAS2\\_0022\\_MR2 & Nondemented       & 2                 &  828              & F                 & R                 & 64                & 16                &  3                & 29                & 0.0               & 1316              & 0.796             & 1.333            \\\\\n",
       "\t45 & OAS2\\_0023       & OAS2\\_0023\\_MR2 & Demented          & 2                 &  578              & F                 & R                 & 87                & 12                &  4                & 21                & 0.5               & 1250              & 0.652             & 1.405            \\\\\n",
       "\t47 & OAS2\\_0026       & OAS2\\_0026\\_MR2 & Demented          & 2                 &  673              & M                 & R                 & 84                & 12                &  3                & 27                & 0.5               & 1445              & 0.695             & 1.214            \\\\\n",
       "\t49 & OAS2\\_0027       & OAS2\\_0027\\_MR2 & Nondemented       & 2                 &  609              & F                 & R                 & 71                & 12                &  3                & 30                & 0.0               & 1360              & 0.782             & 1.291            \\\\\n",
       "\t53 & OAS2\\_0028       & OAS2\\_0028\\_MR2 & Demented          & 2                 &  610              & M                 & R                 & 66                & 18                &  2                & 21                & 1.0               & 1562              & 0.717             & 1.124            \\\\\n",
       "\t55 & OAS2\\_0029       & OAS2\\_0029\\_MR2 & Nondemented       & 2                 & 1099              & F                 & R                 & 80                & 12                &  4                & 30                & 0.0               & 1390              & 0.735             & 1.263            \\\\\n",
       "\t57 & OAS2\\_0030       & OAS2\\_0030\\_MR2 & Nondemented       & 2                 &  932              & F                 & R                 & 62                & 18                &  1                & 30                & 0.0               & 1392              & 0.817             & 1.261            \\\\\n",
       "\t59 & OAS2\\_0031       & OAS2\\_0031\\_MR2 & Converted         & 2                 &  446              & F                 & R                 & 88                & 12                &  3                & 30                & 0.0               & 1445              & 0.719             & 1.215            \\\\\n",
       "\t62 & OAS2\\_0032       & OAS2\\_0032\\_MR2 & Demented          & 2                 &  642              & M                 & R                 & 92                & 12                &  3                & 24                & 0.5               & 1311              & 0.676             & 1.339            \\\\\n",
       "\t64 & OAS2\\_0034       & OAS2\\_0034\\_MR2 & Nondemented       & 2                 &  489              & F                 & R                 & 80                & 16                &  1                & 30                & 0.0               & 1450              & 0.698             & 1.210            \\\\\n",
       "\t68 & OAS2\\_0035       & OAS2\\_0035\\_MR2 & Nondemented       & 2                 &  405              & F                 & R                 & 89                & 12                &  4                & 27                & 0.0               & 1329              & 0.733             & 1.320            \\\\\n",
       "\t74 & OAS2\\_0037       & OAS2\\_0037\\_MR2 & Demented          & 2                 & 1123              & M                 & R                 & 85                & 12                &  4                & 29                & 0.5               & 1487              & 0.717             & 1.180            \\\\\n",
       "\t78 & OAS2\\_0039       & OAS2\\_0039\\_MR2 & Demented          & 2                 &  486              & F                 & R                 & 83                & 18                &  2                & 25                & 0.5               & 1179              & 0.733             & 1.488            \\\\\n",
       "\t80 & OAS2\\_0040       & OAS2\\_0040\\_MR2 & Demented          & 2                 &  567              & M                 & R                 & 86                &  6                &  4                & 27                & 0.5               & 1320              & 0.724             & 1.329            \\\\\n",
       "\t83 & OAS2\\_0041       & OAS2\\_0041\\_MR2 & Converted         & 2                 &  756              & F                 & R                 & 73                & 16                &  1                & 28                & 0.0               & 1295              & 0.768             & 1.356            \\\\\n",
       "\t86 & OAS2\\_0042       & OAS2\\_0042\\_MR2 & Nondemented       & 2                 & 1008              & F                 & R                 & 73                & 17                &  3                & 29                & 0.0               & 1665              & 0.748             & 1.054            \\\\\n",
       "\t88 & OAS2\\_0043       & OAS2\\_0043\\_MR2 & Demented          & 2                 &  491              & F                 & R                 & 73                & 12                &  4                & 26                & 0.5               & 1451              & 0.757             & 1.210            \\\\\n",
       "\t... & ... & ... & ... & ... & ... & ... & ... & ... & ... & ... & ... & ... & ... & ... & ...\\\\\n",
       "\t301 & OAS2\\_0146       & OAS2\\_0146\\_MR2 & Demented          & 2                 &  525              & F                 & R                 & 82                & 15                &  2                & 20                & 1.0               & 1729              & 0.698             & 1.015            \\\\\n",
       "\t303 & OAS2\\_0147       & OAS2\\_0147\\_MR2 & Nondemented       & 2                 &  440              & F                 & R                 & 78                & 13                &  2                & 29                & 0.0               & 1334              & 0.769             & 1.316            \\\\\n",
       "\t307 & OAS2\\_0149       & OAS2\\_0149\\_MR2 & Nondemented       & 2                 &  674              & F                 & R                 & 83                & 13                &  2                & 30                & 0.0               & 1335              & 0.732             & 1.314            \\\\\n",
       "\t309 & OAS2\\_0150       & OAS2\\_0150\\_MR2 & Demented          & 2                 &  518              & F                 & R                 & 75                & 12                &  3                & 27                & 1.0               & 1357              & 0.714             & 1.293            \\\\\n",
       "\t311 & OAS2\\_0152       & OAS2\\_0152\\_MR2 & Nondemented       & 2                 &  790              & F                 & R                 & 68                & 18                &  2                & 29                & 0.0               & 1194              & 0.772             & 1.469            \\\\\n",
       "\t314 & OAS2\\_0154       & OAS2\\_0154\\_MR2 & Nondemented       & 2                 &  791              & F                 & R                 & 77                & 18                &  1                & 28                & 0.0               & 1559              & 0.713             & 1.125            \\\\\n",
       "\t316 & OAS2\\_0156       & OAS2\\_0156\\_MR2 & Nondemented       & 2                 &  777              & F                 & R                 & 81                & 18                &  1                & 30                & 0.0               & 1256              & 0.739             & 1.398            \\\\\n",
       "\t318 & OAS2\\_0157       & OAS2\\_0157\\_MR2 & Demented          & 2                 &  764              & F                 & R                 & 75                & 12                &  2                & 18                & 1.0               & 1479              & 0.657             & 1.187            \\\\\n",
       "\t320 & OAS2\\_0158       & OAS2\\_0158\\_MR2 & Nondemented       & 2                 & 1399              & F                 & R                 & 76                & 15                &  4                & 29                & 0.0               & 1281              & 0.680             & 1.370            \\\\\n",
       "\t322 & OAS2\\_0159       & OAS2\\_0159\\_MR2 & Demented          & 2                 &  759              & F                 & R                 & 76                & 14                &  3                & 28                & 0.5               & 1236              & 0.764             & 1.419            \\\\\n",
       "\t324 & OAS2\\_0160       & OAS2\\_0160\\_MR2 & Demented          & 2                 &  552              & M                 & R                 & 78                & 12                & NA                & 29                & 1.0               & 1569              & 0.704             & 1.119            \\\\\n",
       "\t326 & OAS2\\_0161       & OAS2\\_0161\\_MR2 & Nondemented       & 2                 &  454              & M                 & R                 & 79                & 16                &  1                & 30                & 0.0               & 1817              & 0.736             & 0.966            \\\\\n",
       "\t329 & OAS2\\_0162       & OAS2\\_0162\\_MR2 & Demented          & 2                 &  621              & M                 & R                 & 84                & 14                &  2                & 22                & 0.5               & 1550              & 0.665             & 1.132            \\\\\n",
       "\t331 & OAS2\\_0164       & OAS2\\_0164\\_MR2 & Demented          & 2                 &  580              & M                 & R                 & 79                & 20                &  1                & 25                & 2.0               & 1710              & 0.760             & 1.026            \\\\\n",
       "\t333 & OAS2\\_0165       & OAS2\\_0165\\_MR2 & Demented          & 2                 &  736              & M                 & R                 & 80                & 12                &  3                & 17                & 1.0               & 1755              & 0.696             & 1.000            \\\\\n",
       "\t335 & OAS2\\_0169       & OAS2\\_0169\\_MR2 & Nondemented       & 2                 &  691              & F                 & R                 & 73                & 18                &  1                & 30                & 0.0               & 1414              & 0.739             & 1.241            \\\\\n",
       "\t337 & OAS2\\_0171       & OAS2\\_0171\\_MR2 & Nondemented       & 2                 &  493              & M                 & R                 & 77                & 16                &  3                & 30                & 0.0               & 1820              & 0.768             & 0.964            \\\\\n",
       "\t340 & OAS2\\_0172       & OAS2\\_0172\\_MR2 & Demented          & 2                 & 1212              & M                 & R                 & 79                & 16                &  1                & 29                & 0.5               & 1899              & 0.700             & 0.924            \\\\\n",
       "\t342 & OAS2\\_0174       & OAS2\\_0174\\_MR2 & Nondemented       & 2                 &  695              & M                 & R                 & 62                & 12                &  4                & 30                & 0.0               & 1378              & 0.795             & 1.274            \\\\\n",
       "\t345 & OAS2\\_0175       & OAS2\\_0175\\_MR2 & Demented          & 2                 &  700              & M                 & R                 & 72                & 16                &  4                & 28                & 0.5               & 1796              & 0.732             & 0.977            \\\\\n",
       "\t348 & OAS2\\_0176       & OAS2\\_0176\\_MR2 & Converted         & 2                 &  774              & M                 & R                 & 87                & 16                &  2                & 30                & 0.0               & 1398              & 0.696             & 1.255            \\\\\n",
       "\t351 & OAS2\\_0177       & OAS2\\_0177\\_MR2 & Nondemented       & 2                 &  665              & M                 & R                 & 70                & 14                &  3                & 28                & 0.0               & 1510              & 0.770             & 1.162            \\\\\n",
       "\t353 & OAS2\\_0178       & OAS2\\_0178\\_MR2 & Nondemented       & 2                 &  600              & F                 & R                 & 90                & 14                &  2                & 28                & 0.0               & 1495              & 0.746             & 1.174            \\\\\n",
       "\t356 & OAS2\\_0179       & OAS2\\_0179\\_MR2 & Demented          & 2                 &  652              & M                 & R                 & 81                & 20                &  1                & 26                & 0.5               & 1556              & 0.691             & 1.128            \\\\\n",
       "\t358 & OAS2\\_0181       & OAS2\\_0181\\_MR2 & Demented          & 2                 &  539              & F                 & R                 & 75                & 12                & NA                & NA                & 1.0               & 1169              & 0.742             & 1.501            \\\\\n",
       "\t361 & OAS2\\_0182       & OAS2\\_0182\\_MR2 & Demented          & 2                 &  776              & M                 & R                 & 75                & 12                & NA                & 20                & 0.5               & 1654              & 0.696             & 1.061            \\\\\n",
       "\t363 & OAS2\\_0183       & OAS2\\_0183\\_MR2 & Nondemented       & 2                 &  182              & F                 & R                 & 66                & 13                &  2                & 30                & 0.0               & 1506              & 0.740             & 1.165            \\\\\n",
       "\t367 & OAS2\\_0184       & OAS2\\_0184\\_MR2 & Demented          & 2                 &  553              & F                 & R                 & 73                & 16                &  3                & 21                & 1.0               & 1351              & 0.708             & 1.299            \\\\\n",
       "\t369 & OAS2\\_0185       & OAS2\\_0185\\_MR2 & Demented          & 2                 &  842              & M                 & R                 & 82                & 16                &  1                & 28                & 0.5               & 1693              & 0.694             & 1.037            \\\\\n",
       "\t372 & OAS2\\_0186       & OAS2\\_0186\\_MR2 & Nondemented       & 2                 &  763              & F                 & R                 & 63                & 13                &  2                & 30                & 0.0               & 1327              & 0.796             & 1.323            \\\\\n",
       "\\end{tabular}\n"
      ],
      "text/markdown": [
       "\n",
       "| <!--/--> | Subject.ID | MRI.ID | Group | Visit | MR.Delay | M.F | Hand | Age | EDUC | SES | MMSE | CDR | eTIV | nWBV | ASF |\n",
       "|---|---|---|---|---|---|---|---|---|---|---|---|---|---|---|---|\n",
       "| 2 | OAS2_0001     | OAS2_0001_MR2 | Nondemented   | 2             |  457          | M             | R             | 88            | 14            |  2            | 30            | 0.0           | 2004          | 0.681         | 0.876         |\n",
       "| 4 | OAS2_0002     | OAS2_0002_MR2 | Demented      | 2             |  560          | M             | R             | 76            | 12            | NA            | 28            | 0.5           | 1738          | 0.713         | 1.010         |\n",
       "| 7 | OAS2_0004     | OAS2_0004_MR2 | Nondemented   | 2             |  538          | F             | R             | 90            | 18            |  3            | 27            | 0.0           | 1200          | 0.718         | 1.462         |\n",
       "| 9 | OAS2_0005     | OAS2_0005_MR2 | Nondemented   | 2             | 1010          | M             | R             | 83            | 12            |  4            | 29            | 0.5           | 1701          | 0.711         | 1.032         |\n",
       "| 15 | OAS2_0008     | OAS2_0008_MR2 | Nondemented   | 2             |  742          | F             | R             | 95            | 14            |  2            | 29            | 0.0           | 1257          | 0.703         | 1.396         |\n",
       "| 17 | OAS2_0009     | OAS2_0009_MR2 | Demented      | 2             |  576          | M             | R             | 69            | 12            |  2            | 24            | 0.5           | 1480          | 0.791         | 1.186         |\n",
       "| 19 | OAS2_0010     | OAS2_0010_MR2 | Demented      | 2             |  854          | F             | R             | 68            | 12            |  3            | 29            | 0.5           | 1482          | 0.752         | 1.184         |\n",
       "| 21 | OAS2_0012     | OAS2_0012_MR2 | Nondemented   | 2             |  730          | F             | R             | 80            | 16            |  2            | 29            | 0.0           | 1323          | 0.738         | 1.326         |\n",
       "| 24 | OAS2_0013     | OAS2_0013_MR2 | Nondemented   | 2             |  643          | F             | R             | 82            | 12            |  4            | 30            | 0.0           | 1212          | 0.720         | 1.448         |\n",
       "| 27 | OAS2_0014     | OAS2_0014_MR2 | Demented      | 2             |  504          | M             | R             | 77            | 16            |  3            | 16            | 1.0           | 1590          | 0.696         | 1.104         |\n",
       "| 29 | OAS2_0016     | OAS2_0016_MR2 | Demented      | 2             |  707          | M             | R             | 90            |  8            |  4            | 23            | 0.5           | 1668          | 0.646         | 1.052         |\n",
       "| 38 | OAS2_0020     | OAS2_0020_MR2 | Converted     | 2             |  756          | M             | R             | 82            | 20            |  1            | 28            | 0.5           | 1606          | 0.677         | 1.093         |\n",
       "| 41 | OAS2_0021     | OAS2_0021_MR2 | Demented      | 2             | 1164          | M             | R             | 76            | 20            |  1            | 25            | 0.5           | 1926          | 0.736         | 0.911         |\n",
       "| 43 | OAS2_0022     | OAS2_0022_MR2 | Nondemented   | 2             |  828          | F             | R             | 64            | 16            |  3            | 29            | 0.0           | 1316          | 0.796         | 1.333         |\n",
       "| 45 | OAS2_0023     | OAS2_0023_MR2 | Demented      | 2             |  578          | F             | R             | 87            | 12            |  4            | 21            | 0.5           | 1250          | 0.652         | 1.405         |\n",
       "| 47 | OAS2_0026     | OAS2_0026_MR2 | Demented      | 2             |  673          | M             | R             | 84            | 12            |  3            | 27            | 0.5           | 1445          | 0.695         | 1.214         |\n",
       "| 49 | OAS2_0027     | OAS2_0027_MR2 | Nondemented   | 2             |  609          | F             | R             | 71            | 12            |  3            | 30            | 0.0           | 1360          | 0.782         | 1.291         |\n",
       "| 53 | OAS2_0028     | OAS2_0028_MR2 | Demented      | 2             |  610          | M             | R             | 66            | 18            |  2            | 21            | 1.0           | 1562          | 0.717         | 1.124         |\n",
       "| 55 | OAS2_0029     | OAS2_0029_MR2 | Nondemented   | 2             | 1099          | F             | R             | 80            | 12            |  4            | 30            | 0.0           | 1390          | 0.735         | 1.263         |\n",
       "| 57 | OAS2_0030     | OAS2_0030_MR2 | Nondemented   | 2             |  932          | F             | R             | 62            | 18            |  1            | 30            | 0.0           | 1392          | 0.817         | 1.261         |\n",
       "| 59 | OAS2_0031     | OAS2_0031_MR2 | Converted     | 2             |  446          | F             | R             | 88            | 12            |  3            | 30            | 0.0           | 1445          | 0.719         | 1.215         |\n",
       "| 62 | OAS2_0032     | OAS2_0032_MR2 | Demented      | 2             |  642          | M             | R             | 92            | 12            |  3            | 24            | 0.5           | 1311          | 0.676         | 1.339         |\n",
       "| 64 | OAS2_0034     | OAS2_0034_MR2 | Nondemented   | 2             |  489          | F             | R             | 80            | 16            |  1            | 30            | 0.0           | 1450          | 0.698         | 1.210         |\n",
       "| 68 | OAS2_0035     | OAS2_0035_MR2 | Nondemented   | 2             |  405          | F             | R             | 89            | 12            |  4            | 27            | 0.0           | 1329          | 0.733         | 1.320         |\n",
       "| 74 | OAS2_0037     | OAS2_0037_MR2 | Demented      | 2             | 1123          | M             | R             | 85            | 12            |  4            | 29            | 0.5           | 1487          | 0.717         | 1.180         |\n",
       "| 78 | OAS2_0039     | OAS2_0039_MR2 | Demented      | 2             |  486          | F             | R             | 83            | 18            |  2            | 25            | 0.5           | 1179          | 0.733         | 1.488         |\n",
       "| 80 | OAS2_0040     | OAS2_0040_MR2 | Demented      | 2             |  567          | M             | R             | 86            |  6            |  4            | 27            | 0.5           | 1320          | 0.724         | 1.329         |\n",
       "| 83 | OAS2_0041     | OAS2_0041_MR2 | Converted     | 2             |  756          | F             | R             | 73            | 16            |  1            | 28            | 0.0           | 1295          | 0.768         | 1.356         |\n",
       "| 86 | OAS2_0042     | OAS2_0042_MR2 | Nondemented   | 2             | 1008          | F             | R             | 73            | 17            |  3            | 29            | 0.0           | 1665          | 0.748         | 1.054         |\n",
       "| 88 | OAS2_0043     | OAS2_0043_MR2 | Demented      | 2             |  491          | F             | R             | 73            | 12            |  4            | 26            | 0.5           | 1451          | 0.757         | 1.210         |\n",
       "| ... | ... | ... | ... | ... | ... | ... | ... | ... | ... | ... | ... | ... | ... | ... | ... |\n",
       "| 301 | OAS2_0146     | OAS2_0146_MR2 | Demented      | 2             |  525          | F             | R             | 82            | 15            |  2            | 20            | 1.0           | 1729          | 0.698         | 1.015         |\n",
       "| 303 | OAS2_0147     | OAS2_0147_MR2 | Nondemented   | 2             |  440          | F             | R             | 78            | 13            |  2            | 29            | 0.0           | 1334          | 0.769         | 1.316         |\n",
       "| 307 | OAS2_0149     | OAS2_0149_MR2 | Nondemented   | 2             |  674          | F             | R             | 83            | 13            |  2            | 30            | 0.0           | 1335          | 0.732         | 1.314         |\n",
       "| 309 | OAS2_0150     | OAS2_0150_MR2 | Demented      | 2             |  518          | F             | R             | 75            | 12            |  3            | 27            | 1.0           | 1357          | 0.714         | 1.293         |\n",
       "| 311 | OAS2_0152     | OAS2_0152_MR2 | Nondemented   | 2             |  790          | F             | R             | 68            | 18            |  2            | 29            | 0.0           | 1194          | 0.772         | 1.469         |\n",
       "| 314 | OAS2_0154     | OAS2_0154_MR2 | Nondemented   | 2             |  791          | F             | R             | 77            | 18            |  1            | 28            | 0.0           | 1559          | 0.713         | 1.125         |\n",
       "| 316 | OAS2_0156     | OAS2_0156_MR2 | Nondemented   | 2             |  777          | F             | R             | 81            | 18            |  1            | 30            | 0.0           | 1256          | 0.739         | 1.398         |\n",
       "| 318 | OAS2_0157     | OAS2_0157_MR2 | Demented      | 2             |  764          | F             | R             | 75            | 12            |  2            | 18            | 1.0           | 1479          | 0.657         | 1.187         |\n",
       "| 320 | OAS2_0158     | OAS2_0158_MR2 | Nondemented   | 2             | 1399          | F             | R             | 76            | 15            |  4            | 29            | 0.0           | 1281          | 0.680         | 1.370         |\n",
       "| 322 | OAS2_0159     | OAS2_0159_MR2 | Demented      | 2             |  759          | F             | R             | 76            | 14            |  3            | 28            | 0.5           | 1236          | 0.764         | 1.419         |\n",
       "| 324 | OAS2_0160     | OAS2_0160_MR2 | Demented      | 2             |  552          | M             | R             | 78            | 12            | NA            | 29            | 1.0           | 1569          | 0.704         | 1.119         |\n",
       "| 326 | OAS2_0161     | OAS2_0161_MR2 | Nondemented   | 2             |  454          | M             | R             | 79            | 16            |  1            | 30            | 0.0           | 1817          | 0.736         | 0.966         |\n",
       "| 329 | OAS2_0162     | OAS2_0162_MR2 | Demented      | 2             |  621          | M             | R             | 84            | 14            |  2            | 22            | 0.5           | 1550          | 0.665         | 1.132         |\n",
       "| 331 | OAS2_0164     | OAS2_0164_MR2 | Demented      | 2             |  580          | M             | R             | 79            | 20            |  1            | 25            | 2.0           | 1710          | 0.760         | 1.026         |\n",
       "| 333 | OAS2_0165     | OAS2_0165_MR2 | Demented      | 2             |  736          | M             | R             | 80            | 12            |  3            | 17            | 1.0           | 1755          | 0.696         | 1.000         |\n",
       "| 335 | OAS2_0169     | OAS2_0169_MR2 | Nondemented   | 2             |  691          | F             | R             | 73            | 18            |  1            | 30            | 0.0           | 1414          | 0.739         | 1.241         |\n",
       "| 337 | OAS2_0171     | OAS2_0171_MR2 | Nondemented   | 2             |  493          | M             | R             | 77            | 16            |  3            | 30            | 0.0           | 1820          | 0.768         | 0.964         |\n",
       "| 340 | OAS2_0172     | OAS2_0172_MR2 | Demented      | 2             | 1212          | M             | R             | 79            | 16            |  1            | 29            | 0.5           | 1899          | 0.700         | 0.924         |\n",
       "| 342 | OAS2_0174     | OAS2_0174_MR2 | Nondemented   | 2             |  695          | M             | R             | 62            | 12            |  4            | 30            | 0.0           | 1378          | 0.795         | 1.274         |\n",
       "| 345 | OAS2_0175     | OAS2_0175_MR2 | Demented      | 2             |  700          | M             | R             | 72            | 16            |  4            | 28            | 0.5           | 1796          | 0.732         | 0.977         |\n",
       "| 348 | OAS2_0176     | OAS2_0176_MR2 | Converted     | 2             |  774          | M             | R             | 87            | 16            |  2            | 30            | 0.0           | 1398          | 0.696         | 1.255         |\n",
       "| 351 | OAS2_0177     | OAS2_0177_MR2 | Nondemented   | 2             |  665          | M             | R             | 70            | 14            |  3            | 28            | 0.0           | 1510          | 0.770         | 1.162         |\n",
       "| 353 | OAS2_0178     | OAS2_0178_MR2 | Nondemented   | 2             |  600          | F             | R             | 90            | 14            |  2            | 28            | 0.0           | 1495          | 0.746         | 1.174         |\n",
       "| 356 | OAS2_0179     | OAS2_0179_MR2 | Demented      | 2             |  652          | M             | R             | 81            | 20            |  1            | 26            | 0.5           | 1556          | 0.691         | 1.128         |\n",
       "| 358 | OAS2_0181     | OAS2_0181_MR2 | Demented      | 2             |  539          | F             | R             | 75            | 12            | NA            | NA            | 1.0           | 1169          | 0.742         | 1.501         |\n",
       "| 361 | OAS2_0182     | OAS2_0182_MR2 | Demented      | 2             |  776          | M             | R             | 75            | 12            | NA            | 20            | 0.5           | 1654          | 0.696         | 1.061         |\n",
       "| 363 | OAS2_0183     | OAS2_0183_MR2 | Nondemented   | 2             |  182          | F             | R             | 66            | 13            |  2            | 30            | 0.0           | 1506          | 0.740         | 1.165         |\n",
       "| 367 | OAS2_0184     | OAS2_0184_MR2 | Demented      | 2             |  553          | F             | R             | 73            | 16            |  3            | 21            | 1.0           | 1351          | 0.708         | 1.299         |\n",
       "| 369 | OAS2_0185     | OAS2_0185_MR2 | Demented      | 2             |  842          | M             | R             | 82            | 16            |  1            | 28            | 0.5           | 1693          | 0.694         | 1.037         |\n",
       "| 372 | OAS2_0186     | OAS2_0186_MR2 | Nondemented   | 2             |  763          | F             | R             | 63            | 13            |  2            | 30            | 0.0           | 1327          | 0.796         | 1.323         |\n",
       "\n"
      ],
      "text/plain": [
       "    Subject.ID MRI.ID        Group       Visit MR.Delay M.F Hand Age EDUC SES\n",
       "2   OAS2_0001  OAS2_0001_MR2 Nondemented 2      457     M   R    88  14    2 \n",
       "4   OAS2_0002  OAS2_0002_MR2 Demented    2      560     M   R    76  12   NA \n",
       "7   OAS2_0004  OAS2_0004_MR2 Nondemented 2      538     F   R    90  18    3 \n",
       "9   OAS2_0005  OAS2_0005_MR2 Nondemented 2     1010     M   R    83  12    4 \n",
       "15  OAS2_0008  OAS2_0008_MR2 Nondemented 2      742     F   R    95  14    2 \n",
       "17  OAS2_0009  OAS2_0009_MR2 Demented    2      576     M   R    69  12    2 \n",
       "19  OAS2_0010  OAS2_0010_MR2 Demented    2      854     F   R    68  12    3 \n",
       "21  OAS2_0012  OAS2_0012_MR2 Nondemented 2      730     F   R    80  16    2 \n",
       "24  OAS2_0013  OAS2_0013_MR2 Nondemented 2      643     F   R    82  12    4 \n",
       "27  OAS2_0014  OAS2_0014_MR2 Demented    2      504     M   R    77  16    3 \n",
       "29  OAS2_0016  OAS2_0016_MR2 Demented    2      707     M   R    90   8    4 \n",
       "38  OAS2_0020  OAS2_0020_MR2 Converted   2      756     M   R    82  20    1 \n",
       "41  OAS2_0021  OAS2_0021_MR2 Demented    2     1164     M   R    76  20    1 \n",
       "43  OAS2_0022  OAS2_0022_MR2 Nondemented 2      828     F   R    64  16    3 \n",
       "45  OAS2_0023  OAS2_0023_MR2 Demented    2      578     F   R    87  12    4 \n",
       "47  OAS2_0026  OAS2_0026_MR2 Demented    2      673     M   R    84  12    3 \n",
       "49  OAS2_0027  OAS2_0027_MR2 Nondemented 2      609     F   R    71  12    3 \n",
       "53  OAS2_0028  OAS2_0028_MR2 Demented    2      610     M   R    66  18    2 \n",
       "55  OAS2_0029  OAS2_0029_MR2 Nondemented 2     1099     F   R    80  12    4 \n",
       "57  OAS2_0030  OAS2_0030_MR2 Nondemented 2      932     F   R    62  18    1 \n",
       "59  OAS2_0031  OAS2_0031_MR2 Converted   2      446     F   R    88  12    3 \n",
       "62  OAS2_0032  OAS2_0032_MR2 Demented    2      642     M   R    92  12    3 \n",
       "64  OAS2_0034  OAS2_0034_MR2 Nondemented 2      489     F   R    80  16    1 \n",
       "68  OAS2_0035  OAS2_0035_MR2 Nondemented 2      405     F   R    89  12    4 \n",
       "74  OAS2_0037  OAS2_0037_MR2 Demented    2     1123     M   R    85  12    4 \n",
       "78  OAS2_0039  OAS2_0039_MR2 Demented    2      486     F   R    83  18    2 \n",
       "80  OAS2_0040  OAS2_0040_MR2 Demented    2      567     M   R    86   6    4 \n",
       "83  OAS2_0041  OAS2_0041_MR2 Converted   2      756     F   R    73  16    1 \n",
       "86  OAS2_0042  OAS2_0042_MR2 Nondemented 2     1008     F   R    73  17    3 \n",
       "88  OAS2_0043  OAS2_0043_MR2 Demented    2      491     F   R    73  12    4 \n",
       "... ...        ...           ...         ...   ...      ... ...  ... ...  ...\n",
       "301 OAS2_0146  OAS2_0146_MR2 Demented    2      525     F   R    82  15    2 \n",
       "303 OAS2_0147  OAS2_0147_MR2 Nondemented 2      440     F   R    78  13    2 \n",
       "307 OAS2_0149  OAS2_0149_MR2 Nondemented 2      674     F   R    83  13    2 \n",
       "309 OAS2_0150  OAS2_0150_MR2 Demented    2      518     F   R    75  12    3 \n",
       "311 OAS2_0152  OAS2_0152_MR2 Nondemented 2      790     F   R    68  18    2 \n",
       "314 OAS2_0154  OAS2_0154_MR2 Nondemented 2      791     F   R    77  18    1 \n",
       "316 OAS2_0156  OAS2_0156_MR2 Nondemented 2      777     F   R    81  18    1 \n",
       "318 OAS2_0157  OAS2_0157_MR2 Demented    2      764     F   R    75  12    2 \n",
       "320 OAS2_0158  OAS2_0158_MR2 Nondemented 2     1399     F   R    76  15    4 \n",
       "322 OAS2_0159  OAS2_0159_MR2 Demented    2      759     F   R    76  14    3 \n",
       "324 OAS2_0160  OAS2_0160_MR2 Demented    2      552     M   R    78  12   NA \n",
       "326 OAS2_0161  OAS2_0161_MR2 Nondemented 2      454     M   R    79  16    1 \n",
       "329 OAS2_0162  OAS2_0162_MR2 Demented    2      621     M   R    84  14    2 \n",
       "331 OAS2_0164  OAS2_0164_MR2 Demented    2      580     M   R    79  20    1 \n",
       "333 OAS2_0165  OAS2_0165_MR2 Demented    2      736     M   R    80  12    3 \n",
       "335 OAS2_0169  OAS2_0169_MR2 Nondemented 2      691     F   R    73  18    1 \n",
       "337 OAS2_0171  OAS2_0171_MR2 Nondemented 2      493     M   R    77  16    3 \n",
       "340 OAS2_0172  OAS2_0172_MR2 Demented    2     1212     M   R    79  16    1 \n",
       "342 OAS2_0174  OAS2_0174_MR2 Nondemented 2      695     M   R    62  12    4 \n",
       "345 OAS2_0175  OAS2_0175_MR2 Demented    2      700     M   R    72  16    4 \n",
       "348 OAS2_0176  OAS2_0176_MR2 Converted   2      774     M   R    87  16    2 \n",
       "351 OAS2_0177  OAS2_0177_MR2 Nondemented 2      665     M   R    70  14    3 \n",
       "353 OAS2_0178  OAS2_0178_MR2 Nondemented 2      600     F   R    90  14    2 \n",
       "356 OAS2_0179  OAS2_0179_MR2 Demented    2      652     M   R    81  20    1 \n",
       "358 OAS2_0181  OAS2_0181_MR2 Demented    2      539     F   R    75  12   NA \n",
       "361 OAS2_0182  OAS2_0182_MR2 Demented    2      776     M   R    75  12   NA \n",
       "363 OAS2_0183  OAS2_0183_MR2 Nondemented 2      182     F   R    66  13    2 \n",
       "367 OAS2_0184  OAS2_0184_MR2 Demented    2      553     F   R    73  16    3 \n",
       "369 OAS2_0185  OAS2_0185_MR2 Demented    2      842     M   R    82  16    1 \n",
       "372 OAS2_0186  OAS2_0186_MR2 Nondemented 2      763     F   R    63  13    2 \n",
       "    MMSE CDR eTIV nWBV  ASF  \n",
       "2   30   0.0 2004 0.681 0.876\n",
       "4   28   0.5 1738 0.713 1.010\n",
       "7   27   0.0 1200 0.718 1.462\n",
       "9   29   0.5 1701 0.711 1.032\n",
       "15  29   0.0 1257 0.703 1.396\n",
       "17  24   0.5 1480 0.791 1.186\n",
       "19  29   0.5 1482 0.752 1.184\n",
       "21  29   0.0 1323 0.738 1.326\n",
       "24  30   0.0 1212 0.720 1.448\n",
       "27  16   1.0 1590 0.696 1.104\n",
       "29  23   0.5 1668 0.646 1.052\n",
       "38  28   0.5 1606 0.677 1.093\n",
       "41  25   0.5 1926 0.736 0.911\n",
       "43  29   0.0 1316 0.796 1.333\n",
       "45  21   0.5 1250 0.652 1.405\n",
       "47  27   0.5 1445 0.695 1.214\n",
       "49  30   0.0 1360 0.782 1.291\n",
       "53  21   1.0 1562 0.717 1.124\n",
       "55  30   0.0 1390 0.735 1.263\n",
       "57  30   0.0 1392 0.817 1.261\n",
       "59  30   0.0 1445 0.719 1.215\n",
       "62  24   0.5 1311 0.676 1.339\n",
       "64  30   0.0 1450 0.698 1.210\n",
       "68  27   0.0 1329 0.733 1.320\n",
       "74  29   0.5 1487 0.717 1.180\n",
       "78  25   0.5 1179 0.733 1.488\n",
       "80  27   0.5 1320 0.724 1.329\n",
       "83  28   0.0 1295 0.768 1.356\n",
       "86  29   0.0 1665 0.748 1.054\n",
       "88  26   0.5 1451 0.757 1.210\n",
       "... ...  ... ...  ...   ...  \n",
       "301 20   1.0 1729 0.698 1.015\n",
       "303 29   0.0 1334 0.769 1.316\n",
       "307 30   0.0 1335 0.732 1.314\n",
       "309 27   1.0 1357 0.714 1.293\n",
       "311 29   0.0 1194 0.772 1.469\n",
       "314 28   0.0 1559 0.713 1.125\n",
       "316 30   0.0 1256 0.739 1.398\n",
       "318 18   1.0 1479 0.657 1.187\n",
       "320 29   0.0 1281 0.680 1.370\n",
       "322 28   0.5 1236 0.764 1.419\n",
       "324 29   1.0 1569 0.704 1.119\n",
       "326 30   0.0 1817 0.736 0.966\n",
       "329 22   0.5 1550 0.665 1.132\n",
       "331 25   2.0 1710 0.760 1.026\n",
       "333 17   1.0 1755 0.696 1.000\n",
       "335 30   0.0 1414 0.739 1.241\n",
       "337 30   0.0 1820 0.768 0.964\n",
       "340 29   0.5 1899 0.700 0.924\n",
       "342 30   0.0 1378 0.795 1.274\n",
       "345 28   0.5 1796 0.732 0.977\n",
       "348 30   0.0 1398 0.696 1.255\n",
       "351 28   0.0 1510 0.770 1.162\n",
       "353 28   0.0 1495 0.746 1.174\n",
       "356 26   0.5 1556 0.691 1.128\n",
       "358 NA   1.0 1169 0.742 1.501\n",
       "361 20   0.5 1654 0.696 1.061\n",
       "363 30   0.0 1506 0.740 1.165\n",
       "367 21   1.0 1351 0.708 1.299\n",
       "369 28   0.5 1693 0.694 1.037\n",
       "372 30   0.0 1327 0.796 1.323"
      ]
     },
     "metadata": {},
     "output_type": "display_data"
    }
   ],
   "source": [
    "visit1 = subset(my_data, my_data$Visit == \"1\")\n",
    "visit2 = subset(my_data, my_data$Visit == \"2\")\n",
    "visit1\n",
    "visit2"
   ]
  },
  {
   "cell_type": "code",
   "execution_count": 23,
   "id": "938563ed",
   "metadata": {},
   "outputs": [
    {
     "data": {
      "text/plain": [
       "\n",
       "\tPearson's Chi-squared test\n",
       "\n",
       "data:  visit1$M.F and visit1$Group\n",
       "X-squared = 10.262, df = 2, p-value = 0.005911\n"
      ]
     },
     "metadata": {},
     "output_type": "display_data"
    }
   ],
   "source": [
    "#visit1$M.F = as.numeric(visit1$M.F)\n",
    "#visit1$Group = as.numeric(visit1$Group)\n",
    "chisq.test(visit1$M.F, visit1$Group)"
   ]
  },
  {
   "cell_type": "code",
   "execution_count": 24,
   "id": "f29ccfa0",
   "metadata": {},
   "outputs": [
    {
     "name": "stderr",
     "output_type": "stream",
     "text": [
      "Warning message in chisq.test(visit2$M.F, visit2$Group):\n",
      "\"Chi-squared approximation may be incorrect\""
     ]
    },
    {
     "data": {
      "text/plain": [
       "\n",
       "\tPearson's Chi-squared test\n",
       "\n",
       "data:  visit2$M.F and visit2$Group\n",
       "X-squared = 8.7033, df = 2, p-value = 0.01289\n"
      ]
     },
     "metadata": {},
     "output_type": "display_data"
    }
   ],
   "source": [
    "#visit2$M.F = as.numeric(visit2$M.F)\n",
    "#visit2$Group = as.numeric(visit2$Group)\n",
    "chisq.test(visit2$M.F, visit2$Group)"
   ]
  },
  {
   "cell_type": "code",
   "execution_count": 25,
   "id": "2d86ab66",
   "metadata": {},
   "outputs": [
    {
     "data": {
      "text/plain": [
       "     Subject.ID            MRI.ID            Group         Visit      \n",
       " OAS2_0048:  5   OAS2_0001_MR1:  1   Converted  : 37   Min.   :1.000  \n",
       " OAS2_0070:  5   OAS2_0001_MR2:  1   Demented   :146   1st Qu.:1.000  \n",
       " OAS2_0073:  5   OAS2_0002_MR1:  1   Nondemented:190   Median :2.000  \n",
       " OAS2_0127:  5   OAS2_0002_MR2:  1                     Mean   :1.882  \n",
       " OAS2_0017:  4   OAS2_0002_MR3:  1                     3rd Qu.:2.000  \n",
       " OAS2_0027:  4   OAS2_0004_MR1:  1                     Max.   :5.000  \n",
       " (Other)  :345   (Other)      :367                                    \n",
       "    MR.Delay      M.F     Hand         Age             EDUC           SES      \n",
       " Min.   :   0.0   F:213   R:373   Min.   :60.00   Min.   : 6.0   Min.   :1.00  \n",
       " 1st Qu.:   0.0   M:160           1st Qu.:71.00   1st Qu.:12.0   1st Qu.:2.00  \n",
       " Median : 552.0                   Median :77.00   Median :15.0   Median :2.00  \n",
       " Mean   : 595.1                   Mean   :77.01   Mean   :14.6   Mean   :2.46  \n",
       " 3rd Qu.: 873.0                   3rd Qu.:82.00   3rd Qu.:16.0   3rd Qu.:3.00  \n",
       " Max.   :2639.0                   Max.   :98.00   Max.   :23.0   Max.   :5.00  \n",
       "                                                                 NA's   :19    \n",
       "      MMSE            CDR              eTIV           nWBV       \n",
       " Min.   : 4.00   Min.   :0.0000   Min.   :1106   Min.   :0.6440  \n",
       " 1st Qu.:27.00   1st Qu.:0.0000   1st Qu.:1357   1st Qu.:0.7000  \n",
       " Median :29.00   Median :0.0000   Median :1470   Median :0.7290  \n",
       " Mean   :27.34   Mean   :0.2909   Mean   :1488   Mean   :0.7296  \n",
       " 3rd Qu.:30.00   3rd Qu.:0.5000   3rd Qu.:1597   3rd Qu.:0.7560  \n",
       " Max.   :30.00   Max.   :2.0000   Max.   :2004   Max.   :0.8370  \n",
       " NA's   :2                                                       \n",
       "      ASF       \n",
       " Min.   :0.876  \n",
       " 1st Qu.:1.099  \n",
       " Median :1.194  \n",
       " Mean   :1.195  \n",
       " 3rd Qu.:1.293  \n",
       " Max.   :1.587  \n",
       "                "
      ]
     },
     "metadata": {},
     "output_type": "display_data"
    }
   ],
   "source": [
    "summary(my_data)"
   ]
  },
  {
   "cell_type": "markdown",
   "id": "99312819",
   "metadata": {},
   "source": [
    "# Ejercicio 3"
   ]
  },
  {
   "cell_type": "code",
   "execution_count": 26,
   "id": "064890a1",
   "metadata": {},
   "outputs": [
    {
     "data": {
      "text/html": [
       "<table>\n",
       "<thead><tr><th scope=col>Person</th><th scope=col>gender</th><th scope=col>Age</th><th scope=col>Height</th><th scope=col>pre.weight</th><th scope=col>Diet</th><th scope=col>weight6weeks</th></tr></thead>\n",
       "<tbody>\n",
       "\t<tr><td>25   </td><td>NA   </td><td>41   </td><td>171  </td><td> 60  </td><td>2    </td><td> 60.0</td></tr>\n",
       "\t<tr><td>26   </td><td>NA   </td><td>32   </td><td>174  </td><td>103  </td><td>2    </td><td>103.0</td></tr>\n",
       "\t<tr><td> 1   </td><td> 0   </td><td>22   </td><td>159  </td><td> 58  </td><td>1    </td><td> 54.2</td></tr>\n",
       "\t<tr><td> 2   </td><td> 0   </td><td>46   </td><td>192  </td><td> 60  </td><td>1    </td><td> 54.0</td></tr>\n",
       "\t<tr><td> 3   </td><td> 0   </td><td>55   </td><td>170  </td><td> 64  </td><td>1    </td><td> 63.3</td></tr>\n",
       "\t<tr><td> 4   </td><td> 0   </td><td>33   </td><td>171  </td><td> 64  </td><td>1    </td><td> 61.1</td></tr>\n",
       "\t<tr><td> 5   </td><td> 0   </td><td>50   </td><td>170  </td><td> 65  </td><td>1    </td><td> 62.2</td></tr>\n",
       "\t<tr><td> 6   </td><td> 0   </td><td>50   </td><td>201  </td><td> 66  </td><td>1    </td><td> 64.0</td></tr>\n",
       "\t<tr><td> 7   </td><td> 0   </td><td>37   </td><td>174  </td><td> 67  </td><td>1    </td><td> 65.0</td></tr>\n",
       "\t<tr><td> 8   </td><td> 0   </td><td>28   </td><td>176  </td><td> 69  </td><td>1    </td><td> 60.5</td></tr>\n",
       "\t<tr><td> 9   </td><td> 0   </td><td>28   </td><td>165  </td><td> 70  </td><td>1    </td><td> 68.1</td></tr>\n",
       "\t<tr><td>10   </td><td> 0   </td><td>45   </td><td>165  </td><td> 70  </td><td>1    </td><td> 66.9</td></tr>\n",
       "\t<tr><td>11   </td><td> 0   </td><td>60   </td><td>173  </td><td> 72  </td><td>1    </td><td> 70.5</td></tr>\n",
       "\t<tr><td>12   </td><td> 0   </td><td>48   </td><td>156  </td><td> 72  </td><td>1    </td><td> 69.0</td></tr>\n",
       "\t<tr><td>13   </td><td> 0   </td><td>41   </td><td>163  </td><td> 72  </td><td>1    </td><td> 68.4</td></tr>\n",
       "\t<tr><td>14   </td><td> 0   </td><td>37   </td><td>167  </td><td> 82  </td><td>1    </td><td> 81.1</td></tr>\n",
       "\t<tr><td>27   </td><td> 0   </td><td>44   </td><td>174  </td><td> 58  </td><td>2    </td><td> 60.1</td></tr>\n",
       "\t<tr><td>28   </td><td> 0   </td><td>37   </td><td>172  </td><td> 58  </td><td>2    </td><td> 56.0</td></tr>\n",
       "\t<tr><td>29   </td><td> 0   </td><td>41   </td><td>165  </td><td> 59  </td><td>2    </td><td> 57.3</td></tr>\n",
       "\t<tr><td>30   </td><td> 0   </td><td>43   </td><td>171  </td><td> 61  </td><td>2    </td><td> 56.7</td></tr>\n",
       "\t<tr><td>31   </td><td> 0   </td><td>20   </td><td>169  </td><td> 62  </td><td>2    </td><td> 55.0</td></tr>\n",
       "\t<tr><td>32   </td><td> 0   </td><td>51   </td><td>174  </td><td> 63  </td><td>2    </td><td> 62.4</td></tr>\n",
       "\t<tr><td>33   </td><td> 0   </td><td>31   </td><td>163  </td><td> 63  </td><td>2    </td><td> 60.3</td></tr>\n",
       "\t<tr><td>34   </td><td> 0   </td><td>54   </td><td>173  </td><td> 63  </td><td>2    </td><td> 59.4</td></tr>\n",
       "\t<tr><td>35   </td><td> 0   </td><td>50   </td><td>166  </td><td> 65  </td><td>2    </td><td> 62.0</td></tr>\n",
       "\t<tr><td>36   </td><td> 0   </td><td>48   </td><td>163  </td><td> 66  </td><td>2    </td><td> 64.0</td></tr>\n",
       "\t<tr><td>37   </td><td> 0   </td><td>16   </td><td>165  </td><td> 68  </td><td>2    </td><td> 63.8</td></tr>\n",
       "\t<tr><td>38   </td><td> 0   </td><td>37   </td><td>167  </td><td> 68  </td><td>2    </td><td> 63.3</td></tr>\n",
       "\t<tr><td>39   </td><td> 0   </td><td>30   </td><td>161  </td><td> 76  </td><td>2    </td><td> 72.7</td></tr>\n",
       "\t<tr><td>40   </td><td> 0   </td><td>29   </td><td>169  </td><td> 77  </td><td>2    </td><td> 77.5</td></tr>\n",
       "\t<tr><td>...</td><td>...</td><td>...</td><td>...</td><td>...</td><td>...</td><td>...</td></tr>\n",
       "\t<tr><td>18  </td><td>1   </td><td>50  </td><td>160 </td><td>78  </td><td>1   </td><td>73.9</td></tr>\n",
       "\t<tr><td>19  </td><td>1   </td><td>43  </td><td>162 </td><td>80  </td><td>1   </td><td>71.0</td></tr>\n",
       "\t<tr><td>20  </td><td>1   </td><td>25  </td><td>165 </td><td>80  </td><td>1   </td><td>77.6</td></tr>\n",
       "\t<tr><td>21  </td><td>1   </td><td>52  </td><td>177 </td><td>83  </td><td>1   </td><td>79.1</td></tr>\n",
       "\t<tr><td>22  </td><td>1   </td><td>42  </td><td>166 </td><td>85  </td><td>1   </td><td>81.5</td></tr>\n",
       "\t<tr><td>23  </td><td>1   </td><td>39  </td><td>166 </td><td>87  </td><td>1   </td><td>81.9</td></tr>\n",
       "\t<tr><td>24  </td><td>1   </td><td>40  </td><td>190 </td><td>88  </td><td>1   </td><td>84.5</td></tr>\n",
       "\t<tr><td>41  </td><td>1   </td><td>51  </td><td>191 </td><td>71  </td><td>2   </td><td>66.8</td></tr>\n",
       "\t<tr><td>42  </td><td>1   </td><td>38  </td><td>199 </td><td>75  </td><td>2   </td><td>72.6</td></tr>\n",
       "\t<tr><td>43  </td><td>1   </td><td>54  </td><td>196 </td><td>75  </td><td>2   </td><td>69.2</td></tr>\n",
       "\t<tr><td>44  </td><td>1   </td><td>33  </td><td>190 </td><td>76  </td><td>2   </td><td>72.5</td></tr>\n",
       "\t<tr><td>45  </td><td>1   </td><td>45  </td><td>160 </td><td>78  </td><td>2   </td><td>72.7</td></tr>\n",
       "\t<tr><td>46  </td><td>1   </td><td>37  </td><td>194 </td><td>78  </td><td>2   </td><td>76.3</td></tr>\n",
       "\t<tr><td>47  </td><td>1   </td><td>44  </td><td>163 </td><td>79  </td><td>2   </td><td>73.6</td></tr>\n",
       "\t<tr><td>48  </td><td>1   </td><td>40  </td><td>171 </td><td>79  </td><td>2   </td><td>72.9</td></tr>\n",
       "\t<tr><td>49  </td><td>1   </td><td>37  </td><td>198 </td><td>79  </td><td>2   </td><td>71.1</td></tr>\n",
       "\t<tr><td>50  </td><td>1   </td><td>39  </td><td>180 </td><td>80  </td><td>2   </td><td>81.4</td></tr>\n",
       "\t<tr><td>51  </td><td>1   </td><td>31  </td><td>182 </td><td>80  </td><td>2   </td><td>75.7</td></tr>\n",
       "\t<tr><td>67  </td><td>1   </td><td>36  </td><td>155 </td><td>71  </td><td>3   </td><td>68.5</td></tr>\n",
       "\t<tr><td>68  </td><td>1   </td><td>47  </td><td>179 </td><td>73  </td><td>3   </td><td>72.1</td></tr>\n",
       "\t<tr><td>69  </td><td>1   </td><td>29  </td><td>166 </td><td>76  </td><td>3   </td><td>72.5</td></tr>\n",
       "\t<tr><td>70  </td><td>1   </td><td>37  </td><td>173 </td><td>78  </td><td>3   </td><td>77.5</td></tr>\n",
       "\t<tr><td>71  </td><td>1   </td><td>31  </td><td>177 </td><td>78  </td><td>3   </td><td>75.2</td></tr>\n",
       "\t<tr><td>72  </td><td>1   </td><td>26  </td><td>179 </td><td>78  </td><td>3   </td><td>69.4</td></tr>\n",
       "\t<tr><td>73  </td><td>1   </td><td>40  </td><td>179 </td><td>79  </td><td>3   </td><td>74.5</td></tr>\n",
       "\t<tr><td>74  </td><td>1   </td><td>35  </td><td>183 </td><td>83  </td><td>3   </td><td>80.2</td></tr>\n",
       "\t<tr><td>75  </td><td>1   </td><td>49  </td><td>177 </td><td>84  </td><td>3   </td><td>79.9</td></tr>\n",
       "\t<tr><td>76  </td><td>1   </td><td>28  </td><td>164 </td><td>85  </td><td>3   </td><td>79.7</td></tr>\n",
       "\t<tr><td>77  </td><td>1   </td><td>40  </td><td>167 </td><td>87  </td><td>3   </td><td>77.8</td></tr>\n",
       "\t<tr><td>78  </td><td>1   </td><td>51  </td><td>175 </td><td>88  </td><td>3   </td><td>81.9</td></tr>\n",
       "</tbody>\n",
       "</table>\n"
      ],
      "text/latex": [
       "\\begin{tabular}{r|lllllll}\n",
       " Person & gender & Age & Height & pre.weight & Diet & weight6weeks\\\\\n",
       "\\hline\n",
       "\t 25    & NA    & 41    & 171   &  60   & 2     &  60.0\\\\\n",
       "\t 26    & NA    & 32    & 174   & 103   & 2     & 103.0\\\\\n",
       "\t  1    &  0    & 22    & 159   &  58   & 1     &  54.2\\\\\n",
       "\t  2    &  0    & 46    & 192   &  60   & 1     &  54.0\\\\\n",
       "\t  3    &  0    & 55    & 170   &  64   & 1     &  63.3\\\\\n",
       "\t  4    &  0    & 33    & 171   &  64   & 1     &  61.1\\\\\n",
       "\t  5    &  0    & 50    & 170   &  65   & 1     &  62.2\\\\\n",
       "\t  6    &  0    & 50    & 201   &  66   & 1     &  64.0\\\\\n",
       "\t  7    &  0    & 37    & 174   &  67   & 1     &  65.0\\\\\n",
       "\t  8    &  0    & 28    & 176   &  69   & 1     &  60.5\\\\\n",
       "\t  9    &  0    & 28    & 165   &  70   & 1     &  68.1\\\\\n",
       "\t 10    &  0    & 45    & 165   &  70   & 1     &  66.9\\\\\n",
       "\t 11    &  0    & 60    & 173   &  72   & 1     &  70.5\\\\\n",
       "\t 12    &  0    & 48    & 156   &  72   & 1     &  69.0\\\\\n",
       "\t 13    &  0    & 41    & 163   &  72   & 1     &  68.4\\\\\n",
       "\t 14    &  0    & 37    & 167   &  82   & 1     &  81.1\\\\\n",
       "\t 27    &  0    & 44    & 174   &  58   & 2     &  60.1\\\\\n",
       "\t 28    &  0    & 37    & 172   &  58   & 2     &  56.0\\\\\n",
       "\t 29    &  0    & 41    & 165   &  59   & 2     &  57.3\\\\\n",
       "\t 30    &  0    & 43    & 171   &  61   & 2     &  56.7\\\\\n",
       "\t 31    &  0    & 20    & 169   &  62   & 2     &  55.0\\\\\n",
       "\t 32    &  0    & 51    & 174   &  63   & 2     &  62.4\\\\\n",
       "\t 33    &  0    & 31    & 163   &  63   & 2     &  60.3\\\\\n",
       "\t 34    &  0    & 54    & 173   &  63   & 2     &  59.4\\\\\n",
       "\t 35    &  0    & 50    & 166   &  65   & 2     &  62.0\\\\\n",
       "\t 36    &  0    & 48    & 163   &  66   & 2     &  64.0\\\\\n",
       "\t 37    &  0    & 16    & 165   &  68   & 2     &  63.8\\\\\n",
       "\t 38    &  0    & 37    & 167   &  68   & 2     &  63.3\\\\\n",
       "\t 39    &  0    & 30    & 161   &  76   & 2     &  72.7\\\\\n",
       "\t 40    &  0    & 29    & 169   &  77   & 2     &  77.5\\\\\n",
       "\t ... & ... & ... & ... & ... & ... & ...\\\\\n",
       "\t 18   & 1    & 50   & 160  & 78   & 1    & 73.9\\\\\n",
       "\t 19   & 1    & 43   & 162  & 80   & 1    & 71.0\\\\\n",
       "\t 20   & 1    & 25   & 165  & 80   & 1    & 77.6\\\\\n",
       "\t 21   & 1    & 52   & 177  & 83   & 1    & 79.1\\\\\n",
       "\t 22   & 1    & 42   & 166  & 85   & 1    & 81.5\\\\\n",
       "\t 23   & 1    & 39   & 166  & 87   & 1    & 81.9\\\\\n",
       "\t 24   & 1    & 40   & 190  & 88   & 1    & 84.5\\\\\n",
       "\t 41   & 1    & 51   & 191  & 71   & 2    & 66.8\\\\\n",
       "\t 42   & 1    & 38   & 199  & 75   & 2    & 72.6\\\\\n",
       "\t 43   & 1    & 54   & 196  & 75   & 2    & 69.2\\\\\n",
       "\t 44   & 1    & 33   & 190  & 76   & 2    & 72.5\\\\\n",
       "\t 45   & 1    & 45   & 160  & 78   & 2    & 72.7\\\\\n",
       "\t 46   & 1    & 37   & 194  & 78   & 2    & 76.3\\\\\n",
       "\t 47   & 1    & 44   & 163  & 79   & 2    & 73.6\\\\\n",
       "\t 48   & 1    & 40   & 171  & 79   & 2    & 72.9\\\\\n",
       "\t 49   & 1    & 37   & 198  & 79   & 2    & 71.1\\\\\n",
       "\t 50   & 1    & 39   & 180  & 80   & 2    & 81.4\\\\\n",
       "\t 51   & 1    & 31   & 182  & 80   & 2    & 75.7\\\\\n",
       "\t 67   & 1    & 36   & 155  & 71   & 3    & 68.5\\\\\n",
       "\t 68   & 1    & 47   & 179  & 73   & 3    & 72.1\\\\\n",
       "\t 69   & 1    & 29   & 166  & 76   & 3    & 72.5\\\\\n",
       "\t 70   & 1    & 37   & 173  & 78   & 3    & 77.5\\\\\n",
       "\t 71   & 1    & 31   & 177  & 78   & 3    & 75.2\\\\\n",
       "\t 72   & 1    & 26   & 179  & 78   & 3    & 69.4\\\\\n",
       "\t 73   & 1    & 40   & 179  & 79   & 3    & 74.5\\\\\n",
       "\t 74   & 1    & 35   & 183  & 83   & 3    & 80.2\\\\\n",
       "\t 75   & 1    & 49   & 177  & 84   & 3    & 79.9\\\\\n",
       "\t 76   & 1    & 28   & 164  & 85   & 3    & 79.7\\\\\n",
       "\t 77   & 1    & 40   & 167  & 87   & 3    & 77.8\\\\\n",
       "\t 78   & 1    & 51   & 175  & 88   & 3    & 81.9\\\\\n",
       "\\end{tabular}\n"
      ],
      "text/markdown": [
       "\n",
       "| Person | gender | Age | Height | pre.weight | Diet | weight6weeks |\n",
       "|---|---|---|---|---|---|---|\n",
       "| 25    | NA    | 41    | 171   |  60   | 2     |  60.0 |\n",
       "| 26    | NA    | 32    | 174   | 103   | 2     | 103.0 |\n",
       "|  1    |  0    | 22    | 159   |  58   | 1     |  54.2 |\n",
       "|  2    |  0    | 46    | 192   |  60   | 1     |  54.0 |\n",
       "|  3    |  0    | 55    | 170   |  64   | 1     |  63.3 |\n",
       "|  4    |  0    | 33    | 171   |  64   | 1     |  61.1 |\n",
       "|  5    |  0    | 50    | 170   |  65   | 1     |  62.2 |\n",
       "|  6    |  0    | 50    | 201   |  66   | 1     |  64.0 |\n",
       "|  7    |  0    | 37    | 174   |  67   | 1     |  65.0 |\n",
       "|  8    |  0    | 28    | 176   |  69   | 1     |  60.5 |\n",
       "|  9    |  0    | 28    | 165   |  70   | 1     |  68.1 |\n",
       "| 10    |  0    | 45    | 165   |  70   | 1     |  66.9 |\n",
       "| 11    |  0    | 60    | 173   |  72   | 1     |  70.5 |\n",
       "| 12    |  0    | 48    | 156   |  72   | 1     |  69.0 |\n",
       "| 13    |  0    | 41    | 163   |  72   | 1     |  68.4 |\n",
       "| 14    |  0    | 37    | 167   |  82   | 1     |  81.1 |\n",
       "| 27    |  0    | 44    | 174   |  58   | 2     |  60.1 |\n",
       "| 28    |  0    | 37    | 172   |  58   | 2     |  56.0 |\n",
       "| 29    |  0    | 41    | 165   |  59   | 2     |  57.3 |\n",
       "| 30    |  0    | 43    | 171   |  61   | 2     |  56.7 |\n",
       "| 31    |  0    | 20    | 169   |  62   | 2     |  55.0 |\n",
       "| 32    |  0    | 51    | 174   |  63   | 2     |  62.4 |\n",
       "| 33    |  0    | 31    | 163   |  63   | 2     |  60.3 |\n",
       "| 34    |  0    | 54    | 173   |  63   | 2     |  59.4 |\n",
       "| 35    |  0    | 50    | 166   |  65   | 2     |  62.0 |\n",
       "| 36    |  0    | 48    | 163   |  66   | 2     |  64.0 |\n",
       "| 37    |  0    | 16    | 165   |  68   | 2     |  63.8 |\n",
       "| 38    |  0    | 37    | 167   |  68   | 2     |  63.3 |\n",
       "| 39    |  0    | 30    | 161   |  76   | 2     |  72.7 |\n",
       "| 40    |  0    | 29    | 169   |  77   | 2     |  77.5 |\n",
       "| ... | ... | ... | ... | ... | ... | ... |\n",
       "| 18   | 1    | 50   | 160  | 78   | 1    | 73.9 |\n",
       "| 19   | 1    | 43   | 162  | 80   | 1    | 71.0 |\n",
       "| 20   | 1    | 25   | 165  | 80   | 1    | 77.6 |\n",
       "| 21   | 1    | 52   | 177  | 83   | 1    | 79.1 |\n",
       "| 22   | 1    | 42   | 166  | 85   | 1    | 81.5 |\n",
       "| 23   | 1    | 39   | 166  | 87   | 1    | 81.9 |\n",
       "| 24   | 1    | 40   | 190  | 88   | 1    | 84.5 |\n",
       "| 41   | 1    | 51   | 191  | 71   | 2    | 66.8 |\n",
       "| 42   | 1    | 38   | 199  | 75   | 2    | 72.6 |\n",
       "| 43   | 1    | 54   | 196  | 75   | 2    | 69.2 |\n",
       "| 44   | 1    | 33   | 190  | 76   | 2    | 72.5 |\n",
       "| 45   | 1    | 45   | 160  | 78   | 2    | 72.7 |\n",
       "| 46   | 1    | 37   | 194  | 78   | 2    | 76.3 |\n",
       "| 47   | 1    | 44   | 163  | 79   | 2    | 73.6 |\n",
       "| 48   | 1    | 40   | 171  | 79   | 2    | 72.9 |\n",
       "| 49   | 1    | 37   | 198  | 79   | 2    | 71.1 |\n",
       "| 50   | 1    | 39   | 180  | 80   | 2    | 81.4 |\n",
       "| 51   | 1    | 31   | 182  | 80   | 2    | 75.7 |\n",
       "| 67   | 1    | 36   | 155  | 71   | 3    | 68.5 |\n",
       "| 68   | 1    | 47   | 179  | 73   | 3    | 72.1 |\n",
       "| 69   | 1    | 29   | 166  | 76   | 3    | 72.5 |\n",
       "| 70   | 1    | 37   | 173  | 78   | 3    | 77.5 |\n",
       "| 71   | 1    | 31   | 177  | 78   | 3    | 75.2 |\n",
       "| 72   | 1    | 26   | 179  | 78   | 3    | 69.4 |\n",
       "| 73   | 1    | 40   | 179  | 79   | 3    | 74.5 |\n",
       "| 74   | 1    | 35   | 183  | 83   | 3    | 80.2 |\n",
       "| 75   | 1    | 49   | 177  | 84   | 3    | 79.9 |\n",
       "| 76   | 1    | 28   | 164  | 85   | 3    | 79.7 |\n",
       "| 77   | 1    | 40   | 167  | 87   | 3    | 77.8 |\n",
       "| 78   | 1    | 51   | 175  | 88   | 3    | 81.9 |\n",
       "\n"
      ],
      "text/plain": [
       "    Person gender Age Height pre.weight Diet weight6weeks\n",
       "1   25     NA     41  171     60        2     60.0       \n",
       "2   26     NA     32  174    103        2    103.0       \n",
       "3    1      0     22  159     58        1     54.2       \n",
       "4    2      0     46  192     60        1     54.0       \n",
       "5    3      0     55  170     64        1     63.3       \n",
       "6    4      0     33  171     64        1     61.1       \n",
       "7    5      0     50  170     65        1     62.2       \n",
       "8    6      0     50  201     66        1     64.0       \n",
       "9    7      0     37  174     67        1     65.0       \n",
       "10   8      0     28  176     69        1     60.5       \n",
       "11   9      0     28  165     70        1     68.1       \n",
       "12  10      0     45  165     70        1     66.9       \n",
       "13  11      0     60  173     72        1     70.5       \n",
       "14  12      0     48  156     72        1     69.0       \n",
       "15  13      0     41  163     72        1     68.4       \n",
       "16  14      0     37  167     82        1     81.1       \n",
       "17  27      0     44  174     58        2     60.1       \n",
       "18  28      0     37  172     58        2     56.0       \n",
       "19  29      0     41  165     59        2     57.3       \n",
       "20  30      0     43  171     61        2     56.7       \n",
       "21  31      0     20  169     62        2     55.0       \n",
       "22  32      0     51  174     63        2     62.4       \n",
       "23  33      0     31  163     63        2     60.3       \n",
       "24  34      0     54  173     63        2     59.4       \n",
       "25  35      0     50  166     65        2     62.0       \n",
       "26  36      0     48  163     66        2     64.0       \n",
       "27  37      0     16  165     68        2     63.8       \n",
       "28  38      0     37  167     68        2     63.3       \n",
       "29  39      0     30  161     76        2     72.7       \n",
       "30  40      0     29  169     77        2     77.5       \n",
       "... ...    ...    ... ...    ...        ...  ...         \n",
       "49  18     1      50  160    78         1    73.9        \n",
       "50  19     1      43  162    80         1    71.0        \n",
       "51  20     1      25  165    80         1    77.6        \n",
       "52  21     1      52  177    83         1    79.1        \n",
       "53  22     1      42  166    85         1    81.5        \n",
       "54  23     1      39  166    87         1    81.9        \n",
       "55  24     1      40  190    88         1    84.5        \n",
       "56  41     1      51  191    71         2    66.8        \n",
       "57  42     1      38  199    75         2    72.6        \n",
       "58  43     1      54  196    75         2    69.2        \n",
       "59  44     1      33  190    76         2    72.5        \n",
       "60  45     1      45  160    78         2    72.7        \n",
       "61  46     1      37  194    78         2    76.3        \n",
       "62  47     1      44  163    79         2    73.6        \n",
       "63  48     1      40  171    79         2    72.9        \n",
       "64  49     1      37  198    79         2    71.1        \n",
       "65  50     1      39  180    80         2    81.4        \n",
       "66  51     1      31  182    80         2    75.7        \n",
       "67  67     1      36  155    71         3    68.5        \n",
       "68  68     1      47  179    73         3    72.1        \n",
       "69  69     1      29  166    76         3    72.5        \n",
       "70  70     1      37  173    78         3    77.5        \n",
       "71  71     1      31  177    78         3    75.2        \n",
       "72  72     1      26  179    78         3    69.4        \n",
       "73  73     1      40  179    79         3    74.5        \n",
       "74  74     1      35  183    83         3    80.2        \n",
       "75  75     1      49  177    84         3    79.9        \n",
       "76  76     1      28  164    85         3    79.7        \n",
       "77  77     1      40  167    87         3    77.8        \n",
       "78  78     1      51  175    88         3    81.9        "
      ]
     },
     "metadata": {},
     "output_type": "display_data"
    }
   ],
   "source": [
    "diet_data <- read.csv(\"stcp-Rdataset-Diet.csv\")\n",
    "diet_data"
   ]
  },
  {
   "cell_type": "code",
   "execution_count": 27,
   "id": "31a6221a",
   "metadata": {},
   "outputs": [
    {
     "data": {
      "text/plain": [
       "     Person          gender            Age            Height     \n",
       " Min.   : 1.00   Min.   :0.0000   Min.   :16.00   Min.   :141.0  \n",
       " 1st Qu.:20.25   1st Qu.:0.0000   1st Qu.:32.25   1st Qu.:164.2  \n",
       " Median :39.50   Median :0.0000   Median :39.00   Median :169.5  \n",
       " Mean   :39.50   Mean   :0.4342   Mean   :39.15   Mean   :170.8  \n",
       " 3rd Qu.:58.75   3rd Qu.:1.0000   3rd Qu.:46.75   3rd Qu.:174.8  \n",
       " Max.   :78.00   Max.   :1.0000   Max.   :60.00   Max.   :201.0  \n",
       "                 NA's   :2                                       \n",
       "   pre.weight          Diet        weight6weeks   \n",
       " Min.   : 58.00   Min.   :1.000   Min.   : 53.00  \n",
       " 1st Qu.: 66.00   1st Qu.:1.000   1st Qu.: 61.85  \n",
       " Median : 72.00   Median :2.000   Median : 68.95  \n",
       " Mean   : 72.53   Mean   :2.038   Mean   : 68.68  \n",
       " 3rd Qu.: 78.00   3rd Qu.:3.000   3rd Qu.: 73.83  \n",
       " Max.   :103.00   Max.   :3.000   Max.   :103.00  \n",
       "                                                  "
      ]
     },
     "metadata": {},
     "output_type": "display_data"
    }
   ],
   "source": [
    "summary(diet_data)"
   ]
  },
  {
   "cell_type": "code",
   "execution_count": 28,
   "id": "df0913c8",
   "metadata": {},
   "outputs": [
    {
     "data": {
      "text/plain": [
       "\n",
       "\tShapiro-Wilk normality test\n",
       "\n",
       "data:  diet_data$pre.weight\n",
       "W = 0.96917, p-value = 0.05541\n"
      ]
     },
     "metadata": {},
     "output_type": "display_data"
    }
   ],
   "source": [
    "shapiro.test(diet_data$pre.weight)"
   ]
  },
  {
   "cell_type": "code",
   "execution_count": 29,
   "id": "0847beeb",
   "metadata": {},
   "outputs": [
    {
     "data": {
      "text/plain": [
       "\n",
       "\tShapiro-Wilk normality test\n",
       "\n",
       "data:  diet_data$weight6weeks\n",
       "W = 0.95795, p-value = 0.01149\n"
      ]
     },
     "metadata": {},
     "output_type": "display_data"
    }
   ],
   "source": [
    "shapiro.test(diet_data$weight6weeks)"
   ]
  },
  {
   "cell_type": "code",
   "execution_count": 30,
   "id": "06200c6c",
   "metadata": {},
   "outputs": [
    {
     "data": {
      "text/plain": [
       "\n",
       "\tWilcoxon rank sum test with continuity correction\n",
       "\n",
       "data:  diet_data$pre.weight and diet_data$weight6weeks\n",
       "W = 3794, p-value = 0.00772\n",
       "alternative hypothesis: true location shift is not equal to 0\n"
      ]
     },
     "metadata": {},
     "output_type": "display_data"
    }
   ],
   "source": [
    "wilcox.test(diet_data$pre.weight, diet_data$weight6weeks)"
   ]
  },
  {
   "cell_type": "code",
   "execution_count": 31,
   "id": "85e1e6d6",
   "metadata": {},
   "outputs": [
    {
     "data": {
      "text/html": [
       "<table>\n",
       "<thead><tr><th></th><th scope=col>Person</th><th scope=col>gender</th><th scope=col>Age</th><th scope=col>Height</th><th scope=col>pre.weight</th><th scope=col>Diet</th><th scope=col>weight6weeks</th></tr></thead>\n",
       "<tbody>\n",
       "\t<tr><th scope=row>3</th><td> 1  </td><td>0   </td><td>22  </td><td>159 </td><td>58  </td><td>1   </td><td>54.2</td></tr>\n",
       "\t<tr><th scope=row>4</th><td> 2  </td><td>0   </td><td>46  </td><td>192 </td><td>60  </td><td>1   </td><td>54.0</td></tr>\n",
       "\t<tr><th scope=row>5</th><td> 3  </td><td>0   </td><td>55  </td><td>170 </td><td>64  </td><td>1   </td><td>63.3</td></tr>\n",
       "\t<tr><th scope=row>6</th><td> 4  </td><td>0   </td><td>33  </td><td>171 </td><td>64  </td><td>1   </td><td>61.1</td></tr>\n",
       "\t<tr><th scope=row>7</th><td> 5  </td><td>0   </td><td>50  </td><td>170 </td><td>65  </td><td>1   </td><td>62.2</td></tr>\n",
       "\t<tr><th scope=row>8</th><td> 6  </td><td>0   </td><td>50  </td><td>201 </td><td>66  </td><td>1   </td><td>64.0</td></tr>\n",
       "\t<tr><th scope=row>9</th><td> 7  </td><td>0   </td><td>37  </td><td>174 </td><td>67  </td><td>1   </td><td>65.0</td></tr>\n",
       "\t<tr><th scope=row>10</th><td> 8  </td><td>0   </td><td>28  </td><td>176 </td><td>69  </td><td>1   </td><td>60.5</td></tr>\n",
       "\t<tr><th scope=row>11</th><td> 9  </td><td>0   </td><td>28  </td><td>165 </td><td>70  </td><td>1   </td><td>68.1</td></tr>\n",
       "\t<tr><th scope=row>12</th><td>10  </td><td>0   </td><td>45  </td><td>165 </td><td>70  </td><td>1   </td><td>66.9</td></tr>\n",
       "\t<tr><th scope=row>13</th><td>11  </td><td>0   </td><td>60  </td><td>173 </td><td>72  </td><td>1   </td><td>70.5</td></tr>\n",
       "\t<tr><th scope=row>14</th><td>12  </td><td>0   </td><td>48  </td><td>156 </td><td>72  </td><td>1   </td><td>69.0</td></tr>\n",
       "\t<tr><th scope=row>15</th><td>13  </td><td>0   </td><td>41  </td><td>163 </td><td>72  </td><td>1   </td><td>68.4</td></tr>\n",
       "\t<tr><th scope=row>16</th><td>14  </td><td>0   </td><td>37  </td><td>167 </td><td>82  </td><td>1   </td><td>81.1</td></tr>\n",
       "\t<tr><th scope=row>46</th><td>15  </td><td>1   </td><td>39  </td><td>168 </td><td>71  </td><td>1   </td><td>71.6</td></tr>\n",
       "\t<tr><th scope=row>47</th><td>16  </td><td>1   </td><td>31  </td><td>158 </td><td>72  </td><td>1   </td><td>70.9</td></tr>\n",
       "\t<tr><th scope=row>48</th><td>17  </td><td>1   </td><td>40  </td><td>173 </td><td>74  </td><td>1   </td><td>69.5</td></tr>\n",
       "\t<tr><th scope=row>49</th><td>18  </td><td>1   </td><td>50  </td><td>160 </td><td>78  </td><td>1   </td><td>73.9</td></tr>\n",
       "\t<tr><th scope=row>50</th><td>19  </td><td>1   </td><td>43  </td><td>162 </td><td>80  </td><td>1   </td><td>71.0</td></tr>\n",
       "\t<tr><th scope=row>51</th><td>20  </td><td>1   </td><td>25  </td><td>165 </td><td>80  </td><td>1   </td><td>77.6</td></tr>\n",
       "\t<tr><th scope=row>52</th><td>21  </td><td>1   </td><td>52  </td><td>177 </td><td>83  </td><td>1   </td><td>79.1</td></tr>\n",
       "\t<tr><th scope=row>53</th><td>22  </td><td>1   </td><td>42  </td><td>166 </td><td>85  </td><td>1   </td><td>81.5</td></tr>\n",
       "\t<tr><th scope=row>54</th><td>23  </td><td>1   </td><td>39  </td><td>166 </td><td>87  </td><td>1   </td><td>81.9</td></tr>\n",
       "\t<tr><th scope=row>55</th><td>24  </td><td>1   </td><td>40  </td><td>190 </td><td>88  </td><td>1   </td><td>84.5</td></tr>\n",
       "</tbody>\n",
       "</table>\n"
      ],
      "text/latex": [
       "\\begin{tabular}{r|lllllll}\n",
       "  & Person & gender & Age & Height & pre.weight & Diet & weight6weeks\\\\\n",
       "\\hline\n",
       "\t3 &  1   & 0    & 22   & 159  & 58   & 1    & 54.2\\\\\n",
       "\t4 &  2   & 0    & 46   & 192  & 60   & 1    & 54.0\\\\\n",
       "\t5 &  3   & 0    & 55   & 170  & 64   & 1    & 63.3\\\\\n",
       "\t6 &  4   & 0    & 33   & 171  & 64   & 1    & 61.1\\\\\n",
       "\t7 &  5   & 0    & 50   & 170  & 65   & 1    & 62.2\\\\\n",
       "\t8 &  6   & 0    & 50   & 201  & 66   & 1    & 64.0\\\\\n",
       "\t9 &  7   & 0    & 37   & 174  & 67   & 1    & 65.0\\\\\n",
       "\t10 &  8   & 0    & 28   & 176  & 69   & 1    & 60.5\\\\\n",
       "\t11 &  9   & 0    & 28   & 165  & 70   & 1    & 68.1\\\\\n",
       "\t12 & 10   & 0    & 45   & 165  & 70   & 1    & 66.9\\\\\n",
       "\t13 & 11   & 0    & 60   & 173  & 72   & 1    & 70.5\\\\\n",
       "\t14 & 12   & 0    & 48   & 156  & 72   & 1    & 69.0\\\\\n",
       "\t15 & 13   & 0    & 41   & 163  & 72   & 1    & 68.4\\\\\n",
       "\t16 & 14   & 0    & 37   & 167  & 82   & 1    & 81.1\\\\\n",
       "\t46 & 15   & 1    & 39   & 168  & 71   & 1    & 71.6\\\\\n",
       "\t47 & 16   & 1    & 31   & 158  & 72   & 1    & 70.9\\\\\n",
       "\t48 & 17   & 1    & 40   & 173  & 74   & 1    & 69.5\\\\\n",
       "\t49 & 18   & 1    & 50   & 160  & 78   & 1    & 73.9\\\\\n",
       "\t50 & 19   & 1    & 43   & 162  & 80   & 1    & 71.0\\\\\n",
       "\t51 & 20   & 1    & 25   & 165  & 80   & 1    & 77.6\\\\\n",
       "\t52 & 21   & 1    & 52   & 177  & 83   & 1    & 79.1\\\\\n",
       "\t53 & 22   & 1    & 42   & 166  & 85   & 1    & 81.5\\\\\n",
       "\t54 & 23   & 1    & 39   & 166  & 87   & 1    & 81.9\\\\\n",
       "\t55 & 24   & 1    & 40   & 190  & 88   & 1    & 84.5\\\\\n",
       "\\end{tabular}\n"
      ],
      "text/markdown": [
       "\n",
       "| <!--/--> | Person | gender | Age | Height | pre.weight | Diet | weight6weeks |\n",
       "|---|---|---|---|---|---|---|---|\n",
       "| 3 |  1   | 0    | 22   | 159  | 58   | 1    | 54.2 |\n",
       "| 4 |  2   | 0    | 46   | 192  | 60   | 1    | 54.0 |\n",
       "| 5 |  3   | 0    | 55   | 170  | 64   | 1    | 63.3 |\n",
       "| 6 |  4   | 0    | 33   | 171  | 64   | 1    | 61.1 |\n",
       "| 7 |  5   | 0    | 50   | 170  | 65   | 1    | 62.2 |\n",
       "| 8 |  6   | 0    | 50   | 201  | 66   | 1    | 64.0 |\n",
       "| 9 |  7   | 0    | 37   | 174  | 67   | 1    | 65.0 |\n",
       "| 10 |  8   | 0    | 28   | 176  | 69   | 1    | 60.5 |\n",
       "| 11 |  9   | 0    | 28   | 165  | 70   | 1    | 68.1 |\n",
       "| 12 | 10   | 0    | 45   | 165  | 70   | 1    | 66.9 |\n",
       "| 13 | 11   | 0    | 60   | 173  | 72   | 1    | 70.5 |\n",
       "| 14 | 12   | 0    | 48   | 156  | 72   | 1    | 69.0 |\n",
       "| 15 | 13   | 0    | 41   | 163  | 72   | 1    | 68.4 |\n",
       "| 16 | 14   | 0    | 37   | 167  | 82   | 1    | 81.1 |\n",
       "| 46 | 15   | 1    | 39   | 168  | 71   | 1    | 71.6 |\n",
       "| 47 | 16   | 1    | 31   | 158  | 72   | 1    | 70.9 |\n",
       "| 48 | 17   | 1    | 40   | 173  | 74   | 1    | 69.5 |\n",
       "| 49 | 18   | 1    | 50   | 160  | 78   | 1    | 73.9 |\n",
       "| 50 | 19   | 1    | 43   | 162  | 80   | 1    | 71.0 |\n",
       "| 51 | 20   | 1    | 25   | 165  | 80   | 1    | 77.6 |\n",
       "| 52 | 21   | 1    | 52   | 177  | 83   | 1    | 79.1 |\n",
       "| 53 | 22   | 1    | 42   | 166  | 85   | 1    | 81.5 |\n",
       "| 54 | 23   | 1    | 39   | 166  | 87   | 1    | 81.9 |\n",
       "| 55 | 24   | 1    | 40   | 190  | 88   | 1    | 84.5 |\n",
       "\n"
      ],
      "text/plain": [
       "   Person gender Age Height pre.weight Diet weight6weeks\n",
       "3   1     0      22  159    58         1    54.2        \n",
       "4   2     0      46  192    60         1    54.0        \n",
       "5   3     0      55  170    64         1    63.3        \n",
       "6   4     0      33  171    64         1    61.1        \n",
       "7   5     0      50  170    65         1    62.2        \n",
       "8   6     0      50  201    66         1    64.0        \n",
       "9   7     0      37  174    67         1    65.0        \n",
       "10  8     0      28  176    69         1    60.5        \n",
       "11  9     0      28  165    70         1    68.1        \n",
       "12 10     0      45  165    70         1    66.9        \n",
       "13 11     0      60  173    72         1    70.5        \n",
       "14 12     0      48  156    72         1    69.0        \n",
       "15 13     0      41  163    72         1    68.4        \n",
       "16 14     0      37  167    82         1    81.1        \n",
       "46 15     1      39  168    71         1    71.6        \n",
       "47 16     1      31  158    72         1    70.9        \n",
       "48 17     1      40  173    74         1    69.5        \n",
       "49 18     1      50  160    78         1    73.9        \n",
       "50 19     1      43  162    80         1    71.0        \n",
       "51 20     1      25  165    80         1    77.6        \n",
       "52 21     1      52  177    83         1    79.1        \n",
       "53 22     1      42  166    85         1    81.5        \n",
       "54 23     1      39  166    87         1    81.9        \n",
       "55 24     1      40  190    88         1    84.5        "
      ]
     },
     "metadata": {},
     "output_type": "display_data"
    },
    {
     "data": {
      "text/plain": [
       "     Person          gender            Age            Height     \n",
       " Min.   : 1.00   Min.   :0.0000   Min.   :22.00   Min.   :156.0  \n",
       " 1st Qu.: 6.75   1st Qu.:0.0000   1st Qu.:36.00   1st Qu.:164.5  \n",
       " Median :12.50   Median :0.0000   Median :40.50   Median :167.5  \n",
       " Mean   :12.50   Mean   :0.4167   Mean   :40.88   Mean   :170.3  \n",
       " 3rd Qu.:18.25   3rd Qu.:1.0000   3rd Qu.:48.50   3rd Qu.:173.2  \n",
       " Max.   :24.00   Max.   :1.0000   Max.   :60.00   Max.   :201.0  \n",
       "   pre.weight         Diet    weight6weeks  \n",
       " Min.   :58.00   Min.   :1   Min.   :54.00  \n",
       " 1st Qu.:66.75   1st Qu.:1   1st Qu.:63.83  \n",
       " Median :72.00   Median :1   Median :69.25  \n",
       " Mean   :72.88   Mean   :1   Mean   :69.58  \n",
       " 3rd Qu.:80.00   3rd Qu.:1   3rd Qu.:74.83  \n",
       " Max.   :88.00   Max.   :1   Max.   :84.50  "
      ]
     },
     "metadata": {},
     "output_type": "display_data"
    },
    {
     "data": {
      "text/html": [
       "<table>\n",
       "<thead><tr><th></th><th scope=col>Person</th><th scope=col>gender</th><th scope=col>Age</th><th scope=col>Height</th><th scope=col>pre.weight</th><th scope=col>Diet</th><th scope=col>weight6weeks</th><th scope=col>diet1_diff</th></tr></thead>\n",
       "<tbody>\n",
       "\t<tr><th scope=row>3</th><td> 1  </td><td>0   </td><td>22  </td><td>159 </td><td>58  </td><td>1   </td><td>54.2</td><td> 3.8</td></tr>\n",
       "\t<tr><th scope=row>4</th><td> 2  </td><td>0   </td><td>46  </td><td>192 </td><td>60  </td><td>1   </td><td>54.0</td><td> 6.0</td></tr>\n",
       "\t<tr><th scope=row>5</th><td> 3  </td><td>0   </td><td>55  </td><td>170 </td><td>64  </td><td>1   </td><td>63.3</td><td> 0.7</td></tr>\n",
       "\t<tr><th scope=row>6</th><td> 4  </td><td>0   </td><td>33  </td><td>171 </td><td>64  </td><td>1   </td><td>61.1</td><td> 2.9</td></tr>\n",
       "\t<tr><th scope=row>7</th><td> 5  </td><td>0   </td><td>50  </td><td>170 </td><td>65  </td><td>1   </td><td>62.2</td><td> 2.8</td></tr>\n",
       "\t<tr><th scope=row>8</th><td> 6  </td><td>0   </td><td>50  </td><td>201 </td><td>66  </td><td>1   </td><td>64.0</td><td> 2.0</td></tr>\n",
       "\t<tr><th scope=row>9</th><td> 7  </td><td>0   </td><td>37  </td><td>174 </td><td>67  </td><td>1   </td><td>65.0</td><td> 2.0</td></tr>\n",
       "\t<tr><th scope=row>10</th><td> 8  </td><td>0   </td><td>28  </td><td>176 </td><td>69  </td><td>1   </td><td>60.5</td><td> 8.5</td></tr>\n",
       "\t<tr><th scope=row>11</th><td> 9  </td><td>0   </td><td>28  </td><td>165 </td><td>70  </td><td>1   </td><td>68.1</td><td> 1.9</td></tr>\n",
       "\t<tr><th scope=row>12</th><td>10  </td><td>0   </td><td>45  </td><td>165 </td><td>70  </td><td>1   </td><td>66.9</td><td> 3.1</td></tr>\n",
       "\t<tr><th scope=row>13</th><td>11  </td><td>0   </td><td>60  </td><td>173 </td><td>72  </td><td>1   </td><td>70.5</td><td> 1.5</td></tr>\n",
       "\t<tr><th scope=row>14</th><td>12  </td><td>0   </td><td>48  </td><td>156 </td><td>72  </td><td>1   </td><td>69.0</td><td> 3.0</td></tr>\n",
       "\t<tr><th scope=row>15</th><td>13  </td><td>0   </td><td>41  </td><td>163 </td><td>72  </td><td>1   </td><td>68.4</td><td> 3.6</td></tr>\n",
       "\t<tr><th scope=row>16</th><td>14  </td><td>0   </td><td>37  </td><td>167 </td><td>82  </td><td>1   </td><td>81.1</td><td> 0.9</td></tr>\n",
       "\t<tr><th scope=row>46</th><td>15  </td><td>1   </td><td>39  </td><td>168 </td><td>71  </td><td>1   </td><td>71.6</td><td>-0.6</td></tr>\n",
       "\t<tr><th scope=row>47</th><td>16  </td><td>1   </td><td>31  </td><td>158 </td><td>72  </td><td>1   </td><td>70.9</td><td> 1.1</td></tr>\n",
       "\t<tr><th scope=row>48</th><td>17  </td><td>1   </td><td>40  </td><td>173 </td><td>74  </td><td>1   </td><td>69.5</td><td> 4.5</td></tr>\n",
       "\t<tr><th scope=row>49</th><td>18  </td><td>1   </td><td>50  </td><td>160 </td><td>78  </td><td>1   </td><td>73.9</td><td> 4.1</td></tr>\n",
       "\t<tr><th scope=row>50</th><td>19  </td><td>1   </td><td>43  </td><td>162 </td><td>80  </td><td>1   </td><td>71.0</td><td> 9.0</td></tr>\n",
       "\t<tr><th scope=row>51</th><td>20  </td><td>1   </td><td>25  </td><td>165 </td><td>80  </td><td>1   </td><td>77.6</td><td> 2.4</td></tr>\n",
       "\t<tr><th scope=row>52</th><td>21  </td><td>1   </td><td>52  </td><td>177 </td><td>83  </td><td>1   </td><td>79.1</td><td> 3.9</td></tr>\n",
       "\t<tr><th scope=row>53</th><td>22  </td><td>1   </td><td>42  </td><td>166 </td><td>85  </td><td>1   </td><td>81.5</td><td> 3.5</td></tr>\n",
       "\t<tr><th scope=row>54</th><td>23  </td><td>1   </td><td>39  </td><td>166 </td><td>87  </td><td>1   </td><td>81.9</td><td> 5.1</td></tr>\n",
       "\t<tr><th scope=row>55</th><td>24  </td><td>1   </td><td>40  </td><td>190 </td><td>88  </td><td>1   </td><td>84.5</td><td> 3.5</td></tr>\n",
       "</tbody>\n",
       "</table>\n"
      ],
      "text/latex": [
       "\\begin{tabular}{r|llllllll}\n",
       "  & Person & gender & Age & Height & pre.weight & Diet & weight6weeks & diet1\\_diff\\\\\n",
       "\\hline\n",
       "\t3 &  1   & 0    & 22   & 159  & 58   & 1    & 54.2 &  3.8\\\\\n",
       "\t4 &  2   & 0    & 46   & 192  & 60   & 1    & 54.0 &  6.0\\\\\n",
       "\t5 &  3   & 0    & 55   & 170  & 64   & 1    & 63.3 &  0.7\\\\\n",
       "\t6 &  4   & 0    & 33   & 171  & 64   & 1    & 61.1 &  2.9\\\\\n",
       "\t7 &  5   & 0    & 50   & 170  & 65   & 1    & 62.2 &  2.8\\\\\n",
       "\t8 &  6   & 0    & 50   & 201  & 66   & 1    & 64.0 &  2.0\\\\\n",
       "\t9 &  7   & 0    & 37   & 174  & 67   & 1    & 65.0 &  2.0\\\\\n",
       "\t10 &  8   & 0    & 28   & 176  & 69   & 1    & 60.5 &  8.5\\\\\n",
       "\t11 &  9   & 0    & 28   & 165  & 70   & 1    & 68.1 &  1.9\\\\\n",
       "\t12 & 10   & 0    & 45   & 165  & 70   & 1    & 66.9 &  3.1\\\\\n",
       "\t13 & 11   & 0    & 60   & 173  & 72   & 1    & 70.5 &  1.5\\\\\n",
       "\t14 & 12   & 0    & 48   & 156  & 72   & 1    & 69.0 &  3.0\\\\\n",
       "\t15 & 13   & 0    & 41   & 163  & 72   & 1    & 68.4 &  3.6\\\\\n",
       "\t16 & 14   & 0    & 37   & 167  & 82   & 1    & 81.1 &  0.9\\\\\n",
       "\t46 & 15   & 1    & 39   & 168  & 71   & 1    & 71.6 & -0.6\\\\\n",
       "\t47 & 16   & 1    & 31   & 158  & 72   & 1    & 70.9 &  1.1\\\\\n",
       "\t48 & 17   & 1    & 40   & 173  & 74   & 1    & 69.5 &  4.5\\\\\n",
       "\t49 & 18   & 1    & 50   & 160  & 78   & 1    & 73.9 &  4.1\\\\\n",
       "\t50 & 19   & 1    & 43   & 162  & 80   & 1    & 71.0 &  9.0\\\\\n",
       "\t51 & 20   & 1    & 25   & 165  & 80   & 1    & 77.6 &  2.4\\\\\n",
       "\t52 & 21   & 1    & 52   & 177  & 83   & 1    & 79.1 &  3.9\\\\\n",
       "\t53 & 22   & 1    & 42   & 166  & 85   & 1    & 81.5 &  3.5\\\\\n",
       "\t54 & 23   & 1    & 39   & 166  & 87   & 1    & 81.9 &  5.1\\\\\n",
       "\t55 & 24   & 1    & 40   & 190  & 88   & 1    & 84.5 &  3.5\\\\\n",
       "\\end{tabular}\n"
      ],
      "text/markdown": [
       "\n",
       "| <!--/--> | Person | gender | Age | Height | pre.weight | Diet | weight6weeks | diet1_diff |\n",
       "|---|---|---|---|---|---|---|---|---|\n",
       "| 3 |  1   | 0    | 22   | 159  | 58   | 1    | 54.2 |  3.8 |\n",
       "| 4 |  2   | 0    | 46   | 192  | 60   | 1    | 54.0 |  6.0 |\n",
       "| 5 |  3   | 0    | 55   | 170  | 64   | 1    | 63.3 |  0.7 |\n",
       "| 6 |  4   | 0    | 33   | 171  | 64   | 1    | 61.1 |  2.9 |\n",
       "| 7 |  5   | 0    | 50   | 170  | 65   | 1    | 62.2 |  2.8 |\n",
       "| 8 |  6   | 0    | 50   | 201  | 66   | 1    | 64.0 |  2.0 |\n",
       "| 9 |  7   | 0    | 37   | 174  | 67   | 1    | 65.0 |  2.0 |\n",
       "| 10 |  8   | 0    | 28   | 176  | 69   | 1    | 60.5 |  8.5 |\n",
       "| 11 |  9   | 0    | 28   | 165  | 70   | 1    | 68.1 |  1.9 |\n",
       "| 12 | 10   | 0    | 45   | 165  | 70   | 1    | 66.9 |  3.1 |\n",
       "| 13 | 11   | 0    | 60   | 173  | 72   | 1    | 70.5 |  1.5 |\n",
       "| 14 | 12   | 0    | 48   | 156  | 72   | 1    | 69.0 |  3.0 |\n",
       "| 15 | 13   | 0    | 41   | 163  | 72   | 1    | 68.4 |  3.6 |\n",
       "| 16 | 14   | 0    | 37   | 167  | 82   | 1    | 81.1 |  0.9 |\n",
       "| 46 | 15   | 1    | 39   | 168  | 71   | 1    | 71.6 | -0.6 |\n",
       "| 47 | 16   | 1    | 31   | 158  | 72   | 1    | 70.9 |  1.1 |\n",
       "| 48 | 17   | 1    | 40   | 173  | 74   | 1    | 69.5 |  4.5 |\n",
       "| 49 | 18   | 1    | 50   | 160  | 78   | 1    | 73.9 |  4.1 |\n",
       "| 50 | 19   | 1    | 43   | 162  | 80   | 1    | 71.0 |  9.0 |\n",
       "| 51 | 20   | 1    | 25   | 165  | 80   | 1    | 77.6 |  2.4 |\n",
       "| 52 | 21   | 1    | 52   | 177  | 83   | 1    | 79.1 |  3.9 |\n",
       "| 53 | 22   | 1    | 42   | 166  | 85   | 1    | 81.5 |  3.5 |\n",
       "| 54 | 23   | 1    | 39   | 166  | 87   | 1    | 81.9 |  5.1 |\n",
       "| 55 | 24   | 1    | 40   | 190  | 88   | 1    | 84.5 |  3.5 |\n",
       "\n"
      ],
      "text/plain": [
       "   Person gender Age Height pre.weight Diet weight6weeks diet1_diff\n",
       "3   1     0      22  159    58         1    54.2          3.8      \n",
       "4   2     0      46  192    60         1    54.0          6.0      \n",
       "5   3     0      55  170    64         1    63.3          0.7      \n",
       "6   4     0      33  171    64         1    61.1          2.9      \n",
       "7   5     0      50  170    65         1    62.2          2.8      \n",
       "8   6     0      50  201    66         1    64.0          2.0      \n",
       "9   7     0      37  174    67         1    65.0          2.0      \n",
       "10  8     0      28  176    69         1    60.5          8.5      \n",
       "11  9     0      28  165    70         1    68.1          1.9      \n",
       "12 10     0      45  165    70         1    66.9          3.1      \n",
       "13 11     0      60  173    72         1    70.5          1.5      \n",
       "14 12     0      48  156    72         1    69.0          3.0      \n",
       "15 13     0      41  163    72         1    68.4          3.6      \n",
       "16 14     0      37  167    82         1    81.1          0.9      \n",
       "46 15     1      39  168    71         1    71.6         -0.6      \n",
       "47 16     1      31  158    72         1    70.9          1.1      \n",
       "48 17     1      40  173    74         1    69.5          4.5      \n",
       "49 18     1      50  160    78         1    73.9          4.1      \n",
       "50 19     1      43  162    80         1    71.0          9.0      \n",
       "51 20     1      25  165    80         1    77.6          2.4      \n",
       "52 21     1      52  177    83         1    79.1          3.9      \n",
       "53 22     1      42  166    85         1    81.5          3.5      \n",
       "54 23     1      39  166    87         1    81.9          5.1      \n",
       "55 24     1      40  190    88         1    84.5          3.5      "
      ]
     },
     "metadata": {},
     "output_type": "display_data"
    },
    {
     "data": {
      "text/html": [
       "3.3"
      ],
      "text/latex": [
       "3.3"
      ],
      "text/markdown": [
       "3.3"
      ],
      "text/plain": [
       "[1] 3.3"
      ]
     },
     "metadata": {},
     "output_type": "display_data"
    }
   ],
   "source": [
    "diet1 = subset(diet_data, Diet == \"1\")\n",
    "diet1\n",
    "summary(diet1)\n",
    "diet1_diff = diet1$pre.weight - diet1$weight6weeks\n",
    "diet1=cbind(diet1,diet1_diff)\n",
    "diet1\n",
    "mean(diet1_diff)"
   ]
  },
  {
   "cell_type": "code",
   "execution_count": 32,
   "id": "00c73a1a",
   "metadata": {},
   "outputs": [
    {
     "data": {
      "text/html": [
       "<table>\n",
       "<thead><tr><th></th><th scope=col>Person</th><th scope=col>gender</th><th scope=col>Age</th><th scope=col>Height</th><th scope=col>pre.weight</th><th scope=col>Diet</th><th scope=col>weight6weeks</th></tr></thead>\n",
       "<tbody>\n",
       "\t<tr><th scope=row>1</th><td>25   </td><td>NA   </td><td>41   </td><td>171  </td><td> 60  </td><td>2    </td><td> 60.0</td></tr>\n",
       "\t<tr><th scope=row>2</th><td>26   </td><td>NA   </td><td>32   </td><td>174  </td><td>103  </td><td>2    </td><td>103.0</td></tr>\n",
       "\t<tr><th scope=row>17</th><td>27   </td><td> 0   </td><td>44   </td><td>174  </td><td> 58  </td><td>2    </td><td> 60.1</td></tr>\n",
       "\t<tr><th scope=row>18</th><td>28   </td><td> 0   </td><td>37   </td><td>172  </td><td> 58  </td><td>2    </td><td> 56.0</td></tr>\n",
       "\t<tr><th scope=row>19</th><td>29   </td><td> 0   </td><td>41   </td><td>165  </td><td> 59  </td><td>2    </td><td> 57.3</td></tr>\n",
       "\t<tr><th scope=row>20</th><td>30   </td><td> 0   </td><td>43   </td><td>171  </td><td> 61  </td><td>2    </td><td> 56.7</td></tr>\n",
       "\t<tr><th scope=row>21</th><td>31   </td><td> 0   </td><td>20   </td><td>169  </td><td> 62  </td><td>2    </td><td> 55.0</td></tr>\n",
       "\t<tr><th scope=row>22</th><td>32   </td><td> 0   </td><td>51   </td><td>174  </td><td> 63  </td><td>2    </td><td> 62.4</td></tr>\n",
       "\t<tr><th scope=row>23</th><td>33   </td><td> 0   </td><td>31   </td><td>163  </td><td> 63  </td><td>2    </td><td> 60.3</td></tr>\n",
       "\t<tr><th scope=row>24</th><td>34   </td><td> 0   </td><td>54   </td><td>173  </td><td> 63  </td><td>2    </td><td> 59.4</td></tr>\n",
       "\t<tr><th scope=row>25</th><td>35   </td><td> 0   </td><td>50   </td><td>166  </td><td> 65  </td><td>2    </td><td> 62.0</td></tr>\n",
       "\t<tr><th scope=row>26</th><td>36   </td><td> 0   </td><td>48   </td><td>163  </td><td> 66  </td><td>2    </td><td> 64.0</td></tr>\n",
       "\t<tr><th scope=row>27</th><td>37   </td><td> 0   </td><td>16   </td><td>165  </td><td> 68  </td><td>2    </td><td> 63.8</td></tr>\n",
       "\t<tr><th scope=row>28</th><td>38   </td><td> 0   </td><td>37   </td><td>167  </td><td> 68  </td><td>2    </td><td> 63.3</td></tr>\n",
       "\t<tr><th scope=row>29</th><td>39   </td><td> 0   </td><td>30   </td><td>161  </td><td> 76  </td><td>2    </td><td> 72.7</td></tr>\n",
       "\t<tr><th scope=row>30</th><td>40   </td><td> 0   </td><td>29   </td><td>169  </td><td> 77  </td><td>2    </td><td> 77.5</td></tr>\n",
       "\t<tr><th scope=row>56</th><td>41   </td><td> 1   </td><td>51   </td><td>191  </td><td> 71  </td><td>2    </td><td> 66.8</td></tr>\n",
       "\t<tr><th scope=row>57</th><td>42   </td><td> 1   </td><td>38   </td><td>199  </td><td> 75  </td><td>2    </td><td> 72.6</td></tr>\n",
       "\t<tr><th scope=row>58</th><td>43   </td><td> 1   </td><td>54   </td><td>196  </td><td> 75  </td><td>2    </td><td> 69.2</td></tr>\n",
       "\t<tr><th scope=row>59</th><td>44   </td><td> 1   </td><td>33   </td><td>190  </td><td> 76  </td><td>2    </td><td> 72.5</td></tr>\n",
       "\t<tr><th scope=row>60</th><td>45   </td><td> 1   </td><td>45   </td><td>160  </td><td> 78  </td><td>2    </td><td> 72.7</td></tr>\n",
       "\t<tr><th scope=row>61</th><td>46   </td><td> 1   </td><td>37   </td><td>194  </td><td> 78  </td><td>2    </td><td> 76.3</td></tr>\n",
       "\t<tr><th scope=row>62</th><td>47   </td><td> 1   </td><td>44   </td><td>163  </td><td> 79  </td><td>2    </td><td> 73.6</td></tr>\n",
       "\t<tr><th scope=row>63</th><td>48   </td><td> 1   </td><td>40   </td><td>171  </td><td> 79  </td><td>2    </td><td> 72.9</td></tr>\n",
       "\t<tr><th scope=row>64</th><td>49   </td><td> 1   </td><td>37   </td><td>198  </td><td> 79  </td><td>2    </td><td> 71.1</td></tr>\n",
       "\t<tr><th scope=row>65</th><td>50   </td><td> 1   </td><td>39   </td><td>180  </td><td> 80  </td><td>2    </td><td> 81.4</td></tr>\n",
       "\t<tr><th scope=row>66</th><td>51   </td><td> 1   </td><td>31   </td><td>182  </td><td> 80  </td><td>2    </td><td> 75.7</td></tr>\n",
       "</tbody>\n",
       "</table>\n"
      ],
      "text/latex": [
       "\\begin{tabular}{r|lllllll}\n",
       "  & Person & gender & Age & Height & pre.weight & Diet & weight6weeks\\\\\n",
       "\\hline\n",
       "\t1 & 25    & NA    & 41    & 171   &  60   & 2     &  60.0\\\\\n",
       "\t2 & 26    & NA    & 32    & 174   & 103   & 2     & 103.0\\\\\n",
       "\t17 & 27    &  0    & 44    & 174   &  58   & 2     &  60.1\\\\\n",
       "\t18 & 28    &  0    & 37    & 172   &  58   & 2     &  56.0\\\\\n",
       "\t19 & 29    &  0    & 41    & 165   &  59   & 2     &  57.3\\\\\n",
       "\t20 & 30    &  0    & 43    & 171   &  61   & 2     &  56.7\\\\\n",
       "\t21 & 31    &  0    & 20    & 169   &  62   & 2     &  55.0\\\\\n",
       "\t22 & 32    &  0    & 51    & 174   &  63   & 2     &  62.4\\\\\n",
       "\t23 & 33    &  0    & 31    & 163   &  63   & 2     &  60.3\\\\\n",
       "\t24 & 34    &  0    & 54    & 173   &  63   & 2     &  59.4\\\\\n",
       "\t25 & 35    &  0    & 50    & 166   &  65   & 2     &  62.0\\\\\n",
       "\t26 & 36    &  0    & 48    & 163   &  66   & 2     &  64.0\\\\\n",
       "\t27 & 37    &  0    & 16    & 165   &  68   & 2     &  63.8\\\\\n",
       "\t28 & 38    &  0    & 37    & 167   &  68   & 2     &  63.3\\\\\n",
       "\t29 & 39    &  0    & 30    & 161   &  76   & 2     &  72.7\\\\\n",
       "\t30 & 40    &  0    & 29    & 169   &  77   & 2     &  77.5\\\\\n",
       "\t56 & 41    &  1    & 51    & 191   &  71   & 2     &  66.8\\\\\n",
       "\t57 & 42    &  1    & 38    & 199   &  75   & 2     &  72.6\\\\\n",
       "\t58 & 43    &  1    & 54    & 196   &  75   & 2     &  69.2\\\\\n",
       "\t59 & 44    &  1    & 33    & 190   &  76   & 2     &  72.5\\\\\n",
       "\t60 & 45    &  1    & 45    & 160   &  78   & 2     &  72.7\\\\\n",
       "\t61 & 46    &  1    & 37    & 194   &  78   & 2     &  76.3\\\\\n",
       "\t62 & 47    &  1    & 44    & 163   &  79   & 2     &  73.6\\\\\n",
       "\t63 & 48    &  1    & 40    & 171   &  79   & 2     &  72.9\\\\\n",
       "\t64 & 49    &  1    & 37    & 198   &  79   & 2     &  71.1\\\\\n",
       "\t65 & 50    &  1    & 39    & 180   &  80   & 2     &  81.4\\\\\n",
       "\t66 & 51    &  1    & 31    & 182   &  80   & 2     &  75.7\\\\\n",
       "\\end{tabular}\n"
      ],
      "text/markdown": [
       "\n",
       "| <!--/--> | Person | gender | Age | Height | pre.weight | Diet | weight6weeks |\n",
       "|---|---|---|---|---|---|---|---|\n",
       "| 1 | 25    | NA    | 41    | 171   |  60   | 2     |  60.0 |\n",
       "| 2 | 26    | NA    | 32    | 174   | 103   | 2     | 103.0 |\n",
       "| 17 | 27    |  0    | 44    | 174   |  58   | 2     |  60.1 |\n",
       "| 18 | 28    |  0    | 37    | 172   |  58   | 2     |  56.0 |\n",
       "| 19 | 29    |  0    | 41    | 165   |  59   | 2     |  57.3 |\n",
       "| 20 | 30    |  0    | 43    | 171   |  61   | 2     |  56.7 |\n",
       "| 21 | 31    |  0    | 20    | 169   |  62   | 2     |  55.0 |\n",
       "| 22 | 32    |  0    | 51    | 174   |  63   | 2     |  62.4 |\n",
       "| 23 | 33    |  0    | 31    | 163   |  63   | 2     |  60.3 |\n",
       "| 24 | 34    |  0    | 54    | 173   |  63   | 2     |  59.4 |\n",
       "| 25 | 35    |  0    | 50    | 166   |  65   | 2     |  62.0 |\n",
       "| 26 | 36    |  0    | 48    | 163   |  66   | 2     |  64.0 |\n",
       "| 27 | 37    |  0    | 16    | 165   |  68   | 2     |  63.8 |\n",
       "| 28 | 38    |  0    | 37    | 167   |  68   | 2     |  63.3 |\n",
       "| 29 | 39    |  0    | 30    | 161   |  76   | 2     |  72.7 |\n",
       "| 30 | 40    |  0    | 29    | 169   |  77   | 2     |  77.5 |\n",
       "| 56 | 41    |  1    | 51    | 191   |  71   | 2     |  66.8 |\n",
       "| 57 | 42    |  1    | 38    | 199   |  75   | 2     |  72.6 |\n",
       "| 58 | 43    |  1    | 54    | 196   |  75   | 2     |  69.2 |\n",
       "| 59 | 44    |  1    | 33    | 190   |  76   | 2     |  72.5 |\n",
       "| 60 | 45    |  1    | 45    | 160   |  78   | 2     |  72.7 |\n",
       "| 61 | 46    |  1    | 37    | 194   |  78   | 2     |  76.3 |\n",
       "| 62 | 47    |  1    | 44    | 163   |  79   | 2     |  73.6 |\n",
       "| 63 | 48    |  1    | 40    | 171   |  79   | 2     |  72.9 |\n",
       "| 64 | 49    |  1    | 37    | 198   |  79   | 2     |  71.1 |\n",
       "| 65 | 50    |  1    | 39    | 180   |  80   | 2     |  81.4 |\n",
       "| 66 | 51    |  1    | 31    | 182   |  80   | 2     |  75.7 |\n",
       "\n"
      ],
      "text/plain": [
       "   Person gender Age Height pre.weight Diet weight6weeks\n",
       "1  25     NA     41  171     60        2     60.0       \n",
       "2  26     NA     32  174    103        2    103.0       \n",
       "17 27      0     44  174     58        2     60.1       \n",
       "18 28      0     37  172     58        2     56.0       \n",
       "19 29      0     41  165     59        2     57.3       \n",
       "20 30      0     43  171     61        2     56.7       \n",
       "21 31      0     20  169     62        2     55.0       \n",
       "22 32      0     51  174     63        2     62.4       \n",
       "23 33      0     31  163     63        2     60.3       \n",
       "24 34      0     54  173     63        2     59.4       \n",
       "25 35      0     50  166     65        2     62.0       \n",
       "26 36      0     48  163     66        2     64.0       \n",
       "27 37      0     16  165     68        2     63.8       \n",
       "28 38      0     37  167     68        2     63.3       \n",
       "29 39      0     30  161     76        2     72.7       \n",
       "30 40      0     29  169     77        2     77.5       \n",
       "56 41      1     51  191     71        2     66.8       \n",
       "57 42      1     38  199     75        2     72.6       \n",
       "58 43      1     54  196     75        2     69.2       \n",
       "59 44      1     33  190     76        2     72.5       \n",
       "60 45      1     45  160     78        2     72.7       \n",
       "61 46      1     37  194     78        2     76.3       \n",
       "62 47      1     44  163     79        2     73.6       \n",
       "63 48      1     40  171     79        2     72.9       \n",
       "64 49      1     37  198     79        2     71.1       \n",
       "65 50      1     39  180     80        2     81.4       \n",
       "66 51      1     31  182     80        2     75.7       "
      ]
     },
     "metadata": {},
     "output_type": "display_data"
    },
    {
     "data": {
      "text/plain": [
       "     Person         gender          Age           Height        pre.weight    \n",
       " Min.   :25.0   Min.   :0.00   Min.   :16.0   Min.   :160.0   Min.   : 58.00  \n",
       " 1st Qu.:31.5   1st Qu.:0.00   1st Qu.:32.5   1st Qu.:165.5   1st Qu.: 63.00  \n",
       " Median :38.0   Median :0.00   Median :39.0   Median :171.0   Median : 71.00  \n",
       " Mean   :38.0   Mean   :0.44   Mean   :39.0   Mean   :174.9   Mean   : 71.11  \n",
       " 3rd Qu.:44.5   3rd Qu.:1.00   3rd Qu.:44.5   3rd Qu.:181.0   3rd Qu.: 78.00  \n",
       " Max.   :51.0   Max.   :1.00   Max.   :54.0   Max.   :199.0   Max.   :103.00  \n",
       "                NA's   :2                                                     \n",
       "      Diet    weight6weeks   \n",
       " Min.   :2   Min.   : 55.00  \n",
       " 1st Qu.:2   1st Qu.: 60.20  \n",
       " Median :2   Median : 66.80  \n",
       " Mean   :2   Mean   : 68.09  \n",
       " 3rd Qu.:2   3rd Qu.: 72.80  \n",
       " Max.   :2   Max.   :103.00  \n",
       "                             "
      ]
     },
     "metadata": {},
     "output_type": "display_data"
    },
    {
     "data": {
      "text/html": [
       "<table>\n",
       "<thead><tr><th></th><th scope=col>Person</th><th scope=col>gender</th><th scope=col>Age</th><th scope=col>Height</th><th scope=col>pre.weight</th><th scope=col>Diet</th><th scope=col>weight6weeks</th><th scope=col>diet2_diff</th></tr></thead>\n",
       "<tbody>\n",
       "\t<tr><th scope=row>1</th><td>25   </td><td>NA   </td><td>41   </td><td>171  </td><td> 60  </td><td>2    </td><td> 60.0</td><td> 0.0 </td></tr>\n",
       "\t<tr><th scope=row>2</th><td>26   </td><td>NA   </td><td>32   </td><td>174  </td><td>103  </td><td>2    </td><td>103.0</td><td> 0.0 </td></tr>\n",
       "\t<tr><th scope=row>17</th><td>27   </td><td> 0   </td><td>44   </td><td>174  </td><td> 58  </td><td>2    </td><td> 60.1</td><td>-2.1 </td></tr>\n",
       "\t<tr><th scope=row>18</th><td>28   </td><td> 0   </td><td>37   </td><td>172  </td><td> 58  </td><td>2    </td><td> 56.0</td><td> 2.0 </td></tr>\n",
       "\t<tr><th scope=row>19</th><td>29   </td><td> 0   </td><td>41   </td><td>165  </td><td> 59  </td><td>2    </td><td> 57.3</td><td> 1.7 </td></tr>\n",
       "\t<tr><th scope=row>20</th><td>30   </td><td> 0   </td><td>43   </td><td>171  </td><td> 61  </td><td>2    </td><td> 56.7</td><td> 4.3 </td></tr>\n",
       "\t<tr><th scope=row>21</th><td>31   </td><td> 0   </td><td>20   </td><td>169  </td><td> 62  </td><td>2    </td><td> 55.0</td><td> 7.0 </td></tr>\n",
       "\t<tr><th scope=row>22</th><td>32   </td><td> 0   </td><td>51   </td><td>174  </td><td> 63  </td><td>2    </td><td> 62.4</td><td> 0.6 </td></tr>\n",
       "\t<tr><th scope=row>23</th><td>33   </td><td> 0   </td><td>31   </td><td>163  </td><td> 63  </td><td>2    </td><td> 60.3</td><td> 2.7 </td></tr>\n",
       "\t<tr><th scope=row>24</th><td>34   </td><td> 0   </td><td>54   </td><td>173  </td><td> 63  </td><td>2    </td><td> 59.4</td><td> 3.6 </td></tr>\n",
       "\t<tr><th scope=row>25</th><td>35   </td><td> 0   </td><td>50   </td><td>166  </td><td> 65  </td><td>2    </td><td> 62.0</td><td> 3.0 </td></tr>\n",
       "\t<tr><th scope=row>26</th><td>36   </td><td> 0   </td><td>48   </td><td>163  </td><td> 66  </td><td>2    </td><td> 64.0</td><td> 2.0 </td></tr>\n",
       "\t<tr><th scope=row>27</th><td>37   </td><td> 0   </td><td>16   </td><td>165  </td><td> 68  </td><td>2    </td><td> 63.8</td><td> 4.2 </td></tr>\n",
       "\t<tr><th scope=row>28</th><td>38   </td><td> 0   </td><td>37   </td><td>167  </td><td> 68  </td><td>2    </td><td> 63.3</td><td> 4.7 </td></tr>\n",
       "\t<tr><th scope=row>29</th><td>39   </td><td> 0   </td><td>30   </td><td>161  </td><td> 76  </td><td>2    </td><td> 72.7</td><td> 3.3 </td></tr>\n",
       "\t<tr><th scope=row>30</th><td>40   </td><td> 0   </td><td>29   </td><td>169  </td><td> 77  </td><td>2    </td><td> 77.5</td><td>-0.5 </td></tr>\n",
       "\t<tr><th scope=row>56</th><td>41   </td><td> 1   </td><td>51   </td><td>191  </td><td> 71  </td><td>2    </td><td> 66.8</td><td> 4.2 </td></tr>\n",
       "\t<tr><th scope=row>57</th><td>42   </td><td> 1   </td><td>38   </td><td>199  </td><td> 75  </td><td>2    </td><td> 72.6</td><td> 2.4 </td></tr>\n",
       "\t<tr><th scope=row>58</th><td>43   </td><td> 1   </td><td>54   </td><td>196  </td><td> 75  </td><td>2    </td><td> 69.2</td><td> 5.8 </td></tr>\n",
       "\t<tr><th scope=row>59</th><td>44   </td><td> 1   </td><td>33   </td><td>190  </td><td> 76  </td><td>2    </td><td> 72.5</td><td> 3.5 </td></tr>\n",
       "\t<tr><th scope=row>60</th><td>45   </td><td> 1   </td><td>45   </td><td>160  </td><td> 78  </td><td>2    </td><td> 72.7</td><td> 5.3 </td></tr>\n",
       "\t<tr><th scope=row>61</th><td>46   </td><td> 1   </td><td>37   </td><td>194  </td><td> 78  </td><td>2    </td><td> 76.3</td><td> 1.7 </td></tr>\n",
       "\t<tr><th scope=row>62</th><td>47   </td><td> 1   </td><td>44   </td><td>163  </td><td> 79  </td><td>2    </td><td> 73.6</td><td> 5.4 </td></tr>\n",
       "\t<tr><th scope=row>63</th><td>48   </td><td> 1   </td><td>40   </td><td>171  </td><td> 79  </td><td>2    </td><td> 72.9</td><td> 6.1 </td></tr>\n",
       "\t<tr><th scope=row>64</th><td>49   </td><td> 1   </td><td>37   </td><td>198  </td><td> 79  </td><td>2    </td><td> 71.1</td><td> 7.9 </td></tr>\n",
       "\t<tr><th scope=row>65</th><td>50   </td><td> 1   </td><td>39   </td><td>180  </td><td> 80  </td><td>2    </td><td> 81.4</td><td>-1.4 </td></tr>\n",
       "\t<tr><th scope=row>66</th><td>51   </td><td> 1   </td><td>31   </td><td>182  </td><td> 80  </td><td>2    </td><td> 75.7</td><td> 4.3 </td></tr>\n",
       "</tbody>\n",
       "</table>\n"
      ],
      "text/latex": [
       "\\begin{tabular}{r|llllllll}\n",
       "  & Person & gender & Age & Height & pre.weight & Diet & weight6weeks & diet2\\_diff\\\\\n",
       "\\hline\n",
       "\t1 & 25    & NA    & 41    & 171   &  60   & 2     &  60.0 &  0.0 \\\\\n",
       "\t2 & 26    & NA    & 32    & 174   & 103   & 2     & 103.0 &  0.0 \\\\\n",
       "\t17 & 27    &  0    & 44    & 174   &  58   & 2     &  60.1 & -2.1 \\\\\n",
       "\t18 & 28    &  0    & 37    & 172   &  58   & 2     &  56.0 &  2.0 \\\\\n",
       "\t19 & 29    &  0    & 41    & 165   &  59   & 2     &  57.3 &  1.7 \\\\\n",
       "\t20 & 30    &  0    & 43    & 171   &  61   & 2     &  56.7 &  4.3 \\\\\n",
       "\t21 & 31    &  0    & 20    & 169   &  62   & 2     &  55.0 &  7.0 \\\\\n",
       "\t22 & 32    &  0    & 51    & 174   &  63   & 2     &  62.4 &  0.6 \\\\\n",
       "\t23 & 33    &  0    & 31    & 163   &  63   & 2     &  60.3 &  2.7 \\\\\n",
       "\t24 & 34    &  0    & 54    & 173   &  63   & 2     &  59.4 &  3.6 \\\\\n",
       "\t25 & 35    &  0    & 50    & 166   &  65   & 2     &  62.0 &  3.0 \\\\\n",
       "\t26 & 36    &  0    & 48    & 163   &  66   & 2     &  64.0 &  2.0 \\\\\n",
       "\t27 & 37    &  0    & 16    & 165   &  68   & 2     &  63.8 &  4.2 \\\\\n",
       "\t28 & 38    &  0    & 37    & 167   &  68   & 2     &  63.3 &  4.7 \\\\\n",
       "\t29 & 39    &  0    & 30    & 161   &  76   & 2     &  72.7 &  3.3 \\\\\n",
       "\t30 & 40    &  0    & 29    & 169   &  77   & 2     &  77.5 & -0.5 \\\\\n",
       "\t56 & 41    &  1    & 51    & 191   &  71   & 2     &  66.8 &  4.2 \\\\\n",
       "\t57 & 42    &  1    & 38    & 199   &  75   & 2     &  72.6 &  2.4 \\\\\n",
       "\t58 & 43    &  1    & 54    & 196   &  75   & 2     &  69.2 &  5.8 \\\\\n",
       "\t59 & 44    &  1    & 33    & 190   &  76   & 2     &  72.5 &  3.5 \\\\\n",
       "\t60 & 45    &  1    & 45    & 160   &  78   & 2     &  72.7 &  5.3 \\\\\n",
       "\t61 & 46    &  1    & 37    & 194   &  78   & 2     &  76.3 &  1.7 \\\\\n",
       "\t62 & 47    &  1    & 44    & 163   &  79   & 2     &  73.6 &  5.4 \\\\\n",
       "\t63 & 48    &  1    & 40    & 171   &  79   & 2     &  72.9 &  6.1 \\\\\n",
       "\t64 & 49    &  1    & 37    & 198   &  79   & 2     &  71.1 &  7.9 \\\\\n",
       "\t65 & 50    &  1    & 39    & 180   &  80   & 2     &  81.4 & -1.4 \\\\\n",
       "\t66 & 51    &  1    & 31    & 182   &  80   & 2     &  75.7 &  4.3 \\\\\n",
       "\\end{tabular}\n"
      ],
      "text/markdown": [
       "\n",
       "| <!--/--> | Person | gender | Age | Height | pre.weight | Diet | weight6weeks | diet2_diff |\n",
       "|---|---|---|---|---|---|---|---|---|\n",
       "| 1 | 25    | NA    | 41    | 171   |  60   | 2     |  60.0 |  0.0  |\n",
       "| 2 | 26    | NA    | 32    | 174   | 103   | 2     | 103.0 |  0.0  |\n",
       "| 17 | 27    |  0    | 44    | 174   |  58   | 2     |  60.1 | -2.1  |\n",
       "| 18 | 28    |  0    | 37    | 172   |  58   | 2     |  56.0 |  2.0  |\n",
       "| 19 | 29    |  0    | 41    | 165   |  59   | 2     |  57.3 |  1.7  |\n",
       "| 20 | 30    |  0    | 43    | 171   |  61   | 2     |  56.7 |  4.3  |\n",
       "| 21 | 31    |  0    | 20    | 169   |  62   | 2     |  55.0 |  7.0  |\n",
       "| 22 | 32    |  0    | 51    | 174   |  63   | 2     |  62.4 |  0.6  |\n",
       "| 23 | 33    |  0    | 31    | 163   |  63   | 2     |  60.3 |  2.7  |\n",
       "| 24 | 34    |  0    | 54    | 173   |  63   | 2     |  59.4 |  3.6  |\n",
       "| 25 | 35    |  0    | 50    | 166   |  65   | 2     |  62.0 |  3.0  |\n",
       "| 26 | 36    |  0    | 48    | 163   |  66   | 2     |  64.0 |  2.0  |\n",
       "| 27 | 37    |  0    | 16    | 165   |  68   | 2     |  63.8 |  4.2  |\n",
       "| 28 | 38    |  0    | 37    | 167   |  68   | 2     |  63.3 |  4.7  |\n",
       "| 29 | 39    |  0    | 30    | 161   |  76   | 2     |  72.7 |  3.3  |\n",
       "| 30 | 40    |  0    | 29    | 169   |  77   | 2     |  77.5 | -0.5  |\n",
       "| 56 | 41    |  1    | 51    | 191   |  71   | 2     |  66.8 |  4.2  |\n",
       "| 57 | 42    |  1    | 38    | 199   |  75   | 2     |  72.6 |  2.4  |\n",
       "| 58 | 43    |  1    | 54    | 196   |  75   | 2     |  69.2 |  5.8  |\n",
       "| 59 | 44    |  1    | 33    | 190   |  76   | 2     |  72.5 |  3.5  |\n",
       "| 60 | 45    |  1    | 45    | 160   |  78   | 2     |  72.7 |  5.3  |\n",
       "| 61 | 46    |  1    | 37    | 194   |  78   | 2     |  76.3 |  1.7  |\n",
       "| 62 | 47    |  1    | 44    | 163   |  79   | 2     |  73.6 |  5.4  |\n",
       "| 63 | 48    |  1    | 40    | 171   |  79   | 2     |  72.9 |  6.1  |\n",
       "| 64 | 49    |  1    | 37    | 198   |  79   | 2     |  71.1 |  7.9  |\n",
       "| 65 | 50    |  1    | 39    | 180   |  80   | 2     |  81.4 | -1.4  |\n",
       "| 66 | 51    |  1    | 31    | 182   |  80   | 2     |  75.7 |  4.3  |\n",
       "\n"
      ],
      "text/plain": [
       "   Person gender Age Height pre.weight Diet weight6weeks diet2_diff\n",
       "1  25     NA     41  171     60        2     60.0         0.0      \n",
       "2  26     NA     32  174    103        2    103.0         0.0      \n",
       "17 27      0     44  174     58        2     60.1        -2.1      \n",
       "18 28      0     37  172     58        2     56.0         2.0      \n",
       "19 29      0     41  165     59        2     57.3         1.7      \n",
       "20 30      0     43  171     61        2     56.7         4.3      \n",
       "21 31      0     20  169     62        2     55.0         7.0      \n",
       "22 32      0     51  174     63        2     62.4         0.6      \n",
       "23 33      0     31  163     63        2     60.3         2.7      \n",
       "24 34      0     54  173     63        2     59.4         3.6      \n",
       "25 35      0     50  166     65        2     62.0         3.0      \n",
       "26 36      0     48  163     66        2     64.0         2.0      \n",
       "27 37      0     16  165     68        2     63.8         4.2      \n",
       "28 38      0     37  167     68        2     63.3         4.7      \n",
       "29 39      0     30  161     76        2     72.7         3.3      \n",
       "30 40      0     29  169     77        2     77.5        -0.5      \n",
       "56 41      1     51  191     71        2     66.8         4.2      \n",
       "57 42      1     38  199     75        2     72.6         2.4      \n",
       "58 43      1     54  196     75        2     69.2         5.8      \n",
       "59 44      1     33  190     76        2     72.5         3.5      \n",
       "60 45      1     45  160     78        2     72.7         5.3      \n",
       "61 46      1     37  194     78        2     76.3         1.7      \n",
       "62 47      1     44  163     79        2     73.6         5.4      \n",
       "63 48      1     40  171     79        2     72.9         6.1      \n",
       "64 49      1     37  198     79        2     71.1         7.9      \n",
       "65 50      1     39  180     80        2     81.4        -1.4      \n",
       "66 51      1     31  182     80        2     75.7         4.3      "
      ]
     },
     "metadata": {},
     "output_type": "display_data"
    },
    {
     "data": {
      "text/html": [
       "3.02592592592593"
      ],
      "text/latex": [
       "3.02592592592593"
      ],
      "text/markdown": [
       "3.02592592592593"
      ],
      "text/plain": [
       "[1] 3.025926"
      ]
     },
     "metadata": {},
     "output_type": "display_data"
    }
   ],
   "source": [
    "diet2 = subset(diet_data, Diet == \"2\")\n",
    "diet2\n",
    "summary(diet2)\n",
    "diet2_diff = diet2$pre.weight - diet2$weight6weeks\n",
    "diet2=cbind(diet2,diet2_diff)\n",
    "diet2\n",
    "mean(diet2_diff)"
   ]
  },
  {
   "cell_type": "code",
   "execution_count": 33,
   "id": "eef348c2",
   "metadata": {},
   "outputs": [
    {
     "data": {
      "text/html": [
       "<table>\n",
       "<thead><tr><th></th><th scope=col>Person</th><th scope=col>gender</th><th scope=col>Age</th><th scope=col>Height</th><th scope=col>pre.weight</th><th scope=col>Diet</th><th scope=col>weight6weeks</th></tr></thead>\n",
       "<tbody>\n",
       "\t<tr><th scope=row>31</th><td>52  </td><td>0   </td><td>51  </td><td>165 </td><td>60  </td><td>3   </td><td>53.0</td></tr>\n",
       "\t<tr><th scope=row>32</th><td>53  </td><td>0   </td><td>35  </td><td>169 </td><td>62  </td><td>3   </td><td>56.4</td></tr>\n",
       "\t<tr><th scope=row>33</th><td>54  </td><td>0   </td><td>21  </td><td>159 </td><td>64  </td><td>3   </td><td>60.6</td></tr>\n",
       "\t<tr><th scope=row>34</th><td>55  </td><td>0   </td><td>22  </td><td>169 </td><td>65  </td><td>3   </td><td>58.2</td></tr>\n",
       "\t<tr><th scope=row>35</th><td>56  </td><td>0   </td><td>36  </td><td>160 </td><td>66  </td><td>3   </td><td>58.2</td></tr>\n",
       "\t<tr><th scope=row>36</th><td>57  </td><td>0   </td><td>20  </td><td>169 </td><td>67  </td><td>3   </td><td>61.6</td></tr>\n",
       "\t<tr><th scope=row>37</th><td>58  </td><td>0   </td><td>35  </td><td>163 </td><td>67  </td><td>3   </td><td>60.2</td></tr>\n",
       "\t<tr><th scope=row>38</th><td>59  </td><td>0   </td><td>45  </td><td>155 </td><td>69  </td><td>3   </td><td>61.8</td></tr>\n",
       "\t<tr><th scope=row>39</th><td>60  </td><td>0   </td><td>58  </td><td>141 </td><td>70  </td><td>3   </td><td>63.0</td></tr>\n",
       "\t<tr><th scope=row>40</th><td>61  </td><td>0   </td><td>37  </td><td>170 </td><td>70  </td><td>3   </td><td>62.7</td></tr>\n",
       "\t<tr><th scope=row>41</th><td>62  </td><td>0   </td><td>31  </td><td>170 </td><td>72  </td><td>3   </td><td>71.1</td></tr>\n",
       "\t<tr><th scope=row>42</th><td>63  </td><td>0   </td><td>35  </td><td>171 </td><td>72  </td><td>3   </td><td>64.4</td></tr>\n",
       "\t<tr><th scope=row>43</th><td>64  </td><td>0   </td><td>56  </td><td>171 </td><td>73  </td><td>3   </td><td>68.9</td></tr>\n",
       "\t<tr><th scope=row>44</th><td>65  </td><td>0   </td><td>48  </td><td>153 </td><td>75  </td><td>3   </td><td>68.7</td></tr>\n",
       "\t<tr><th scope=row>45</th><td>66  </td><td>0   </td><td>41  </td><td>157 </td><td>76  </td><td>3   </td><td>71.0</td></tr>\n",
       "\t<tr><th scope=row>67</th><td>67  </td><td>1   </td><td>36  </td><td>155 </td><td>71  </td><td>3   </td><td>68.5</td></tr>\n",
       "\t<tr><th scope=row>68</th><td>68  </td><td>1   </td><td>47  </td><td>179 </td><td>73  </td><td>3   </td><td>72.1</td></tr>\n",
       "\t<tr><th scope=row>69</th><td>69  </td><td>1   </td><td>29  </td><td>166 </td><td>76  </td><td>3   </td><td>72.5</td></tr>\n",
       "\t<tr><th scope=row>70</th><td>70  </td><td>1   </td><td>37  </td><td>173 </td><td>78  </td><td>3   </td><td>77.5</td></tr>\n",
       "\t<tr><th scope=row>71</th><td>71  </td><td>1   </td><td>31  </td><td>177 </td><td>78  </td><td>3   </td><td>75.2</td></tr>\n",
       "\t<tr><th scope=row>72</th><td>72  </td><td>1   </td><td>26  </td><td>179 </td><td>78  </td><td>3   </td><td>69.4</td></tr>\n",
       "\t<tr><th scope=row>73</th><td>73  </td><td>1   </td><td>40  </td><td>179 </td><td>79  </td><td>3   </td><td>74.5</td></tr>\n",
       "\t<tr><th scope=row>74</th><td>74  </td><td>1   </td><td>35  </td><td>183 </td><td>83  </td><td>3   </td><td>80.2</td></tr>\n",
       "\t<tr><th scope=row>75</th><td>75  </td><td>1   </td><td>49  </td><td>177 </td><td>84  </td><td>3   </td><td>79.9</td></tr>\n",
       "\t<tr><th scope=row>76</th><td>76  </td><td>1   </td><td>28  </td><td>164 </td><td>85  </td><td>3   </td><td>79.7</td></tr>\n",
       "\t<tr><th scope=row>77</th><td>77  </td><td>1   </td><td>40  </td><td>167 </td><td>87  </td><td>3   </td><td>77.8</td></tr>\n",
       "\t<tr><th scope=row>78</th><td>78  </td><td>1   </td><td>51  </td><td>175 </td><td>88  </td><td>3   </td><td>81.9</td></tr>\n",
       "</tbody>\n",
       "</table>\n"
      ],
      "text/latex": [
       "\\begin{tabular}{r|lllllll}\n",
       "  & Person & gender & Age & Height & pre.weight & Diet & weight6weeks\\\\\n",
       "\\hline\n",
       "\t31 & 52   & 0    & 51   & 165  & 60   & 3    & 53.0\\\\\n",
       "\t32 & 53   & 0    & 35   & 169  & 62   & 3    & 56.4\\\\\n",
       "\t33 & 54   & 0    & 21   & 159  & 64   & 3    & 60.6\\\\\n",
       "\t34 & 55   & 0    & 22   & 169  & 65   & 3    & 58.2\\\\\n",
       "\t35 & 56   & 0    & 36   & 160  & 66   & 3    & 58.2\\\\\n",
       "\t36 & 57   & 0    & 20   & 169  & 67   & 3    & 61.6\\\\\n",
       "\t37 & 58   & 0    & 35   & 163  & 67   & 3    & 60.2\\\\\n",
       "\t38 & 59   & 0    & 45   & 155  & 69   & 3    & 61.8\\\\\n",
       "\t39 & 60   & 0    & 58   & 141  & 70   & 3    & 63.0\\\\\n",
       "\t40 & 61   & 0    & 37   & 170  & 70   & 3    & 62.7\\\\\n",
       "\t41 & 62   & 0    & 31   & 170  & 72   & 3    & 71.1\\\\\n",
       "\t42 & 63   & 0    & 35   & 171  & 72   & 3    & 64.4\\\\\n",
       "\t43 & 64   & 0    & 56   & 171  & 73   & 3    & 68.9\\\\\n",
       "\t44 & 65   & 0    & 48   & 153  & 75   & 3    & 68.7\\\\\n",
       "\t45 & 66   & 0    & 41   & 157  & 76   & 3    & 71.0\\\\\n",
       "\t67 & 67   & 1    & 36   & 155  & 71   & 3    & 68.5\\\\\n",
       "\t68 & 68   & 1    & 47   & 179  & 73   & 3    & 72.1\\\\\n",
       "\t69 & 69   & 1    & 29   & 166  & 76   & 3    & 72.5\\\\\n",
       "\t70 & 70   & 1    & 37   & 173  & 78   & 3    & 77.5\\\\\n",
       "\t71 & 71   & 1    & 31   & 177  & 78   & 3    & 75.2\\\\\n",
       "\t72 & 72   & 1    & 26   & 179  & 78   & 3    & 69.4\\\\\n",
       "\t73 & 73   & 1    & 40   & 179  & 79   & 3    & 74.5\\\\\n",
       "\t74 & 74   & 1    & 35   & 183  & 83   & 3    & 80.2\\\\\n",
       "\t75 & 75   & 1    & 49   & 177  & 84   & 3    & 79.9\\\\\n",
       "\t76 & 76   & 1    & 28   & 164  & 85   & 3    & 79.7\\\\\n",
       "\t77 & 77   & 1    & 40   & 167  & 87   & 3    & 77.8\\\\\n",
       "\t78 & 78   & 1    & 51   & 175  & 88   & 3    & 81.9\\\\\n",
       "\\end{tabular}\n"
      ],
      "text/markdown": [
       "\n",
       "| <!--/--> | Person | gender | Age | Height | pre.weight | Diet | weight6weeks |\n",
       "|---|---|---|---|---|---|---|---|\n",
       "| 31 | 52   | 0    | 51   | 165  | 60   | 3    | 53.0 |\n",
       "| 32 | 53   | 0    | 35   | 169  | 62   | 3    | 56.4 |\n",
       "| 33 | 54   | 0    | 21   | 159  | 64   | 3    | 60.6 |\n",
       "| 34 | 55   | 0    | 22   | 169  | 65   | 3    | 58.2 |\n",
       "| 35 | 56   | 0    | 36   | 160  | 66   | 3    | 58.2 |\n",
       "| 36 | 57   | 0    | 20   | 169  | 67   | 3    | 61.6 |\n",
       "| 37 | 58   | 0    | 35   | 163  | 67   | 3    | 60.2 |\n",
       "| 38 | 59   | 0    | 45   | 155  | 69   | 3    | 61.8 |\n",
       "| 39 | 60   | 0    | 58   | 141  | 70   | 3    | 63.0 |\n",
       "| 40 | 61   | 0    | 37   | 170  | 70   | 3    | 62.7 |\n",
       "| 41 | 62   | 0    | 31   | 170  | 72   | 3    | 71.1 |\n",
       "| 42 | 63   | 0    | 35   | 171  | 72   | 3    | 64.4 |\n",
       "| 43 | 64   | 0    | 56   | 171  | 73   | 3    | 68.9 |\n",
       "| 44 | 65   | 0    | 48   | 153  | 75   | 3    | 68.7 |\n",
       "| 45 | 66   | 0    | 41   | 157  | 76   | 3    | 71.0 |\n",
       "| 67 | 67   | 1    | 36   | 155  | 71   | 3    | 68.5 |\n",
       "| 68 | 68   | 1    | 47   | 179  | 73   | 3    | 72.1 |\n",
       "| 69 | 69   | 1    | 29   | 166  | 76   | 3    | 72.5 |\n",
       "| 70 | 70   | 1    | 37   | 173  | 78   | 3    | 77.5 |\n",
       "| 71 | 71   | 1    | 31   | 177  | 78   | 3    | 75.2 |\n",
       "| 72 | 72   | 1    | 26   | 179  | 78   | 3    | 69.4 |\n",
       "| 73 | 73   | 1    | 40   | 179  | 79   | 3    | 74.5 |\n",
       "| 74 | 74   | 1    | 35   | 183  | 83   | 3    | 80.2 |\n",
       "| 75 | 75   | 1    | 49   | 177  | 84   | 3    | 79.9 |\n",
       "| 76 | 76   | 1    | 28   | 164  | 85   | 3    | 79.7 |\n",
       "| 77 | 77   | 1    | 40   | 167  | 87   | 3    | 77.8 |\n",
       "| 78 | 78   | 1    | 51   | 175  | 88   | 3    | 81.9 |\n",
       "\n"
      ],
      "text/plain": [
       "   Person gender Age Height pre.weight Diet weight6weeks\n",
       "31 52     0      51  165    60         3    53.0        \n",
       "32 53     0      35  169    62         3    56.4        \n",
       "33 54     0      21  159    64         3    60.6        \n",
       "34 55     0      22  169    65         3    58.2        \n",
       "35 56     0      36  160    66         3    58.2        \n",
       "36 57     0      20  169    67         3    61.6        \n",
       "37 58     0      35  163    67         3    60.2        \n",
       "38 59     0      45  155    69         3    61.8        \n",
       "39 60     0      58  141    70         3    63.0        \n",
       "40 61     0      37  170    70         3    62.7        \n",
       "41 62     0      31  170    72         3    71.1        \n",
       "42 63     0      35  171    72         3    64.4        \n",
       "43 64     0      56  171    73         3    68.9        \n",
       "44 65     0      48  153    75         3    68.7        \n",
       "45 66     0      41  157    76         3    71.0        \n",
       "67 67     1      36  155    71         3    68.5        \n",
       "68 68     1      47  179    73         3    72.1        \n",
       "69 69     1      29  166    76         3    72.5        \n",
       "70 70     1      37  173    78         3    77.5        \n",
       "71 71     1      31  177    78         3    75.2        \n",
       "72 72     1      26  179    78         3    69.4        \n",
       "73 73     1      40  179    79         3    74.5        \n",
       "74 74     1      35  183    83         3    80.2        \n",
       "75 75     1      49  177    84         3    79.9        \n",
       "76 76     1      28  164    85         3    79.7        \n",
       "77 77     1      40  167    87         3    77.8        \n",
       "78 78     1      51  175    88         3    81.9        "
      ]
     },
     "metadata": {},
     "output_type": "display_data"
    },
    {
     "data": {
      "text/plain": [
       "     Person         gender            Age            Height     \n",
       " Min.   :52.0   Min.   :0.0000   Min.   :20.00   Min.   :141.0  \n",
       " 1st Qu.:58.5   1st Qu.:0.0000   1st Qu.:31.00   1st Qu.:161.5  \n",
       " Median :65.0   Median :0.0000   Median :36.00   Median :169.0  \n",
       " Mean   :65.0   Mean   :0.4444   Mean   :37.78   Mean   :167.3  \n",
       " 3rd Qu.:71.5   3rd Qu.:1.0000   3rd Qu.:46.00   3rd Qu.:174.0  \n",
       " Max.   :78.0   Max.   :1.0000   Max.   :58.00   Max.   :183.0  \n",
       "   pre.weight         Diet    weight6weeks  \n",
       " Min.   :60.00   Min.   :3   Min.   :53.00  \n",
       " 1st Qu.:68.00   1st Qu.:3   1st Qu.:61.70  \n",
       " Median :73.00   Median :3   Median :68.90  \n",
       " Mean   :73.63   Mean   :3   Mean   :68.48  \n",
       " 3rd Qu.:78.00   3rd Qu.:3   3rd Qu.:74.85  \n",
       " Max.   :88.00   Max.   :3   Max.   :81.90  "
      ]
     },
     "metadata": {},
     "output_type": "display_data"
    },
    {
     "data": {
      "text/html": [
       "<table>\n",
       "<thead><tr><th></th><th scope=col>Person</th><th scope=col>gender</th><th scope=col>Age</th><th scope=col>Height</th><th scope=col>pre.weight</th><th scope=col>Diet</th><th scope=col>weight6weeks</th><th scope=col>diet3_diff</th></tr></thead>\n",
       "<tbody>\n",
       "\t<tr><th scope=row>31</th><td>52  </td><td>0   </td><td>51  </td><td>165 </td><td>60  </td><td>3   </td><td>53.0</td><td>7.0 </td></tr>\n",
       "\t<tr><th scope=row>32</th><td>53  </td><td>0   </td><td>35  </td><td>169 </td><td>62  </td><td>3   </td><td>56.4</td><td>5.6 </td></tr>\n",
       "\t<tr><th scope=row>33</th><td>54  </td><td>0   </td><td>21  </td><td>159 </td><td>64  </td><td>3   </td><td>60.6</td><td>3.4 </td></tr>\n",
       "\t<tr><th scope=row>34</th><td>55  </td><td>0   </td><td>22  </td><td>169 </td><td>65  </td><td>3   </td><td>58.2</td><td>6.8 </td></tr>\n",
       "\t<tr><th scope=row>35</th><td>56  </td><td>0   </td><td>36  </td><td>160 </td><td>66  </td><td>3   </td><td>58.2</td><td>7.8 </td></tr>\n",
       "\t<tr><th scope=row>36</th><td>57  </td><td>0   </td><td>20  </td><td>169 </td><td>67  </td><td>3   </td><td>61.6</td><td>5.4 </td></tr>\n",
       "\t<tr><th scope=row>37</th><td>58  </td><td>0   </td><td>35  </td><td>163 </td><td>67  </td><td>3   </td><td>60.2</td><td>6.8 </td></tr>\n",
       "\t<tr><th scope=row>38</th><td>59  </td><td>0   </td><td>45  </td><td>155 </td><td>69  </td><td>3   </td><td>61.8</td><td>7.2 </td></tr>\n",
       "\t<tr><th scope=row>39</th><td>60  </td><td>0   </td><td>58  </td><td>141 </td><td>70  </td><td>3   </td><td>63.0</td><td>7.0 </td></tr>\n",
       "\t<tr><th scope=row>40</th><td>61  </td><td>0   </td><td>37  </td><td>170 </td><td>70  </td><td>3   </td><td>62.7</td><td>7.3 </td></tr>\n",
       "\t<tr><th scope=row>41</th><td>62  </td><td>0   </td><td>31  </td><td>170 </td><td>72  </td><td>3   </td><td>71.1</td><td>0.9 </td></tr>\n",
       "\t<tr><th scope=row>42</th><td>63  </td><td>0   </td><td>35  </td><td>171 </td><td>72  </td><td>3   </td><td>64.4</td><td>7.6 </td></tr>\n",
       "\t<tr><th scope=row>43</th><td>64  </td><td>0   </td><td>56  </td><td>171 </td><td>73  </td><td>3   </td><td>68.9</td><td>4.1 </td></tr>\n",
       "\t<tr><th scope=row>44</th><td>65  </td><td>0   </td><td>48  </td><td>153 </td><td>75  </td><td>3   </td><td>68.7</td><td>6.3 </td></tr>\n",
       "\t<tr><th scope=row>45</th><td>66  </td><td>0   </td><td>41  </td><td>157 </td><td>76  </td><td>3   </td><td>71.0</td><td>5.0 </td></tr>\n",
       "\t<tr><th scope=row>67</th><td>67  </td><td>1   </td><td>36  </td><td>155 </td><td>71  </td><td>3   </td><td>68.5</td><td>2.5 </td></tr>\n",
       "\t<tr><th scope=row>68</th><td>68  </td><td>1   </td><td>47  </td><td>179 </td><td>73  </td><td>3   </td><td>72.1</td><td>0.9 </td></tr>\n",
       "\t<tr><th scope=row>69</th><td>69  </td><td>1   </td><td>29  </td><td>166 </td><td>76  </td><td>3   </td><td>72.5</td><td>3.5 </td></tr>\n",
       "\t<tr><th scope=row>70</th><td>70  </td><td>1   </td><td>37  </td><td>173 </td><td>78  </td><td>3   </td><td>77.5</td><td>0.5 </td></tr>\n",
       "\t<tr><th scope=row>71</th><td>71  </td><td>1   </td><td>31  </td><td>177 </td><td>78  </td><td>3   </td><td>75.2</td><td>2.8 </td></tr>\n",
       "\t<tr><th scope=row>72</th><td>72  </td><td>1   </td><td>26  </td><td>179 </td><td>78  </td><td>3   </td><td>69.4</td><td>8.6 </td></tr>\n",
       "\t<tr><th scope=row>73</th><td>73  </td><td>1   </td><td>40  </td><td>179 </td><td>79  </td><td>3   </td><td>74.5</td><td>4.5 </td></tr>\n",
       "\t<tr><th scope=row>74</th><td>74  </td><td>1   </td><td>35  </td><td>183 </td><td>83  </td><td>3   </td><td>80.2</td><td>2.8 </td></tr>\n",
       "\t<tr><th scope=row>75</th><td>75  </td><td>1   </td><td>49  </td><td>177 </td><td>84  </td><td>3   </td><td>79.9</td><td>4.1 </td></tr>\n",
       "\t<tr><th scope=row>76</th><td>76  </td><td>1   </td><td>28  </td><td>164 </td><td>85  </td><td>3   </td><td>79.7</td><td>5.3 </td></tr>\n",
       "\t<tr><th scope=row>77</th><td>77  </td><td>1   </td><td>40  </td><td>167 </td><td>87  </td><td>3   </td><td>77.8</td><td>9.2 </td></tr>\n",
       "\t<tr><th scope=row>78</th><td>78  </td><td>1   </td><td>51  </td><td>175 </td><td>88  </td><td>3   </td><td>81.9</td><td>6.1 </td></tr>\n",
       "</tbody>\n",
       "</table>\n"
      ],
      "text/latex": [
       "\\begin{tabular}{r|llllllll}\n",
       "  & Person & gender & Age & Height & pre.weight & Diet & weight6weeks & diet3\\_diff\\\\\n",
       "\\hline\n",
       "\t31 & 52   & 0    & 51   & 165  & 60   & 3    & 53.0 & 7.0 \\\\\n",
       "\t32 & 53   & 0    & 35   & 169  & 62   & 3    & 56.4 & 5.6 \\\\\n",
       "\t33 & 54   & 0    & 21   & 159  & 64   & 3    & 60.6 & 3.4 \\\\\n",
       "\t34 & 55   & 0    & 22   & 169  & 65   & 3    & 58.2 & 6.8 \\\\\n",
       "\t35 & 56   & 0    & 36   & 160  & 66   & 3    & 58.2 & 7.8 \\\\\n",
       "\t36 & 57   & 0    & 20   & 169  & 67   & 3    & 61.6 & 5.4 \\\\\n",
       "\t37 & 58   & 0    & 35   & 163  & 67   & 3    & 60.2 & 6.8 \\\\\n",
       "\t38 & 59   & 0    & 45   & 155  & 69   & 3    & 61.8 & 7.2 \\\\\n",
       "\t39 & 60   & 0    & 58   & 141  & 70   & 3    & 63.0 & 7.0 \\\\\n",
       "\t40 & 61   & 0    & 37   & 170  & 70   & 3    & 62.7 & 7.3 \\\\\n",
       "\t41 & 62   & 0    & 31   & 170  & 72   & 3    & 71.1 & 0.9 \\\\\n",
       "\t42 & 63   & 0    & 35   & 171  & 72   & 3    & 64.4 & 7.6 \\\\\n",
       "\t43 & 64   & 0    & 56   & 171  & 73   & 3    & 68.9 & 4.1 \\\\\n",
       "\t44 & 65   & 0    & 48   & 153  & 75   & 3    & 68.7 & 6.3 \\\\\n",
       "\t45 & 66   & 0    & 41   & 157  & 76   & 3    & 71.0 & 5.0 \\\\\n",
       "\t67 & 67   & 1    & 36   & 155  & 71   & 3    & 68.5 & 2.5 \\\\\n",
       "\t68 & 68   & 1    & 47   & 179  & 73   & 3    & 72.1 & 0.9 \\\\\n",
       "\t69 & 69   & 1    & 29   & 166  & 76   & 3    & 72.5 & 3.5 \\\\\n",
       "\t70 & 70   & 1    & 37   & 173  & 78   & 3    & 77.5 & 0.5 \\\\\n",
       "\t71 & 71   & 1    & 31   & 177  & 78   & 3    & 75.2 & 2.8 \\\\\n",
       "\t72 & 72   & 1    & 26   & 179  & 78   & 3    & 69.4 & 8.6 \\\\\n",
       "\t73 & 73   & 1    & 40   & 179  & 79   & 3    & 74.5 & 4.5 \\\\\n",
       "\t74 & 74   & 1    & 35   & 183  & 83   & 3    & 80.2 & 2.8 \\\\\n",
       "\t75 & 75   & 1    & 49   & 177  & 84   & 3    & 79.9 & 4.1 \\\\\n",
       "\t76 & 76   & 1    & 28   & 164  & 85   & 3    & 79.7 & 5.3 \\\\\n",
       "\t77 & 77   & 1    & 40   & 167  & 87   & 3    & 77.8 & 9.2 \\\\\n",
       "\t78 & 78   & 1    & 51   & 175  & 88   & 3    & 81.9 & 6.1 \\\\\n",
       "\\end{tabular}\n"
      ],
      "text/markdown": [
       "\n",
       "| <!--/--> | Person | gender | Age | Height | pre.weight | Diet | weight6weeks | diet3_diff |\n",
       "|---|---|---|---|---|---|---|---|---|\n",
       "| 31 | 52   | 0    | 51   | 165  | 60   | 3    | 53.0 | 7.0  |\n",
       "| 32 | 53   | 0    | 35   | 169  | 62   | 3    | 56.4 | 5.6  |\n",
       "| 33 | 54   | 0    | 21   | 159  | 64   | 3    | 60.6 | 3.4  |\n",
       "| 34 | 55   | 0    | 22   | 169  | 65   | 3    | 58.2 | 6.8  |\n",
       "| 35 | 56   | 0    | 36   | 160  | 66   | 3    | 58.2 | 7.8  |\n",
       "| 36 | 57   | 0    | 20   | 169  | 67   | 3    | 61.6 | 5.4  |\n",
       "| 37 | 58   | 0    | 35   | 163  | 67   | 3    | 60.2 | 6.8  |\n",
       "| 38 | 59   | 0    | 45   | 155  | 69   | 3    | 61.8 | 7.2  |\n",
       "| 39 | 60   | 0    | 58   | 141  | 70   | 3    | 63.0 | 7.0  |\n",
       "| 40 | 61   | 0    | 37   | 170  | 70   | 3    | 62.7 | 7.3  |\n",
       "| 41 | 62   | 0    | 31   | 170  | 72   | 3    | 71.1 | 0.9  |\n",
       "| 42 | 63   | 0    | 35   | 171  | 72   | 3    | 64.4 | 7.6  |\n",
       "| 43 | 64   | 0    | 56   | 171  | 73   | 3    | 68.9 | 4.1  |\n",
       "| 44 | 65   | 0    | 48   | 153  | 75   | 3    | 68.7 | 6.3  |\n",
       "| 45 | 66   | 0    | 41   | 157  | 76   | 3    | 71.0 | 5.0  |\n",
       "| 67 | 67   | 1    | 36   | 155  | 71   | 3    | 68.5 | 2.5  |\n",
       "| 68 | 68   | 1    | 47   | 179  | 73   | 3    | 72.1 | 0.9  |\n",
       "| 69 | 69   | 1    | 29   | 166  | 76   | 3    | 72.5 | 3.5  |\n",
       "| 70 | 70   | 1    | 37   | 173  | 78   | 3    | 77.5 | 0.5  |\n",
       "| 71 | 71   | 1    | 31   | 177  | 78   | 3    | 75.2 | 2.8  |\n",
       "| 72 | 72   | 1    | 26   | 179  | 78   | 3    | 69.4 | 8.6  |\n",
       "| 73 | 73   | 1    | 40   | 179  | 79   | 3    | 74.5 | 4.5  |\n",
       "| 74 | 74   | 1    | 35   | 183  | 83   | 3    | 80.2 | 2.8  |\n",
       "| 75 | 75   | 1    | 49   | 177  | 84   | 3    | 79.9 | 4.1  |\n",
       "| 76 | 76   | 1    | 28   | 164  | 85   | 3    | 79.7 | 5.3  |\n",
       "| 77 | 77   | 1    | 40   | 167  | 87   | 3    | 77.8 | 9.2  |\n",
       "| 78 | 78   | 1    | 51   | 175  | 88   | 3    | 81.9 | 6.1  |\n",
       "\n"
      ],
      "text/plain": [
       "   Person gender Age Height pre.weight Diet weight6weeks diet3_diff\n",
       "31 52     0      51  165    60         3    53.0         7.0       \n",
       "32 53     0      35  169    62         3    56.4         5.6       \n",
       "33 54     0      21  159    64         3    60.6         3.4       \n",
       "34 55     0      22  169    65         3    58.2         6.8       \n",
       "35 56     0      36  160    66         3    58.2         7.8       \n",
       "36 57     0      20  169    67         3    61.6         5.4       \n",
       "37 58     0      35  163    67         3    60.2         6.8       \n",
       "38 59     0      45  155    69         3    61.8         7.2       \n",
       "39 60     0      58  141    70         3    63.0         7.0       \n",
       "40 61     0      37  170    70         3    62.7         7.3       \n",
       "41 62     0      31  170    72         3    71.1         0.9       \n",
       "42 63     0      35  171    72         3    64.4         7.6       \n",
       "43 64     0      56  171    73         3    68.9         4.1       \n",
       "44 65     0      48  153    75         3    68.7         6.3       \n",
       "45 66     0      41  157    76         3    71.0         5.0       \n",
       "67 67     1      36  155    71         3    68.5         2.5       \n",
       "68 68     1      47  179    73         3    72.1         0.9       \n",
       "69 69     1      29  166    76         3    72.5         3.5       \n",
       "70 70     1      37  173    78         3    77.5         0.5       \n",
       "71 71     1      31  177    78         3    75.2         2.8       \n",
       "72 72     1      26  179    78         3    69.4         8.6       \n",
       "73 73     1      40  179    79         3    74.5         4.5       \n",
       "74 74     1      35  183    83         3    80.2         2.8       \n",
       "75 75     1      49  177    84         3    79.9         4.1       \n",
       "76 76     1      28  164    85         3    79.7         5.3       \n",
       "77 77     1      40  167    87         3    77.8         9.2       \n",
       "78 78     1      51  175    88         3    81.9         6.1       "
      ]
     },
     "metadata": {},
     "output_type": "display_data"
    },
    {
     "data": {
      "text/html": [
       "5.14814814814815"
      ],
      "text/latex": [
       "5.14814814814815"
      ],
      "text/markdown": [
       "5.14814814814815"
      ],
      "text/plain": [
       "[1] 5.148148"
      ]
     },
     "metadata": {},
     "output_type": "display_data"
    }
   ],
   "source": [
    "diet3 = subset(diet_data, Diet == \"3\")\n",
    "diet3\n",
    "summary(diet3)\n",
    "diet3_diff = diet3$pre.weight - diet3$weight6weeks\n",
    "diet3=cbind(diet3,diet3_diff)\n",
    "diet3\n",
    "mean(diet3_diff)"
   ]
  },
  {
   "cell_type": "code",
   "execution_count": 34,
   "id": "45294d93",
   "metadata": {},
   "outputs": [
    {
     "data": {
      "text/plain": [
       "\n",
       "\tShapiro-Wilk normality test\n",
       "\n",
       "data:  diet1$diet1_diff\n",
       "W = 0.92553, p-value = 0.07749\n"
      ]
     },
     "metadata": {},
     "output_type": "display_data"
    }
   ],
   "source": [
    "shapiro.test(diet1$diet1_diff)"
   ]
  },
  {
   "cell_type": "code",
   "execution_count": 35,
   "id": "59eb8cd8",
   "metadata": {},
   "outputs": [
    {
     "data": {
      "text/plain": [
       "\n",
       "\tShapiro-Wilk normality test\n",
       "\n",
       "data:  diet2$diet2_diff\n",
       "W = 0.98559, p-value = 0.9612\n"
      ]
     },
     "metadata": {},
     "output_type": "display_data"
    }
   ],
   "source": [
    "shapiro.test(diet2$diet2_diff)"
   ]
  },
  {
   "cell_type": "code",
   "execution_count": 36,
   "id": "fd25c9be",
   "metadata": {},
   "outputs": [
    {
     "data": {
      "text/plain": [
       "\n",
       "\tShapiro-Wilk normality test\n",
       "\n",
       "data:  diet3$diet3_diff\n",
       "W = 0.96013, p-value = 0.372\n"
      ]
     },
     "metadata": {},
     "output_type": "display_data"
    }
   ],
   "source": [
    "shapiro.test(diet3$diet3_diff)"
   ]
  },
  {
   "cell_type": "code",
   "execution_count": 37,
   "id": "898d8f21",
   "metadata": {},
   "outputs": [
    {
     "name": "stderr",
     "output_type": "stream",
     "text": [
      "Warning message in wilcox.test.default(diet1$diet1_diff, diet2$diet2_diff):\n",
      "\"cannot compute exact p-value with ties\""
     ]
    },
    {
     "data": {
      "text/plain": [
       "\n",
       "\tWilcoxon rank sum test with continuity correction\n",
       "\n",
       "data:  diet1$diet1_diff and diet2$diet2_diff\n",
       "W = 323, p-value = 0.9925\n",
       "alternative hypothesis: true location shift is not equal to 0\n"
      ]
     },
     "metadata": {},
     "output_type": "display_data"
    }
   ],
   "source": [
    "wilcox.test(diet1$diet1_diff, diet2$diet2_diff)"
   ]
  },
  {
   "cell_type": "code",
   "execution_count": 38,
   "id": "e57e523d",
   "metadata": {},
   "outputs": [
    {
     "name": "stderr",
     "output_type": "stream",
     "text": [
      "Warning message in wilcox.test.default(diet1$diet1_diff, diet3$diet3_diff):\n",
      "\"cannot compute exact p-value with ties\""
     ]
    },
    {
     "data": {
      "text/plain": [
       "\n",
       "\tWilcoxon rank sum test with continuity correction\n",
       "\n",
       "data:  diet1$diet1_diff and diet3$diet3_diff\n",
       "W = 180.5, p-value = 0.006938\n",
       "alternative hypothesis: true location shift is not equal to 0\n"
      ]
     },
     "metadata": {},
     "output_type": "display_data"
    }
   ],
   "source": [
    "wilcox.test(diet1$diet1_diff, diet3$diet3_diff)"
   ]
  },
  {
   "cell_type": "code",
   "execution_count": 39,
   "id": "2dee5abf",
   "metadata": {},
   "outputs": [
    {
     "name": "stderr",
     "output_type": "stream",
     "text": [
      "Warning message in wilcox.test.default(diet2$diet2_diff, diet3$diet3_diff):\n",
      "\"cannot compute exact p-value with ties\""
     ]
    },
    {
     "data": {
      "text/plain": [
       "\n",
       "\tWilcoxon rank sum test with continuity correction\n",
       "\n",
       "data:  diet2$diet2_diff and diet3$diet3_diff\n",
       "W = 200.5, p-value = 0.004663\n",
       "alternative hypothesis: true location shift is not equal to 0\n"
      ]
     },
     "metadata": {},
     "output_type": "display_data"
    }
   ],
   "source": [
    "wilcox.test(diet2$diet2_diff, diet3$diet3_diff)"
   ]
  },
  {
   "cell_type": "code",
   "execution_count": 40,
   "id": "018c24d8",
   "metadata": {},
   "outputs": [
    {
     "data": {
      "text/html": [
       "<table>\n",
       "<thead><tr><th></th><th scope=col>Person</th><th scope=col>gender</th><th scope=col>Age</th><th scope=col>Height</th><th scope=col>pre.weight</th><th scope=col>Diet</th><th scope=col>weight6weeks</th><th scope=col>diet1_diff</th></tr></thead>\n",
       "<tbody>\n",
       "\t<tr><th scope=row>46</th><td>15  </td><td>1   </td><td>39  </td><td>168 </td><td>71  </td><td>1   </td><td>71.6</td><td>-0.6</td></tr>\n",
       "\t<tr><th scope=row>47</th><td>16  </td><td>1   </td><td>31  </td><td>158 </td><td>72  </td><td>1   </td><td>70.9</td><td> 1.1</td></tr>\n",
       "\t<tr><th scope=row>48</th><td>17  </td><td>1   </td><td>40  </td><td>173 </td><td>74  </td><td>1   </td><td>69.5</td><td> 4.5</td></tr>\n",
       "\t<tr><th scope=row>49</th><td>18  </td><td>1   </td><td>50  </td><td>160 </td><td>78  </td><td>1   </td><td>73.9</td><td> 4.1</td></tr>\n",
       "\t<tr><th scope=row>50</th><td>19  </td><td>1   </td><td>43  </td><td>162 </td><td>80  </td><td>1   </td><td>71.0</td><td> 9.0</td></tr>\n",
       "\t<tr><th scope=row>51</th><td>20  </td><td>1   </td><td>25  </td><td>165 </td><td>80  </td><td>1   </td><td>77.6</td><td> 2.4</td></tr>\n",
       "\t<tr><th scope=row>52</th><td>21  </td><td>1   </td><td>52  </td><td>177 </td><td>83  </td><td>1   </td><td>79.1</td><td> 3.9</td></tr>\n",
       "\t<tr><th scope=row>53</th><td>22  </td><td>1   </td><td>42  </td><td>166 </td><td>85  </td><td>1   </td><td>81.5</td><td> 3.5</td></tr>\n",
       "\t<tr><th scope=row>54</th><td>23  </td><td>1   </td><td>39  </td><td>166 </td><td>87  </td><td>1   </td><td>81.9</td><td> 5.1</td></tr>\n",
       "\t<tr><th scope=row>55</th><td>24  </td><td>1   </td><td>40  </td><td>190 </td><td>88  </td><td>1   </td><td>84.5</td><td> 3.5</td></tr>\n",
       "</tbody>\n",
       "</table>\n"
      ],
      "text/latex": [
       "\\begin{tabular}{r|llllllll}\n",
       "  & Person & gender & Age & Height & pre.weight & Diet & weight6weeks & diet1\\_diff\\\\\n",
       "\\hline\n",
       "\t46 & 15   & 1    & 39   & 168  & 71   & 1    & 71.6 & -0.6\\\\\n",
       "\t47 & 16   & 1    & 31   & 158  & 72   & 1    & 70.9 &  1.1\\\\\n",
       "\t48 & 17   & 1    & 40   & 173  & 74   & 1    & 69.5 &  4.5\\\\\n",
       "\t49 & 18   & 1    & 50   & 160  & 78   & 1    & 73.9 &  4.1\\\\\n",
       "\t50 & 19   & 1    & 43   & 162  & 80   & 1    & 71.0 &  9.0\\\\\n",
       "\t51 & 20   & 1    & 25   & 165  & 80   & 1    & 77.6 &  2.4\\\\\n",
       "\t52 & 21   & 1    & 52   & 177  & 83   & 1    & 79.1 &  3.9\\\\\n",
       "\t53 & 22   & 1    & 42   & 166  & 85   & 1    & 81.5 &  3.5\\\\\n",
       "\t54 & 23   & 1    & 39   & 166  & 87   & 1    & 81.9 &  5.1\\\\\n",
       "\t55 & 24   & 1    & 40   & 190  & 88   & 1    & 84.5 &  3.5\\\\\n",
       "\\end{tabular}\n"
      ],
      "text/markdown": [
       "\n",
       "| <!--/--> | Person | gender | Age | Height | pre.weight | Diet | weight6weeks | diet1_diff |\n",
       "|---|---|---|---|---|---|---|---|---|\n",
       "| 46 | 15   | 1    | 39   | 168  | 71   | 1    | 71.6 | -0.6 |\n",
       "| 47 | 16   | 1    | 31   | 158  | 72   | 1    | 70.9 |  1.1 |\n",
       "| 48 | 17   | 1    | 40   | 173  | 74   | 1    | 69.5 |  4.5 |\n",
       "| 49 | 18   | 1    | 50   | 160  | 78   | 1    | 73.9 |  4.1 |\n",
       "| 50 | 19   | 1    | 43   | 162  | 80   | 1    | 71.0 |  9.0 |\n",
       "| 51 | 20   | 1    | 25   | 165  | 80   | 1    | 77.6 |  2.4 |\n",
       "| 52 | 21   | 1    | 52   | 177  | 83   | 1    | 79.1 |  3.9 |\n",
       "| 53 | 22   | 1    | 42   | 166  | 85   | 1    | 81.5 |  3.5 |\n",
       "| 54 | 23   | 1    | 39   | 166  | 87   | 1    | 81.9 |  5.1 |\n",
       "| 55 | 24   | 1    | 40   | 190  | 88   | 1    | 84.5 |  3.5 |\n",
       "\n"
      ],
      "text/plain": [
       "   Person gender Age Height pre.weight Diet weight6weeks diet1_diff\n",
       "46 15     1      39  168    71         1    71.6         -0.6      \n",
       "47 16     1      31  158    72         1    70.9          1.1      \n",
       "48 17     1      40  173    74         1    69.5          4.5      \n",
       "49 18     1      50  160    78         1    73.9          4.1      \n",
       "50 19     1      43  162    80         1    71.0          9.0      \n",
       "51 20     1      25  165    80         1    77.6          2.4      \n",
       "52 21     1      52  177    83         1    79.1          3.9      \n",
       "53 22     1      42  166    85         1    81.5          3.5      \n",
       "54 23     1      39  166    87         1    81.9          5.1      \n",
       "55 24     1      40  190    88         1    84.5          3.5      "
      ]
     },
     "metadata": {},
     "output_type": "display_data"
    },
    {
     "data": {
      "text/html": [
       "<table>\n",
       "<thead><tr><th></th><th scope=col>Person</th><th scope=col>gender</th><th scope=col>Age</th><th scope=col>Height</th><th scope=col>pre.weight</th><th scope=col>Diet</th><th scope=col>weight6weeks</th><th scope=col>diet1_diff</th></tr></thead>\n",
       "<tbody>\n",
       "\t<tr><th scope=row>3</th><td> 1  </td><td>0   </td><td>22  </td><td>159 </td><td>58  </td><td>1   </td><td>54.2</td><td>3.8 </td></tr>\n",
       "\t<tr><th scope=row>4</th><td> 2  </td><td>0   </td><td>46  </td><td>192 </td><td>60  </td><td>1   </td><td>54.0</td><td>6.0 </td></tr>\n",
       "\t<tr><th scope=row>5</th><td> 3  </td><td>0   </td><td>55  </td><td>170 </td><td>64  </td><td>1   </td><td>63.3</td><td>0.7 </td></tr>\n",
       "\t<tr><th scope=row>6</th><td> 4  </td><td>0   </td><td>33  </td><td>171 </td><td>64  </td><td>1   </td><td>61.1</td><td>2.9 </td></tr>\n",
       "\t<tr><th scope=row>7</th><td> 5  </td><td>0   </td><td>50  </td><td>170 </td><td>65  </td><td>1   </td><td>62.2</td><td>2.8 </td></tr>\n",
       "\t<tr><th scope=row>8</th><td> 6  </td><td>0   </td><td>50  </td><td>201 </td><td>66  </td><td>1   </td><td>64.0</td><td>2.0 </td></tr>\n",
       "\t<tr><th scope=row>9</th><td> 7  </td><td>0   </td><td>37  </td><td>174 </td><td>67  </td><td>1   </td><td>65.0</td><td>2.0 </td></tr>\n",
       "\t<tr><th scope=row>10</th><td> 8  </td><td>0   </td><td>28  </td><td>176 </td><td>69  </td><td>1   </td><td>60.5</td><td>8.5 </td></tr>\n",
       "\t<tr><th scope=row>11</th><td> 9  </td><td>0   </td><td>28  </td><td>165 </td><td>70  </td><td>1   </td><td>68.1</td><td>1.9 </td></tr>\n",
       "\t<tr><th scope=row>12</th><td>10  </td><td>0   </td><td>45  </td><td>165 </td><td>70  </td><td>1   </td><td>66.9</td><td>3.1 </td></tr>\n",
       "\t<tr><th scope=row>13</th><td>11  </td><td>0   </td><td>60  </td><td>173 </td><td>72  </td><td>1   </td><td>70.5</td><td>1.5 </td></tr>\n",
       "\t<tr><th scope=row>14</th><td>12  </td><td>0   </td><td>48  </td><td>156 </td><td>72  </td><td>1   </td><td>69.0</td><td>3.0 </td></tr>\n",
       "\t<tr><th scope=row>15</th><td>13  </td><td>0   </td><td>41  </td><td>163 </td><td>72  </td><td>1   </td><td>68.4</td><td>3.6 </td></tr>\n",
       "\t<tr><th scope=row>16</th><td>14  </td><td>0   </td><td>37  </td><td>167 </td><td>82  </td><td>1   </td><td>81.1</td><td>0.9 </td></tr>\n",
       "</tbody>\n",
       "</table>\n"
      ],
      "text/latex": [
       "\\begin{tabular}{r|llllllll}\n",
       "  & Person & gender & Age & Height & pre.weight & Diet & weight6weeks & diet1\\_diff\\\\\n",
       "\\hline\n",
       "\t3 &  1   & 0    & 22   & 159  & 58   & 1    & 54.2 & 3.8 \\\\\n",
       "\t4 &  2   & 0    & 46   & 192  & 60   & 1    & 54.0 & 6.0 \\\\\n",
       "\t5 &  3   & 0    & 55   & 170  & 64   & 1    & 63.3 & 0.7 \\\\\n",
       "\t6 &  4   & 0    & 33   & 171  & 64   & 1    & 61.1 & 2.9 \\\\\n",
       "\t7 &  5   & 0    & 50   & 170  & 65   & 1    & 62.2 & 2.8 \\\\\n",
       "\t8 &  6   & 0    & 50   & 201  & 66   & 1    & 64.0 & 2.0 \\\\\n",
       "\t9 &  7   & 0    & 37   & 174  & 67   & 1    & 65.0 & 2.0 \\\\\n",
       "\t10 &  8   & 0    & 28   & 176  & 69   & 1    & 60.5 & 8.5 \\\\\n",
       "\t11 &  9   & 0    & 28   & 165  & 70   & 1    & 68.1 & 1.9 \\\\\n",
       "\t12 & 10   & 0    & 45   & 165  & 70   & 1    & 66.9 & 3.1 \\\\\n",
       "\t13 & 11   & 0    & 60   & 173  & 72   & 1    & 70.5 & 1.5 \\\\\n",
       "\t14 & 12   & 0    & 48   & 156  & 72   & 1    & 69.0 & 3.0 \\\\\n",
       "\t15 & 13   & 0    & 41   & 163  & 72   & 1    & 68.4 & 3.6 \\\\\n",
       "\t16 & 14   & 0    & 37   & 167  & 82   & 1    & 81.1 & 0.9 \\\\\n",
       "\\end{tabular}\n"
      ],
      "text/markdown": [
       "\n",
       "| <!--/--> | Person | gender | Age | Height | pre.weight | Diet | weight6weeks | diet1_diff |\n",
       "|---|---|---|---|---|---|---|---|---|\n",
       "| 3 |  1   | 0    | 22   | 159  | 58   | 1    | 54.2 | 3.8  |\n",
       "| 4 |  2   | 0    | 46   | 192  | 60   | 1    | 54.0 | 6.0  |\n",
       "| 5 |  3   | 0    | 55   | 170  | 64   | 1    | 63.3 | 0.7  |\n",
       "| 6 |  4   | 0    | 33   | 171  | 64   | 1    | 61.1 | 2.9  |\n",
       "| 7 |  5   | 0    | 50   | 170  | 65   | 1    | 62.2 | 2.8  |\n",
       "| 8 |  6   | 0    | 50   | 201  | 66   | 1    | 64.0 | 2.0  |\n",
       "| 9 |  7   | 0    | 37   | 174  | 67   | 1    | 65.0 | 2.0  |\n",
       "| 10 |  8   | 0    | 28   | 176  | 69   | 1    | 60.5 | 8.5  |\n",
       "| 11 |  9   | 0    | 28   | 165  | 70   | 1    | 68.1 | 1.9  |\n",
       "| 12 | 10   | 0    | 45   | 165  | 70   | 1    | 66.9 | 3.1  |\n",
       "| 13 | 11   | 0    | 60   | 173  | 72   | 1    | 70.5 | 1.5  |\n",
       "| 14 | 12   | 0    | 48   | 156  | 72   | 1    | 69.0 | 3.0  |\n",
       "| 15 | 13   | 0    | 41   | 163  | 72   | 1    | 68.4 | 3.6  |\n",
       "| 16 | 14   | 0    | 37   | 167  | 82   | 1    | 81.1 | 0.9  |\n",
       "\n"
      ],
      "text/plain": [
       "   Person gender Age Height pre.weight Diet weight6weeks diet1_diff\n",
       "3   1     0      22  159    58         1    54.2         3.8       \n",
       "4   2     0      46  192    60         1    54.0         6.0       \n",
       "5   3     0      55  170    64         1    63.3         0.7       \n",
       "6   4     0      33  171    64         1    61.1         2.9       \n",
       "7   5     0      50  170    65         1    62.2         2.8       \n",
       "8   6     0      50  201    66         1    64.0         2.0       \n",
       "9   7     0      37  174    67         1    65.0         2.0       \n",
       "10  8     0      28  176    69         1    60.5         8.5       \n",
       "11  9     0      28  165    70         1    68.1         1.9       \n",
       "12 10     0      45  165    70         1    66.9         3.1       \n",
       "13 11     0      60  173    72         1    70.5         1.5       \n",
       "14 12     0      48  156    72         1    69.0         3.0       \n",
       "15 13     0      41  163    72         1    68.4         3.6       \n",
       "16 14     0      37  167    82         1    81.1         0.9       "
      ]
     },
     "metadata": {},
     "output_type": "display_data"
    }
   ],
   "source": [
    "diet1_M = subset(diet1, gender == 1)\n",
    "diet1_M\n",
    "\n",
    "diet1_F = subset(diet1, gender == 0)\n",
    "diet1_F"
   ]
  },
  {
   "cell_type": "code",
   "execution_count": 41,
   "id": "9eed4237",
   "metadata": {},
   "outputs": [
    {
     "data": {
      "text/plain": [
       "\n",
       "\tShapiro-Wilk normality test\n",
       "\n",
       "data:  diet1_M$diet1_diff\n",
       "W = 0.93667, p-value = 0.5166\n"
      ]
     },
     "metadata": {},
     "output_type": "display_data"
    },
    {
     "data": {
      "text/plain": [
       "\n",
       "\tShapiro-Wilk normality test\n",
       "\n",
       "data:  diet1_F$diet1_diff\n",
       "W = 0.8518, p-value = 0.0235\n"
      ]
     },
     "metadata": {},
     "output_type": "display_data"
    }
   ],
   "source": [
    "shapiro.test(diet1_M$diet1_diff)\n",
    "shapiro.test(diet1_F$diet1_diff)"
   ]
  },
  {
   "cell_type": "code",
   "execution_count": 42,
   "id": "6130d9cc",
   "metadata": {},
   "outputs": [
    {
     "name": "stderr",
     "output_type": "stream",
     "text": [
      "Warning message in wilcox.test.default(diet1_M$diet1_diff, diet1_F$diet1_diff):\n",
      "\"cannot compute exact p-value with ties\""
     ]
    },
    {
     "data": {
      "text/plain": [
       "\n",
       "\tWilcoxon rank sum test with continuity correction\n",
       "\n",
       "data:  diet1_M$diet1_diff and diet1_F$diet1_diff\n",
       "W = 90, p-value = 0.2533\n",
       "alternative hypothesis: true location shift is not equal to 0\n"
      ]
     },
     "metadata": {},
     "output_type": "display_data"
    }
   ],
   "source": [
    "wilcox.test(diet1_M$diet1_diff, diet1_F$diet1_diff)"
   ]
  },
  {
   "cell_type": "code",
   "execution_count": 43,
   "id": "3ff7d568",
   "metadata": {},
   "outputs": [
    {
     "data": {
      "text/html": [
       "<table>\n",
       "<thead><tr><th></th><th scope=col>Person</th><th scope=col>gender</th><th scope=col>Age</th><th scope=col>Height</th><th scope=col>pre.weight</th><th scope=col>Diet</th><th scope=col>weight6weeks</th><th scope=col>diet2_diff</th></tr></thead>\n",
       "<tbody>\n",
       "\t<tr><th scope=row>56</th><td>41  </td><td>1   </td><td>51  </td><td>191 </td><td>71  </td><td>2   </td><td>66.8</td><td> 4.2</td></tr>\n",
       "\t<tr><th scope=row>57</th><td>42  </td><td>1   </td><td>38  </td><td>199 </td><td>75  </td><td>2   </td><td>72.6</td><td> 2.4</td></tr>\n",
       "\t<tr><th scope=row>58</th><td>43  </td><td>1   </td><td>54  </td><td>196 </td><td>75  </td><td>2   </td><td>69.2</td><td> 5.8</td></tr>\n",
       "\t<tr><th scope=row>59</th><td>44  </td><td>1   </td><td>33  </td><td>190 </td><td>76  </td><td>2   </td><td>72.5</td><td> 3.5</td></tr>\n",
       "\t<tr><th scope=row>60</th><td>45  </td><td>1   </td><td>45  </td><td>160 </td><td>78  </td><td>2   </td><td>72.7</td><td> 5.3</td></tr>\n",
       "\t<tr><th scope=row>61</th><td>46  </td><td>1   </td><td>37  </td><td>194 </td><td>78  </td><td>2   </td><td>76.3</td><td> 1.7</td></tr>\n",
       "\t<tr><th scope=row>62</th><td>47  </td><td>1   </td><td>44  </td><td>163 </td><td>79  </td><td>2   </td><td>73.6</td><td> 5.4</td></tr>\n",
       "\t<tr><th scope=row>63</th><td>48  </td><td>1   </td><td>40  </td><td>171 </td><td>79  </td><td>2   </td><td>72.9</td><td> 6.1</td></tr>\n",
       "\t<tr><th scope=row>64</th><td>49  </td><td>1   </td><td>37  </td><td>198 </td><td>79  </td><td>2   </td><td>71.1</td><td> 7.9</td></tr>\n",
       "\t<tr><th scope=row>65</th><td>50  </td><td>1   </td><td>39  </td><td>180 </td><td>80  </td><td>2   </td><td>81.4</td><td>-1.4</td></tr>\n",
       "\t<tr><th scope=row>66</th><td>51  </td><td>1   </td><td>31  </td><td>182 </td><td>80  </td><td>2   </td><td>75.7</td><td> 4.3</td></tr>\n",
       "</tbody>\n",
       "</table>\n"
      ],
      "text/latex": [
       "\\begin{tabular}{r|llllllll}\n",
       "  & Person & gender & Age & Height & pre.weight & Diet & weight6weeks & diet2\\_diff\\\\\n",
       "\\hline\n",
       "\t56 & 41   & 1    & 51   & 191  & 71   & 2    & 66.8 &  4.2\\\\\n",
       "\t57 & 42   & 1    & 38   & 199  & 75   & 2    & 72.6 &  2.4\\\\\n",
       "\t58 & 43   & 1    & 54   & 196  & 75   & 2    & 69.2 &  5.8\\\\\n",
       "\t59 & 44   & 1    & 33   & 190  & 76   & 2    & 72.5 &  3.5\\\\\n",
       "\t60 & 45   & 1    & 45   & 160  & 78   & 2    & 72.7 &  5.3\\\\\n",
       "\t61 & 46   & 1    & 37   & 194  & 78   & 2    & 76.3 &  1.7\\\\\n",
       "\t62 & 47   & 1    & 44   & 163  & 79   & 2    & 73.6 &  5.4\\\\\n",
       "\t63 & 48   & 1    & 40   & 171  & 79   & 2    & 72.9 &  6.1\\\\\n",
       "\t64 & 49   & 1    & 37   & 198  & 79   & 2    & 71.1 &  7.9\\\\\n",
       "\t65 & 50   & 1    & 39   & 180  & 80   & 2    & 81.4 & -1.4\\\\\n",
       "\t66 & 51   & 1    & 31   & 182  & 80   & 2    & 75.7 &  4.3\\\\\n",
       "\\end{tabular}\n"
      ],
      "text/markdown": [
       "\n",
       "| <!--/--> | Person | gender | Age | Height | pre.weight | Diet | weight6weeks | diet2_diff |\n",
       "|---|---|---|---|---|---|---|---|---|\n",
       "| 56 | 41   | 1    | 51   | 191  | 71   | 2    | 66.8 |  4.2 |\n",
       "| 57 | 42   | 1    | 38   | 199  | 75   | 2    | 72.6 |  2.4 |\n",
       "| 58 | 43   | 1    | 54   | 196  | 75   | 2    | 69.2 |  5.8 |\n",
       "| 59 | 44   | 1    | 33   | 190  | 76   | 2    | 72.5 |  3.5 |\n",
       "| 60 | 45   | 1    | 45   | 160  | 78   | 2    | 72.7 |  5.3 |\n",
       "| 61 | 46   | 1    | 37   | 194  | 78   | 2    | 76.3 |  1.7 |\n",
       "| 62 | 47   | 1    | 44   | 163  | 79   | 2    | 73.6 |  5.4 |\n",
       "| 63 | 48   | 1    | 40   | 171  | 79   | 2    | 72.9 |  6.1 |\n",
       "| 64 | 49   | 1    | 37   | 198  | 79   | 2    | 71.1 |  7.9 |\n",
       "| 65 | 50   | 1    | 39   | 180  | 80   | 2    | 81.4 | -1.4 |\n",
       "| 66 | 51   | 1    | 31   | 182  | 80   | 2    | 75.7 |  4.3 |\n",
       "\n"
      ],
      "text/plain": [
       "   Person gender Age Height pre.weight Diet weight6weeks diet2_diff\n",
       "56 41     1      51  191    71         2    66.8          4.2      \n",
       "57 42     1      38  199    75         2    72.6          2.4      \n",
       "58 43     1      54  196    75         2    69.2          5.8      \n",
       "59 44     1      33  190    76         2    72.5          3.5      \n",
       "60 45     1      45  160    78         2    72.7          5.3      \n",
       "61 46     1      37  194    78         2    76.3          1.7      \n",
       "62 47     1      44  163    79         2    73.6          5.4      \n",
       "63 48     1      40  171    79         2    72.9          6.1      \n",
       "64 49     1      37  198    79         2    71.1          7.9      \n",
       "65 50     1      39  180    80         2    81.4         -1.4      \n",
       "66 51     1      31  182    80         2    75.7          4.3      "
      ]
     },
     "metadata": {},
     "output_type": "display_data"
    },
    {
     "data": {
      "text/html": [
       "<table>\n",
       "<thead><tr><th></th><th scope=col>Person</th><th scope=col>gender</th><th scope=col>Age</th><th scope=col>Height</th><th scope=col>pre.weight</th><th scope=col>Diet</th><th scope=col>weight6weeks</th><th scope=col>diet2_diff</th></tr></thead>\n",
       "<tbody>\n",
       "\t<tr><th scope=row>17</th><td>27  </td><td>0   </td><td>44  </td><td>174 </td><td>58  </td><td>2   </td><td>60.1</td><td>-2.1</td></tr>\n",
       "\t<tr><th scope=row>18</th><td>28  </td><td>0   </td><td>37  </td><td>172 </td><td>58  </td><td>2   </td><td>56.0</td><td> 2.0</td></tr>\n",
       "\t<tr><th scope=row>19</th><td>29  </td><td>0   </td><td>41  </td><td>165 </td><td>59  </td><td>2   </td><td>57.3</td><td> 1.7</td></tr>\n",
       "\t<tr><th scope=row>20</th><td>30  </td><td>0   </td><td>43  </td><td>171 </td><td>61  </td><td>2   </td><td>56.7</td><td> 4.3</td></tr>\n",
       "\t<tr><th scope=row>21</th><td>31  </td><td>0   </td><td>20  </td><td>169 </td><td>62  </td><td>2   </td><td>55.0</td><td> 7.0</td></tr>\n",
       "\t<tr><th scope=row>22</th><td>32  </td><td>0   </td><td>51  </td><td>174 </td><td>63  </td><td>2   </td><td>62.4</td><td> 0.6</td></tr>\n",
       "\t<tr><th scope=row>23</th><td>33  </td><td>0   </td><td>31  </td><td>163 </td><td>63  </td><td>2   </td><td>60.3</td><td> 2.7</td></tr>\n",
       "\t<tr><th scope=row>24</th><td>34  </td><td>0   </td><td>54  </td><td>173 </td><td>63  </td><td>2   </td><td>59.4</td><td> 3.6</td></tr>\n",
       "\t<tr><th scope=row>25</th><td>35  </td><td>0   </td><td>50  </td><td>166 </td><td>65  </td><td>2   </td><td>62.0</td><td> 3.0</td></tr>\n",
       "\t<tr><th scope=row>26</th><td>36  </td><td>0   </td><td>48  </td><td>163 </td><td>66  </td><td>2   </td><td>64.0</td><td> 2.0</td></tr>\n",
       "\t<tr><th scope=row>27</th><td>37  </td><td>0   </td><td>16  </td><td>165 </td><td>68  </td><td>2   </td><td>63.8</td><td> 4.2</td></tr>\n",
       "\t<tr><th scope=row>28</th><td>38  </td><td>0   </td><td>37  </td><td>167 </td><td>68  </td><td>2   </td><td>63.3</td><td> 4.7</td></tr>\n",
       "\t<tr><th scope=row>29</th><td>39  </td><td>0   </td><td>30  </td><td>161 </td><td>76  </td><td>2   </td><td>72.7</td><td> 3.3</td></tr>\n",
       "\t<tr><th scope=row>30</th><td>40  </td><td>0   </td><td>29  </td><td>169 </td><td>77  </td><td>2   </td><td>77.5</td><td>-0.5</td></tr>\n",
       "</tbody>\n",
       "</table>\n"
      ],
      "text/latex": [
       "\\begin{tabular}{r|llllllll}\n",
       "  & Person & gender & Age & Height & pre.weight & Diet & weight6weeks & diet2\\_diff\\\\\n",
       "\\hline\n",
       "\t17 & 27   & 0    & 44   & 174  & 58   & 2    & 60.1 & -2.1\\\\\n",
       "\t18 & 28   & 0    & 37   & 172  & 58   & 2    & 56.0 &  2.0\\\\\n",
       "\t19 & 29   & 0    & 41   & 165  & 59   & 2    & 57.3 &  1.7\\\\\n",
       "\t20 & 30   & 0    & 43   & 171  & 61   & 2    & 56.7 &  4.3\\\\\n",
       "\t21 & 31   & 0    & 20   & 169  & 62   & 2    & 55.0 &  7.0\\\\\n",
       "\t22 & 32   & 0    & 51   & 174  & 63   & 2    & 62.4 &  0.6\\\\\n",
       "\t23 & 33   & 0    & 31   & 163  & 63   & 2    & 60.3 &  2.7\\\\\n",
       "\t24 & 34   & 0    & 54   & 173  & 63   & 2    & 59.4 &  3.6\\\\\n",
       "\t25 & 35   & 0    & 50   & 166  & 65   & 2    & 62.0 &  3.0\\\\\n",
       "\t26 & 36   & 0    & 48   & 163  & 66   & 2    & 64.0 &  2.0\\\\\n",
       "\t27 & 37   & 0    & 16   & 165  & 68   & 2    & 63.8 &  4.2\\\\\n",
       "\t28 & 38   & 0    & 37   & 167  & 68   & 2    & 63.3 &  4.7\\\\\n",
       "\t29 & 39   & 0    & 30   & 161  & 76   & 2    & 72.7 &  3.3\\\\\n",
       "\t30 & 40   & 0    & 29   & 169  & 77   & 2    & 77.5 & -0.5\\\\\n",
       "\\end{tabular}\n"
      ],
      "text/markdown": [
       "\n",
       "| <!--/--> | Person | gender | Age | Height | pre.weight | Diet | weight6weeks | diet2_diff |\n",
       "|---|---|---|---|---|---|---|---|---|\n",
       "| 17 | 27   | 0    | 44   | 174  | 58   | 2    | 60.1 | -2.1 |\n",
       "| 18 | 28   | 0    | 37   | 172  | 58   | 2    | 56.0 |  2.0 |\n",
       "| 19 | 29   | 0    | 41   | 165  | 59   | 2    | 57.3 |  1.7 |\n",
       "| 20 | 30   | 0    | 43   | 171  | 61   | 2    | 56.7 |  4.3 |\n",
       "| 21 | 31   | 0    | 20   | 169  | 62   | 2    | 55.0 |  7.0 |\n",
       "| 22 | 32   | 0    | 51   | 174  | 63   | 2    | 62.4 |  0.6 |\n",
       "| 23 | 33   | 0    | 31   | 163  | 63   | 2    | 60.3 |  2.7 |\n",
       "| 24 | 34   | 0    | 54   | 173  | 63   | 2    | 59.4 |  3.6 |\n",
       "| 25 | 35   | 0    | 50   | 166  | 65   | 2    | 62.0 |  3.0 |\n",
       "| 26 | 36   | 0    | 48   | 163  | 66   | 2    | 64.0 |  2.0 |\n",
       "| 27 | 37   | 0    | 16   | 165  | 68   | 2    | 63.8 |  4.2 |\n",
       "| 28 | 38   | 0    | 37   | 167  | 68   | 2    | 63.3 |  4.7 |\n",
       "| 29 | 39   | 0    | 30   | 161  | 76   | 2    | 72.7 |  3.3 |\n",
       "| 30 | 40   | 0    | 29   | 169  | 77   | 2    | 77.5 | -0.5 |\n",
       "\n"
      ],
      "text/plain": [
       "   Person gender Age Height pre.weight Diet weight6weeks diet2_diff\n",
       "17 27     0      44  174    58         2    60.1         -2.1      \n",
       "18 28     0      37  172    58         2    56.0          2.0      \n",
       "19 29     0      41  165    59         2    57.3          1.7      \n",
       "20 30     0      43  171    61         2    56.7          4.3      \n",
       "21 31     0      20  169    62         2    55.0          7.0      \n",
       "22 32     0      51  174    63         2    62.4          0.6      \n",
       "23 33     0      31  163    63         2    60.3          2.7      \n",
       "24 34     0      54  173    63         2    59.4          3.6      \n",
       "25 35     0      50  166    65         2    62.0          3.0      \n",
       "26 36     0      48  163    66         2    64.0          2.0      \n",
       "27 37     0      16  165    68         2    63.8          4.2      \n",
       "28 38     0      37  167    68         2    63.3          4.7      \n",
       "29 39     0      30  161    76         2    72.7          3.3      \n",
       "30 40     0      29  169    77         2    77.5         -0.5      "
      ]
     },
     "metadata": {},
     "output_type": "display_data"
    }
   ],
   "source": [
    "diet2_M = subset(diet2, gender == 1)\n",
    "diet2_M\n",
    "\n",
    "diet2_F = subset(diet2, gender == 0)\n",
    "diet2_F"
   ]
  },
  {
   "cell_type": "code",
   "execution_count": 44,
   "id": "35cc90e3",
   "metadata": {},
   "outputs": [
    {
     "data": {
      "text/plain": [
       "\n",
       "\tShapiro-Wilk normality test\n",
       "\n",
       "data:  diet2_M$diet2_diff\n",
       "W = 0.95022, p-value = 0.6468\n"
      ]
     },
     "metadata": {},
     "output_type": "display_data"
    },
    {
     "data": {
      "text/plain": [
       "\n",
       "\tShapiro-Wilk normality test\n",
       "\n",
       "data:  diet2_F$diet2_diff\n",
       "W = 0.97862, p-value = 0.966\n"
      ]
     },
     "metadata": {},
     "output_type": "display_data"
    }
   ],
   "source": [
    "shapiro.test(diet2_M$diet2_diff)\n",
    "shapiro.test(diet2_F$diet2_diff)"
   ]
  },
  {
   "cell_type": "code",
   "execution_count": 45,
   "id": "7113c686",
   "metadata": {},
   "outputs": [
    {
     "name": "stderr",
     "output_type": "stream",
     "text": [
      "Warning message in wilcox.test.default(diet2_M$diet2_diff, diet2_F$diet2_diff):\n",
      "\"cannot compute exact p-value with ties\""
     ]
    },
    {
     "data": {
      "text/plain": [
       "\n",
       "\tWilcoxon rank sum test with continuity correction\n",
       "\n",
       "data:  diet2_M$diet2_diff and diet2_F$diet2_diff\n",
       "W = 107.5, p-value = 0.1003\n",
       "alternative hypothesis: true location shift is not equal to 0\n"
      ]
     },
     "metadata": {},
     "output_type": "display_data"
    }
   ],
   "source": [
    "wilcox.test(diet2_M$diet2_diff, diet2_F$diet2_diff)"
   ]
  },
  {
   "cell_type": "code",
   "execution_count": 46,
   "id": "6ec7346c",
   "metadata": {},
   "outputs": [
    {
     "data": {
      "text/html": [
       "<table>\n",
       "<thead><tr><th></th><th scope=col>Person</th><th scope=col>gender</th><th scope=col>Age</th><th scope=col>Height</th><th scope=col>pre.weight</th><th scope=col>Diet</th><th scope=col>weight6weeks</th><th scope=col>diet3_diff</th></tr></thead>\n",
       "<tbody>\n",
       "\t<tr><th scope=row>67</th><td>67  </td><td>1   </td><td>36  </td><td>155 </td><td>71  </td><td>3   </td><td>68.5</td><td>2.5 </td></tr>\n",
       "\t<tr><th scope=row>68</th><td>68  </td><td>1   </td><td>47  </td><td>179 </td><td>73  </td><td>3   </td><td>72.1</td><td>0.9 </td></tr>\n",
       "\t<tr><th scope=row>69</th><td>69  </td><td>1   </td><td>29  </td><td>166 </td><td>76  </td><td>3   </td><td>72.5</td><td>3.5 </td></tr>\n",
       "\t<tr><th scope=row>70</th><td>70  </td><td>1   </td><td>37  </td><td>173 </td><td>78  </td><td>3   </td><td>77.5</td><td>0.5 </td></tr>\n",
       "\t<tr><th scope=row>71</th><td>71  </td><td>1   </td><td>31  </td><td>177 </td><td>78  </td><td>3   </td><td>75.2</td><td>2.8 </td></tr>\n",
       "\t<tr><th scope=row>72</th><td>72  </td><td>1   </td><td>26  </td><td>179 </td><td>78  </td><td>3   </td><td>69.4</td><td>8.6 </td></tr>\n",
       "\t<tr><th scope=row>73</th><td>73  </td><td>1   </td><td>40  </td><td>179 </td><td>79  </td><td>3   </td><td>74.5</td><td>4.5 </td></tr>\n",
       "\t<tr><th scope=row>74</th><td>74  </td><td>1   </td><td>35  </td><td>183 </td><td>83  </td><td>3   </td><td>80.2</td><td>2.8 </td></tr>\n",
       "\t<tr><th scope=row>75</th><td>75  </td><td>1   </td><td>49  </td><td>177 </td><td>84  </td><td>3   </td><td>79.9</td><td>4.1 </td></tr>\n",
       "\t<tr><th scope=row>76</th><td>76  </td><td>1   </td><td>28  </td><td>164 </td><td>85  </td><td>3   </td><td>79.7</td><td>5.3 </td></tr>\n",
       "\t<tr><th scope=row>77</th><td>77  </td><td>1   </td><td>40  </td><td>167 </td><td>87  </td><td>3   </td><td>77.8</td><td>9.2 </td></tr>\n",
       "\t<tr><th scope=row>78</th><td>78  </td><td>1   </td><td>51  </td><td>175 </td><td>88  </td><td>3   </td><td>81.9</td><td>6.1 </td></tr>\n",
       "</tbody>\n",
       "</table>\n"
      ],
      "text/latex": [
       "\\begin{tabular}{r|llllllll}\n",
       "  & Person & gender & Age & Height & pre.weight & Diet & weight6weeks & diet3\\_diff\\\\\n",
       "\\hline\n",
       "\t67 & 67   & 1    & 36   & 155  & 71   & 3    & 68.5 & 2.5 \\\\\n",
       "\t68 & 68   & 1    & 47   & 179  & 73   & 3    & 72.1 & 0.9 \\\\\n",
       "\t69 & 69   & 1    & 29   & 166  & 76   & 3    & 72.5 & 3.5 \\\\\n",
       "\t70 & 70   & 1    & 37   & 173  & 78   & 3    & 77.5 & 0.5 \\\\\n",
       "\t71 & 71   & 1    & 31   & 177  & 78   & 3    & 75.2 & 2.8 \\\\\n",
       "\t72 & 72   & 1    & 26   & 179  & 78   & 3    & 69.4 & 8.6 \\\\\n",
       "\t73 & 73   & 1    & 40   & 179  & 79   & 3    & 74.5 & 4.5 \\\\\n",
       "\t74 & 74   & 1    & 35   & 183  & 83   & 3    & 80.2 & 2.8 \\\\\n",
       "\t75 & 75   & 1    & 49   & 177  & 84   & 3    & 79.9 & 4.1 \\\\\n",
       "\t76 & 76   & 1    & 28   & 164  & 85   & 3    & 79.7 & 5.3 \\\\\n",
       "\t77 & 77   & 1    & 40   & 167  & 87   & 3    & 77.8 & 9.2 \\\\\n",
       "\t78 & 78   & 1    & 51   & 175  & 88   & 3    & 81.9 & 6.1 \\\\\n",
       "\\end{tabular}\n"
      ],
      "text/markdown": [
       "\n",
       "| <!--/--> | Person | gender | Age | Height | pre.weight | Diet | weight6weeks | diet3_diff |\n",
       "|---|---|---|---|---|---|---|---|---|\n",
       "| 67 | 67   | 1    | 36   | 155  | 71   | 3    | 68.5 | 2.5  |\n",
       "| 68 | 68   | 1    | 47   | 179  | 73   | 3    | 72.1 | 0.9  |\n",
       "| 69 | 69   | 1    | 29   | 166  | 76   | 3    | 72.5 | 3.5  |\n",
       "| 70 | 70   | 1    | 37   | 173  | 78   | 3    | 77.5 | 0.5  |\n",
       "| 71 | 71   | 1    | 31   | 177  | 78   | 3    | 75.2 | 2.8  |\n",
       "| 72 | 72   | 1    | 26   | 179  | 78   | 3    | 69.4 | 8.6  |\n",
       "| 73 | 73   | 1    | 40   | 179  | 79   | 3    | 74.5 | 4.5  |\n",
       "| 74 | 74   | 1    | 35   | 183  | 83   | 3    | 80.2 | 2.8  |\n",
       "| 75 | 75   | 1    | 49   | 177  | 84   | 3    | 79.9 | 4.1  |\n",
       "| 76 | 76   | 1    | 28   | 164  | 85   | 3    | 79.7 | 5.3  |\n",
       "| 77 | 77   | 1    | 40   | 167  | 87   | 3    | 77.8 | 9.2  |\n",
       "| 78 | 78   | 1    | 51   | 175  | 88   | 3    | 81.9 | 6.1  |\n",
       "\n"
      ],
      "text/plain": [
       "   Person gender Age Height pre.weight Diet weight6weeks diet3_diff\n",
       "67 67     1      36  155    71         3    68.5         2.5       \n",
       "68 68     1      47  179    73         3    72.1         0.9       \n",
       "69 69     1      29  166    76         3    72.5         3.5       \n",
       "70 70     1      37  173    78         3    77.5         0.5       \n",
       "71 71     1      31  177    78         3    75.2         2.8       \n",
       "72 72     1      26  179    78         3    69.4         8.6       \n",
       "73 73     1      40  179    79         3    74.5         4.5       \n",
       "74 74     1      35  183    83         3    80.2         2.8       \n",
       "75 75     1      49  177    84         3    79.9         4.1       \n",
       "76 76     1      28  164    85         3    79.7         5.3       \n",
       "77 77     1      40  167    87         3    77.8         9.2       \n",
       "78 78     1      51  175    88         3    81.9         6.1       "
      ]
     },
     "metadata": {},
     "output_type": "display_data"
    },
    {
     "data": {
      "text/html": [
       "<table>\n",
       "<thead><tr><th></th><th scope=col>Person</th><th scope=col>gender</th><th scope=col>Age</th><th scope=col>Height</th><th scope=col>pre.weight</th><th scope=col>Diet</th><th scope=col>weight6weeks</th><th scope=col>diet3_diff</th></tr></thead>\n",
       "<tbody>\n",
       "\t<tr><th scope=row>31</th><td>52  </td><td>0   </td><td>51  </td><td>165 </td><td>60  </td><td>3   </td><td>53.0</td><td>7.0 </td></tr>\n",
       "\t<tr><th scope=row>32</th><td>53  </td><td>0   </td><td>35  </td><td>169 </td><td>62  </td><td>3   </td><td>56.4</td><td>5.6 </td></tr>\n",
       "\t<tr><th scope=row>33</th><td>54  </td><td>0   </td><td>21  </td><td>159 </td><td>64  </td><td>3   </td><td>60.6</td><td>3.4 </td></tr>\n",
       "\t<tr><th scope=row>34</th><td>55  </td><td>0   </td><td>22  </td><td>169 </td><td>65  </td><td>3   </td><td>58.2</td><td>6.8 </td></tr>\n",
       "\t<tr><th scope=row>35</th><td>56  </td><td>0   </td><td>36  </td><td>160 </td><td>66  </td><td>3   </td><td>58.2</td><td>7.8 </td></tr>\n",
       "\t<tr><th scope=row>36</th><td>57  </td><td>0   </td><td>20  </td><td>169 </td><td>67  </td><td>3   </td><td>61.6</td><td>5.4 </td></tr>\n",
       "\t<tr><th scope=row>37</th><td>58  </td><td>0   </td><td>35  </td><td>163 </td><td>67  </td><td>3   </td><td>60.2</td><td>6.8 </td></tr>\n",
       "\t<tr><th scope=row>38</th><td>59  </td><td>0   </td><td>45  </td><td>155 </td><td>69  </td><td>3   </td><td>61.8</td><td>7.2 </td></tr>\n",
       "\t<tr><th scope=row>39</th><td>60  </td><td>0   </td><td>58  </td><td>141 </td><td>70  </td><td>3   </td><td>63.0</td><td>7.0 </td></tr>\n",
       "\t<tr><th scope=row>40</th><td>61  </td><td>0   </td><td>37  </td><td>170 </td><td>70  </td><td>3   </td><td>62.7</td><td>7.3 </td></tr>\n",
       "\t<tr><th scope=row>41</th><td>62  </td><td>0   </td><td>31  </td><td>170 </td><td>72  </td><td>3   </td><td>71.1</td><td>0.9 </td></tr>\n",
       "\t<tr><th scope=row>42</th><td>63  </td><td>0   </td><td>35  </td><td>171 </td><td>72  </td><td>3   </td><td>64.4</td><td>7.6 </td></tr>\n",
       "\t<tr><th scope=row>43</th><td>64  </td><td>0   </td><td>56  </td><td>171 </td><td>73  </td><td>3   </td><td>68.9</td><td>4.1 </td></tr>\n",
       "\t<tr><th scope=row>44</th><td>65  </td><td>0   </td><td>48  </td><td>153 </td><td>75  </td><td>3   </td><td>68.7</td><td>6.3 </td></tr>\n",
       "\t<tr><th scope=row>45</th><td>66  </td><td>0   </td><td>41  </td><td>157 </td><td>76  </td><td>3   </td><td>71.0</td><td>5.0 </td></tr>\n",
       "</tbody>\n",
       "</table>\n"
      ],
      "text/latex": [
       "\\begin{tabular}{r|llllllll}\n",
       "  & Person & gender & Age & Height & pre.weight & Diet & weight6weeks & diet3\\_diff\\\\\n",
       "\\hline\n",
       "\t31 & 52   & 0    & 51   & 165  & 60   & 3    & 53.0 & 7.0 \\\\\n",
       "\t32 & 53   & 0    & 35   & 169  & 62   & 3    & 56.4 & 5.6 \\\\\n",
       "\t33 & 54   & 0    & 21   & 159  & 64   & 3    & 60.6 & 3.4 \\\\\n",
       "\t34 & 55   & 0    & 22   & 169  & 65   & 3    & 58.2 & 6.8 \\\\\n",
       "\t35 & 56   & 0    & 36   & 160  & 66   & 3    & 58.2 & 7.8 \\\\\n",
       "\t36 & 57   & 0    & 20   & 169  & 67   & 3    & 61.6 & 5.4 \\\\\n",
       "\t37 & 58   & 0    & 35   & 163  & 67   & 3    & 60.2 & 6.8 \\\\\n",
       "\t38 & 59   & 0    & 45   & 155  & 69   & 3    & 61.8 & 7.2 \\\\\n",
       "\t39 & 60   & 0    & 58   & 141  & 70   & 3    & 63.0 & 7.0 \\\\\n",
       "\t40 & 61   & 0    & 37   & 170  & 70   & 3    & 62.7 & 7.3 \\\\\n",
       "\t41 & 62   & 0    & 31   & 170  & 72   & 3    & 71.1 & 0.9 \\\\\n",
       "\t42 & 63   & 0    & 35   & 171  & 72   & 3    & 64.4 & 7.6 \\\\\n",
       "\t43 & 64   & 0    & 56   & 171  & 73   & 3    & 68.9 & 4.1 \\\\\n",
       "\t44 & 65   & 0    & 48   & 153  & 75   & 3    & 68.7 & 6.3 \\\\\n",
       "\t45 & 66   & 0    & 41   & 157  & 76   & 3    & 71.0 & 5.0 \\\\\n",
       "\\end{tabular}\n"
      ],
      "text/markdown": [
       "\n",
       "| <!--/--> | Person | gender | Age | Height | pre.weight | Diet | weight6weeks | diet3_diff |\n",
       "|---|---|---|---|---|---|---|---|---|\n",
       "| 31 | 52   | 0    | 51   | 165  | 60   | 3    | 53.0 | 7.0  |\n",
       "| 32 | 53   | 0    | 35   | 169  | 62   | 3    | 56.4 | 5.6  |\n",
       "| 33 | 54   | 0    | 21   | 159  | 64   | 3    | 60.6 | 3.4  |\n",
       "| 34 | 55   | 0    | 22   | 169  | 65   | 3    | 58.2 | 6.8  |\n",
       "| 35 | 56   | 0    | 36   | 160  | 66   | 3    | 58.2 | 7.8  |\n",
       "| 36 | 57   | 0    | 20   | 169  | 67   | 3    | 61.6 | 5.4  |\n",
       "| 37 | 58   | 0    | 35   | 163  | 67   | 3    | 60.2 | 6.8  |\n",
       "| 38 | 59   | 0    | 45   | 155  | 69   | 3    | 61.8 | 7.2  |\n",
       "| 39 | 60   | 0    | 58   | 141  | 70   | 3    | 63.0 | 7.0  |\n",
       "| 40 | 61   | 0    | 37   | 170  | 70   | 3    | 62.7 | 7.3  |\n",
       "| 41 | 62   | 0    | 31   | 170  | 72   | 3    | 71.1 | 0.9  |\n",
       "| 42 | 63   | 0    | 35   | 171  | 72   | 3    | 64.4 | 7.6  |\n",
       "| 43 | 64   | 0    | 56   | 171  | 73   | 3    | 68.9 | 4.1  |\n",
       "| 44 | 65   | 0    | 48   | 153  | 75   | 3    | 68.7 | 6.3  |\n",
       "| 45 | 66   | 0    | 41   | 157  | 76   | 3    | 71.0 | 5.0  |\n",
       "\n"
      ],
      "text/plain": [
       "   Person gender Age Height pre.weight Diet weight6weeks diet3_diff\n",
       "31 52     0      51  165    60         3    53.0         7.0       \n",
       "32 53     0      35  169    62         3    56.4         5.6       \n",
       "33 54     0      21  159    64         3    60.6         3.4       \n",
       "34 55     0      22  169    65         3    58.2         6.8       \n",
       "35 56     0      36  160    66         3    58.2         7.8       \n",
       "36 57     0      20  169    67         3    61.6         5.4       \n",
       "37 58     0      35  163    67         3    60.2         6.8       \n",
       "38 59     0      45  155    69         3    61.8         7.2       \n",
       "39 60     0      58  141    70         3    63.0         7.0       \n",
       "40 61     0      37  170    70         3    62.7         7.3       \n",
       "41 62     0      31  170    72         3    71.1         0.9       \n",
       "42 63     0      35  171    72         3    64.4         7.6       \n",
       "43 64     0      56  171    73         3    68.9         4.1       \n",
       "44 65     0      48  153    75         3    68.7         6.3       \n",
       "45 66     0      41  157    76         3    71.0         5.0       "
      ]
     },
     "metadata": {},
     "output_type": "display_data"
    }
   ],
   "source": [
    "diet3_M = subset(diet3, gender == 1)\n",
    "diet3_M\n",
    "\n",
    "diet3_F = subset(diet3, gender == 0)\n",
    "diet3_F"
   ]
  },
  {
   "cell_type": "code",
   "execution_count": 47,
   "id": "cfbe200d",
   "metadata": {},
   "outputs": [
    {
     "data": {
      "text/plain": [
       "\n",
       "\tShapiro-Wilk normality test\n",
       "\n",
       "data:  diet3_M$diet3_diff\n",
       "W = 0.94143, p-value = 0.5168\n"
      ]
     },
     "metadata": {},
     "output_type": "display_data"
    },
    {
     "data": {
      "text/plain": [
       "\n",
       "\tShapiro-Wilk normality test\n",
       "\n",
       "data:  diet3_F$diet3_diff\n",
       "W = 0.8492, p-value = 0.01692\n"
      ]
     },
     "metadata": {},
     "output_type": "display_data"
    }
   ],
   "source": [
    "shapiro.test(diet3_M$diet3_diff)\n",
    "shapiro.test(diet3_F$diet3_diff)"
   ]
  },
  {
   "cell_type": "code",
   "execution_count": 48,
   "id": "3ab99282",
   "metadata": {},
   "outputs": [
    {
     "name": "stderr",
     "output_type": "stream",
     "text": [
      "Warning message in wilcox.test.default(diet3_M$diet3_diff, diet3_F$diet3_diff):\n",
      "\"cannot compute exact p-value with ties\""
     ]
    },
    {
     "data": {
      "text/plain": [
       "\n",
       "\tWilcoxon rank sum test with continuity correction\n",
       "\n",
       "data:  diet3_M$diet3_diff and diet3_F$diet3_diff\n",
       "W = 51, p-value = 0.0601\n",
       "alternative hypothesis: true location shift is not equal to 0\n"
      ]
     },
     "metadata": {},
     "output_type": "display_data"
    }
   ],
   "source": [
    "wilcox.test(diet3_M$diet3_diff, diet3_F$diet3_diff)"
   ]
  },
  {
   "cell_type": "code",
   "execution_count": 49,
   "id": "7488c6e7",
   "metadata": {},
   "outputs": [
    {
     "name": "stdout",
     "output_type": "stream",
     "text": [
      "\n",
      "  There is a binary version available but the source version is later:\n",
      "        binary source needs_compilation\n",
      "ggplot2  3.3.3  3.3.5             FALSE\n",
      "\n"
     ]
    },
    {
     "name": "stderr",
     "output_type": "stream",
     "text": [
      "installing the source package 'ggplot2'\n",
      "\n"
     ]
    }
   ],
   "source": [
    "install.packages(\"ggplot2\")"
   ]
  },
  {
   "cell_type": "code",
   "execution_count": 50,
   "id": "333f4a40",
   "metadata": {},
   "outputs": [],
   "source": [
    "library(\"ggplot2\")"
   ]
  },
  {
   "cell_type": "code",
   "execution_count": 51,
   "id": "9d993ff1",
   "metadata": {},
   "outputs": [
    {
     "data": {
      "image/png": "[encoded data removed]",
      "text/plain": [
       "plot without title"
      ]
     },
     "metadata": {},
     "output_type": "display_data"
    },
    {
     "data": {
      "image/png": "[encoded data removed]",
      "text/plain": [
       "plot without title"
      ]
     },
     "metadata": {},
     "output_type": "display_data"
    }
   ],
   "source": [
    "ggplot() +\n",
    "  geom_boxplot(data = diet1_M, aes(Diet,diet1_diff))+\n",
    "  geom_boxplot(data = diet2_M, aes(Diet,diet2_diff))+\n",
    "  geom_boxplot(data = diet3_M, aes(Diet,diet3_diff))+\n",
    "  labs(x = \"Dieta\", y = \"Diferencia antes y despues\")+\n",
    "  ggtitle(\"Hombres \")\n",
    "\n",
    "ggplot() +\n",
    "  geom_boxplot(data = diet1_F, aes(Diet,diet1_diff))+\n",
    "  geom_boxplot(data = diet2_F, aes(Diet,diet2_diff))+\n",
    "  geom_boxplot(data = diet3_F, aes(Diet,diet3_diff))+\n",
    "  labs(x = \"Dieta\", y = \"Diferencia antes y despues\")+\n",
    "  ggtitle(\"Mujeres \")"
   ]
  },
  {
   "cell_type": "code",
   "execution_count": 52,
   "id": "b0d8d482",
   "metadata": {},
   "outputs": [
    {
     "data": {
      "text/html": [
       "<table>\n",
       "<thead><tr><th></th><th scope=col>Person</th><th scope=col>gender</th><th scope=col>Age</th><th scope=col>Height</th><th scope=col>pre.weight</th><th scope=col>Diet</th><th scope=col>weight6weeks</th><th scope=col>diet1_diff</th></tr></thead>\n",
       "<tbody>\n",
       "\t<tr><th scope=row>3</th><td> 1  </td><td>0   </td><td>22  </td><td>159 </td><td>58  </td><td>1   </td><td>54.2</td><td> 3.8</td></tr>\n",
       "\t<tr><th scope=row>6</th><td> 4  </td><td>0   </td><td>33  </td><td>171 </td><td>64  </td><td>1   </td><td>61.1</td><td> 2.9</td></tr>\n",
       "\t<tr><th scope=row>9</th><td> 7  </td><td>0   </td><td>37  </td><td>174 </td><td>67  </td><td>1   </td><td>65.0</td><td> 2.0</td></tr>\n",
       "\t<tr><th scope=row>10</th><td> 8  </td><td>0   </td><td>28  </td><td>176 </td><td>69  </td><td>1   </td><td>60.5</td><td> 8.5</td></tr>\n",
       "\t<tr><th scope=row>11</th><td> 9  </td><td>0   </td><td>28  </td><td>165 </td><td>70  </td><td>1   </td><td>68.1</td><td> 1.9</td></tr>\n",
       "\t<tr><th scope=row>16</th><td>14  </td><td>0   </td><td>37  </td><td>167 </td><td>82  </td><td>1   </td><td>81.1</td><td> 0.9</td></tr>\n",
       "\t<tr><th scope=row>46</th><td>15  </td><td>1   </td><td>39  </td><td>168 </td><td>71  </td><td>1   </td><td>71.6</td><td>-0.6</td></tr>\n",
       "\t<tr><th scope=row>47</th><td>16  </td><td>1   </td><td>31  </td><td>158 </td><td>72  </td><td>1   </td><td>70.9</td><td> 1.1</td></tr>\n",
       "\t<tr><th scope=row>51</th><td>20  </td><td>1   </td><td>25  </td><td>165 </td><td>80  </td><td>1   </td><td>77.6</td><td> 2.4</td></tr>\n",
       "\t<tr><th scope=row>54</th><td>23  </td><td>1   </td><td>39  </td><td>166 </td><td>87  </td><td>1   </td><td>81.9</td><td> 5.1</td></tr>\n",
       "</tbody>\n",
       "</table>\n"
      ],
      "text/latex": [
       "\\begin{tabular}{r|llllllll}\n",
       "  & Person & gender & Age & Height & pre.weight & Diet & weight6weeks & diet1\\_diff\\\\\n",
       "\\hline\n",
       "\t3 &  1   & 0    & 22   & 159  & 58   & 1    & 54.2 &  3.8\\\\\n",
       "\t6 &  4   & 0    & 33   & 171  & 64   & 1    & 61.1 &  2.9\\\\\n",
       "\t9 &  7   & 0    & 37   & 174  & 67   & 1    & 65.0 &  2.0\\\\\n",
       "\t10 &  8   & 0    & 28   & 176  & 69   & 1    & 60.5 &  8.5\\\\\n",
       "\t11 &  9   & 0    & 28   & 165  & 70   & 1    & 68.1 &  1.9\\\\\n",
       "\t16 & 14   & 0    & 37   & 167  & 82   & 1    & 81.1 &  0.9\\\\\n",
       "\t46 & 15   & 1    & 39   & 168  & 71   & 1    & 71.6 & -0.6\\\\\n",
       "\t47 & 16   & 1    & 31   & 158  & 72   & 1    & 70.9 &  1.1\\\\\n",
       "\t51 & 20   & 1    & 25   & 165  & 80   & 1    & 77.6 &  2.4\\\\\n",
       "\t54 & 23   & 1    & 39   & 166  & 87   & 1    & 81.9 &  5.1\\\\\n",
       "\\end{tabular}\n"
      ],
      "text/markdown": [
       "\n",
       "| <!--/--> | Person | gender | Age | Height | pre.weight | Diet | weight6weeks | diet1_diff |\n",
       "|---|---|---|---|---|---|---|---|---|\n",
       "| 3 |  1   | 0    | 22   | 159  | 58   | 1    | 54.2 |  3.8 |\n",
       "| 6 |  4   | 0    | 33   | 171  | 64   | 1    | 61.1 |  2.9 |\n",
       "| 9 |  7   | 0    | 37   | 174  | 67   | 1    | 65.0 |  2.0 |\n",
       "| 10 |  8   | 0    | 28   | 176  | 69   | 1    | 60.5 |  8.5 |\n",
       "| 11 |  9   | 0    | 28   | 165  | 70   | 1    | 68.1 |  1.9 |\n",
       "| 16 | 14   | 0    | 37   | 167  | 82   | 1    | 81.1 |  0.9 |\n",
       "| 46 | 15   | 1    | 39   | 168  | 71   | 1    | 71.6 | -0.6 |\n",
       "| 47 | 16   | 1    | 31   | 158  | 72   | 1    | 70.9 |  1.1 |\n",
       "| 51 | 20   | 1    | 25   | 165  | 80   | 1    | 77.6 |  2.4 |\n",
       "| 54 | 23   | 1    | 39   | 166  | 87   | 1    | 81.9 |  5.1 |\n",
       "\n"
      ],
      "text/plain": [
       "   Person gender Age Height pre.weight Diet weight6weeks diet1_diff\n",
       "3   1     0      22  159    58         1    54.2          3.8      \n",
       "6   4     0      33  171    64         1    61.1          2.9      \n",
       "9   7     0      37  174    67         1    65.0          2.0      \n",
       "10  8     0      28  176    69         1    60.5          8.5      \n",
       "11  9     0      28  165    70         1    68.1          1.9      \n",
       "16 14     0      37  167    82         1    81.1          0.9      \n",
       "46 15     1      39  168    71         1    71.6         -0.6      \n",
       "47 16     1      31  158    72         1    70.9          1.1      \n",
       "51 20     1      25  165    80         1    77.6          2.4      \n",
       "54 23     1      39  166    87         1    81.9          5.1      "
      ]
     },
     "metadata": {},
     "output_type": "display_data"
    },
    {
     "data": {
      "text/html": [
       "10"
      ],
      "text/latex": [
       "10"
      ],
      "text/markdown": [
       "10"
      ],
      "text/plain": [
       "[1] 10"
      ]
     },
     "metadata": {},
     "output_type": "display_data"
    },
    {
     "data": {
      "text/html": [
       "<table>\n",
       "<thead><tr><th></th><th scope=col>Person</th><th scope=col>gender</th><th scope=col>Age</th><th scope=col>Height</th><th scope=col>pre.weight</th><th scope=col>Diet</th><th scope=col>weight6weeks</th><th scope=col>diet1_diff</th></tr></thead>\n",
       "<tbody>\n",
       "\t<tr><th scope=row>4</th><td> 2  </td><td>0   </td><td>46  </td><td>192 </td><td>60  </td><td>1   </td><td>54.0</td><td>6.0 </td></tr>\n",
       "\t<tr><th scope=row>5</th><td> 3  </td><td>0   </td><td>55  </td><td>170 </td><td>64  </td><td>1   </td><td>63.3</td><td>0.7 </td></tr>\n",
       "\t<tr><th scope=row>7</th><td> 5  </td><td>0   </td><td>50  </td><td>170 </td><td>65  </td><td>1   </td><td>62.2</td><td>2.8 </td></tr>\n",
       "\t<tr><th scope=row>8</th><td> 6  </td><td>0   </td><td>50  </td><td>201 </td><td>66  </td><td>1   </td><td>64.0</td><td>2.0 </td></tr>\n",
       "\t<tr><th scope=row>12</th><td>10  </td><td>0   </td><td>45  </td><td>165 </td><td>70  </td><td>1   </td><td>66.9</td><td>3.1 </td></tr>\n",
       "\t<tr><th scope=row>13</th><td>11  </td><td>0   </td><td>60  </td><td>173 </td><td>72  </td><td>1   </td><td>70.5</td><td>1.5 </td></tr>\n",
       "\t<tr><th scope=row>14</th><td>12  </td><td>0   </td><td>48  </td><td>156 </td><td>72  </td><td>1   </td><td>69.0</td><td>3.0 </td></tr>\n",
       "\t<tr><th scope=row>15</th><td>13  </td><td>0   </td><td>41  </td><td>163 </td><td>72  </td><td>1   </td><td>68.4</td><td>3.6 </td></tr>\n",
       "\t<tr><th scope=row>48</th><td>17  </td><td>1   </td><td>40  </td><td>173 </td><td>74  </td><td>1   </td><td>69.5</td><td>4.5 </td></tr>\n",
       "\t<tr><th scope=row>49</th><td>18  </td><td>1   </td><td>50  </td><td>160 </td><td>78  </td><td>1   </td><td>73.9</td><td>4.1 </td></tr>\n",
       "\t<tr><th scope=row>50</th><td>19  </td><td>1   </td><td>43  </td><td>162 </td><td>80  </td><td>1   </td><td>71.0</td><td>9.0 </td></tr>\n",
       "\t<tr><th scope=row>52</th><td>21  </td><td>1   </td><td>52  </td><td>177 </td><td>83  </td><td>1   </td><td>79.1</td><td>3.9 </td></tr>\n",
       "\t<tr><th scope=row>53</th><td>22  </td><td>1   </td><td>42  </td><td>166 </td><td>85  </td><td>1   </td><td>81.5</td><td>3.5 </td></tr>\n",
       "\t<tr><th scope=row>55</th><td>24  </td><td>1   </td><td>40  </td><td>190 </td><td>88  </td><td>1   </td><td>84.5</td><td>3.5 </td></tr>\n",
       "</tbody>\n",
       "</table>\n"
      ],
      "text/latex": [
       "\\begin{tabular}{r|llllllll}\n",
       "  & Person & gender & Age & Height & pre.weight & Diet & weight6weeks & diet1\\_diff\\\\\n",
       "\\hline\n",
       "\t4 &  2   & 0    & 46   & 192  & 60   & 1    & 54.0 & 6.0 \\\\\n",
       "\t5 &  3   & 0    & 55   & 170  & 64   & 1    & 63.3 & 0.7 \\\\\n",
       "\t7 &  5   & 0    & 50   & 170  & 65   & 1    & 62.2 & 2.8 \\\\\n",
       "\t8 &  6   & 0    & 50   & 201  & 66   & 1    & 64.0 & 2.0 \\\\\n",
       "\t12 & 10   & 0    & 45   & 165  & 70   & 1    & 66.9 & 3.1 \\\\\n",
       "\t13 & 11   & 0    & 60   & 173  & 72   & 1    & 70.5 & 1.5 \\\\\n",
       "\t14 & 12   & 0    & 48   & 156  & 72   & 1    & 69.0 & 3.0 \\\\\n",
       "\t15 & 13   & 0    & 41   & 163  & 72   & 1    & 68.4 & 3.6 \\\\\n",
       "\t48 & 17   & 1    & 40   & 173  & 74   & 1    & 69.5 & 4.5 \\\\\n",
       "\t49 & 18   & 1    & 50   & 160  & 78   & 1    & 73.9 & 4.1 \\\\\n",
       "\t50 & 19   & 1    & 43   & 162  & 80   & 1    & 71.0 & 9.0 \\\\\n",
       "\t52 & 21   & 1    & 52   & 177  & 83   & 1    & 79.1 & 3.9 \\\\\n",
       "\t53 & 22   & 1    & 42   & 166  & 85   & 1    & 81.5 & 3.5 \\\\\n",
       "\t55 & 24   & 1    & 40   & 190  & 88   & 1    & 84.5 & 3.5 \\\\\n",
       "\\end{tabular}\n"
      ],
      "text/markdown": [
       "\n",
       "| <!--/--> | Person | gender | Age | Height | pre.weight | Diet | weight6weeks | diet1_diff |\n",
       "|---|---|---|---|---|---|---|---|---|\n",
       "| 4 |  2   | 0    | 46   | 192  | 60   | 1    | 54.0 | 6.0  |\n",
       "| 5 |  3   | 0    | 55   | 170  | 64   | 1    | 63.3 | 0.7  |\n",
       "| 7 |  5   | 0    | 50   | 170  | 65   | 1    | 62.2 | 2.8  |\n",
       "| 8 |  6   | 0    | 50   | 201  | 66   | 1    | 64.0 | 2.0  |\n",
       "| 12 | 10   | 0    | 45   | 165  | 70   | 1    | 66.9 | 3.1  |\n",
       "| 13 | 11   | 0    | 60   | 173  | 72   | 1    | 70.5 | 1.5  |\n",
       "| 14 | 12   | 0    | 48   | 156  | 72   | 1    | 69.0 | 3.0  |\n",
       "| 15 | 13   | 0    | 41   | 163  | 72   | 1    | 68.4 | 3.6  |\n",
       "| 48 | 17   | 1    | 40   | 173  | 74   | 1    | 69.5 | 4.5  |\n",
       "| 49 | 18   | 1    | 50   | 160  | 78   | 1    | 73.9 | 4.1  |\n",
       "| 50 | 19   | 1    | 43   | 162  | 80   | 1    | 71.0 | 9.0  |\n",
       "| 52 | 21   | 1    | 52   | 177  | 83   | 1    | 79.1 | 3.9  |\n",
       "| 53 | 22   | 1    | 42   | 166  | 85   | 1    | 81.5 | 3.5  |\n",
       "| 55 | 24   | 1    | 40   | 190  | 88   | 1    | 84.5 | 3.5  |\n",
       "\n"
      ],
      "text/plain": [
       "   Person gender Age Height pre.weight Diet weight6weeks diet1_diff\n",
       "4   2     0      46  192    60         1    54.0         6.0       \n",
       "5   3     0      55  170    64         1    63.3         0.7       \n",
       "7   5     0      50  170    65         1    62.2         2.8       \n",
       "8   6     0      50  201    66         1    64.0         2.0       \n",
       "12 10     0      45  165    70         1    66.9         3.1       \n",
       "13 11     0      60  173    72         1    70.5         1.5       \n",
       "14 12     0      48  156    72         1    69.0         3.0       \n",
       "15 13     0      41  163    72         1    68.4         3.6       \n",
       "48 17     1      40  173    74         1    69.5         4.5       \n",
       "49 18     1      50  160    78         1    73.9         4.1       \n",
       "50 19     1      43  162    80         1    71.0         9.0       \n",
       "52 21     1      52  177    83         1    79.1         3.9       \n",
       "53 22     1      42  166    85         1    81.5         3.5       \n",
       "55 24     1      40  190    88         1    84.5         3.5       "
      ]
     },
     "metadata": {},
     "output_type": "display_data"
    },
    {
     "data": {
      "text/html": [
       "14"
      ],
      "text/latex": [
       "14"
      ],
      "text/markdown": [
       "14"
      ],
      "text/plain": [
       "[1] 14"
      ]
     },
     "metadata": {},
     "output_type": "display_data"
    }
   ],
   "source": [
    "lowage_diet1 = subset(diet1, Age <= 39)\n",
    "lowage_diet1\n",
    "nrow(lowage_diet1)\n",
    "\n",
    "highage_diet1 = subset(diet1, Age > 39)\n",
    "highage_diet1\n",
    "nrow(highage_diet1)"
   ]
  },
  {
   "cell_type": "code",
   "execution_count": 53,
   "id": "b91bf21c",
   "metadata": {},
   "outputs": [
    {
     "data": {
      "text/plain": [
       "\n",
       "\tShapiro-Wilk normality test\n",
       "\n",
       "data:  lowage_diet1$diet1_diff\n",
       "W = 0.91658, p-value = 0.3293\n"
      ]
     },
     "metadata": {},
     "output_type": "display_data"
    },
    {
     "data": {
      "text/plain": [
       "\n",
       "\tShapiro-Wilk normality test\n",
       "\n",
       "data:  highage_diet1$diet1_diff\n",
       "W = 0.89034, p-value = 0.08175\n"
      ]
     },
     "metadata": {},
     "output_type": "display_data"
    }
   ],
   "source": [
    "shapiro.test(lowage_diet1$diet1_diff)\n",
    "shapiro.test(highage_diet1$diet1_diff)"
   ]
  },
  {
   "cell_type": "code",
   "execution_count": 54,
   "id": "2f3f62b9",
   "metadata": {
    "scrolled": true
   },
   "outputs": [
    {
     "name": "stderr",
     "output_type": "stream",
     "text": [
      "Warning message in wilcox.test.default(lowage_diet1$diet1_diff, highage_diet1$diet1_diff):\n",
      "\"cannot compute exact p-value with ties\""
     ]
    },
    {
     "data": {
      "text/plain": [
       "\n",
       "\tWilcoxon rank sum test with continuity correction\n",
       "\n",
       "data:  lowage_diet1$diet1_diff and highage_diet1$diet1_diff\n",
       "W = 47.5, p-value = 0.1975\n",
       "alternative hypothesis: true location shift is not equal to 0\n"
      ]
     },
     "metadata": {},
     "output_type": "display_data"
    }
   ],
   "source": [
    "wilcox.test(lowage_diet1$diet1_diff, highage_diet1$diet1_diff)"
   ]
  },
  {
   "cell_type": "code",
   "execution_count": 55,
   "id": "a6e57362",
   "metadata": {
    "scrolled": true
   },
   "outputs": [
    {
     "data": {
      "text/html": [
       "<table>\n",
       "<thead><tr><th></th><th scope=col>Person</th><th scope=col>gender</th><th scope=col>Age</th><th scope=col>Height</th><th scope=col>pre.weight</th><th scope=col>Diet</th><th scope=col>weight6weeks</th><th scope=col>diet2_diff</th></tr></thead>\n",
       "<tbody>\n",
       "\t<tr><th scope=row>2</th><td>26   </td><td>NA   </td><td>32   </td><td>174  </td><td>103  </td><td>2    </td><td>103.0</td><td> 0.0 </td></tr>\n",
       "\t<tr><th scope=row>18</th><td>28   </td><td> 0   </td><td>37   </td><td>172  </td><td> 58  </td><td>2    </td><td> 56.0</td><td> 2.0 </td></tr>\n",
       "\t<tr><th scope=row>21</th><td>31   </td><td> 0   </td><td>20   </td><td>169  </td><td> 62  </td><td>2    </td><td> 55.0</td><td> 7.0 </td></tr>\n",
       "\t<tr><th scope=row>23</th><td>33   </td><td> 0   </td><td>31   </td><td>163  </td><td> 63  </td><td>2    </td><td> 60.3</td><td> 2.7 </td></tr>\n",
       "\t<tr><th scope=row>27</th><td>37   </td><td> 0   </td><td>16   </td><td>165  </td><td> 68  </td><td>2    </td><td> 63.8</td><td> 4.2 </td></tr>\n",
       "\t<tr><th scope=row>28</th><td>38   </td><td> 0   </td><td>37   </td><td>167  </td><td> 68  </td><td>2    </td><td> 63.3</td><td> 4.7 </td></tr>\n",
       "\t<tr><th scope=row>29</th><td>39   </td><td> 0   </td><td>30   </td><td>161  </td><td> 76  </td><td>2    </td><td> 72.7</td><td> 3.3 </td></tr>\n",
       "\t<tr><th scope=row>30</th><td>40   </td><td> 0   </td><td>29   </td><td>169  </td><td> 77  </td><td>2    </td><td> 77.5</td><td>-0.5 </td></tr>\n",
       "\t<tr><th scope=row>57</th><td>42   </td><td> 1   </td><td>38   </td><td>199  </td><td> 75  </td><td>2    </td><td> 72.6</td><td> 2.4 </td></tr>\n",
       "\t<tr><th scope=row>59</th><td>44   </td><td> 1   </td><td>33   </td><td>190  </td><td> 76  </td><td>2    </td><td> 72.5</td><td> 3.5 </td></tr>\n",
       "\t<tr><th scope=row>61</th><td>46   </td><td> 1   </td><td>37   </td><td>194  </td><td> 78  </td><td>2    </td><td> 76.3</td><td> 1.7 </td></tr>\n",
       "\t<tr><th scope=row>64</th><td>49   </td><td> 1   </td><td>37   </td><td>198  </td><td> 79  </td><td>2    </td><td> 71.1</td><td> 7.9 </td></tr>\n",
       "\t<tr><th scope=row>65</th><td>50   </td><td> 1   </td><td>39   </td><td>180  </td><td> 80  </td><td>2    </td><td> 81.4</td><td>-1.4 </td></tr>\n",
       "\t<tr><th scope=row>66</th><td>51   </td><td> 1   </td><td>31   </td><td>182  </td><td> 80  </td><td>2    </td><td> 75.7</td><td> 4.3 </td></tr>\n",
       "</tbody>\n",
       "</table>\n"
      ],
      "text/latex": [
       "\\begin{tabular}{r|llllllll}\n",
       "  & Person & gender & Age & Height & pre.weight & Diet & weight6weeks & diet2\\_diff\\\\\n",
       "\\hline\n",
       "\t2 & 26    & NA    & 32    & 174   & 103   & 2     & 103.0 &  0.0 \\\\\n",
       "\t18 & 28    &  0    & 37    & 172   &  58   & 2     &  56.0 &  2.0 \\\\\n",
       "\t21 & 31    &  0    & 20    & 169   &  62   & 2     &  55.0 &  7.0 \\\\\n",
       "\t23 & 33    &  0    & 31    & 163   &  63   & 2     &  60.3 &  2.7 \\\\\n",
       "\t27 & 37    &  0    & 16    & 165   &  68   & 2     &  63.8 &  4.2 \\\\\n",
       "\t28 & 38    &  0    & 37    & 167   &  68   & 2     &  63.3 &  4.7 \\\\\n",
       "\t29 & 39    &  0    & 30    & 161   &  76   & 2     &  72.7 &  3.3 \\\\\n",
       "\t30 & 40    &  0    & 29    & 169   &  77   & 2     &  77.5 & -0.5 \\\\\n",
       "\t57 & 42    &  1    & 38    & 199   &  75   & 2     &  72.6 &  2.4 \\\\\n",
       "\t59 & 44    &  1    & 33    & 190   &  76   & 2     &  72.5 &  3.5 \\\\\n",
       "\t61 & 46    &  1    & 37    & 194   &  78   & 2     &  76.3 &  1.7 \\\\\n",
       "\t64 & 49    &  1    & 37    & 198   &  79   & 2     &  71.1 &  7.9 \\\\\n",
       "\t65 & 50    &  1    & 39    & 180   &  80   & 2     &  81.4 & -1.4 \\\\\n",
       "\t66 & 51    &  1    & 31    & 182   &  80   & 2     &  75.7 &  4.3 \\\\\n",
       "\\end{tabular}\n"
      ],
      "text/markdown": [
       "\n",
       "| <!--/--> | Person | gender | Age | Height | pre.weight | Diet | weight6weeks | diet2_diff |\n",
       "|---|---|---|---|---|---|---|---|---|\n",
       "| 2 | 26    | NA    | 32    | 174   | 103   | 2     | 103.0 |  0.0  |\n",
       "| 18 | 28    |  0    | 37    | 172   |  58   | 2     |  56.0 |  2.0  |\n",
       "| 21 | 31    |  0    | 20    | 169   |  62   | 2     |  55.0 |  7.0  |\n",
       "| 23 | 33    |  0    | 31    | 163   |  63   | 2     |  60.3 |  2.7  |\n",
       "| 27 | 37    |  0    | 16    | 165   |  68   | 2     |  63.8 |  4.2  |\n",
       "| 28 | 38    |  0    | 37    | 167   |  68   | 2     |  63.3 |  4.7  |\n",
       "| 29 | 39    |  0    | 30    | 161   |  76   | 2     |  72.7 |  3.3  |\n",
       "| 30 | 40    |  0    | 29    | 169   |  77   | 2     |  77.5 | -0.5  |\n",
       "| 57 | 42    |  1    | 38    | 199   |  75   | 2     |  72.6 |  2.4  |\n",
       "| 59 | 44    |  1    | 33    | 190   |  76   | 2     |  72.5 |  3.5  |\n",
       "| 61 | 46    |  1    | 37    | 194   |  78   | 2     |  76.3 |  1.7  |\n",
       "| 64 | 49    |  1    | 37    | 198   |  79   | 2     |  71.1 |  7.9  |\n",
       "| 65 | 50    |  1    | 39    | 180   |  80   | 2     |  81.4 | -1.4  |\n",
       "| 66 | 51    |  1    | 31    | 182   |  80   | 2     |  75.7 |  4.3  |\n",
       "\n"
      ],
      "text/plain": [
       "   Person gender Age Height pre.weight Diet weight6weeks diet2_diff\n",
       "2  26     NA     32  174    103        2    103.0         0.0      \n",
       "18 28      0     37  172     58        2     56.0         2.0      \n",
       "21 31      0     20  169     62        2     55.0         7.0      \n",
       "23 33      0     31  163     63        2     60.3         2.7      \n",
       "27 37      0     16  165     68        2     63.8         4.2      \n",
       "28 38      0     37  167     68        2     63.3         4.7      \n",
       "29 39      0     30  161     76        2     72.7         3.3      \n",
       "30 40      0     29  169     77        2     77.5        -0.5      \n",
       "57 42      1     38  199     75        2     72.6         2.4      \n",
       "59 44      1     33  190     76        2     72.5         3.5      \n",
       "61 46      1     37  194     78        2     76.3         1.7      \n",
       "64 49      1     37  198     79        2     71.1         7.9      \n",
       "65 50      1     39  180     80        2     81.4        -1.4      \n",
       "66 51      1     31  182     80        2     75.7         4.3      "
      ]
     },
     "metadata": {},
     "output_type": "display_data"
    },
    {
     "data": {
      "text/html": [
       "14"
      ],
      "text/latex": [
       "14"
      ],
      "text/markdown": [
       "14"
      ],
      "text/plain": [
       "[1] 14"
      ]
     },
     "metadata": {},
     "output_type": "display_data"
    },
    {
     "data": {
      "text/html": [
       "<table>\n",
       "<thead><tr><th></th><th scope=col>Person</th><th scope=col>gender</th><th scope=col>Age</th><th scope=col>Height</th><th scope=col>pre.weight</th><th scope=col>Diet</th><th scope=col>weight6weeks</th><th scope=col>diet2_diff</th></tr></thead>\n",
       "<tbody>\n",
       "\t<tr><th scope=row>1</th><td>25  </td><td>NA  </td><td>41  </td><td>171 </td><td>60  </td><td>2   </td><td>60.0</td><td> 0.0</td></tr>\n",
       "\t<tr><th scope=row>17</th><td>27  </td><td> 0  </td><td>44  </td><td>174 </td><td>58  </td><td>2   </td><td>60.1</td><td>-2.1</td></tr>\n",
       "\t<tr><th scope=row>19</th><td>29  </td><td> 0  </td><td>41  </td><td>165 </td><td>59  </td><td>2   </td><td>57.3</td><td> 1.7</td></tr>\n",
       "\t<tr><th scope=row>20</th><td>30  </td><td> 0  </td><td>43  </td><td>171 </td><td>61  </td><td>2   </td><td>56.7</td><td> 4.3</td></tr>\n",
       "\t<tr><th scope=row>22</th><td>32  </td><td> 0  </td><td>51  </td><td>174 </td><td>63  </td><td>2   </td><td>62.4</td><td> 0.6</td></tr>\n",
       "\t<tr><th scope=row>24</th><td>34  </td><td> 0  </td><td>54  </td><td>173 </td><td>63  </td><td>2   </td><td>59.4</td><td> 3.6</td></tr>\n",
       "\t<tr><th scope=row>25</th><td>35  </td><td> 0  </td><td>50  </td><td>166 </td><td>65  </td><td>2   </td><td>62.0</td><td> 3.0</td></tr>\n",
       "\t<tr><th scope=row>26</th><td>36  </td><td> 0  </td><td>48  </td><td>163 </td><td>66  </td><td>2   </td><td>64.0</td><td> 2.0</td></tr>\n",
       "\t<tr><th scope=row>56</th><td>41  </td><td> 1  </td><td>51  </td><td>191 </td><td>71  </td><td>2   </td><td>66.8</td><td> 4.2</td></tr>\n",
       "\t<tr><th scope=row>58</th><td>43  </td><td> 1  </td><td>54  </td><td>196 </td><td>75  </td><td>2   </td><td>69.2</td><td> 5.8</td></tr>\n",
       "\t<tr><th scope=row>60</th><td>45  </td><td> 1  </td><td>45  </td><td>160 </td><td>78  </td><td>2   </td><td>72.7</td><td> 5.3</td></tr>\n",
       "\t<tr><th scope=row>62</th><td>47  </td><td> 1  </td><td>44  </td><td>163 </td><td>79  </td><td>2   </td><td>73.6</td><td> 5.4</td></tr>\n",
       "\t<tr><th scope=row>63</th><td>48  </td><td> 1  </td><td>40  </td><td>171 </td><td>79  </td><td>2   </td><td>72.9</td><td> 6.1</td></tr>\n",
       "</tbody>\n",
       "</table>\n"
      ],
      "text/latex": [
       "\\begin{tabular}{r|llllllll}\n",
       "  & Person & gender & Age & Height & pre.weight & Diet & weight6weeks & diet2\\_diff\\\\\n",
       "\\hline\n",
       "\t1 & 25   & NA   & 41   & 171  & 60   & 2    & 60.0 &  0.0\\\\\n",
       "\t17 & 27   &  0   & 44   & 174  & 58   & 2    & 60.1 & -2.1\\\\\n",
       "\t19 & 29   &  0   & 41   & 165  & 59   & 2    & 57.3 &  1.7\\\\\n",
       "\t20 & 30   &  0   & 43   & 171  & 61   & 2    & 56.7 &  4.3\\\\\n",
       "\t22 & 32   &  0   & 51   & 174  & 63   & 2    & 62.4 &  0.6\\\\\n",
       "\t24 & 34   &  0   & 54   & 173  & 63   & 2    & 59.4 &  3.6\\\\\n",
       "\t25 & 35   &  0   & 50   & 166  & 65   & 2    & 62.0 &  3.0\\\\\n",
       "\t26 & 36   &  0   & 48   & 163  & 66   & 2    & 64.0 &  2.0\\\\\n",
       "\t56 & 41   &  1   & 51   & 191  & 71   & 2    & 66.8 &  4.2\\\\\n",
       "\t58 & 43   &  1   & 54   & 196  & 75   & 2    & 69.2 &  5.8\\\\\n",
       "\t60 & 45   &  1   & 45   & 160  & 78   & 2    & 72.7 &  5.3\\\\\n",
       "\t62 & 47   &  1   & 44   & 163  & 79   & 2    & 73.6 &  5.4\\\\\n",
       "\t63 & 48   &  1   & 40   & 171  & 79   & 2    & 72.9 &  6.1\\\\\n",
       "\\end{tabular}\n"
      ],
      "text/markdown": [
       "\n",
       "| <!--/--> | Person | gender | Age | Height | pre.weight | Diet | weight6weeks | diet2_diff |\n",
       "|---|---|---|---|---|---|---|---|---|\n",
       "| 1 | 25   | NA   | 41   | 171  | 60   | 2    | 60.0 |  0.0 |\n",
       "| 17 | 27   |  0   | 44   | 174  | 58   | 2    | 60.1 | -2.1 |\n",
       "| 19 | 29   |  0   | 41   | 165  | 59   | 2    | 57.3 |  1.7 |\n",
       "| 20 | 30   |  0   | 43   | 171  | 61   | 2    | 56.7 |  4.3 |\n",
       "| 22 | 32   |  0   | 51   | 174  | 63   | 2    | 62.4 |  0.6 |\n",
       "| 24 | 34   |  0   | 54   | 173  | 63   | 2    | 59.4 |  3.6 |\n",
       "| 25 | 35   |  0   | 50   | 166  | 65   | 2    | 62.0 |  3.0 |\n",
       "| 26 | 36   |  0   | 48   | 163  | 66   | 2    | 64.0 |  2.0 |\n",
       "| 56 | 41   |  1   | 51   | 191  | 71   | 2    | 66.8 |  4.2 |\n",
       "| 58 | 43   |  1   | 54   | 196  | 75   | 2    | 69.2 |  5.8 |\n",
       "| 60 | 45   |  1   | 45   | 160  | 78   | 2    | 72.7 |  5.3 |\n",
       "| 62 | 47   |  1   | 44   | 163  | 79   | 2    | 73.6 |  5.4 |\n",
       "| 63 | 48   |  1   | 40   | 171  | 79   | 2    | 72.9 |  6.1 |\n",
       "\n"
      ],
      "text/plain": [
       "   Person gender Age Height pre.weight Diet weight6weeks diet2_diff\n",
       "1  25     NA     41  171    60         2    60.0          0.0      \n",
       "17 27      0     44  174    58         2    60.1         -2.1      \n",
       "19 29      0     41  165    59         2    57.3          1.7      \n",
       "20 30      0     43  171    61         2    56.7          4.3      \n",
       "22 32      0     51  174    63         2    62.4          0.6      \n",
       "24 34      0     54  173    63         2    59.4          3.6      \n",
       "25 35      0     50  166    65         2    62.0          3.0      \n",
       "26 36      0     48  163    66         2    64.0          2.0      \n",
       "56 41      1     51  191    71         2    66.8          4.2      \n",
       "58 43      1     54  196    75         2    69.2          5.8      \n",
       "60 45      1     45  160    78         2    72.7          5.3      \n",
       "62 47      1     44  163    79         2    73.6          5.4      \n",
       "63 48      1     40  171    79         2    72.9          6.1      "
      ]
     },
     "metadata": {},
     "output_type": "display_data"
    },
    {
     "data": {
      "text/html": [
       "13"
      ],
      "text/latex": [
       "13"
      ],
      "text/markdown": [
       "13"
      ],
      "text/plain": [
       "[1] 13"
      ]
     },
     "metadata": {},
     "output_type": "display_data"
    }
   ],
   "source": [
    "lowage_diet2 = subset(diet2, Age <= 39)\n",
    "lowage_diet2\n",
    "nrow(lowage_diet2)\n",
    "\n",
    "highage_diet2 = subset(diet2, Age > 39)\n",
    "highage_diet2\n",
    "nrow(highage_diet2)"
   ]
  },
  {
   "cell_type": "code",
   "execution_count": 56,
   "id": "204ad620",
   "metadata": {},
   "outputs": [
    {
     "data": {
      "text/plain": [
       "\n",
       "\tShapiro-Wilk normality test\n",
       "\n",
       "data:  lowage_diet2$diet2_diff\n",
       "W = 0.9729, p-value = 0.9129\n"
      ]
     },
     "metadata": {},
     "output_type": "display_data"
    },
    {
     "data": {
      "text/plain": [
       "\n",
       "\tShapiro-Wilk normality test\n",
       "\n",
       "data:  highage_diet2$diet2_diff\n",
       "W = 0.93872, p-value = 0.4405\n"
      ]
     },
     "metadata": {},
     "output_type": "display_data"
    }
   ],
   "source": [
    "shapiro.test(lowage_diet2$diet2_diff)\n",
    "shapiro.test(highage_diet2$diet2_diff)"
   ]
  },
  {
   "cell_type": "code",
   "execution_count": 57,
   "id": "80f2869f",
   "metadata": {
    "scrolled": true
   },
   "outputs": [
    {
     "name": "stderr",
     "output_type": "stream",
     "text": [
      "Warning message in wilcox.test.default(lowage_diet2$diet2_diff, highage_diet2$diet2_diff):\n",
      "\"cannot compute exact p-value with ties\""
     ]
    },
    {
     "data": {
      "text/plain": [
       "\n",
       "\tWilcoxon rank sum test with continuity correction\n",
       "\n",
       "data:  lowage_diet2$diet2_diff and highage_diet2$diet2_diff\n",
       "W = 84.5, p-value = 0.7708\n",
       "alternative hypothesis: true location shift is not equal to 0\n"
      ]
     },
     "metadata": {},
     "output_type": "display_data"
    }
   ],
   "source": [
    "wilcox.test(lowage_diet2$diet2_diff, highage_diet2$diet2_diff)"
   ]
  },
  {
   "cell_type": "code",
   "execution_count": 58,
   "id": "c2d44e3c",
   "metadata": {
    "scrolled": true
   },
   "outputs": [
    {
     "data": {
      "text/html": [
       "<table>\n",
       "<thead><tr><th></th><th scope=col>Person</th><th scope=col>gender</th><th scope=col>Age</th><th scope=col>Height</th><th scope=col>pre.weight</th><th scope=col>Diet</th><th scope=col>weight6weeks</th><th scope=col>diet3_diff</th></tr></thead>\n",
       "<tbody>\n",
       "\t<tr><th scope=row>32</th><td>53  </td><td>0   </td><td>35  </td><td>169 </td><td>62  </td><td>3   </td><td>56.4</td><td>5.6 </td></tr>\n",
       "\t<tr><th scope=row>33</th><td>54  </td><td>0   </td><td>21  </td><td>159 </td><td>64  </td><td>3   </td><td>60.6</td><td>3.4 </td></tr>\n",
       "\t<tr><th scope=row>34</th><td>55  </td><td>0   </td><td>22  </td><td>169 </td><td>65  </td><td>3   </td><td>58.2</td><td>6.8 </td></tr>\n",
       "\t<tr><th scope=row>35</th><td>56  </td><td>0   </td><td>36  </td><td>160 </td><td>66  </td><td>3   </td><td>58.2</td><td>7.8 </td></tr>\n",
       "\t<tr><th scope=row>36</th><td>57  </td><td>0   </td><td>20  </td><td>169 </td><td>67  </td><td>3   </td><td>61.6</td><td>5.4 </td></tr>\n",
       "\t<tr><th scope=row>37</th><td>58  </td><td>0   </td><td>35  </td><td>163 </td><td>67  </td><td>3   </td><td>60.2</td><td>6.8 </td></tr>\n",
       "\t<tr><th scope=row>40</th><td>61  </td><td>0   </td><td>37  </td><td>170 </td><td>70  </td><td>3   </td><td>62.7</td><td>7.3 </td></tr>\n",
       "\t<tr><th scope=row>41</th><td>62  </td><td>0   </td><td>31  </td><td>170 </td><td>72  </td><td>3   </td><td>71.1</td><td>0.9 </td></tr>\n",
       "\t<tr><th scope=row>42</th><td>63  </td><td>0   </td><td>35  </td><td>171 </td><td>72  </td><td>3   </td><td>64.4</td><td>7.6 </td></tr>\n",
       "\t<tr><th scope=row>67</th><td>67  </td><td>1   </td><td>36  </td><td>155 </td><td>71  </td><td>3   </td><td>68.5</td><td>2.5 </td></tr>\n",
       "\t<tr><th scope=row>69</th><td>69  </td><td>1   </td><td>29  </td><td>166 </td><td>76  </td><td>3   </td><td>72.5</td><td>3.5 </td></tr>\n",
       "\t<tr><th scope=row>70</th><td>70  </td><td>1   </td><td>37  </td><td>173 </td><td>78  </td><td>3   </td><td>77.5</td><td>0.5 </td></tr>\n",
       "\t<tr><th scope=row>71</th><td>71  </td><td>1   </td><td>31  </td><td>177 </td><td>78  </td><td>3   </td><td>75.2</td><td>2.8 </td></tr>\n",
       "\t<tr><th scope=row>72</th><td>72  </td><td>1   </td><td>26  </td><td>179 </td><td>78  </td><td>3   </td><td>69.4</td><td>8.6 </td></tr>\n",
       "\t<tr><th scope=row>74</th><td>74  </td><td>1   </td><td>35  </td><td>183 </td><td>83  </td><td>3   </td><td>80.2</td><td>2.8 </td></tr>\n",
       "\t<tr><th scope=row>76</th><td>76  </td><td>1   </td><td>28  </td><td>164 </td><td>85  </td><td>3   </td><td>79.7</td><td>5.3 </td></tr>\n",
       "</tbody>\n",
       "</table>\n"
      ],
      "text/latex": [
       "\\begin{tabular}{r|llllllll}\n",
       "  & Person & gender & Age & Height & pre.weight & Diet & weight6weeks & diet3\\_diff\\\\\n",
       "\\hline\n",
       "\t32 & 53   & 0    & 35   & 169  & 62   & 3    & 56.4 & 5.6 \\\\\n",
       "\t33 & 54   & 0    & 21   & 159  & 64   & 3    & 60.6 & 3.4 \\\\\n",
       "\t34 & 55   & 0    & 22   & 169  & 65   & 3    & 58.2 & 6.8 \\\\\n",
       "\t35 & 56   & 0    & 36   & 160  & 66   & 3    & 58.2 & 7.8 \\\\\n",
       "\t36 & 57   & 0    & 20   & 169  & 67   & 3    & 61.6 & 5.4 \\\\\n",
       "\t37 & 58   & 0    & 35   & 163  & 67   & 3    & 60.2 & 6.8 \\\\\n",
       "\t40 & 61   & 0    & 37   & 170  & 70   & 3    & 62.7 & 7.3 \\\\\n",
       "\t41 & 62   & 0    & 31   & 170  & 72   & 3    & 71.1 & 0.9 \\\\\n",
       "\t42 & 63   & 0    & 35   & 171  & 72   & 3    & 64.4 & 7.6 \\\\\n",
       "\t67 & 67   & 1    & 36   & 155  & 71   & 3    & 68.5 & 2.5 \\\\\n",
       "\t69 & 69   & 1    & 29   & 166  & 76   & 3    & 72.5 & 3.5 \\\\\n",
       "\t70 & 70   & 1    & 37   & 173  & 78   & 3    & 77.5 & 0.5 \\\\\n",
       "\t71 & 71   & 1    & 31   & 177  & 78   & 3    & 75.2 & 2.8 \\\\\n",
       "\t72 & 72   & 1    & 26   & 179  & 78   & 3    & 69.4 & 8.6 \\\\\n",
       "\t74 & 74   & 1    & 35   & 183  & 83   & 3    & 80.2 & 2.8 \\\\\n",
       "\t76 & 76   & 1    & 28   & 164  & 85   & 3    & 79.7 & 5.3 \\\\\n",
       "\\end{tabular}\n"
      ],
      "text/markdown": [
       "\n",
       "| <!--/--> | Person | gender | Age | Height | pre.weight | Diet | weight6weeks | diet3_diff |\n",
       "|---|---|---|---|---|---|---|---|---|\n",
       "| 32 | 53   | 0    | 35   | 169  | 62   | 3    | 56.4 | 5.6  |\n",
       "| 33 | 54   | 0    | 21   | 159  | 64   | 3    | 60.6 | 3.4  |\n",
       "| 34 | 55   | 0    | 22   | 169  | 65   | 3    | 58.2 | 6.8  |\n",
       "| 35 | 56   | 0    | 36   | 160  | 66   | 3    | 58.2 | 7.8  |\n",
       "| 36 | 57   | 0    | 20   | 169  | 67   | 3    | 61.6 | 5.4  |\n",
       "| 37 | 58   | 0    | 35   | 163  | 67   | 3    | 60.2 | 6.8  |\n",
       "| 40 | 61   | 0    | 37   | 170  | 70   | 3    | 62.7 | 7.3  |\n",
       "| 41 | 62   | 0    | 31   | 170  | 72   | 3    | 71.1 | 0.9  |\n",
       "| 42 | 63   | 0    | 35   | 171  | 72   | 3    | 64.4 | 7.6  |\n",
       "| 67 | 67   | 1    | 36   | 155  | 71   | 3    | 68.5 | 2.5  |\n",
       "| 69 | 69   | 1    | 29   | 166  | 76   | 3    | 72.5 | 3.5  |\n",
       "| 70 | 70   | 1    | 37   | 173  | 78   | 3    | 77.5 | 0.5  |\n",
       "| 71 | 71   | 1    | 31   | 177  | 78   | 3    | 75.2 | 2.8  |\n",
       "| 72 | 72   | 1    | 26   | 179  | 78   | 3    | 69.4 | 8.6  |\n",
       "| 74 | 74   | 1    | 35   | 183  | 83   | 3    | 80.2 | 2.8  |\n",
       "| 76 | 76   | 1    | 28   | 164  | 85   | 3    | 79.7 | 5.3  |\n",
       "\n"
      ],
      "text/plain": [
       "   Person gender Age Height pre.weight Diet weight6weeks diet3_diff\n",
       "32 53     0      35  169    62         3    56.4         5.6       \n",
       "33 54     0      21  159    64         3    60.6         3.4       \n",
       "34 55     0      22  169    65         3    58.2         6.8       \n",
       "35 56     0      36  160    66         3    58.2         7.8       \n",
       "36 57     0      20  169    67         3    61.6         5.4       \n",
       "37 58     0      35  163    67         3    60.2         6.8       \n",
       "40 61     0      37  170    70         3    62.7         7.3       \n",
       "41 62     0      31  170    72         3    71.1         0.9       \n",
       "42 63     0      35  171    72         3    64.4         7.6       \n",
       "67 67     1      36  155    71         3    68.5         2.5       \n",
       "69 69     1      29  166    76         3    72.5         3.5       \n",
       "70 70     1      37  173    78         3    77.5         0.5       \n",
       "71 71     1      31  177    78         3    75.2         2.8       \n",
       "72 72     1      26  179    78         3    69.4         8.6       \n",
       "74 74     1      35  183    83         3    80.2         2.8       \n",
       "76 76     1      28  164    85         3    79.7         5.3       "
      ]
     },
     "metadata": {},
     "output_type": "display_data"
    },
    {
     "data": {
      "text/html": [
       "16"
      ],
      "text/latex": [
       "16"
      ],
      "text/markdown": [
       "16"
      ],
      "text/plain": [
       "[1] 16"
      ]
     },
     "metadata": {},
     "output_type": "display_data"
    },
    {
     "data": {
      "text/html": [
       "<table>\n",
       "<thead><tr><th></th><th scope=col>Person</th><th scope=col>gender</th><th scope=col>Age</th><th scope=col>Height</th><th scope=col>pre.weight</th><th scope=col>Diet</th><th scope=col>weight6weeks</th><th scope=col>diet3_diff</th></tr></thead>\n",
       "<tbody>\n",
       "\t<tr><th scope=row>31</th><td>52  </td><td>0   </td><td>51  </td><td>165 </td><td>60  </td><td>3   </td><td>53.0</td><td>7.0 </td></tr>\n",
       "\t<tr><th scope=row>38</th><td>59  </td><td>0   </td><td>45  </td><td>155 </td><td>69  </td><td>3   </td><td>61.8</td><td>7.2 </td></tr>\n",
       "\t<tr><th scope=row>39</th><td>60  </td><td>0   </td><td>58  </td><td>141 </td><td>70  </td><td>3   </td><td>63.0</td><td>7.0 </td></tr>\n",
       "\t<tr><th scope=row>43</th><td>64  </td><td>0   </td><td>56  </td><td>171 </td><td>73  </td><td>3   </td><td>68.9</td><td>4.1 </td></tr>\n",
       "\t<tr><th scope=row>44</th><td>65  </td><td>0   </td><td>48  </td><td>153 </td><td>75  </td><td>3   </td><td>68.7</td><td>6.3 </td></tr>\n",
       "\t<tr><th scope=row>45</th><td>66  </td><td>0   </td><td>41  </td><td>157 </td><td>76  </td><td>3   </td><td>71.0</td><td>5.0 </td></tr>\n",
       "\t<tr><th scope=row>68</th><td>68  </td><td>1   </td><td>47  </td><td>179 </td><td>73  </td><td>3   </td><td>72.1</td><td>0.9 </td></tr>\n",
       "\t<tr><th scope=row>73</th><td>73  </td><td>1   </td><td>40  </td><td>179 </td><td>79  </td><td>3   </td><td>74.5</td><td>4.5 </td></tr>\n",
       "\t<tr><th scope=row>75</th><td>75  </td><td>1   </td><td>49  </td><td>177 </td><td>84  </td><td>3   </td><td>79.9</td><td>4.1 </td></tr>\n",
       "\t<tr><th scope=row>77</th><td>77  </td><td>1   </td><td>40  </td><td>167 </td><td>87  </td><td>3   </td><td>77.8</td><td>9.2 </td></tr>\n",
       "\t<tr><th scope=row>78</th><td>78  </td><td>1   </td><td>51  </td><td>175 </td><td>88  </td><td>3   </td><td>81.9</td><td>6.1 </td></tr>\n",
       "</tbody>\n",
       "</table>\n"
      ],
      "text/latex": [
       "\\begin{tabular}{r|llllllll}\n",
       "  & Person & gender & Age & Height & pre.weight & Diet & weight6weeks & diet3\\_diff\\\\\n",
       "\\hline\n",
       "\t31 & 52   & 0    & 51   & 165  & 60   & 3    & 53.0 & 7.0 \\\\\n",
       "\t38 & 59   & 0    & 45   & 155  & 69   & 3    & 61.8 & 7.2 \\\\\n",
       "\t39 & 60   & 0    & 58   & 141  & 70   & 3    & 63.0 & 7.0 \\\\\n",
       "\t43 & 64   & 0    & 56   & 171  & 73   & 3    & 68.9 & 4.1 \\\\\n",
       "\t44 & 65   & 0    & 48   & 153  & 75   & 3    & 68.7 & 6.3 \\\\\n",
       "\t45 & 66   & 0    & 41   & 157  & 76   & 3    & 71.0 & 5.0 \\\\\n",
       "\t68 & 68   & 1    & 47   & 179  & 73   & 3    & 72.1 & 0.9 \\\\\n",
       "\t73 & 73   & 1    & 40   & 179  & 79   & 3    & 74.5 & 4.5 \\\\\n",
       "\t75 & 75   & 1    & 49   & 177  & 84   & 3    & 79.9 & 4.1 \\\\\n",
       "\t77 & 77   & 1    & 40   & 167  & 87   & 3    & 77.8 & 9.2 \\\\\n",
       "\t78 & 78   & 1    & 51   & 175  & 88   & 3    & 81.9 & 6.1 \\\\\n",
       "\\end{tabular}\n"
      ],
      "text/markdown": [
       "\n",
       "| <!--/--> | Person | gender | Age | Height | pre.weight | Diet | weight6weeks | diet3_diff |\n",
       "|---|---|---|---|---|---|---|---|---|\n",
       "| 31 | 52   | 0    | 51   | 165  | 60   | 3    | 53.0 | 7.0  |\n",
       "| 38 | 59   | 0    | 45   | 155  | 69   | 3    | 61.8 | 7.2  |\n",
       "| 39 | 60   | 0    | 58   | 141  | 70   | 3    | 63.0 | 7.0  |\n",
       "| 43 | 64   | 0    | 56   | 171  | 73   | 3    | 68.9 | 4.1  |\n",
       "| 44 | 65   | 0    | 48   | 153  | 75   | 3    | 68.7 | 6.3  |\n",
       "| 45 | 66   | 0    | 41   | 157  | 76   | 3    | 71.0 | 5.0  |\n",
       "| 68 | 68   | 1    | 47   | 179  | 73   | 3    | 72.1 | 0.9  |\n",
       "| 73 | 73   | 1    | 40   | 179  | 79   | 3    | 74.5 | 4.5  |\n",
       "| 75 | 75   | 1    | 49   | 177  | 84   | 3    | 79.9 | 4.1  |\n",
       "| 77 | 77   | 1    | 40   | 167  | 87   | 3    | 77.8 | 9.2  |\n",
       "| 78 | 78   | 1    | 51   | 175  | 88   | 3    | 81.9 | 6.1  |\n",
       "\n"
      ],
      "text/plain": [
       "   Person gender Age Height pre.weight Diet weight6weeks diet3_diff\n",
       "31 52     0      51  165    60         3    53.0         7.0       \n",
       "38 59     0      45  155    69         3    61.8         7.2       \n",
       "39 60     0      58  141    70         3    63.0         7.0       \n",
       "43 64     0      56  171    73         3    68.9         4.1       \n",
       "44 65     0      48  153    75         3    68.7         6.3       \n",
       "45 66     0      41  157    76         3    71.0         5.0       \n",
       "68 68     1      47  179    73         3    72.1         0.9       \n",
       "73 73     1      40  179    79         3    74.5         4.5       \n",
       "75 75     1      49  177    84         3    79.9         4.1       \n",
       "77 77     1      40  167    87         3    77.8         9.2       \n",
       "78 78     1      51  175    88         3    81.9         6.1       "
      ]
     },
     "metadata": {},
     "output_type": "display_data"
    },
    {
     "data": {
      "text/html": [
       "11"
      ],
      "text/latex": [
       "11"
      ],
      "text/markdown": [
       "11"
      ],
      "text/plain": [
       "[1] 11"
      ]
     },
     "metadata": {},
     "output_type": "display_data"
    }
   ],
   "source": [
    "lowage_diet3 = subset(diet3, Age <= 39)\n",
    "lowage_diet3\n",
    "nrow(lowage_diet3)\n",
    "\n",
    "highage_diet3 = subset(diet3, Age > 39)\n",
    "highage_diet3\n",
    "nrow(highage_diet3)"
   ]
  },
  {
   "cell_type": "code",
   "execution_count": 59,
   "id": "9133d20b",
   "metadata": {},
   "outputs": [
    {
     "data": {
      "text/plain": [
       "\n",
       "\tShapiro-Wilk normality test\n",
       "\n",
       "data:  lowage_diet3$diet3_diff\n",
       "W = 0.94083, p-value = 0.3592\n"
      ]
     },
     "metadata": {},
     "output_type": "display_data"
    },
    {
     "data": {
      "text/plain": [
       "\n",
       "\tShapiro-Wilk normality test\n",
       "\n",
       "data:  highage_diet3$diet3_diff\n",
       "W = 0.95107, p-value = 0.6576\n"
      ]
     },
     "metadata": {},
     "output_type": "display_data"
    }
   ],
   "source": [
    "shapiro.test(lowage_diet3$diet3_diff)\n",
    "shapiro.test(highage_diet3$diet3_diff)"
   ]
  },
  {
   "cell_type": "code",
   "execution_count": 60,
   "id": "a6beaf02",
   "metadata": {},
   "outputs": [
    {
     "name": "stderr",
     "output_type": "stream",
     "text": [
      "Warning message in wilcox.test.default(lowage_diet3$diet3_diff, highage_diet3$diet3_diff):\n",
      "\"cannot compute exact p-value with ties\""
     ]
    },
    {
     "data": {
      "text/plain": [
       "\n",
       "\tWilcoxon rank sum test with continuity correction\n",
       "\n",
       "data:  lowage_diet3$diet3_diff and highage_diet3$diet3_diff\n",
       "W = 74.5, p-value = 0.5209\n",
       "alternative hypothesis: true location shift is not equal to 0\n"
      ]
     },
     "metadata": {},
     "output_type": "display_data"
    }
   ],
   "source": [
    "wilcox.test(lowage_diet3$diet3_diff, highage_diet3$diet3_diff)"
   ]
  },
  {
   "cell_type": "code",
   "execution_count": 61,
   "id": "48004874",
   "metadata": {},
   "outputs": [
    {
     "data": {
      "image/png": "[encoded data removed]",
      "text/plain": [
       "plot without title"
      ]
     },
     "metadata": {},
     "output_type": "display_data"
    },
    {
     "data": {
      "image/png": "[encoded data removed]",
      "text/plain": [
       "plot without title"
      ]
     },
     "metadata": {},
     "output_type": "display_data"
    }
   ],
   "source": [
    "ggplot() +\n",
    "  geom_boxplot(data = lowage_diet1, aes(Diet,diet1_diff))+\n",
    "  geom_boxplot(data = lowage_diet2, aes(Diet,diet2_diff))+\n",
    "  geom_boxplot(data = lowage_diet3, aes(Diet,diet3_diff))+\n",
    "  labs(x = \"Dieta\", y = \"Diferencia antes y despues\")+\n",
    "  ggtitle(\"Edad igual o menor a 39 años \")\n",
    "\n",
    "ggplot() +\n",
    "  geom_boxplot(data = highage_diet1, aes(Diet,diet1_diff))+\n",
    "  geom_boxplot(data = highage_diet2, aes(Diet,diet2_diff))+\n",
    "  geom_boxplot(data = highage_diet3, aes(Diet,diet3_diff))+\n",
    "  labs(x = \"Dieta\", y = \"Diferencia antes y despues\")+\n",
    "  ggtitle(\"Edad mayor a 39 años\")"
   ]
  },
  {
   "cell_type": "markdown",
   "id": "5dab36f2",
   "metadata": {},
   "source": [
    "# Ejercicio 4 "
   ]
  },
  {
   "cell_type": "code",
   "execution_count": 62,
   "id": "401a048f",
   "metadata": {},
   "outputs": [
    {
     "data": {
      "text/html": [
       "64"
      ],
      "text/latex": [
       "64"
      ],
      "text/markdown": [
       "64"
      ],
      "text/plain": [
       "[1] 64"
      ]
     },
     "metadata": {},
     "output_type": "display_data"
    },
    {
     "data": {
      "text/html": [
       "64"
      ],
      "text/latex": [
       "64"
      ],
      "text/markdown": [
       "64"
      ],
      "text/plain": [
       "[1] 64"
      ]
     },
     "metadata": {},
     "output_type": "display_data"
    },
    {
     "data": {
      "text/html": [
       "81"
      ],
      "text/latex": [
       "81"
      ],
      "text/markdown": [
       "81"
      ],
      "text/plain": [
       "[1] 81"
      ]
     },
     "metadata": {},
     "output_type": "display_data"
    },
    {
     "data": {
      "text/html": [
       "81"
      ],
      "text/latex": [
       "81"
      ],
      "text/markdown": [
       "81"
      ],
      "text/plain": [
       "[1] 81"
      ]
     },
     "metadata": {},
     "output_type": "display_data"
    },
    {
     "data": {
      "text/html": [
       "56"
      ],
      "text/latex": [
       "56"
      ],
      "text/markdown": [
       "56"
      ],
      "text/plain": [
       "[1] 56"
      ]
     },
     "metadata": {},
     "output_type": "display_data"
    },
    {
     "data": {
      "text/html": [
       "56"
      ],
      "text/latex": [
       "56"
      ],
      "text/markdown": [
       "56"
      ],
      "text/plain": [
       "[1] 56"
      ]
     },
     "metadata": {},
     "output_type": "display_data"
    }
   ],
   "source": [
    "vicon_AA = c(0,9,17.97,26.9,35.76,44.53,53.19,61.72,70.1,78.29,86.3,94.08,101.64,108.93,115.96,122.69,129.12,135.23,\n",
    "141,146.41,151.46,156.14,160.42,164.3,167.77,170.82,173.44,175.63,177.38,178.69,179.55,179.96,179.92,\n",
    "179.44,178.5,177.12,175.29,173.03,170.33,167.21,163.67,159.73,155.38,150.64,145.53,140.05,134.23,128.07,\n",
    "121.58,114.8,107.72,100.38,92.79,84.97,76.93,68.7,60.3,51.75,43.06,34.28,25.4,16.46,7.48,-1.51)\n",
    "\n",
    "sensors_AA = c(0.3,10.69,18.32,26.82,37.25,46.14,52.07,61.79,70.32,78.28,84.85,94.45,102.17,106.69,115.77,122.65,129.43,\n",
    "134.86,139.16,145.27,153.86,156.05,159.9,161.92,163.98,170.66,172.69,175.35,171.37,178.19,179.14,\n",
    "180.53,180.2,183.71,173.83,176.56,175.99,173.44,166.22,167.32,162.88,159.27,155.71,152.39,145.83,142.77,\n",
    "133.89,122.09,121.41,114.7,107.58,101.42,92.53,85.65,76.99,68.56,60.36,54.74,40.04,34.44,29.97,17.54,9.48,-4.16)\n",
    "\n",
    "vicon_FE = c(-0.37,5.13,10.75,16.47,22.27,28.14,34.06,40.03,46.02,52.02,58.01,63.99,69.93,75.81,81.64,87.38,93.04,98.58,\n",
    "104.01,109.29,114.43,119.41,124.22,128.84,133.26,137.48,141.47,145.24,148.77,152.05,155.08,157.84,\n",
    "160.34,162.56,164.5,166.15,167.51,168.58,169.35,169.83,170,169.87,169.45,168.72,167.7,166.39,164.78,\n",
    "162.89,160.71,158.26,155.54,152.55,149.31,145.82,142.09,138.13,133.95,129.56,124.97,120.19,115.24,110.12,\n",
    "104.86,99.45,93.93,88.29,82.56,76.75,70.87,64.93,58.96,52.97,46.97,40.98,35.01,29.08,23.2,17.39,11.66,6.02,0.5)\n",
    "\n",
    "sensors_FE = c(0.24,5.24,11.16,15.01,20.99,27.92,34.56,39.12,45.97,43.05,59.61,64.31,70.32,75.67,78.95,90.48,94.68,96.21,\n",
    "100.04,113.95,113.83,119.61,124.53,130.62,134.95,139.5,145.43,145.31,144.09,153.02,155.38,156.81,159.5,\n",
    "162.92,165.06,164.62,168.08,171.6,167.69,168.03,168.35,170.73,169.45,170.54,168.79,166.62,163.38,\n",
    "162.88,159.58,155.14,155.8,152.59,149,145.94,142.06,138.85,133.06,132.23,123.66,120.41,115.36,109.33,\n",
    "104.95,100.82,94.54,88.4,82.97,75.29,69.59,64.71,59.46,52.06,46.92,32.01,36.61,29.41,23.6,17.24,8.97,9.12,2.14)\n",
    "\n",
    "vicon_IE = c(3.84,9.69,15.46,21.15,26.73,32.2,37.53,42.72,47.76,52.62,57.31,61.8,66.08,70.15,74,77.61,80.98,84.09,86.94,\n",
    "89.53,91.84,93.88,95.63,97.09,98.25,99.13,99.7,99.97,99.95,99.62,99,98.08,96.86,95.35,93.56,91.48,89.12,\n",
    "86.48,83.59,80.43,77.02,73.37,69.48,65.38,61.06,56.53,51.82,46.92,41.86,36.64,31.29,25.8,20.2,14.5,\n",
    "8.71,2.85)\n",
    "\n",
    "sensors_IE = c(4.66,10.1,15.51,23.9,27.08,32.25,36.33,39.92,49.66,53.62,58.18,63.48,67.04,69.77,72.18,77.84,77.3,84.32,\n",
    "90.03,92.64,94.76,92.26,93.78,97.66,98.76,99.31,104.59,100.38,99.98,101.27,99.43,96.86,97.87,92.34,92.52,\n",
    "90.87,89.25,84.18,84.56,76.22,75.9,73.58,70.81,64.17,61.17,59.28,51.1,46.41,44.08,36.93,31.18,26.41,27.81,\n",
    "11,8.94,4.03)\n",
    "\n",
    "length(vicon_AA)\n",
    "length(sensors_AA)\n",
    "length(vicon_FE)\n",
    "length(sensors_FE)\n",
    "length(vicon_IE)\n",
    "length(sensors_IE)"
   ]
  },
  {
   "cell_type": "code",
   "execution_count": 63,
   "id": "2787ba49",
   "metadata": {},
   "outputs": [],
   "source": [
    "df_AA <- data.frame(\n",
    "    \"vicon_AA\" = vicon_AA,\n",
    "    \"sensors_AA\" = sensors_AA\n",
    ")\n",
    "\n",
    "df_FE <- data.frame(\n",
    "    \"vicon_FE\" = vicon_FE,\n",
    "    \"sensors_FE\" = sensors_FE\n",
    ")\n",
    "\n",
    "df_IE <- data.frame(\n",
    "    \"vicon_IE\" = vicon_IE,\n",
    "    \"sensors_IE\" = sensors_IE\n",
    ")"
   ]
  },
  {
   "cell_type": "code",
   "execution_count": 64,
   "id": "7015c9aa",
   "metadata": {
    "scrolled": false
   },
   "outputs": [
    {
     "name": "stderr",
     "output_type": "stream",
     "text": [
      "Warning message in par(mrow = c(3, 1)):\n",
      "\"\"mrow\" is not a graphical parameter\""
     ]
    },
    {
     "data": {
      "image/png": "[encoded data removed]",
      "text/plain": [
       "plot without title"
      ]
     },
     "metadata": {},
     "output_type": "display_data"
    },
    {
     "data": {
      "image/png": "[encoded data removed]",
      "text/plain": [
       "plot without title"
      ]
     },
     "metadata": {},
     "output_type": "display_data"
    },
    {
     "data": {
      "image/png": "[encoded data removed]",
      "text/plain": [
       "plot without title"
      ]
     },
     "metadata": {},
     "output_type": "display_data"
    }
   ],
   "source": [
    "par(mrow=c(3,1))\n",
    "vicon_AA_ts = ts(vicon_AA, start=0, frequency=20)\n",
    "vicon_IE_ts = ts(vicon_IE, start=0, frequency=20)\n",
    "vicon_FE_ts = ts(vicon_FE, start=0, frequency=20)\n",
    "\n",
    "sensors_AA_ts = ts(sensors_AA, start=0, frequency=20)\n",
    "sensors_IE_ts = ts(sensors_IE, start=0, frequency=20)\n",
    "sensors_FE_ts = ts(sensors_FE, start=0, frequency=20)\n",
    "\n",
    "plot(vicon_AA_ts, col=2)\n",
    "lines(sensors_AA_ts, col=4)\n",
    "legend(\"topright\", c(\"Vicon AA\", \"Sensors AA\"),lty=1,col=c(2,4))\n",
    "\n",
    "plot(vicon_IE_ts, col=2)\n",
    "lines(sensors_IE_ts, col=4)\n",
    "legend(\"topright\", c(\"Vicon IE\", \"Sensors IE\"),lty=1,col=c(2,4))\n",
    "\n",
    "plot(vicon_FE_ts, col=2)\n",
    "lines(sensors_FE_ts, col=4)\n",
    "legend(\"topright\", c(\"Vicon FE\", \"Sensors FE\"),lty=1,col=c(2,4))"
   ]
  },
  {
   "cell_type": "code",
   "execution_count": 65,
   "id": "4f8f98c7",
   "metadata": {},
   "outputs": [
    {
     "data": {
      "text/plain": [
       "\n",
       "\tShapiro-Wilk normality test\n",
       "\n",
       "data:  vicon_AA\n",
       "W = 0.90554, p-value = 0.0001303\n"
      ]
     },
     "metadata": {},
     "output_type": "display_data"
    },
    {
     "data": {
      "text/plain": [
       "\n",
       "\tShapiro-Wilk normality test\n",
       "\n",
       "data:  sensors_AA\n",
       "W = 0.91123, p-value = 0.000218\n"
      ]
     },
     "metadata": {},
     "output_type": "display_data"
    }
   ],
   "source": [
    "shapiro.test(vicon_AA)\n",
    "shapiro.test(sensors_AA)"
   ]
  },
  {
   "cell_type": "code",
   "execution_count": 66,
   "id": "2eb2d59c",
   "metadata": {},
   "outputs": [
    {
     "data": {
      "text/plain": [
       "\n",
       "\tWilcoxon rank sum test with continuity correction\n",
       "\n",
       "data:  vicon_AA and sensors_AA\n",
       "W = 2061.5, p-value = 0.9506\n",
       "alternative hypothesis: true location shift is not equal to 0\n"
      ]
     },
     "metadata": {},
     "output_type": "display_data"
    }
   ],
   "source": [
    "wilcox.test(vicon_AA, sensors_AA)"
   ]
  },
  {
   "cell_type": "code",
   "execution_count": 67,
   "id": "e94b60f6",
   "metadata": {},
   "outputs": [
    {
     "data": {
      "text/plain": [
       "\n",
       "\tShapiro-Wilk normality test\n",
       "\n",
       "data:  vicon_IE\n",
       "W = 0.90333, p-value = 0.000287\n"
      ]
     },
     "metadata": {},
     "output_type": "display_data"
    },
    {
     "data": {
      "text/plain": [
       "\n",
       "\tShapiro-Wilk normality test\n",
       "\n",
       "data:  sensors_IE\n",
       "W = 0.91356, p-value = 0.000679\n"
      ]
     },
     "metadata": {},
     "output_type": "display_data"
    }
   ],
   "source": [
    "shapiro.test(vicon_IE)\n",
    "shapiro.test(sensors_IE)"
   ]
  },
  {
   "cell_type": "code",
   "execution_count": 68,
   "id": "bc3a468e",
   "metadata": {},
   "outputs": [
    {
     "data": {
      "text/plain": [
       "\n",
       "\tWilcoxon rank sum test with continuity correction\n",
       "\n",
       "data:  vicon_IE and sensors_IE\n",
       "W = 1550.5, p-value = 0.9212\n",
       "alternative hypothesis: true location shift is not equal to 0\n"
      ]
     },
     "metadata": {},
     "output_type": "display_data"
    }
   ],
   "source": [
    "wilcox.test(vicon_IE, sensors_IE)"
   ]
  },
  {
   "cell_type": "code",
   "execution_count": 69,
   "id": "66f4d4bd",
   "metadata": {},
   "outputs": [
    {
     "data": {
      "text/plain": [
       "\n",
       "\tShapiro-Wilk normality test\n",
       "\n",
       "data:  vicon_FE\n",
       "W = 0.90996, p-value = 2.962e-05\n"
      ]
     },
     "metadata": {},
     "output_type": "display_data"
    },
    {
     "data": {
      "text/plain": [
       "\n",
       "\tShapiro-Wilk normality test\n",
       "\n",
       "data:  sensors_FE\n",
       "W = 0.90838, p-value = 2.515e-05\n"
      ]
     },
     "metadata": {},
     "output_type": "display_data"
    }
   ],
   "source": [
    "shapiro.test(vicon_FE)\n",
    "shapiro.test(sensors_FE)"
   ]
  },
  {
   "cell_type": "code",
   "execution_count": 70,
   "id": "c2a79f0b",
   "metadata": {},
   "outputs": [
    {
     "data": {
      "text/plain": [
       "\n",
       "\tWilcoxon rank sum test with continuity correction\n",
       "\n",
       "data:  vicon_FE and sensors_FE\n",
       "W = 3278.5, p-value = 0.996\n",
       "alternative hypothesis: true location shift is not equal to 0\n"
      ]
     },
     "metadata": {},
     "output_type": "display_data"
    }
   ],
   "source": [
    "wilcox.test(vicon_FE, sensors_FE)"
   ]
  },
  {
   "cell_type": "code",
   "execution_count": 71,
   "id": "28956164",
   "metadata": {},
   "outputs": [
    {
     "data": {
      "text/html": [
       "64"
      ],
      "text/latex": [
       "64"
      ],
      "text/markdown": [
       "64"
      ],
      "text/plain": [
       "[1] 64"
      ]
     },
     "metadata": {},
     "output_type": "display_data"
    },
    {
     "data": {
      "text/html": [
       "81"
      ],
      "text/latex": [
       "81"
      ],
      "text/markdown": [
       "81"
      ],
      "text/plain": [
       "[1] 81"
      ]
     },
     "metadata": {},
     "output_type": "display_data"
    },
    {
     "data": {
      "text/html": [
       "56"
      ],
      "text/latex": [
       "56"
      ],
      "text/markdown": [
       "56"
      ],
      "text/plain": [
       "[1] 56"
      ]
     },
     "metadata": {},
     "output_type": "display_data"
    }
   ],
   "source": [
    "error_AA=(df_AA$vicon_AA-df_AA$sensors_AA)^2\n",
    "length(error_AA)\n",
    "error_FE=(df_FE$vicon_FE-df_FE$sensors_FE)^2\n",
    "length(error_FE)\n",
    "error_IE=(df_IE$vicon_IE-df_IE$sensors_IE)^2\n",
    "length(error_IE)"
   ]
  },
  {
   "cell_type": "code",
   "execution_count": 72,
   "id": "75d391b1",
   "metadata": {},
   "outputs": [
    {
     "data": {
      "text/html": [
       "81"
      ],
      "text/latex": [
       "81"
      ],
      "text/markdown": [
       "81"
      ],
      "text/plain": [
       "[1] 81"
      ]
     },
     "metadata": {},
     "output_type": "display_data"
    },
    {
     "data": {
      "text/html": [
       "81"
      ],
      "text/latex": [
       "81"
      ],
      "text/markdown": [
       "81"
      ],
      "text/plain": [
       "[1] 81"
      ]
     },
     "metadata": {},
     "output_type": "display_data"
    }
   ],
   "source": [
    "sensors_AA_SE=append(error_AA,c(rep(median(error_AA),\n",
    "                    length(error_FE)-length(error_AA))))\n",
    "length(sensors_AA_SE)\n",
    "\n",
    "sensors_IE_SE=append(error_IE,c(rep(median(error_IE),\n",
    "                      length(error_FE)-length(error_IE))))\n",
    "length(sensors_IE_SE)"
   ]
  },
  {
   "cell_type": "code",
   "execution_count": 73,
   "id": "368a66e4",
   "metadata": {
    "scrolled": true
   },
   "outputs": [
    {
     "data": {
      "text/plain": [
       "\n",
       "\tWilcoxon signed rank test with continuity correction\n",
       "\n",
       "data:  sensors_AA_SE and sensors_IE_SE\n",
       "V = 1238, p-value = 0.02334\n",
       "alternative hypothesis: true location shift is less than 0\n"
      ]
     },
     "metadata": {},
     "output_type": "display_data"
    },
    {
     "data": {
      "text/plain": [
       "\n",
       "\tWilcoxon signed rank test with continuity correction\n",
       "\n",
       "data:  sensors_AA_SE and error_FE\n",
       "V = 1491, p-value = 0.2131\n",
       "alternative hypothesis: true location shift is less than 0\n"
      ]
     },
     "metadata": {},
     "output_type": "display_data"
    },
    {
     "data": {
      "text/plain": [
       "\n",
       "\tWilcoxon signed rank test with continuity correction\n",
       "\n",
       "data:  sensors_IE_SE and error_FE\n",
       "V = 1665, p-value = 0.5094\n",
       "alternative hypothesis: true location shift is less than 0\n"
      ]
     },
     "metadata": {},
     "output_type": "display_data"
    }
   ],
   "source": [
    "wilcox.test(sensors_AA_SE,sensors_IE_SE, paired=T ,alternative = 'l')\n",
    "wilcox.test(sensors_AA_SE,error_FE, paired=T, alternative = 'l')\n",
    "wilcox.test(sensors_IE_SE,error_FE, paired=T, alternative='l')"
   ]
  },
  {
   "cell_type": "markdown",
   "id": "75010203",
   "metadata": {},
   "source": [
    "# Ejercicio 5"
   ]
  },
  {
   "cell_type": "code",
   "execution_count": 74,
   "id": "6491cef8",
   "metadata": {},
   "outputs": [],
   "source": [
    "df = data.frame(\n",
    "    'gait_rite' = c(0.462, 0.500, 0.450, 0.463, 0.462, 0.475, 0.463),\n",
    "    'IMU' = c(0.461, 0.501, 0.450, 0.464, 0.460, 0.476, 0.463),\n",
    "    'kinect' = c(0.462, 0.502, 0.451, 0.465, 0.461, 0.476, 0.462)\n",
    ")"
   ]
  },
  {
   "cell_type": "code",
   "execution_count": 75,
   "id": "294c719c",
   "metadata": {},
   "outputs": [],
   "source": [
    "df['IMU.absolute.error'] = abs(df['IMU'] - df['gait_rite'])\n",
    "df['kinect.absolute.error'] = abs(df['kinect'] - df['gait_rite'])"
   ]
  },
  {
   "cell_type": "code",
   "execution_count": 76,
   "id": "46fa70e1",
   "metadata": {},
   "outputs": [
    {
     "data": {
      "text/html": [
       "<table>\n",
       "<thead><tr><th scope=col>gait_rite</th><th scope=col>IMU</th><th scope=col>kinect</th><th scope=col>IMU.absolute.error</th><th scope=col>kinect.absolute.error</th></tr></thead>\n",
       "<tbody>\n",
       "\t<tr><td>0.462</td><td>0.461</td><td>0.462</td><td>0.001</td><td>0.000</td></tr>\n",
       "\t<tr><td>0.500</td><td>0.501</td><td>0.502</td><td>0.001</td><td>0.002</td></tr>\n",
       "\t<tr><td>0.450</td><td>0.450</td><td>0.451</td><td>0.000</td><td>0.001</td></tr>\n",
       "\t<tr><td>0.463</td><td>0.464</td><td>0.465</td><td>0.001</td><td>0.002</td></tr>\n",
       "\t<tr><td>0.462</td><td>0.460</td><td>0.461</td><td>0.002</td><td>0.001</td></tr>\n",
       "\t<tr><td>0.475</td><td>0.476</td><td>0.476</td><td>0.001</td><td>0.001</td></tr>\n",
       "\t<tr><td>0.463</td><td>0.463</td><td>0.462</td><td>0.000</td><td>0.001</td></tr>\n",
       "</tbody>\n",
       "</table>\n"
      ],
      "text/latex": [
       "\\begin{tabular}{r|lllll}\n",
       " gait\\_rite & IMU & kinect & IMU.absolute.error & kinect.absolute.error\\\\\n",
       "\\hline\n",
       "\t 0.462 & 0.461 & 0.462 & 0.001 & 0.000\\\\\n",
       "\t 0.500 & 0.501 & 0.502 & 0.001 & 0.002\\\\\n",
       "\t 0.450 & 0.450 & 0.451 & 0.000 & 0.001\\\\\n",
       "\t 0.463 & 0.464 & 0.465 & 0.001 & 0.002\\\\\n",
       "\t 0.462 & 0.460 & 0.461 & 0.002 & 0.001\\\\\n",
       "\t 0.475 & 0.476 & 0.476 & 0.001 & 0.001\\\\\n",
       "\t 0.463 & 0.463 & 0.462 & 0.000 & 0.001\\\\\n",
       "\\end{tabular}\n"
      ],
      "text/markdown": [
       "\n",
       "| gait_rite | IMU | kinect | IMU.absolute.error | kinect.absolute.error |\n",
       "|---|---|---|---|---|\n",
       "| 0.462 | 0.461 | 0.462 | 0.001 | 0.000 |\n",
       "| 0.500 | 0.501 | 0.502 | 0.001 | 0.002 |\n",
       "| 0.450 | 0.450 | 0.451 | 0.000 | 0.001 |\n",
       "| 0.463 | 0.464 | 0.465 | 0.001 | 0.002 |\n",
       "| 0.462 | 0.460 | 0.461 | 0.002 | 0.001 |\n",
       "| 0.475 | 0.476 | 0.476 | 0.001 | 0.001 |\n",
       "| 0.463 | 0.463 | 0.462 | 0.000 | 0.001 |\n",
       "\n"
      ],
      "text/plain": [
       "  gait_rite IMU   kinect IMU.absolute.error kinect.absolute.error\n",
       "1 0.462     0.461 0.462  0.001              0.000                \n",
       "2 0.500     0.501 0.502  0.001              0.002                \n",
       "3 0.450     0.450 0.451  0.000              0.001                \n",
       "4 0.463     0.464 0.465  0.001              0.002                \n",
       "5 0.462     0.460 0.461  0.002              0.001                \n",
       "6 0.475     0.476 0.476  0.001              0.001                \n",
       "7 0.463     0.463 0.462  0.000              0.001                "
      ]
     },
     "metadata": {},
     "output_type": "display_data"
    }
   ],
   "source": [
    "df"
   ]
  },
  {
   "cell_type": "code",
   "execution_count": 77,
   "id": "0c990962",
   "metadata": {},
   "outputs": [
    {
     "data": {
      "text/plain": [
       "   gait_rite           IMU             kinect       IMU.absolute.error \n",
       " Min.   :0.4500   Min.   :0.4500   Min.   :0.4510   Min.   :0.0000000  \n",
       " 1st Qu.:0.4620   1st Qu.:0.4605   1st Qu.:0.4615   1st Qu.:0.0005000  \n",
       " Median :0.4630   Median :0.4630   Median :0.4620   Median :0.0010000  \n",
       " Mean   :0.4679   Mean   :0.4679   Mean   :0.4684   Mean   :0.0008571  \n",
       " 3rd Qu.:0.4690   3rd Qu.:0.4700   3rd Qu.:0.4705   3rd Qu.:0.0010000  \n",
       " Max.   :0.5000   Max.   :0.5010   Max.   :0.5020   Max.   :0.0020000  \n",
       " kinect.absolute.error\n",
       " Min.   :0.000000     \n",
       " 1st Qu.:0.001000     \n",
       " Median :0.001000     \n",
       " Mean   :0.001143     \n",
       " 3rd Qu.:0.001500     \n",
       " Max.   :0.002000     "
      ]
     },
     "metadata": {},
     "output_type": "display_data"
    }
   ],
   "source": [
    "summary(df)"
   ]
  },
  {
   "cell_type": "code",
   "execution_count": 78,
   "id": "7f77432e",
   "metadata": {},
   "outputs": [
    {
     "data": {
      "text/plain": [
       "\n",
       "\tShapiro-Wilk normality test\n",
       "\n",
       "data:  df$IMU\n",
       "W = 0.84171, p-value = 0.1031\n"
      ]
     },
     "metadata": {},
     "output_type": "display_data"
    },
    {
     "data": {
      "text/plain": [
       "\n",
       "\tShapiro-Wilk normality test\n",
       "\n",
       "data:  df$kinect\n",
       "W = 0.82453, p-value = 0.07098\n"
      ]
     },
     "metadata": {},
     "output_type": "display_data"
    }
   ],
   "source": [
    "shapiro.test(df$IMU)\n",
    "shapiro.test(df$kinect)"
   ]
  },
  {
   "cell_type": "code",
   "execution_count": 79,
   "id": "74dea42b",
   "metadata": {},
   "outputs": [
    {
     "name": "stderr",
     "output_type": "stream",
     "text": [
      "Warning message in wilcox.test.default(df$IMU.absolute.error, df$kinect.absolute.error):\n",
      "\"cannot compute exact p-value with ties\""
     ]
    },
    {
     "data": {
      "text/plain": [
       "\n",
       "\tWilcoxon rank sum test with continuity correction\n",
       "\n",
       "data:  df$IMU.absolute.error and df$kinect.absolute.error\n",
       "W = 19, p-value = 0.4744\n",
       "alternative hypothesis: true location shift is not equal to 0\n"
      ]
     },
     "metadata": {},
     "output_type": "display_data"
    }
   ],
   "source": [
    "wilcox.test(df$IMU.absolute.error, df$kinect.absolute.error)"
   ]
  },
  {
   "cell_type": "code",
   "execution_count": 80,
   "id": "b3f76b8c",
   "metadata": {},
   "outputs": [],
   "source": [
    "imu = rnorm(63, mean=df$IMU.absolute.error, sd=sd(df$IMU.absolute.error))\n",
    "kinect = rnorm(63, mean=df$kinect.absolute.error, sd=sd(df$kinect.absolute.error))"
   ]
  },
  {
   "cell_type": "code",
   "execution_count": 81,
   "id": "dab9106e",
   "metadata": {},
   "outputs": [],
   "source": [
    "imu = append(df$IMU.absolute.error, imu)\n",
    "kinect = append(df$kinect.absolute.error, kinect)"
   ]
  },
  {
   "cell_type": "code",
   "execution_count": 82,
   "id": "89531300",
   "metadata": {},
   "outputs": [
    {
     "data": {
      "text/plain": [
       "\n",
       "\tWilcoxon signed rank test with continuity correction\n",
       "\n",
       "data:  imu and kinect\n",
       "V = 941, p-value = 0.05586\n",
       "alternative hypothesis: true location shift is less than 0\n"
      ]
     },
     "metadata": {},
     "output_type": "display_data"
    }
   ],
   "source": [
    "wilcox.test(imu, kinect, paired=TRUE, alternative='l')"
   ]
  },
  {
   "cell_type": "markdown",
   "id": "250a9924",
   "metadata": {},
   "source": [
    "# Ejercicio 6"
   ]
  },
  {
   "cell_type": "code",
   "execution_count": 90,
   "id": "2d863152",
   "metadata": {},
   "outputs": [],
   "source": [
    "df = data.frame(\n",
    "    'benchmark' = c(rep(c('Walking', 'Standing', 'Sitting', 'Downstairs', 'Upstairs', 'Fall using hands', \n",
    "                   'Fall forward', 'Fall backward', 'Fall sideward', 'Fall sitting'), 5)),\n",
    "    'score' = c(0.71, 0.80, 0.85, 0.82, 0.75, 0.84, 0.78, 0.85, 0.81, 0.78, 0.77, 0.85, 0.93, 0.87, \n",
    "                0.87, 0.90, 0.85, 0.87, 0.90, 0.76, 0.85, 0.82, 0.87, 0.86, 0.79, 0.87, 0.86, 0.84, \n",
    "                0.83, 0.89, 0.88, 0.80, 0.88, 0.91, 0.92, 0.90, 0.91, 0.88, 0.92, 0.91, 0.90, 0.96, \n",
    "                0.94, 0.94, 0.86, 0.88, 0.86, 0.86, 0.88, 0.90),\n",
    "    'algorithm' = c(rep('C4.5', 10), rep('KNN', 10), rep('NaiveBayes', 10), rep('SVM', 10), \n",
    "                    rep('Our', 10))\n",
    ")"
   ]
  },
  {
   "cell_type": "code",
   "execution_count": 91,
   "id": "dad92588",
   "metadata": {},
   "outputs": [
    {
     "data": {
      "text/html": [
       "<table>\n",
       "<thead><tr><th scope=col>benchmark</th><th scope=col>score</th><th scope=col>algorithm</th></tr></thead>\n",
       "<tbody>\n",
       "\t<tr><td>Walking         </td><td>0.71            </td><td>C4.5            </td></tr>\n",
       "\t<tr><td>Standing        </td><td>0.80            </td><td>C4.5            </td></tr>\n",
       "\t<tr><td>Sitting         </td><td>0.85            </td><td>C4.5            </td></tr>\n",
       "\t<tr><td>Downstairs      </td><td>0.82            </td><td>C4.5            </td></tr>\n",
       "\t<tr><td>Upstairs        </td><td>0.75            </td><td>C4.5            </td></tr>\n",
       "\t<tr><td>Fall using hands</td><td>0.84            </td><td>C4.5            </td></tr>\n",
       "\t<tr><td>Fall forward    </td><td>0.78            </td><td>C4.5            </td></tr>\n",
       "\t<tr><td>Fall backward   </td><td>0.85            </td><td>C4.5            </td></tr>\n",
       "\t<tr><td>Fall sideward   </td><td>0.81            </td><td>C4.5            </td></tr>\n",
       "\t<tr><td>Fall sitting    </td><td>0.78            </td><td>C4.5            </td></tr>\n",
       "\t<tr><td>Walking         </td><td>0.77            </td><td>KNN             </td></tr>\n",
       "\t<tr><td>Standing        </td><td>0.85            </td><td>KNN             </td></tr>\n",
       "\t<tr><td>Sitting         </td><td>0.93            </td><td>KNN             </td></tr>\n",
       "\t<tr><td>Downstairs      </td><td>0.87            </td><td>KNN             </td></tr>\n",
       "\t<tr><td>Upstairs        </td><td>0.87            </td><td>KNN             </td></tr>\n",
       "\t<tr><td>Fall using hands</td><td>0.90            </td><td>KNN             </td></tr>\n",
       "\t<tr><td>Fall forward    </td><td>0.85            </td><td>KNN             </td></tr>\n",
       "\t<tr><td>Fall backward   </td><td>0.87            </td><td>KNN             </td></tr>\n",
       "\t<tr><td>Fall sideward   </td><td>0.90            </td><td>KNN             </td></tr>\n",
       "\t<tr><td>Fall sitting    </td><td>0.76            </td><td>KNN             </td></tr>\n",
       "\t<tr><td>Walking         </td><td>0.85            </td><td>NaiveBayes      </td></tr>\n",
       "\t<tr><td>Standing        </td><td>0.82            </td><td>NaiveBayes      </td></tr>\n",
       "\t<tr><td>Sitting         </td><td>0.87            </td><td>NaiveBayes      </td></tr>\n",
       "\t<tr><td>Downstairs      </td><td>0.86            </td><td>NaiveBayes      </td></tr>\n",
       "\t<tr><td>Upstairs        </td><td>0.79            </td><td>NaiveBayes      </td></tr>\n",
       "\t<tr><td>Fall using hands</td><td>0.87            </td><td>NaiveBayes      </td></tr>\n",
       "\t<tr><td>Fall forward    </td><td>0.86            </td><td>NaiveBayes      </td></tr>\n",
       "\t<tr><td>Fall backward   </td><td>0.84            </td><td>NaiveBayes      </td></tr>\n",
       "\t<tr><td>Fall sideward   </td><td>0.83            </td><td>NaiveBayes      </td></tr>\n",
       "\t<tr><td>Fall sitting    </td><td>0.89            </td><td>NaiveBayes      </td></tr>\n",
       "\t<tr><td>Walking         </td><td>0.88            </td><td>SVM             </td></tr>\n",
       "\t<tr><td>Standing        </td><td>0.80            </td><td>SVM             </td></tr>\n",
       "\t<tr><td>Sitting         </td><td>0.88            </td><td>SVM             </td></tr>\n",
       "\t<tr><td>Downstairs      </td><td>0.91            </td><td>SVM             </td></tr>\n",
       "\t<tr><td>Upstairs        </td><td>0.92            </td><td>SVM             </td></tr>\n",
       "\t<tr><td>Fall using hands</td><td>0.90            </td><td>SVM             </td></tr>\n",
       "\t<tr><td>Fall forward    </td><td>0.91            </td><td>SVM             </td></tr>\n",
       "\t<tr><td>Fall backward   </td><td>0.88            </td><td>SVM             </td></tr>\n",
       "\t<tr><td>Fall sideward   </td><td>0.92            </td><td>SVM             </td></tr>\n",
       "\t<tr><td>Fall sitting    </td><td>0.91            </td><td>SVM             </td></tr>\n",
       "\t<tr><td>Walking         </td><td>0.90            </td><td>Our             </td></tr>\n",
       "\t<tr><td>Standing        </td><td>0.96            </td><td>Our             </td></tr>\n",
       "\t<tr><td>Sitting         </td><td>0.94            </td><td>Our             </td></tr>\n",
       "\t<tr><td>Downstairs      </td><td>0.94            </td><td>Our             </td></tr>\n",
       "\t<tr><td>Upstairs        </td><td>0.86            </td><td>Our             </td></tr>\n",
       "\t<tr><td>Fall using hands</td><td>0.88            </td><td>Our             </td></tr>\n",
       "\t<tr><td>Fall forward    </td><td>0.86            </td><td>Our             </td></tr>\n",
       "\t<tr><td>Fall backward   </td><td>0.86            </td><td>Our             </td></tr>\n",
       "\t<tr><td>Fall sideward   </td><td>0.88            </td><td>Our             </td></tr>\n",
       "\t<tr><td>Fall sitting    </td><td>0.90            </td><td>Our             </td></tr>\n",
       "</tbody>\n",
       "</table>\n"
      ],
      "text/latex": [
       "\\begin{tabular}{r|lll}\n",
       " benchmark & score & algorithm\\\\\n",
       "\\hline\n",
       "\t Walking          & 0.71             & C4.5            \\\\\n",
       "\t Standing         & 0.80             & C4.5            \\\\\n",
       "\t Sitting          & 0.85             & C4.5            \\\\\n",
       "\t Downstairs       & 0.82             & C4.5            \\\\\n",
       "\t Upstairs         & 0.75             & C4.5            \\\\\n",
       "\t Fall using hands & 0.84             & C4.5            \\\\\n",
       "\t Fall forward     & 0.78             & C4.5            \\\\\n",
       "\t Fall backward    & 0.85             & C4.5            \\\\\n",
       "\t Fall sideward    & 0.81             & C4.5            \\\\\n",
       "\t Fall sitting     & 0.78             & C4.5            \\\\\n",
       "\t Walking          & 0.77             & KNN             \\\\\n",
       "\t Standing         & 0.85             & KNN             \\\\\n",
       "\t Sitting          & 0.93             & KNN             \\\\\n",
       "\t Downstairs       & 0.87             & KNN             \\\\\n",
       "\t Upstairs         & 0.87             & KNN             \\\\\n",
       "\t Fall using hands & 0.90             & KNN             \\\\\n",
       "\t Fall forward     & 0.85             & KNN             \\\\\n",
       "\t Fall backward    & 0.87             & KNN             \\\\\n",
       "\t Fall sideward    & 0.90             & KNN             \\\\\n",
       "\t Fall sitting     & 0.76             & KNN             \\\\\n",
       "\t Walking          & 0.85             & NaiveBayes      \\\\\n",
       "\t Standing         & 0.82             & NaiveBayes      \\\\\n",
       "\t Sitting          & 0.87             & NaiveBayes      \\\\\n",
       "\t Downstairs       & 0.86             & NaiveBayes      \\\\\n",
       "\t Upstairs         & 0.79             & NaiveBayes      \\\\\n",
       "\t Fall using hands & 0.87             & NaiveBayes      \\\\\n",
       "\t Fall forward     & 0.86             & NaiveBayes      \\\\\n",
       "\t Fall backward    & 0.84             & NaiveBayes      \\\\\n",
       "\t Fall sideward    & 0.83             & NaiveBayes      \\\\\n",
       "\t Fall sitting     & 0.89             & NaiveBayes      \\\\\n",
       "\t Walking          & 0.88             & SVM             \\\\\n",
       "\t Standing         & 0.80             & SVM             \\\\\n",
       "\t Sitting          & 0.88             & SVM             \\\\\n",
       "\t Downstairs       & 0.91             & SVM             \\\\\n",
       "\t Upstairs         & 0.92             & SVM             \\\\\n",
       "\t Fall using hands & 0.90             & SVM             \\\\\n",
       "\t Fall forward     & 0.91             & SVM             \\\\\n",
       "\t Fall backward    & 0.88             & SVM             \\\\\n",
       "\t Fall sideward    & 0.92             & SVM             \\\\\n",
       "\t Fall sitting     & 0.91             & SVM             \\\\\n",
       "\t Walking          & 0.90             & Our             \\\\\n",
       "\t Standing         & 0.96             & Our             \\\\\n",
       "\t Sitting          & 0.94             & Our             \\\\\n",
       "\t Downstairs       & 0.94             & Our             \\\\\n",
       "\t Upstairs         & 0.86             & Our             \\\\\n",
       "\t Fall using hands & 0.88             & Our             \\\\\n",
       "\t Fall forward     & 0.86             & Our             \\\\\n",
       "\t Fall backward    & 0.86             & Our             \\\\\n",
       "\t Fall sideward    & 0.88             & Our             \\\\\n",
       "\t Fall sitting     & 0.90             & Our             \\\\\n",
       "\\end{tabular}\n"
      ],
      "text/markdown": [
       "\n",
       "| benchmark | score | algorithm |\n",
       "|---|---|---|\n",
       "| Walking          | 0.71             | C4.5             |\n",
       "| Standing         | 0.80             | C4.5             |\n",
       "| Sitting          | 0.85             | C4.5             |\n",
       "| Downstairs       | 0.82             | C4.5             |\n",
       "| Upstairs         | 0.75             | C4.5             |\n",
       "| Fall using hands | 0.84             | C4.5             |\n",
       "| Fall forward     | 0.78             | C4.5             |\n",
       "| Fall backward    | 0.85             | C4.5             |\n",
       "| Fall sideward    | 0.81             | C4.5             |\n",
       "| Fall sitting     | 0.78             | C4.5             |\n",
       "| Walking          | 0.77             | KNN              |\n",
       "| Standing         | 0.85             | KNN              |\n",
       "| Sitting          | 0.93             | KNN              |\n",
       "| Downstairs       | 0.87             | KNN              |\n",
       "| Upstairs         | 0.87             | KNN              |\n",
       "| Fall using hands | 0.90             | KNN              |\n",
       "| Fall forward     | 0.85             | KNN              |\n",
       "| Fall backward    | 0.87             | KNN              |\n",
       "| Fall sideward    | 0.90             | KNN              |\n",
       "| Fall sitting     | 0.76             | KNN              |\n",
       "| Walking          | 0.85             | NaiveBayes       |\n",
       "| Standing         | 0.82             | NaiveBayes       |\n",
       "| Sitting          | 0.87             | NaiveBayes       |\n",
       "| Downstairs       | 0.86             | NaiveBayes       |\n",
       "| Upstairs         | 0.79             | NaiveBayes       |\n",
       "| Fall using hands | 0.87             | NaiveBayes       |\n",
       "| Fall forward     | 0.86             | NaiveBayes       |\n",
       "| Fall backward    | 0.84             | NaiveBayes       |\n",
       "| Fall sideward    | 0.83             | NaiveBayes       |\n",
       "| Fall sitting     | 0.89             | NaiveBayes       |\n",
       "| Walking          | 0.88             | SVM              |\n",
       "| Standing         | 0.80             | SVM              |\n",
       "| Sitting          | 0.88             | SVM              |\n",
       "| Downstairs       | 0.91             | SVM              |\n",
       "| Upstairs         | 0.92             | SVM              |\n",
       "| Fall using hands | 0.90             | SVM              |\n",
       "| Fall forward     | 0.91             | SVM              |\n",
       "| Fall backward    | 0.88             | SVM              |\n",
       "| Fall sideward    | 0.92             | SVM              |\n",
       "| Fall sitting     | 0.91             | SVM              |\n",
       "| Walking          | 0.90             | Our              |\n",
       "| Standing         | 0.96             | Our              |\n",
       "| Sitting          | 0.94             | Our              |\n",
       "| Downstairs       | 0.94             | Our              |\n",
       "| Upstairs         | 0.86             | Our              |\n",
       "| Fall using hands | 0.88             | Our              |\n",
       "| Fall forward     | 0.86             | Our              |\n",
       "| Fall backward    | 0.86             | Our              |\n",
       "| Fall sideward    | 0.88             | Our              |\n",
       "| Fall sitting     | 0.90             | Our              |\n",
       "\n"
      ],
      "text/plain": [
       "   benchmark        score algorithm \n",
       "1  Walking          0.71  C4.5      \n",
       "2  Standing         0.80  C4.5      \n",
       "3  Sitting          0.85  C4.5      \n",
       "4  Downstairs       0.82  C4.5      \n",
       "5  Upstairs         0.75  C4.5      \n",
       "6  Fall using hands 0.84  C4.5      \n",
       "7  Fall forward     0.78  C4.5      \n",
       "8  Fall backward    0.85  C4.5      \n",
       "9  Fall sideward    0.81  C4.5      \n",
       "10 Fall sitting     0.78  C4.5      \n",
       "11 Walking          0.77  KNN       \n",
       "12 Standing         0.85  KNN       \n",
       "13 Sitting          0.93  KNN       \n",
       "14 Downstairs       0.87  KNN       \n",
       "15 Upstairs         0.87  KNN       \n",
       "16 Fall using hands 0.90  KNN       \n",
       "17 Fall forward     0.85  KNN       \n",
       "18 Fall backward    0.87  KNN       \n",
       "19 Fall sideward    0.90  KNN       \n",
       "20 Fall sitting     0.76  KNN       \n",
       "21 Walking          0.85  NaiveBayes\n",
       "22 Standing         0.82  NaiveBayes\n",
       "23 Sitting          0.87  NaiveBayes\n",
       "24 Downstairs       0.86  NaiveBayes\n",
       "25 Upstairs         0.79  NaiveBayes\n",
       "26 Fall using hands 0.87  NaiveBayes\n",
       "27 Fall forward     0.86  NaiveBayes\n",
       "28 Fall backward    0.84  NaiveBayes\n",
       "29 Fall sideward    0.83  NaiveBayes\n",
       "30 Fall sitting     0.89  NaiveBayes\n",
       "31 Walking          0.88  SVM       \n",
       "32 Standing         0.80  SVM       \n",
       "33 Sitting          0.88  SVM       \n",
       "34 Downstairs       0.91  SVM       \n",
       "35 Upstairs         0.92  SVM       \n",
       "36 Fall using hands 0.90  SVM       \n",
       "37 Fall forward     0.91  SVM       \n",
       "38 Fall backward    0.88  SVM       \n",
       "39 Fall sideward    0.92  SVM       \n",
       "40 Fall sitting     0.91  SVM       \n",
       "41 Walking          0.90  Our       \n",
       "42 Standing         0.96  Our       \n",
       "43 Sitting          0.94  Our       \n",
       "44 Downstairs       0.94  Our       \n",
       "45 Upstairs         0.86  Our       \n",
       "46 Fall using hands 0.88  Our       \n",
       "47 Fall forward     0.86  Our       \n",
       "48 Fall backward    0.86  Our       \n",
       "49 Fall sideward    0.88  Our       \n",
       "50 Fall sitting     0.90  Our       "
      ]
     },
     "metadata": {},
     "output_type": "display_data"
    }
   ],
   "source": [
    "df"
   ]
  },
  {
   "cell_type": "code",
   "execution_count": 92,
   "id": "c627ca92",
   "metadata": {},
   "outputs": [
    {
     "data": {
      "text/plain": [
       "            benchmark      score             algorithm \n",
       " Downstairs      : 5   Min.   :0.7100   C4.5      :10  \n",
       " Fall backward   : 5   1st Qu.:0.8325   KNN       :10  \n",
       " Fall forward    : 5   Median :0.8650   NaiveBayes:10  \n",
       " Fall sideward   : 5   Mean   :0.8586   Our       :10  \n",
       " Fall sitting    : 5   3rd Qu.:0.9000   SVM       :10  \n",
       " Fall using hands: 5   Max.   :0.9600                  \n",
       " (Other)         :20                                   "
      ]
     },
     "metadata": {},
     "output_type": "display_data"
    }
   ],
   "source": [
    "summary(df)"
   ]
  },
  {
   "cell_type": "code",
   "execution_count": 93,
   "id": "69ab5485",
   "metadata": {},
   "outputs": [
    {
     "data": {
      "image/png": "[encoded data removed]",
      "text/plain": [
       "plot without title"
      ]
     },
     "metadata": {},
     "output_type": "display_data"
    }
   ],
   "source": [
    "ggplot() +\n",
    "  geom_boxplot(data = df, aes(algorithm,score))+\n",
    "  labs(x = \"Algoritmo\", y = \"F1-Score\")+\n",
    "  ggtitle(\"Boxplot de clasificadores \")"
   ]
  },
  {
   "cell_type": "code",
   "execution_count": 94,
   "id": "daa6aac5",
   "metadata": {},
   "outputs": [
    {
     "name": "stderr",
     "output_type": "stream",
     "text": [
      "Warning message in wilcox.test.default(xi, xj, paired = paired, ...):\n",
      "\"cannot compute exact p-value with ties\"Warning message in wilcox.test.default(xi, xj, paired = paired, ...):\n",
      "\"cannot compute exact p-value with ties\"Warning message in wilcox.test.default(xi, xj, paired = paired, ...):\n",
      "\"cannot compute exact p-value with ties\"Warning message in wilcox.test.default(xi, xj, paired = paired, ...):\n",
      "\"cannot compute exact p-value with ties\"Warning message in wilcox.test.default(xi, xj, paired = paired, ...):\n",
      "\"cannot compute exact p-value with zeroes\"Warning message in wilcox.test.default(xi, xj, paired = paired, ...):\n",
      "\"cannot compute exact p-value with ties\"Warning message in wilcox.test.default(xi, xj, paired = paired, ...):\n",
      "\"cannot compute exact p-value with ties\"Warning message in wilcox.test.default(xi, xj, paired = paired, ...):\n",
      "\"cannot compute exact p-value with ties\"Warning message in wilcox.test.default(xi, xj, paired = paired, ...):\n",
      "\"cannot compute exact p-value with zeroes\"Warning message in wilcox.test.default(xi, xj, paired = paired, ...):\n",
      "\"cannot compute exact p-value with ties\"Warning message in wilcox.test.default(xi, xj, paired = paired, ...):\n",
      "\"cannot compute exact p-value with zeroes\"Warning message in wilcox.test.default(xi, xj, paired = paired, ...):\n",
      "\"cannot compute exact p-value with ties\"Warning message in wilcox.test.default(xi, xj, paired = paired, ...):\n",
      "\"cannot compute exact p-value with ties\""
     ]
    },
    {
     "data": {
      "text/plain": [
       "\n",
       "\tPairwise comparisons using Wilcoxon signed rank test \n",
       "\n",
       "data:  df$score and df$algorithm \n",
       "\n",
       "           C4.5  KNN   NaiveBayes Our  \n",
       "KNN        0.018 -     -          -    \n",
       "NaiveBayes 0.018 0.526 -          -    \n",
       "Our        0.018 0.383 0.018      -    \n",
       "SVM        0.018 0.198 0.018      0.919\n",
       "\n",
       "P value adjustment method: BH "
      ]
     },
     "metadata": {},
     "output_type": "display_data"
    }
   ],
   "source": [
    "pairwise.wilcox.test(df$score, df$algorithm, paired=TRUE, p.adjust.method='BH')"
   ]
  }
 ],
 "metadata": {
  "kernelspec": {
   "display_name": "R",
   "language": "R",
   "name": "ir"
  },
  "language_info": {
   "codemirror_mode": "r",
   "file_extension": ".r",
   "mimetype": "text/x-r-source",
   "name": "R",
   "pygments_lexer": "r",
   "version": "3.6.1"
  }
 },
 "nbformat": 4,
 "nbformat_minor": 5
}
